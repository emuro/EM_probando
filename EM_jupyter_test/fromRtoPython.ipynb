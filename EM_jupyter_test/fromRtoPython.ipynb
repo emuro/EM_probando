{
 "cells": [
  {
   "cell_type": "markdown",
   "metadata": {},
   "source": [
    "# Rows starting with the rhomb are comments\n",
    "\n",
    "## First steps with python for the sake of arithmetics\n",
    "\n",
    "##  Basic  arithmetic operations - Python as a calculator \n",
    "\n",
    "For some mathematical functions we will need to import the math module"
   ]
  },
  {
   "cell_type": "code",
   "execution_count": 33,
   "metadata": {},
   "outputs": [
    {
     "name": "stdout",
     "output_type": "stream",
     "text": [
      "Hello word!\tHallo Welt!\n",
      "\n",
      "Hola mundo!\n",
      "Automatically created module for IPython interactive environment\n"
     ]
    }
   ],
   "source": [
    "!echo \"Hello word!\\tHallo Welt!\\n\"\n",
    "!echo \"Hola mundo!\"\n",
    "!history\n",
    "\n",
    "print(__doc__)"
   ]
  },
  {
   "cell_type": "code",
   "execution_count": 19,
   "metadata": {},
   "outputs": [],
   "source": [
    "import math"
   ]
  },
  {
   "cell_type": "code",
   "execution_count": 50,
   "metadata": {},
   "outputs": [
    {
     "name": "stdout",
     "output_type": "stream",
     "text": [
      "3\n",
      "7\n",
      "10\n",
      "2.718281828459045\n",
      "1.6094379124341003\n",
      "4.999999999999999\n",
      "4\n",
      "5\n",
      "3.0\n",
      "3.0\n",
      "27\n",
      "3.0\n",
      "1.2\n",
      "1 2\n",
      "1 2 carerul!\n",
      "6\n"
     ]
    }
   ],
   "source": [
    "print(1+2)\n",
    "print(3+2*2)                       # R knows the operator precedence rules 'Punkt vor Strich'\n",
    "print((3+2)*2)                     # If you want to add the first two values first, use brackets\n",
    "print(math.exp(1))                 # 'exp()' is the exponential function\n",
    "print(math.log(5))                 # 'log()' is the natural logarithm\n",
    "print(math.exp(math.log(5)))       # 'log()' of an exponent is the \"original\" number again careful\n",
    "print(int(math.exp(math.log(5))))  # 'log()' of an exponent is the \"original\" number again careful\n",
    "print(round(math.exp(math.log(5))))# 'log()' of an exponent is the \"original\" number again careful\n",
    "print(math.log(8,2))               # Logarithm of 8 to base 2 \n",
    "print(math.sqrt(9))                # Square Root\n",
    "print(3**3)                        # 3 to the power of 3. Do not write: 3^3...this is bitwise XOR    \n",
    "print(9**(1/2))                    # another way to write the square root\n",
    "print(1.2)                         # decimal number are written with a dot\n",
    "print(1,2)                         # German notation will lead to an error\n",
    "print(1,2,\"careful!\")              # German notation will lead to an error\n",
    "print(math.factorial(3))           # 3!"
   ]
  },
  {
   "cell_type": "code",
   "execution_count": 28,
   "metadata": {},
   "outputs": [],
   "source": []
  },
  {
   "cell_type": "code",
   "execution_count": null,
   "metadata": {},
   "outputs": [],
   "source": []
  },
  {
   "cell_type": "code",
   "execution_count": null,
   "metadata": {},
   "outputs": [],
   "source": []
  }
 ],
 "metadata": {
  "kernelspec": {
   "display_name": "Python 3",
   "language": "python",
   "name": "python3"
  },
  "language_info": {
   "codemirror_mode": {
    "name": "ipython",
    "version": 3
   },
   "file_extension": ".py",
   "mimetype": "text/x-python",
   "name": "python",
   "nbconvert_exporter": "python",
   "pygments_lexer": "ipython3",
   "version": "3.7.6"
  }
 },
 "nbformat": 4,
 "nbformat_minor": 4
}
