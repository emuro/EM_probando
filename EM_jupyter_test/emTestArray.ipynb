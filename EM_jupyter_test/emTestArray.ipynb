{
 "cells": [
  {
   "cell_type": "code",
   "execution_count": 1,
   "metadata": {},
   "outputs": [],
   "source": [
    "import array as arr"
   ]
  },
  {
   "cell_type": "code",
   "execution_count": 23,
   "metadata": {},
   "outputs": [
    {
     "name": "stdout",
     "output_type": "stream",
     "text": [
      "[2, 4, 6] \n",
      "\n",
      "array('i', [6, 12, 36]) \n",
      " 3\n",
      "array('i', [6, 12, 36, 56]) \n",
      " 4\n",
      "4\n",
      "6\n",
      "\n",
      "\n",
      "6\n",
      "12\n",
      "36\n",
      "56\n",
      "\n",
      "\n",
      "6\n",
      "12\n",
      "36\n",
      "56\n"
     ]
    }
   ],
   "source": [
    "a=list()\n",
    "a=[2, 4, 6]\n",
    "print(a,\"\\n\")\n",
    "b= arr.array('i', [6,12,36])\n",
    "print(b, \"\\n\", len(b))\n",
    "b.append(56)\n",
    "print(b, \"\\n\", len(b))\n",
    "print(len(b))\n",
    "print(b[-4])\n",
    "print(\"\\n\")\n",
    "\n",
    "for x in b[:]:\n",
    "    print(x)\n",
    "print(\"\\n\")\n",
    "\n",
    "tmp=0\n",
    "while tmp<len(b):\n",
    "    print(b[tmp])\n",
    "    tmp=tmp+1"
   ]
  },
  {
   "cell_type": "code",
   "execution_count": 4,
   "metadata": {},
   "outputs": [
    {
     "name": "stdout",
     "output_type": "stream",
     "text": [
      "[10 20 30 40 50 60 70 80 90]\n",
      "[ 2.  4.  6.  8. 10. 12. 14. 16. 18.]\n"
     ]
    }
   ],
   "source": [
    "import numpy\n",
    "myArray = numpy.array([10,20,30,40,50,60,70,80,90])\n",
    "print (myArray)\n",
    "myInt = 5\n",
    "newArray = myArray/myInt\n",
    "print (newArray)"
   ]
  },
  {
   "cell_type": "code",
   "execution_count": null,
   "metadata": {},
   "outputs": [],
   "source": []
  },
  {
   "cell_type": "code",
   "execution_count": null,
   "metadata": {},
   "outputs": [],
   "source": []
  }
 ],
 "metadata": {
  "kernelspec": {
   "display_name": "Python 3",
   "language": "python",
   "name": "python3"
  },
  "language_info": {
   "codemirror_mode": {
    "name": "ipython",
    "version": 3
   },
   "file_extension": ".py",
   "mimetype": "text/x-python",
   "name": "python",
   "nbconvert_exporter": "python",
   "pygments_lexer": "ipython3",
   "version": "3.7.6"
  }
 },
 "nbformat": 4,
 "nbformat_minor": 4
}
