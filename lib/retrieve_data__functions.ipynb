{
 "cells": [
  {
   "cell_type": "code",
   "execution_count": 1,
   "id": "229ea9be-132d-4656-8da0-56c980b091a3",
   "metadata": {
    "tags": []
   },
   "outputs": [],
   "source": [
    "# python3\n",
    "# ################################################################## #\n",
    "# retrieve_data__functions.py (C) 2023 Mainz.\n",
    "# Author: Enrique M. Muro\n",
    "# ################################################################## #\n",
    "#\n",
    "# --------------------------------------------------------------------\n",
    "# Project: gene_length\n",
    "#\n",
    "# ################################################################## #"
   ]
  },
  {
   "cell_type": "markdown",
   "id": "8046a185-31f3-48b1-83f7-947911a96d15",
   "metadata": {},
   "source": [
    "## Import python modules"
   ]
  },
  {
   "cell_type": "code",
   "execution_count": 2,
   "id": "51b0a90c",
   "metadata": {},
   "outputs": [],
   "source": [
    "import numpy as np\n",
    "import pandas as pd\n",
    "\n",
    "import sys\n",
    "sys.path.append('./')\n",
    "import constants as c"
   ]
  },
  {
   "cell_type": "markdown",
   "id": "7e182be9-5197-409b-a655-450673b950b9",
   "metadata": {},
   "source": [
    "## Python functions"
   ]
  },
  {
   "cell_type": "markdown",
   "id": "9f2ae33a-c2b2-41a8-aee2-dff48b34bc9f",
   "metadata": {},
   "source": [
    "### Retrieve high quality genomes\n",
    "returns a list of species high high quality genomes"
   ]
  },
  {
   "cell_type": "code",
   "execution_count": 3,
   "id": "182ca19b-ea91-46e6-b6b4-fb8cbf873378",
   "metadata": {},
   "outputs": [],
   "source": [
    "def retrieve_species_with_high_quality_genomes(): # HQG: high quality genome\n",
    "    highQ_df = pd.read_csv(c.G_NCBI_GENOME_DATA, \n",
    "                           low_memory=False, sep=\"\\t\") # tax_id, status, accession  \n",
    "    highQ_df = highQ_df[[\"species\",\"assembly_status\"]]\n",
    "    display(highQ_df.head(2))\n",
    "    display(highQ_df.columns)\n",
    "    good_status = [\"Complete Genome\", \"Chromosome\"] #It can be: [\"Complete Genome\", \"Chromosome\", \"Scaffold\", \"Contig\"]\n",
    "    # filter only to high Quality genomes\n",
    "    highQ_df = highQ_df[highQ_df['assembly_status'].isin(good_status)]\n",
    "    display(highQ_df.shape)\n",
    "    return highQ_df[\"species\"].tolist()"
   ]
  },
  {
   "cell_type": "code",
   "execution_count": 4,
   "id": "fcc25983-bbe6-4bb9-a2c1-47e356b75b8f",
   "metadata": {},
   "outputs": [],
   "source": [
    "def from_species_list_retrieve_species_with_HQG(species_l): # HQG: high quality genome\n",
    "    species_s = set(species_l)\n",
    "    hqg_s     = set(retrieve_species_with_high_quality_genomes())\n",
    "    return list(species_s.intersection(hqg_s))"
   ]
  }
 ],
 "metadata": {
  "kernelspec": {
   "display_name": "Python 3 (ipykernel)",
   "language": "python",
   "name": "python3"
  },
  "language_info": {
   "codemirror_mode": {
    "name": "ipython",
    "version": 3
   },
   "file_extension": ".py",
   "mimetype": "text/x-python",
   "name": "python",
   "nbconvert_exporter": "python",
   "pygments_lexer": "ipython3",
   "version": "3.10.12"
  }
 },
 "nbformat": 4,
 "nbformat_minor": 5
}
