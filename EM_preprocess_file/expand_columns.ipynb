{
 "cells": [
  {
   "cell_type": "markdown",
   "id": "4e158002-7422-422c-89ca-fbaacb381b27",
   "metadata": {},
   "source": [
    "# Check files\n",
    "**iupred**"
   ]
  },
  {
   "cell_type": "markdown",
   "id": "8046a185-31f3-48b1-83f7-947911a96d15",
   "metadata": {},
   "source": [
    "## Import python modules"
   ]
  },
  {
   "cell_type": "code",
   "execution_count": 10,
   "id": "51b0a90c",
   "metadata": {},
   "outputs": [],
   "source": [
    "import numpy as np\n",
    "from scipy import stats\n",
    "import pandas as pd\n",
    "#\n",
    "import sys\n",
    "sys.path.append('../../lcr_lib/')\n",
    "import lcr_constants as lcr_c\n",
    "#import lcr_plot as lcr_p"
   ]
  },
  {
   "cell_type": "markdown",
   "id": "d509543a-9bbf-4428-bb98-a287201ef79d",
   "metadata": {
    "tags": []
   },
   "source": [
    "## Retrieving the data"
   ]
  },
  {
   "cell_type": "code",
   "execution_count": 11,
   "id": "86b76b58-6c34-4b8a-82b3-f117e835fad0",
   "metadata": {},
   "outputs": [
    {
     "name": "stdout",
     "output_type": "stream",
     "text": [
      "The statistical descriptions of the protein distributions for the different species is in:\n",
      " /home/emuro/git/github/EM_LCRs/working_on/proteomes_entropy/../../lcr_lib/../working_on_tables/pmier_newCols__hsa_disorder.tsv \n",
      "\n"
     ]
    },
    {
     "data": {
      "text/html": [
       "<div>\n",
       "<style scoped>\n",
       "    .dataframe tbody tr th:only-of-type {\n",
       "        vertical-align: middle;\n",
       "    }\n",
       "\n",
       "    .dataframe tbody tr th {\n",
       "        vertical-align: top;\n",
       "    }\n",
       "\n",
       "    .dataframe thead th {\n",
       "        text-align: right;\n",
       "    }\n",
       "</style>\n",
       "<table border=\"1\" class=\"dataframe\">\n",
       "  <thead>\n",
       "    <tr style=\"text-align: right;\">\n",
       "      <th></th>\n",
       "      <th>db</th>\n",
       "      <th>UniprotID</th>\n",
       "      <th>EntryName</th>\n",
       "      <th>AAinDisorder</th>\n",
       "      <th>length</th>\n",
       "    </tr>\n",
       "  </thead>\n",
       "  <tbody>\n",
       "    <tr>\n",
       "      <th>16101</th>\n",
       "      <td>tr</td>\n",
       "      <td>A0A0B4J2B6</td>\n",
       "      <td>A0A0B4J2B6_HUMAN</td>\n",
       "      <td>9</td>\n",
       "      <td>119</td>\n",
       "    </tr>\n",
       "    <tr>\n",
       "      <th>1197</th>\n",
       "      <td>sp</td>\n",
       "      <td>Q9Y2U5</td>\n",
       "      <td>M3K2_HUMAN</td>\n",
       "      <td>212</td>\n",
       "      <td>619</td>\n",
       "    </tr>\n",
       "  </tbody>\n",
       "</table>\n",
       "</div>"
      ],
      "text/plain": [
       "       db   UniprotID         EntryName  AAinDisorder  length\n",
       "16101  tr  A0A0B4J2B6  A0A0B4J2B6_HUMAN             9     119\n",
       "1197   sp      Q9Y2U5        M3K2_HUMAN           212     619"
      ]
     },
     "metadata": {},
     "output_type": "display_data"
    },
    {
     "name": "stdout",
     "output_type": "stream",
     "text": [
      "(20590, 5)\n"
     ]
    }
   ],
   "source": [
    "# statistics on length distribution for different species \n",
    "stat_file = lcr_c.WORKING_ON_TABLES_PATH + \"pmier_newCols__hsa_disorder.tsv\"\n",
    "print(\"The statistical descriptions of the protein distributions for the different species is in:\\n\",\\\n",
    "     stat_file, \"\\n\")\n",
    "# retrieve data and diminish the number of columns\n",
    "stat_df = pd.read_csv(stat_file, low_memory=False, sep=\"\\s+\")\n",
    "\n",
    "# visualize data\n",
    "if 1:\n",
    "    pd.set_option('display.max_columns', len(stat_df.columns))\n",
    "    display(stat_df.sample(2))\n",
    "    print(stat_df.shape)\n",
    "\n",
    "# save data\n",
    "if 1:\n",
    "     stat_df.to_csv(lcr_c.WORKING_ON_TABLES_PATH + \"pmier_newCols2__hsa_disorder.tsv\", sep=\"\\t\", index=False)"
   ]
  }
 ],
 "metadata": {
  "kernelspec": {
   "display_name": "Python 3 (ipykernel)",
   "language": "python",
   "name": "python3"
  },
  "language_info": {
   "codemirror_mode": {
    "name": "ipython",
    "version": 3
   },
   "file_extension": ".py",
   "mimetype": "text/x-python",
   "name": "python",
   "nbconvert_exporter": "python",
   "pygments_lexer": "ipython3",
   "version": "3.10.12"
  }
 },
 "nbformat": 4,
 "nbformat_minor": 5
}
