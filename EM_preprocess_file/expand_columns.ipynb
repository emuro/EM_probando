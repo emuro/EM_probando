{
 "cells": [
  {
   "cell_type": "markdown",
   "id": "4e158002-7422-422c-89ca-fbaacb381b27",
   "metadata": {},
   "source": [
    "# Mofify a files"
   ]
  },
  {
   "cell_type": "markdown",
   "id": "8046a185-31f3-48b1-83f7-947911a96d15",
   "metadata": {},
   "source": [
    "## Import python modules"
   ]
  },
  {
   "cell_type": "code",
   "execution_count": 1,
   "id": "51b0a90c",
   "metadata": {},
   "outputs": [],
   "source": [
    "import pandas as pd\n",
    "import sys\n",
    "\n",
    "INPUT_PATH  = \"/home/emuro/git/github/EM_LCRs/working_on_tables/\"\n",
    "INPUT_FILE  = \"pmier__hsa_disorder.txt\"\n",
    "OUTPUT_PATH = \"~/tmp/\"\n",
    "OUTPUT_FILE = \"pmier_newCols__hsa_disorder.txt\""
   ]
  },
  {
   "cell_type": "markdown",
   "id": "d509543a-9bbf-4428-bb98-a287201ef79d",
   "metadata": {
    "tags": []
   },
   "source": [
    "## Retrieving the data"
   ]
  },
  {
   "cell_type": "code",
   "execution_count": 2,
   "id": "86b76b58-6c34-4b8a-82b3-f117e835fad0",
   "metadata": {},
   "outputs": [
    {
     "name": "stdout",
     "output_type": "stream",
     "text": [
      "The input file is in:\n",
      " /home/emuro/git/github/EM_LCRs/working_on_tables/pmier__hsa_disorder.txt \n",
      "\n"
     ]
    },
    {
     "data": {
      "text/html": [
       "<div>\n",
       "<style scoped>\n",
       "    .dataframe tbody tr th:only-of-type {\n",
       "        vertical-align: middle;\n",
       "    }\n",
       "\n",
       "    .dataframe tbody tr th {\n",
       "        vertical-align: top;\n",
       "    }\n",
       "\n",
       "    .dataframe thead th {\n",
       "        text-align: right;\n",
       "    }\n",
       "</style>\n",
       "<table border=\"1\" class=\"dataframe\">\n",
       "  <thead>\n",
       "    <tr style=\"text-align: right;\">\n",
       "      <th></th>\n",
       "      <th>id</th>\n",
       "      <th>AAinDisorder</th>\n",
       "      <th>length</th>\n",
       "    </tr>\n",
       "  </thead>\n",
       "  <tbody>\n",
       "    <tr>\n",
       "      <th>15043</th>\n",
       "      <td>sp|Q14697|GANAB_HUMAN</td>\n",
       "      <td>63</td>\n",
       "      <td>944</td>\n",
       "    </tr>\n",
       "    <tr>\n",
       "      <th>13405</th>\n",
       "      <td>sp|A0A1W2PQ27|S72L1_HUMAN</td>\n",
       "      <td>6</td>\n",
       "      <td>194</td>\n",
       "    </tr>\n",
       "  </tbody>\n",
       "</table>\n",
       "</div>"
      ],
      "text/plain": [
       "                              id  AAinDisorder  length\n",
       "15043      sp|Q14697|GANAB_HUMAN            63     944\n",
       "13405  sp|A0A1W2PQ27|S72L1_HUMAN             6     194"
      ]
     },
     "metadata": {},
     "output_type": "display_data"
    },
    {
     "name": "stdout",
     "output_type": "stream",
     "text": [
      "(20590, 3)\n"
     ]
    }
   ],
   "source": [
    "# retrieve input file\n",
    "in_file = INPUT_PATH + INPUT_FILE\n",
    "print(\"The input file is in:\\n\", in_file, \"\\n\")\n",
    "\n",
    "# retrieve data and diminish the number of columns\n",
    "in_df = pd.read_csv(in_file, low_memory=False, sep=\"\\t\")\n",
    "\n",
    "# visualize data\n",
    "if 1:\n",
    "    pd.set_option('display.max_columns', len(in_df.columns))\n",
    "    display(in_df.sample(2))\n",
    "    print(in_df.shape)"
   ]
  },
  {
   "cell_type": "markdown",
   "id": "eb861869",
   "metadata": {},
   "source": [
    "## Modify file"
   ]
  },
  {
   "cell_type": "code",
   "execution_count": 3,
   "id": "4fc77760",
   "metadata": {},
   "outputs": [
    {
     "data": {
      "text/html": [
       "<div>\n",
       "<style scoped>\n",
       "    .dataframe tbody tr th:only-of-type {\n",
       "        vertical-align: middle;\n",
       "    }\n",
       "\n",
       "    .dataframe tbody tr th {\n",
       "        vertical-align: top;\n",
       "    }\n",
       "\n",
       "    .dataframe thead th {\n",
       "        text-align: right;\n",
       "    }\n",
       "</style>\n",
       "<table border=\"1\" class=\"dataframe\">\n",
       "  <thead>\n",
       "    <tr style=\"text-align: right;\">\n",
       "      <th></th>\n",
       "      <th>db</th>\n",
       "      <th>UniprotID</th>\n",
       "      <th>EntryName</th>\n",
       "      <th>AAinDisorder</th>\n",
       "      <th>protein_length</th>\n",
       "    </tr>\n",
       "  </thead>\n",
       "  <tbody>\n",
       "    <tr>\n",
       "      <th>19364</th>\n",
       "      <td>sp</td>\n",
       "      <td>Q96GQ7</td>\n",
       "      <td>DDX27_HUMAN</td>\n",
       "      <td>180</td>\n",
       "      <td>796</td>\n",
       "    </tr>\n",
       "    <tr>\n",
       "      <th>1198</th>\n",
       "      <td>sp</td>\n",
       "      <td>Q9Y3U8</td>\n",
       "      <td>RL36_HUMAN</td>\n",
       "      <td>45</td>\n",
       "      <td>105</td>\n",
       "    </tr>\n",
       "  </tbody>\n",
       "</table>\n",
       "</div>"
      ],
      "text/plain": [
       "       db UniprotID    EntryName  AAinDisorder  protein_length\n",
       "19364  sp    Q96GQ7  DDX27_HUMAN           180             796\n",
       "1198   sp    Q9Y3U8   RL36_HUMAN            45             105"
      ]
     },
     "metadata": {},
     "output_type": "display_data"
    },
    {
     "name": "stdout",
     "output_type": "stream",
     "text": [
      "(20590, 5)\n"
     ]
    }
   ],
   "source": [
    "out_df = in_df.copy()\n",
    "\n",
    "out_df[[\"db\",\t\"UniprotID\",\t\"EntryName\"]] = out_df[\"id\"].str.split('|', expand=True)\n",
    "out_df = out_df.drop(['id'], axis=1)\n",
    "out_df = out_df.rename(columns={\"length\": \"protein_length\"})\n",
    "\n",
    "out_df  = out_df[[\"db\",\t\"UniprotID\",\t\"EntryName\", \"AAinDisorder\", \"protein_length\"]]\n",
    "#print(out_df.columns)\n",
    "#\n",
    "if 1:\n",
    "    pd.set_option('display.max_columns', len(out_df.columns))\n",
    "    display(out_df.sample(2))\n",
    "    print(out_df.shape)"
   ]
  },
  {
   "cell_type": "markdown",
   "id": "0db1742e",
   "metadata": {},
   "source": [
    "# Save file"
   ]
  },
  {
   "cell_type": "code",
   "execution_count": 4,
   "id": "296074ed",
   "metadata": {},
   "outputs": [],
   "source": [
    "BOOL_SAVE_DATA = True\n",
    "if BOOL_SAVE_DATA:\n",
    "     out_df.to_csv(OUTPUT_PATH + OUTPUT_FILE, sep=\"\\t\", index=False)"
   ]
  }
 ],
 "metadata": {
  "kernelspec": {
   "display_name": "Python 3 (ipykernel)",
   "language": "python",
   "name": "python3"
  },
  "language_info": {
   "codemirror_mode": {
    "name": "ipython",
    "version": 3
   },
   "file_extension": ".py",
   "mimetype": "text/x-python",
   "name": "python",
   "nbconvert_exporter": "python",
   "pygments_lexer": "ipython3",
   "version": "3.10.12"
  }
 },
 "nbformat": 4,
 "nbformat_minor": 5
}
