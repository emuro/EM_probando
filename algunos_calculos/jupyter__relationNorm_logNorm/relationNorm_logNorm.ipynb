{
 "cells": [
  {
   "cell_type": "code",
   "execution_count": 49,
   "id": "8d381efd",
   "metadata": {},
   "outputs": [],
   "source": [
    "import numpy as np\n",
    "import matplotlib.pyplot as plt\n",
    "from scipy.stats import norm\n",
    "import math"
   ]
  },
  {
   "cell_type": "code",
   "execution_count": 55,
   "id": "76fd96c1",
   "metadata": {},
   "outputs": [
    {
     "name": "stdout",
     "output_type": "stream",
     "text": [
      "0.5001585800048439 0.10128001421492648\n",
      "1.6574345377334034 0.16745227283594485\n",
      "0.5001931871467801\n",
      "0.010155521142040342\n"
     ]
    },
    {
     "data": {
      "image/png": "[encoded data removed]",
      "text/plain": [
       "<Figure size 432x288 with 1 Axes>"
      ]
     },
     "metadata": {
      "needs_background": "light"
     },
     "output_type": "display_data"
    }
   ],
   "source": [
    "data_mu, data_sigma = 0.5, 0.1\n",
    "data = np.random.lognormal(data_mu, data_sigma, 1000)\n",
    "\n",
    "mu, std = norm.fit(np.log(data))\n",
    "print(mu, std)\n",
    "\n",
    "mean = np.mean(data)\n",
    "sigma = np.std(data)\n",
    "print(mean, sigma)\n",
    "\n",
    "print(  np.log(mean**2/np.sqrt(mean**2+sigma**2) ))\n",
    "print(  np.log(1+ sigma**2/mean**2) )\n",
    "\n",
    "\n",
    "#print(data)\n",
    "#dist = plt.hist(data, 30)\n",
    "\n",
    "# Create the bins and histogram\n",
    "count, bins, ignored = plt.hist(np.log(data), 20, density=True)\n",
    "\n",
    "# Plot the distribution curve\n",
    "#plt.plot(bins, 1/(sigma * np.sqrt(2 * np.pi)) *\n",
    "#    np.exp( - (bins - mu)**2 / (2 * sigma**2) ),       linewidth=3, color='y')\n",
    "plt.show()\n"
   ]
  },
  {
   "cell_type": "code",
   "execution_count": null,
   "id": "ab16f450",
   "metadata": {},
   "outputs": [],
   "source": []
  },
  {
   "cell_type": "code",
   "execution_count": null,
   "id": "b3debc35",
   "metadata": {},
   "outputs": [],
   "source": []
  },
  {
   "cell_type": "code",
   "execution_count": null,
   "id": "33ab458a",
   "metadata": {},
   "outputs": [],
   "source": []
  },
  {
   "cell_type": "code",
   "execution_count": null,
   "id": "6e3bc7e9",
   "metadata": {},
   "outputs": [],
   "source": []
  }
 ],
 "metadata": {
  "kernelspec": {
   "display_name": "Python 3 (ipykernel)",
   "language": "python",
   "name": "python3"
  },
  "language_info": {
   "codemirror_mode": {
    "name": "ipython",
    "version": 3
   },
   "file_extension": ".py",
   "mimetype": "text/x-python",
   "name": "python",
   "nbconvert_exporter": "python",
   "pygments_lexer": "ipython3",
   "version": "3.7.6"
  }
 },
 "nbformat": 4,
 "nbformat_minor": 5
}
