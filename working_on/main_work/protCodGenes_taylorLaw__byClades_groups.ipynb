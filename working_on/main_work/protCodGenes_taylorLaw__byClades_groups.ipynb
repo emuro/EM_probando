{
 "cells": [
  {
   "cell_type": "markdown",
   "id": "819bd65b-f5b5-4644-a058-0a8c843d4fe8",
   "metadata": {},
   "source": [
    "# Observed Taylor law: variance vs mean \n",
    "**in protein coding gene length distributions for the different species**"
   ]
  },
  {
   "cell_type": "markdown",
   "id": "8046a185-31f3-48b1-83f7-947911a96d15",
   "metadata": {},
   "source": [
    "## Import python modules"
   ]
  },
  {
   "cell_type": "code",
   "execution_count": 1,
   "id": "51b0a90c",
   "metadata": {},
   "outputs": [],
   "source": [
    "import numpy as np\n",
    "#import matplotlib.pyplot as plt\n",
    "from scipy import stats\n",
    "#import os \n",
    "import pandas as pd\n",
    "#import math\n",
    "#\n",
    "from plotnine import *\n",
    "import warnings\n",
    "warnings.filterwarnings('ignore')"
   ]
  },
  {
   "cell_type": "markdown",
   "id": "c7b6d3b5",
   "metadata": {},
   "source": [
    "## The protein coding gene length distributions for the different species"
   ]
  },
  {
   "cell_type": "markdown",
   "id": "d509543a-9bbf-4428-bb98-a287201ef79d",
   "metadata": {},
   "source": [
    "### Retrieving the statistical descriptions of the gene length's distributions and the taxonomy ids"
   ]
  },
  {
   "cell_type": "markdown",
   "id": "3a99f2a8-5073-440f-88be-bf0def58ea9d",
   "metadata": {
    "tags": []
   },
   "source": [
    "#### Statistical description "
   ]
  },
  {
   "cell_type": "code",
   "execution_count": 2,
   "id": "e96ab72e-e702-4020-814a-625c86dd44ee",
   "metadata": {},
   "outputs": [
    {
     "name": "stdout",
     "output_type": "stream",
     "text": [
      "The statistical descriptions of the protein coding gene distributions for the different species is in:\n",
      " ../../../main_work/../working_on_tables/stat_protCodGenes_with_ncbiGenomeData_FerGroup.tsv \n",
      "\n"
     ]
    },
    {
     "ename": "FileNotFoundError",
     "evalue": "[Errno 2] No such file or directory: '../../../main_work/../working_on_tables/stat_protCodGenes_with_ncbiGenomeData_FerGroup.tsv'",
     "output_type": "error",
     "traceback": [
      "\u001b[0;31m---------------------------------------------------------------------------\u001b[0m",
      "\u001b[0;31mFileNotFoundError\u001b[0m                         Traceback (most recent call last)",
      "Input \u001b[0;32mIn [2]\u001b[0m, in \u001b[0;36m<cell line: 7>\u001b[0;34m()\u001b[0m\n\u001b[1;32m      4\u001b[0m \u001b[38;5;28mprint\u001b[39m(\u001b[38;5;124m\"\u001b[39m\u001b[38;5;124mThe statistical descriptions of the protein coding gene distributions for the different species is in:\u001b[39m\u001b[38;5;130;01m\\n\u001b[39;00m\u001b[38;5;124m\"\u001b[39m, stat_file, \u001b[38;5;124m\"\u001b[39m\u001b[38;5;130;01m\\n\u001b[39;00m\u001b[38;5;124m\"\u001b[39m)\n\u001b[1;32m      6\u001b[0m \u001b[38;5;66;03m# retrieve data and diminish the number of columns\u001b[39;00m\n\u001b[0;32m----> 7\u001b[0m stat_df \u001b[38;5;241m=\u001b[39m \u001b[43mpd\u001b[49m\u001b[38;5;241;43m.\u001b[39;49m\u001b[43mread_csv\u001b[49m\u001b[43m(\u001b[49m\u001b[43mstat_file\u001b[49m\u001b[43m,\u001b[49m\u001b[43m \u001b[49m\u001b[43mlow_memory\u001b[49m\u001b[38;5;241;43m=\u001b[39;49m\u001b[38;5;28;43;01mFalse\u001b[39;49;00m\u001b[43m,\u001b[49m\u001b[43m \u001b[49m\u001b[43msep\u001b[49m\u001b[38;5;241;43m=\u001b[39;49m\u001b[38;5;124;43m\"\u001b[39;49m\u001b[38;5;130;43;01m\\t\u001b[39;49;00m\u001b[38;5;124;43m\"\u001b[39;49m\u001b[43m)\u001b[49m\n\u001b[1;32m      8\u001b[0m stat_df \u001b[38;5;241m=\u001b[39m stat_df[[\u001b[38;5;124m\"\u001b[39m\u001b[38;5;124mdivision_8\u001b[39m\u001b[38;5;124m\"\u001b[39m, \u001b[38;5;124m\"\u001b[39m\u001b[38;5;124mspecies\u001b[39m\u001b[38;5;124m\"\u001b[39m, \u001b[38;5;124m\"\u001b[39m\u001b[38;5;124mtrunk_genes_path\u001b[39m\u001b[38;5;124m\"\u001b[39m, \u001b[38;5;124m\"\u001b[39m\u001b[38;5;124mgenes_file\u001b[39m\u001b[38;5;124m\"\u001b[39m, \u001b[38;5;124m\"\u001b[39m\u001b[38;5;124mcount\u001b[39m\u001b[38;5;124m\"\u001b[39m, \u001b[38;5;124m\"\u001b[39m\u001b[38;5;124mmean\u001b[39m\u001b[38;5;124m\"\u001b[39m, \u001b[38;5;124m\"\u001b[39m\u001b[38;5;124mvar\u001b[39m\u001b[38;5;124m\"\u001b[39m] \u001b[38;5;241m+\u001b[39m [\u001b[38;5;124m\"\u001b[39m\u001b[38;5;124mgroup\u001b[39m\u001b[38;5;124m\"\u001b[39m, \u001b[38;5;124m\"\u001b[39m\u001b[38;5;124msubgroup\u001b[39m\u001b[38;5;124m\"\u001b[39m, \u001b[38;5;124m\"\u001b[39m\u001b[38;5;124mgroup_Fer\u001b[39m\u001b[38;5;124m\"\u001b[39m]]\n\u001b[1;32m     10\u001b[0m \u001b[38;5;66;03m# visualize data\u001b[39;00m\n",
      "File \u001b[0;32m/Library/Frameworks/Python.framework/Versions/3.10/lib/python3.10/site-packages/pandas/util/_decorators.py:311\u001b[0m, in \u001b[0;36mdeprecate_nonkeyword_arguments.<locals>.decorate.<locals>.wrapper\u001b[0;34m(*args, **kwargs)\u001b[0m\n\u001b[1;32m    305\u001b[0m \u001b[38;5;28;01mif\u001b[39;00m \u001b[38;5;28mlen\u001b[39m(args) \u001b[38;5;241m>\u001b[39m num_allow_args:\n\u001b[1;32m    306\u001b[0m     warnings\u001b[38;5;241m.\u001b[39mwarn(\n\u001b[1;32m    307\u001b[0m         msg\u001b[38;5;241m.\u001b[39mformat(arguments\u001b[38;5;241m=\u001b[39marguments),\n\u001b[1;32m    308\u001b[0m         \u001b[38;5;167;01mFutureWarning\u001b[39;00m,\n\u001b[1;32m    309\u001b[0m         stacklevel\u001b[38;5;241m=\u001b[39mstacklevel,\n\u001b[1;32m    310\u001b[0m     )\n\u001b[0;32m--> 311\u001b[0m \u001b[38;5;28;01mreturn\u001b[39;00m \u001b[43mfunc\u001b[49m\u001b[43m(\u001b[49m\u001b[38;5;241;43m*\u001b[39;49m\u001b[43margs\u001b[49m\u001b[43m,\u001b[49m\u001b[43m \u001b[49m\u001b[38;5;241;43m*\u001b[39;49m\u001b[38;5;241;43m*\u001b[39;49m\u001b[43mkwargs\u001b[49m\u001b[43m)\u001b[49m\n",
      "File \u001b[0;32m/Library/Frameworks/Python.framework/Versions/3.10/lib/python3.10/site-packages/pandas/io/parsers/readers.py:680\u001b[0m, in \u001b[0;36mread_csv\u001b[0;34m(filepath_or_buffer, sep, delimiter, header, names, index_col, usecols, squeeze, prefix, mangle_dupe_cols, dtype, engine, converters, true_values, false_values, skipinitialspace, skiprows, skipfooter, nrows, na_values, keep_default_na, na_filter, verbose, skip_blank_lines, parse_dates, infer_datetime_format, keep_date_col, date_parser, dayfirst, cache_dates, iterator, chunksize, compression, thousands, decimal, lineterminator, quotechar, quoting, doublequote, escapechar, comment, encoding, encoding_errors, dialect, error_bad_lines, warn_bad_lines, on_bad_lines, delim_whitespace, low_memory, memory_map, float_precision, storage_options)\u001b[0m\n\u001b[1;32m    665\u001b[0m kwds_defaults \u001b[38;5;241m=\u001b[39m _refine_defaults_read(\n\u001b[1;32m    666\u001b[0m     dialect,\n\u001b[1;32m    667\u001b[0m     delimiter,\n\u001b[0;32m   (...)\u001b[0m\n\u001b[1;32m    676\u001b[0m     defaults\u001b[38;5;241m=\u001b[39m{\u001b[38;5;124m\"\u001b[39m\u001b[38;5;124mdelimiter\u001b[39m\u001b[38;5;124m\"\u001b[39m: \u001b[38;5;124m\"\u001b[39m\u001b[38;5;124m,\u001b[39m\u001b[38;5;124m\"\u001b[39m},\n\u001b[1;32m    677\u001b[0m )\n\u001b[1;32m    678\u001b[0m kwds\u001b[38;5;241m.\u001b[39mupdate(kwds_defaults)\n\u001b[0;32m--> 680\u001b[0m \u001b[38;5;28;01mreturn\u001b[39;00m \u001b[43m_read\u001b[49m\u001b[43m(\u001b[49m\u001b[43mfilepath_or_buffer\u001b[49m\u001b[43m,\u001b[49m\u001b[43m \u001b[49m\u001b[43mkwds\u001b[49m\u001b[43m)\u001b[49m\n",
      "File \u001b[0;32m/Library/Frameworks/Python.framework/Versions/3.10/lib/python3.10/site-packages/pandas/io/parsers/readers.py:575\u001b[0m, in \u001b[0;36m_read\u001b[0;34m(filepath_or_buffer, kwds)\u001b[0m\n\u001b[1;32m    572\u001b[0m _validate_names(kwds\u001b[38;5;241m.\u001b[39mget(\u001b[38;5;124m\"\u001b[39m\u001b[38;5;124mnames\u001b[39m\u001b[38;5;124m\"\u001b[39m, \u001b[38;5;28;01mNone\u001b[39;00m))\n\u001b[1;32m    574\u001b[0m \u001b[38;5;66;03m# Create the parser.\u001b[39;00m\n\u001b[0;32m--> 575\u001b[0m parser \u001b[38;5;241m=\u001b[39m \u001b[43mTextFileReader\u001b[49m\u001b[43m(\u001b[49m\u001b[43mfilepath_or_buffer\u001b[49m\u001b[43m,\u001b[49m\u001b[43m \u001b[49m\u001b[38;5;241;43m*\u001b[39;49m\u001b[38;5;241;43m*\u001b[39;49m\u001b[43mkwds\u001b[49m\u001b[43m)\u001b[49m\n\u001b[1;32m    577\u001b[0m \u001b[38;5;28;01mif\u001b[39;00m chunksize \u001b[38;5;129;01mor\u001b[39;00m iterator:\n\u001b[1;32m    578\u001b[0m     \u001b[38;5;28;01mreturn\u001b[39;00m parser\n",
      "File \u001b[0;32m/Library/Frameworks/Python.framework/Versions/3.10/lib/python3.10/site-packages/pandas/io/parsers/readers.py:933\u001b[0m, in \u001b[0;36mTextFileReader.__init__\u001b[0;34m(self, f, engine, **kwds)\u001b[0m\n\u001b[1;32m    930\u001b[0m     \u001b[38;5;28mself\u001b[39m\u001b[38;5;241m.\u001b[39moptions[\u001b[38;5;124m\"\u001b[39m\u001b[38;5;124mhas_index_names\u001b[39m\u001b[38;5;124m\"\u001b[39m] \u001b[38;5;241m=\u001b[39m kwds[\u001b[38;5;124m\"\u001b[39m\u001b[38;5;124mhas_index_names\u001b[39m\u001b[38;5;124m\"\u001b[39m]\n\u001b[1;32m    932\u001b[0m \u001b[38;5;28mself\u001b[39m\u001b[38;5;241m.\u001b[39mhandles: IOHandles \u001b[38;5;241m|\u001b[39m \u001b[38;5;28;01mNone\u001b[39;00m \u001b[38;5;241m=\u001b[39m \u001b[38;5;28;01mNone\u001b[39;00m\n\u001b[0;32m--> 933\u001b[0m \u001b[38;5;28mself\u001b[39m\u001b[38;5;241m.\u001b[39m_engine \u001b[38;5;241m=\u001b[39m \u001b[38;5;28;43mself\u001b[39;49m\u001b[38;5;241;43m.\u001b[39;49m\u001b[43m_make_engine\u001b[49m\u001b[43m(\u001b[49m\u001b[43mf\u001b[49m\u001b[43m,\u001b[49m\u001b[43m \u001b[49m\u001b[38;5;28;43mself\u001b[39;49m\u001b[38;5;241;43m.\u001b[39;49m\u001b[43mengine\u001b[49m\u001b[43m)\u001b[49m\n",
      "File \u001b[0;32m/Library/Frameworks/Python.framework/Versions/3.10/lib/python3.10/site-packages/pandas/io/parsers/readers.py:1217\u001b[0m, in \u001b[0;36mTextFileReader._make_engine\u001b[0;34m(self, f, engine)\u001b[0m\n\u001b[1;32m   1213\u001b[0m     mode \u001b[38;5;241m=\u001b[39m \u001b[38;5;124m\"\u001b[39m\u001b[38;5;124mrb\u001b[39m\u001b[38;5;124m\"\u001b[39m\n\u001b[1;32m   1214\u001b[0m \u001b[38;5;66;03m# error: No overload variant of \"get_handle\" matches argument types\u001b[39;00m\n\u001b[1;32m   1215\u001b[0m \u001b[38;5;66;03m# \"Union[str, PathLike[str], ReadCsvBuffer[bytes], ReadCsvBuffer[str]]\"\u001b[39;00m\n\u001b[1;32m   1216\u001b[0m \u001b[38;5;66;03m# , \"str\", \"bool\", \"Any\", \"Any\", \"Any\", \"Any\", \"Any\"\u001b[39;00m\n\u001b[0;32m-> 1217\u001b[0m \u001b[38;5;28mself\u001b[39m\u001b[38;5;241m.\u001b[39mhandles \u001b[38;5;241m=\u001b[39m \u001b[43mget_handle\u001b[49m\u001b[43m(\u001b[49m\u001b[43m  \u001b[49m\u001b[38;5;66;43;03m# type: ignore[call-overload]\u001b[39;49;00m\n\u001b[1;32m   1218\u001b[0m \u001b[43m    \u001b[49m\u001b[43mf\u001b[49m\u001b[43m,\u001b[49m\n\u001b[1;32m   1219\u001b[0m \u001b[43m    \u001b[49m\u001b[43mmode\u001b[49m\u001b[43m,\u001b[49m\n\u001b[1;32m   1220\u001b[0m \u001b[43m    \u001b[49m\u001b[43mencoding\u001b[49m\u001b[38;5;241;43m=\u001b[39;49m\u001b[38;5;28;43mself\u001b[39;49m\u001b[38;5;241;43m.\u001b[39;49m\u001b[43moptions\u001b[49m\u001b[38;5;241;43m.\u001b[39;49m\u001b[43mget\u001b[49m\u001b[43m(\u001b[49m\u001b[38;5;124;43m\"\u001b[39;49m\u001b[38;5;124;43mencoding\u001b[39;49m\u001b[38;5;124;43m\"\u001b[39;49m\u001b[43m,\u001b[49m\u001b[43m \u001b[49m\u001b[38;5;28;43;01mNone\u001b[39;49;00m\u001b[43m)\u001b[49m\u001b[43m,\u001b[49m\n\u001b[1;32m   1221\u001b[0m \u001b[43m    \u001b[49m\u001b[43mcompression\u001b[49m\u001b[38;5;241;43m=\u001b[39;49m\u001b[38;5;28;43mself\u001b[39;49m\u001b[38;5;241;43m.\u001b[39;49m\u001b[43moptions\u001b[49m\u001b[38;5;241;43m.\u001b[39;49m\u001b[43mget\u001b[49m\u001b[43m(\u001b[49m\u001b[38;5;124;43m\"\u001b[39;49m\u001b[38;5;124;43mcompression\u001b[39;49m\u001b[38;5;124;43m\"\u001b[39;49m\u001b[43m,\u001b[49m\u001b[43m \u001b[49m\u001b[38;5;28;43;01mNone\u001b[39;49;00m\u001b[43m)\u001b[49m\u001b[43m,\u001b[49m\n\u001b[1;32m   1222\u001b[0m \u001b[43m    \u001b[49m\u001b[43mmemory_map\u001b[49m\u001b[38;5;241;43m=\u001b[39;49m\u001b[38;5;28;43mself\u001b[39;49m\u001b[38;5;241;43m.\u001b[39;49m\u001b[43moptions\u001b[49m\u001b[38;5;241;43m.\u001b[39;49m\u001b[43mget\u001b[49m\u001b[43m(\u001b[49m\u001b[38;5;124;43m\"\u001b[39;49m\u001b[38;5;124;43mmemory_map\u001b[39;49m\u001b[38;5;124;43m\"\u001b[39;49m\u001b[43m,\u001b[49m\u001b[43m \u001b[49m\u001b[38;5;28;43;01mFalse\u001b[39;49;00m\u001b[43m)\u001b[49m\u001b[43m,\u001b[49m\n\u001b[1;32m   1223\u001b[0m \u001b[43m    \u001b[49m\u001b[43mis_text\u001b[49m\u001b[38;5;241;43m=\u001b[39;49m\u001b[43mis_text\u001b[49m\u001b[43m,\u001b[49m\n\u001b[1;32m   1224\u001b[0m \u001b[43m    \u001b[49m\u001b[43merrors\u001b[49m\u001b[38;5;241;43m=\u001b[39;49m\u001b[38;5;28;43mself\u001b[39;49m\u001b[38;5;241;43m.\u001b[39;49m\u001b[43moptions\u001b[49m\u001b[38;5;241;43m.\u001b[39;49m\u001b[43mget\u001b[49m\u001b[43m(\u001b[49m\u001b[38;5;124;43m\"\u001b[39;49m\u001b[38;5;124;43mencoding_errors\u001b[39;49m\u001b[38;5;124;43m\"\u001b[39;49m\u001b[43m,\u001b[49m\u001b[43m \u001b[49m\u001b[38;5;124;43m\"\u001b[39;49m\u001b[38;5;124;43mstrict\u001b[39;49m\u001b[38;5;124;43m\"\u001b[39;49m\u001b[43m)\u001b[49m\u001b[43m,\u001b[49m\n\u001b[1;32m   1225\u001b[0m \u001b[43m    \u001b[49m\u001b[43mstorage_options\u001b[49m\u001b[38;5;241;43m=\u001b[39;49m\u001b[38;5;28;43mself\u001b[39;49m\u001b[38;5;241;43m.\u001b[39;49m\u001b[43moptions\u001b[49m\u001b[38;5;241;43m.\u001b[39;49m\u001b[43mget\u001b[49m\u001b[43m(\u001b[49m\u001b[38;5;124;43m\"\u001b[39;49m\u001b[38;5;124;43mstorage_options\u001b[39;49m\u001b[38;5;124;43m\"\u001b[39;49m\u001b[43m,\u001b[49m\u001b[43m \u001b[49m\u001b[38;5;28;43;01mNone\u001b[39;49;00m\u001b[43m)\u001b[49m\u001b[43m,\u001b[49m\n\u001b[1;32m   1226\u001b[0m \u001b[43m\u001b[49m\u001b[43m)\u001b[49m\n\u001b[1;32m   1227\u001b[0m \u001b[38;5;28;01massert\u001b[39;00m \u001b[38;5;28mself\u001b[39m\u001b[38;5;241m.\u001b[39mhandles \u001b[38;5;129;01mis\u001b[39;00m \u001b[38;5;129;01mnot\u001b[39;00m \u001b[38;5;28;01mNone\u001b[39;00m\n\u001b[1;32m   1228\u001b[0m f \u001b[38;5;241m=\u001b[39m \u001b[38;5;28mself\u001b[39m\u001b[38;5;241m.\u001b[39mhandles\u001b[38;5;241m.\u001b[39mhandle\n",
      "File \u001b[0;32m/Library/Frameworks/Python.framework/Versions/3.10/lib/python3.10/site-packages/pandas/io/common.py:789\u001b[0m, in \u001b[0;36mget_handle\u001b[0;34m(path_or_buf, mode, encoding, compression, memory_map, is_text, errors, storage_options)\u001b[0m\n\u001b[1;32m    784\u001b[0m \u001b[38;5;28;01melif\u001b[39;00m \u001b[38;5;28misinstance\u001b[39m(handle, \u001b[38;5;28mstr\u001b[39m):\n\u001b[1;32m    785\u001b[0m     \u001b[38;5;66;03m# Check whether the filename is to be opened in binary mode.\u001b[39;00m\n\u001b[1;32m    786\u001b[0m     \u001b[38;5;66;03m# Binary mode does not support 'encoding' and 'newline'.\u001b[39;00m\n\u001b[1;32m    787\u001b[0m     \u001b[38;5;28;01mif\u001b[39;00m ioargs\u001b[38;5;241m.\u001b[39mencoding \u001b[38;5;129;01mand\u001b[39;00m \u001b[38;5;124m\"\u001b[39m\u001b[38;5;124mb\u001b[39m\u001b[38;5;124m\"\u001b[39m \u001b[38;5;129;01mnot\u001b[39;00m \u001b[38;5;129;01min\u001b[39;00m ioargs\u001b[38;5;241m.\u001b[39mmode:\n\u001b[1;32m    788\u001b[0m         \u001b[38;5;66;03m# Encoding\u001b[39;00m\n\u001b[0;32m--> 789\u001b[0m         handle \u001b[38;5;241m=\u001b[39m \u001b[38;5;28;43mopen\u001b[39;49m\u001b[43m(\u001b[49m\n\u001b[1;32m    790\u001b[0m \u001b[43m            \u001b[49m\u001b[43mhandle\u001b[49m\u001b[43m,\u001b[49m\n\u001b[1;32m    791\u001b[0m \u001b[43m            \u001b[49m\u001b[43mioargs\u001b[49m\u001b[38;5;241;43m.\u001b[39;49m\u001b[43mmode\u001b[49m\u001b[43m,\u001b[49m\n\u001b[1;32m    792\u001b[0m \u001b[43m            \u001b[49m\u001b[43mencoding\u001b[49m\u001b[38;5;241;43m=\u001b[39;49m\u001b[43mioargs\u001b[49m\u001b[38;5;241;43m.\u001b[39;49m\u001b[43mencoding\u001b[49m\u001b[43m,\u001b[49m\n\u001b[1;32m    793\u001b[0m \u001b[43m            \u001b[49m\u001b[43merrors\u001b[49m\u001b[38;5;241;43m=\u001b[39;49m\u001b[43merrors\u001b[49m\u001b[43m,\u001b[49m\n\u001b[1;32m    794\u001b[0m \u001b[43m            \u001b[49m\u001b[43mnewline\u001b[49m\u001b[38;5;241;43m=\u001b[39;49m\u001b[38;5;124;43m\"\u001b[39;49m\u001b[38;5;124;43m\"\u001b[39;49m\u001b[43m,\u001b[49m\n\u001b[1;32m    795\u001b[0m \u001b[43m        \u001b[49m\u001b[43m)\u001b[49m\n\u001b[1;32m    796\u001b[0m     \u001b[38;5;28;01melse\u001b[39;00m:\n\u001b[1;32m    797\u001b[0m         \u001b[38;5;66;03m# Binary mode\u001b[39;00m\n\u001b[1;32m    798\u001b[0m         handle \u001b[38;5;241m=\u001b[39m \u001b[38;5;28mopen\u001b[39m(handle, ioargs\u001b[38;5;241m.\u001b[39mmode)\n",
      "\u001b[0;31mFileNotFoundError\u001b[0m: [Errno 2] No such file or directory: '../../../main_work/../working_on_tables/stat_protCodGenes_with_ncbiGenomeData_FerGroup.tsv'"
     ]
    }
   ],
   "source": [
    "# statistics on length distribution for different species\n",
    "working_on_extra_path = \"../../main_work/\"\n",
    "stat_file = working_on_extra_path + \"../working_on_tables/stat_protCodGenes_with_ncbiGenomeData_FerGroup.tsv\"\n",
    "print(\"The statistical descriptions of the protein coding gene distributions for the different species is in:\\n\", stat_file, \"\\n\")\n",
    "\n",
    "# retrieve data and diminish the number of columns\n",
    "stat_df = pd.read_csv(stat_file, low_memory=False, sep=\"\\t\")\n",
    "stat_df = stat_df[[\"division_8\", \"species\", \"trunk_genes_path\", \"genes_file\", \"count\", \"mean\", \"var\"] + [\"group\", \"subgroup\", \"group_Fer\"]]\n",
    "\n",
    "# visualize data\n",
    "pd.set_option('display.max_columns', 666)\n",
    "if 1:\n",
    "    display(stat_df.head(2))\n",
    "    print(stat_df.shape)"
   ]
  },
  {
   "cell_type": "markdown",
   "id": "b7864e7f-66e1-4115-9a45-c2d020171688",
   "metadata": {
    "tags": []
   },
   "source": [
    "## Python functions"
   ]
  },
  {
   "cell_type": "code",
   "execution_count": null,
   "id": "af6c0ad2-9985-4285-887a-c413505d46e6",
   "metadata": {},
   "outputs": [],
   "source": [
    "# species' stats for length distribution\n",
    "def get_df_for_taxid(df, taxid):\n",
    "     return df.loc[df[\"tax_id\"]==taxid].copy()"
   ]
  },
  {
   "cell_type": "code",
   "execution_count": null,
   "id": "d7a01d4e-3bc1-4808-8329-11d9fe70ed91",
   "metadata": {},
   "outputs": [],
   "source": [
    "def plot_taylor (df2plot, col_x, col_y, x_lab, y_lab, title, bool_show_regression): \n",
    "    #Calculate best fit line\n",
    "    slope, intercept, r_value, p_value, std_err = stats.linregress(np.log10(df2plot[col_x]),np.log10(df2plot[col_y]))\n",
    "    #Format the regression text\n",
    "    if 0: \n",
    "        print(\"v = {:4.4} * m^{:4.4};   R^2= {:2.4f}\".format(10**intercept, slope, r_value**2))\n",
    "    if bool_show_regression:\n",
    "        txt = '$\\sigma^{2} = ' + '{:4.2} '.format(10**intercept)  + ' \\t ' + '\\mu^{' + '{:4.3}'.format(slope) + '}' + ';\\tR^{2} = ' + '{:2.2f}$'.format(r_value**2)\n",
    "    else:\n",
    "        txt = ''\n",
    "        \n",
    "    p = (   \n",
    "        ggplot(df2plot, aes(col_x, col_y, color=legends_by)) + geom_point(size=0.1) +\n",
    "        geom_smooth(method=\"lm\", color=\"green\", size=0.25, span=.8)+\n",
    "        labs(title=title, x=x_lab, y=y_lab) \n",
    "        + scale_color_manual(values=['#D83B01', '#002050', '#A80000', '#FFA500', '#107C10','#EF008C', '#0078D7', '#B4009E']) # + scale_color_brewer() '#5C2D91'\n",
    "        + labs(color='Clade') # legend title\n",
    "        + scale_x_log10(breaks=[10 ** power for power in range(6)],\n",
    "          limits=[min(df2plot[col_x].to_list())/2, 2*max(df2plot[col_x].to_list())]) \n",
    "        + scale_y_log10(breaks = [10**power for power in range(13)], \n",
    "          limits = [min(df2plot[col_y].to_list())/2,2*max(df2plot[col_y].to_list())])#, labels=scientific_format(digits=2)\n",
    "    ) + theme(legend_position=(0.75,0.25), legend_key_size=5, legend_background=element_rect(fill='grey', alpha=0.01)) + annotate('text', x=0.015*max(df2plot[col_x].to_list()), y=0.65*max(df2plot[col_y].to_list()), label=txt,size=9,color=\"black\")\n",
    "    print(p)"
   ]
  },
  {
   "cell_type": "markdown",
   "id": "d27bda48-98da-4bb3-8b2c-bb0aaa8b70e1",
   "metadata": {},
   "source": [
    "#### Filter some species"
   ]
  },
  {
   "cell_type": "code",
   "execution_count": null,
   "id": "272b9951-85a0-4901-b1a7-ce035769ae17",
   "metadata": {},
   "outputs": [],
   "source": [
    "if 0:\n",
    "    print(stat_df[\"division_8\"].value_counts())\n",
    "cond = stat_df[\"division_8\"].isin([\"bacteria\", \"archaea\",\"protists\", \"plants\", \"fungi\", \"invertebrates\", \"vertebrates\"])  # avoid: empty or viruses\n",
    "stat_df = stat_df[cond]\n",
    "stat_df = stat_df[stat_df[\"species\"] != \"mus_caroli\"] # outlier\n",
    "if 0:\n",
    "    print(stat_df.shape)\n",
    "    print(stat_df[\"division_8\"].value_counts())"
   ]
  },
  {
   "cell_type": "markdown",
   "id": "423073b9-ee4c-40ab-8e3d-4fcb0377f016",
   "metadata": {},
   "source": [
    "## Observations: variance vs. mean (represented in $log_{10}$ scale)\n",
    "## Protein coding gene length distributions  \n",
    "$\\sigma^{2}$ is the variance   \n",
    "$\\mu$ is the mean  "
   ]
  },
  {
   "cell_type": "code",
   "execution_count": null,
   "id": "65579e1f-b037-4b15-969a-784548fe216a",
   "metadata": {},
   "outputs": [],
   "source": [
    "col_x = \"mean\"  # prots_mean\n",
    "col_y = \"var\"   # prots_var\n",
    "legends_by = \"division_8\"\n",
    "\n",
    "title = \"Protein coding genes\" # \"Uniprot, reference Proteomes (protein length)\"\n",
    "x_lab = \"Mean gene length\"   \n",
    "y_lab = \"Gene length variance\"\n",
    "bool_show_regression = True\n",
    "\n",
    "df2plot = stat_df\n",
    "if 0:\n",
    "    print(df2plot.shape)\n",
    "\n",
    "# Sort division_8 in order to plot the clades in an order (everything can be displayed)\n",
    "if 0:\n",
    "    print(df2plot.division_8.unique())\n",
    "df2plot.division_8 = pd.Categorical(df2plot.division_8, \n",
    "                                categories=['bacteria', 'archaea', 'fungi', 'protists', 'plants', 'invertebrates', 'vertebrates'],\n",
    "                                ordered=True)\n",
    "df2plot.sort_values('division_8', inplace=True)\n",
    "\n",
    "plot_taylor(df2plot, col_x, col_y, x_lab, y_lab, title, bool_show_regression)"
   ]
  },
  {
   "cell_type": "markdown",
   "id": "996bb340-631e-44d3-a137-5b927e8e80f0",
   "metadata": {},
   "source": [
    "#### Note:  \n",
    "$\\sigma^{2} = a . \\mu^{\\beta}$   \n",
    "Because the regression line is:  \n",
    "$\\log(\\sigma^{2}) = \\log(a) + \\beta log(\\mu) $"
   ]
  },
  {
   "cell_type": "code",
   "execution_count": null,
   "id": "66f8fa64-a148-4476-a411-097ab7d24ab2",
   "metadata": {},
   "outputs": [],
   "source": []
  },
  {
   "cell_type": "markdown",
   "id": "a8d96fae-32f4-49a6-bac4-9958d078a091",
   "metadata": {},
   "source": [
    "# Analyze clade by clade"
   ]
  },
  {
   "cell_type": "code",
   "execution_count": null,
   "id": "34a9b156-f885-4f7e-b9fb-3f4ade456622",
   "metadata": {},
   "outputs": [],
   "source": [
    "def plot_taylor_by_clade (df2plot, col_x, col_y, x_lab, y_lab, title, clade, bool_show_regression): \n",
    "    #Calculate best fit line\n",
    "    slope, intercept, r_value, p_value, std_err = stats.linregress(np.log10(df2plot[col_x]),np.log10(df2plot[col_y]))\n",
    "    #Format the regression text\n",
    "    if 1: \n",
    "        print(\"v = {:4.4} * m^{:4.4};   R^2= {:2.4f}\".format(10**intercept, slope, r_value**2))\n",
    "    if bool_show_regression:\n",
    "        txt = '$\\sigma^{2} = ' + '{:4.2} '.format(10**intercept)  + ' \\t ' + '\\mu^{' + '{:4.3}'.format(slope) + '}' + ';\\tR^{2} = ' + '{:2.2f}$'.format(r_value**2)\n",
    "    else:\n",
    "        txt = ''\n",
    "    \n",
    "    if clade in [\"bacteria\"]:\n",
    "        transparency = 0.01\n",
    "    elif clade in [\"archaea\"]:\n",
    "        transparency = 1.\n",
    "    else:\n",
    "        transparency = 1.\n",
    "        \n",
    "    p = (   \n",
    "        #ggplot(df2plot, aes(col_x, col_y, color=legends_by)) + geom_point(size=0.1) +\n",
    "        ggplot(df2plot, aes(col_x, col_y)) + geom_point(size=0.05, alpha=transparency) +\n",
    "        geom_smooth(method=\"lm\", color=\"green\", size=0.25, span=.8)+\n",
    "        labs(title=title, x=x_lab, y=y_lab) \n",
    "        + scale_color_manual(values=['#D83B01', '#002050', '#A80000', '#FFA500', '#107C10','#EF008C', '#0078D7', '#B4009E']) \n",
    "        #+ labs(color='Clade') # legend title\n",
    "        + scale_x_log10(breaks=[10 ** power for power in range(6)],\n",
    "          limits=[min(df2plot[col_x].to_list())/2, 2*max(df2plot[col_x].to_list())]) \n",
    "        + scale_y_log10(breaks = [10**power for power in range(13)], \n",
    "          limits = [min(df2plot[col_y].to_list())/2,2*max(df2plot[col_y].to_list())])#, labels=scientific_format(digits=2)\n",
    "    ) #+ annotate('text', x=0.015*max(df2plot[col_x].to_list()), y=0.65*max(df2plot[col_y].to_list()), label=txt, size=9, color=\"black\")\n",
    "    print(p)\n",
    "\n",
    "def plot_taylor_by_clade_groups (df2plot, col_x, col_y, x_lab, y_lab, title, bool_show_regression): \n",
    "    #Calculate best fit line\n",
    "    slope, intercept, r_value, p_value, std_err = stats.linregress(np.log10(df2plot[col_x]),np.log10(df2plot[col_y]))\n",
    "    #Format the regression text\n",
    "    if 0: \n",
    "        print(\"v = {:4.4} * m^{:4.4};   R^2= {:2.4f}\".format(10**intercept, slope, r_value**2))\n",
    "    if bool_show_regression:\n",
    "        txt = '$\\sigma^{2} = ' + '{:4.2} '.format(10**intercept)  + ' \\t ' + '\\mu^{' + '{:4.3}'.format(slope) + '}' + ';\\tR^{2} = ' + '{:2.2f}$'.format(r_value**2)\n",
    "    else:\n",
    "        txt = ''\n",
    "        \n",
    "    p = (   \n",
    "        ggplot(df2plot, aes(col_x, col_y, color=legends_by)) + geom_point(size=0.1) +\n",
    "        geom_smooth(method=\"lm\", color=\"green\", size=0.25, span=.8)+\n",
    "        labs(title=title, x=x_lab, y=y_lab) \n",
    "        + scale_color_manual(values=['#D83B01', '#002050', '#A80000', '#FFA500', '#107C10','#EF008C', '#0078D7', '#B4009E']) # + scale_color_brewer() '#5C2D91'\n",
    "        + labs(color='group') # legend title\n",
    "        + scale_x_log10(breaks=[10 ** power for power in range(6)],\n",
    "          limits=[min(df2plot[col_x].to_list())/2, 2*max(df2plot[col_x].to_list())]) \n",
    "        + scale_y_log10(breaks = [10**power for power in range(13)], \n",
    "          limits = [min(df2plot[col_y].to_list())/2,2*max(df2plot[col_y].to_list())])#, labels=scientific_format(digits=2)\n",
    "    ) + theme(legend_position=(0.75,0.25), legend_key_size=5, legend_background=element_rect(fill='grey', alpha=0.01)) + annotate('text', x=0.015*max(df2plot[col_x].to_list()), y=0.65*max(df2plot[col_y].to_list()), label=txt,size=9,color=\"black\")\n",
    "    print(p)\n"
   ]
  },
  {
   "cell_type": "code",
   "execution_count": null,
   "id": "93017071-1d59-4fa2-84c6-d0528c9e90e5",
   "metadata": {},
   "outputs": [],
   "source": [
    "col_x = \"mean\"  # prots_mean\n",
    "col_y = \"var\"   # prots_var\n",
    "\n",
    "# \n",
    "# SELECCIONA AQUI\n",
    "#################\n",
    "BOOL_ONLY_VERTEBRATES = 0  # 1 or 0\n",
    "if BOOL_ONLY_VERTEBRATES:\n",
    "    legends_by = \"group_Fer\" # vertebrates\n",
    "else:\n",
    "    legends_by = \"subgroup\" # subgroup in all Clades\n",
    "\n",
    "title_template = \"Protein coding genes\" # \"Uniprot, reference Proteomes (protein length)\"\n",
    "x_lab = \"Mean gene length\"   \n",
    "y_lab = \"Gene length variance\"\n",
    "bool_show_regression = False\n",
    "\n",
    "df2plot = stat_df\n",
    "if 1:\n",
    "    print(df2plot.shape)\n",
    "\n",
    "for clade in stat_df[\"division_8\"].unique().tolist(): # for each division\n",
    "    if BOOL_ONLY_VERTEBRATES:\n",
    "        if legends_by == \"group_Fer\":\n",
    "            if clade != \"vertebrates\":\n",
    "                continue\n",
    "            \n",
    "    df2plot = stat_df[stat_df[\"division_8\"]==clade]\n",
    "    if 1:\n",
    "        print(df2plot.shape[0])\n",
    "\n",
    "    if 1: # Set up to 1 for plotting by division \n",
    "        title = title_template + \" (\" + str(df2plot.shape[0]) + \" \" + str(clade) + \")\"\n",
    "        plot_taylor_by_clade(df2plot, col_x, col_y, x_lab, y_lab, title, clade, True) # False ->bool_show_regression = False\n",
    "        plot_taylor_by_clade_groups(df2plot, col_x, col_y, x_lab, y_lab, title, True) # False ->bool_show_regression = False"
   ]
  }
 ],
 "metadata": {
  "kernelspec": {
   "display_name": "Python 3 (ipykernel)",
   "language": "python",
   "name": "python3"
  },
  "language_info": {
   "codemirror_mode": {
    "name": "ipython",
    "version": 3
   },
   "file_extension": ".py",
   "mimetype": "text/x-python",
   "name": "python",
   "nbconvert_exporter": "python",
   "pygments_lexer": "ipython3",
   "version": "3.10.2"
  }
 },
 "nbformat": 4,
 "nbformat_minor": 5
}
