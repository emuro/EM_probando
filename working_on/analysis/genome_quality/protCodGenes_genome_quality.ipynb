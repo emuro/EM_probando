{
 "cells": [
  {
   "cell_type": "markdown",
   "id": "819bd65b-f5b5-4644-a058-0a8c843d4fe8",
   "metadata": {},
   "source": [
    "# Observed Taylor law: variance vs mean \n",
    "**in protein coding gene length distributions for the different species**"
   ]
  },
  {
   "cell_type": "markdown",
   "id": "8046a185-31f3-48b1-83f7-947911a96d15",
   "metadata": {},
   "source": [
    "## Import python modules"
   ]
  },
  {
   "cell_type": "code",
   "execution_count": 1,
   "id": "51b0a90c",
   "metadata": {},
   "outputs": [],
   "source": [
    "import numpy as np\n",
    "#import matplotlib.pyplot as plt\n",
    "#from scipy import stats\n",
    "#import os \n",
    "import pandas as pd\n",
    "from pathlib import Path\n",
    "#import math\n",
    "#\n",
    "#from plotnine import *\n",
    "#import warnings\n",
    "#warnings.filterwarnings('ignore')"
   ]
  },
  {
   "cell_type": "markdown",
   "id": "d509543a-9bbf-4428-bb98-a287201ef79d",
   "metadata": {},
   "source": [
    "## Retrieving the statistical descriptions of the gene length's distributions for the different genomes"
   ]
  },
  {
   "cell_type": "code",
   "execution_count": 2,
   "id": "e96ab72e-e702-4020-814a-625c86dd44ee",
   "metadata": {},
   "outputs": [
    {
     "name": "stdout",
     "output_type": "stream",
     "text": [
      "The statistical descriptions of the protein coding gene distributions for the different species is in:\n",
      " ../../../main_tables/stat_protCodGenes.tsv \n",
      "\n",
      "(33627, 6)\n",
      "division_7\n",
      "bacteria       31943\n",
      "fungi           1014\n",
      "protists         237\n",
      "vertebrates      222\n",
      "metazoa          115\n",
      "plants            96\n",
      "Name: count, dtype: int64\n"
     ]
    },
    {
     "data": {
      "text/html": [
       "<div>\n",
       "<style scoped>\n",
       "    .dataframe tbody tr th:only-of-type {\n",
       "        vertical-align: middle;\n",
       "    }\n",
       "\n",
       "    .dataframe tbody tr th {\n",
       "        vertical-align: top;\n",
       "    }\n",
       "\n",
       "    .dataframe thead th {\n",
       "        text-align: right;\n",
       "    }\n",
       "</style>\n",
       "<table border=\"1\" class=\"dataframe\">\n",
       "  <thead>\n",
       "    <tr style=\"text-align: right;\">\n",
       "      <th></th>\n",
       "      <th>division_7</th>\n",
       "      <th>division_8</th>\n",
       "      <th>species</th>\n",
       "      <th>assembly</th>\n",
       "      <th>taxonomy_id</th>\n",
       "      <th>Lineage</th>\n",
       "    </tr>\n",
       "  </thead>\n",
       "  <tbody>\n",
       "    <tr>\n",
       "      <th>0</th>\n",
       "      <td>bacteria</td>\n",
       "      <td>archaea</td>\n",
       "      <td>methanobacterium_bryantii_gca_002287175</td>\n",
       "      <td>ASM228717v1</td>\n",
       "      <td>2161</td>\n",
       "      <td>Archaea; Euryarchaeota; Methanomada group; Met...</td>\n",
       "    </tr>\n",
       "    <tr>\n",
       "      <th>1</th>\n",
       "      <td>bacteria</td>\n",
       "      <td>archaea</td>\n",
       "      <td>methanobacterium_formicicum_gca_000762265</td>\n",
       "      <td>ASM76226v1</td>\n",
       "      <td>2162</td>\n",
       "      <td>Archaea; Euryarchaeota; Methanomada group; Met...</td>\n",
       "    </tr>\n",
       "  </tbody>\n",
       "</table>\n",
       "</div>"
      ],
      "text/plain": [
       "  division_7 division_8                                    species  \\\n",
       "0   bacteria    archaea    methanobacterium_bryantii_gca_002287175   \n",
       "1   bacteria    archaea  methanobacterium_formicicum_gca_000762265   \n",
       "\n",
       "      assembly  taxonomy_id                                            Lineage  \n",
       "0  ASM228717v1         2161  Archaea; Euryarchaeota; Methanomada group; Met...  \n",
       "1   ASM76226v1         2162  Archaea; Euryarchaeota; Methanomada group; Met...  "
      ]
     },
     "metadata": {},
     "output_type": "display_data"
    }
   ],
   "source": [
    "# statistics on length distribution for different species\n",
    "working_on_extra_path = \"../../../\"\n",
    "stat_file = working_on_extra_path + \"main_tables/stat_protCodGenes.tsv\"\n",
    "print(\"The statistical descriptions of the protein coding gene distributions for the different species is in:\\n\", stat_file, \"\\n\")\n",
    "\n",
    "# retrieve data and diminish the number of columns\n",
    "stat_df = pd.read_csv(stat_file, low_memory=False, sep=\"\\t\")\n",
    "stat_df = stat_df[[\"division_7\", \"division_8\", \"species\", \"assembly\", \"taxonomy_id\", \"Lineage\"]] \n",
    "\n",
    "# visualize the data frame\n",
    "if 1:\n",
    "    print(stat_df.shape)\n",
    "    print(stat_df.value_counts('division_7', dropna=False))\n",
    "    pd.set_option('display.max_columns', stat_df.shape[1])\n",
    "    display(stat_df.head(2))"
   ]
  },
  {
   "cell_type": "markdown",
   "id": "b7864e7f-66e1-4115-9a45-c2d020171688",
   "metadata": {
    "tags": []
   },
   "source": [
    "## Python functions"
   ]
  },
  {
   "cell_type": "markdown",
   "id": "f3d2a2be-dadb-4ba4-8aee-3b3f457a2e0d",
   "metadata": {},
   "source": [
    "### All protein coding genes from the paper (33,627)\n",
    "incluyendo 168 entradas de division_7 que se pierden al hacer el label division_8."
   ]
  },
  {
   "cell_type": "markdown",
   "id": "773e6141-e5fe-4c4e-85d7-47c558251acc",
   "metadata": {},
   "source": [
    "## Filtro por calidad de Genomas: usando NCBI genome annotations"
   ]
  },
  {
   "cell_type": "markdown",
   "id": "e2bb61a2-bf47-4fe1-bace-820ff542833c",
   "metadata": {},
   "source": [
    "#### Get good genomes\n",
    "Genome status: Complete Genome or Chromosomes (from NCBI genome annotation)"
   ]
  },
  {
   "cell_type": "code",
   "execution_count": 3,
   "id": "10dfb213-afc8-4118-8f61-81f729c332f8",
   "metadata": {},
   "outputs": [
    {
     "name": "stdout",
     "output_type": "stream",
     "text": [
      "From NCBI, before filtering genomes:\n",
      "\tprokaryotes (405092, 23) \n",
      "\teukaryotes (22897, 19)\n"
     ]
    }
   ],
   "source": [
    "# Prokarya genomes: get those with a good genome annotation (\"Status\")\n",
    "#\n",
    "home = str(Path.home())  #; print(home)\n",
    "NCBI_GENOME_PATH = home + \"/Desktop/goingOn/geneLength/NCBI_genomeReports/\"\n",
    "\n",
    "col1 = \"TaxID\"\n",
    "col2 = \"Assembly Accession\"\n",
    "good_status = [\"Complete Genome\", \"Chromosome\"] #[\"Complete Genome\", \"Chromosome\", \"Scaffold\", \"Contig\"]\n",
    "\n",
    "# Get well annotated eukarya genomes\n",
    "g_prok_df = pd.read_csv(NCBI_GENOME_PATH + \"prokaryotes.txt\", low_memory=False, sep=\"\\t\") # tax_id, status, accession \n",
    "g_euk_df  = pd.read_csv(NCBI_GENOME_PATH + \"eukaryotes.txt\", sep=\"\\t\") \n",
    "print(\"From NCBI, before filtering genomes:\\n\\tprokaryotes\", g_prok_df.shape, \"\\n\\teukaryotes\", g_euk_df.shape)\n",
    "\n",
    "# Genome quality filter!\n",
    "if 0: # decide to filter or not\n",
    "    g_prok_df = g_prok_df[ g_prok_df[\"Status\"].isin(good_status)]\n",
    "    g_euk_df  = g_euk_df[  g_euk_df[\"Status\"].isin(good_status)]\n",
    "    print(\"From NCBI, after filtering genomes:\\n\\tprokaryotes\", g_prok_df.shape, \"\\n\\teukaryotes\", g_euk_df.shape)"
   ]
  },
  {
   "cell_type": "markdown",
   "id": "5ca3e7ea-ce02-4ffc-bc3c-829e64305e4f",
   "metadata": {},
   "source": [
    "### From NCBI \n",
    "Assemblies accessions as keys: \n",
    "- dicts: Groups (taxon), Subgroups of organisms (NCBI)\n",
    "- dicts: TaxID, GC\\%, size (Mbp), replicons, status"
   ]
  },
  {
   "cell_type": "code",
   "execution_count": 4,
   "id": "bf113e0c-43cd-4529-a0fc-ab4936f562b6",
   "metadata": {},
   "outputs": [
    {
     "name": "stdout",
     "output_type": "stream",
     "text": [
      "With all the NCBI genomes that I need: creating dictionaries from the Assembly accession key for each genome:\n",
      "\tEukaryotes: 22897\n",
      "\tProkaryotes: 405092\n",
      "\tCombined, Eukaryotes & Prokaryotes: 427989\n"
     ]
    }
   ],
   "source": [
    "if 0: # visualize columns \n",
    "    print(\"Columns of NCBI genome files:\")\n",
    "    print(\"Eukarya:\", g_euk_df.columns, \"Prokarya:\", g_prok_df.columns, sep=\"\\n\", end=\"\\n\\n\")\n",
    "    \n",
    "print(\"With all the NCBI genomes that I need: creating dictionaries from the Assembly accession key for each genome:\")\n",
    "#\n",
    "# Eukaryotes\n",
    "dict_euk_groupOfAssembly     = dict(zip(g_euk_df[\"Assembly Accession\"], g_euk_df[\"Group\"]))         \n",
    "dict_euk_subgroupOfAssembly  = dict(zip(g_euk_df[\"Assembly Accession\"], g_euk_df[\"SubGroup\"]))    \n",
    "dict_euk_taxidOfAssembly     = dict(zip(g_euk_df[\"Assembly Accession\"], g_euk_df[\"TaxID\"]))          # print(dict_euk_taxidOfAssembly)\n",
    "dict_euk_gcOfAssembly        = dict(zip(g_euk_df[\"Assembly Accession\"], g_euk_df[\"GC%\"]))            \n",
    "dict_euk_sizeOfAssembly      = dict(zip(g_euk_df[\"Assembly Accession\"], g_euk_df[\"Size (Mb)\"]))      \n",
    "dict_euk_repliconsOfAssembly = dict(zip(g_euk_df[\"Assembly Accession\"], g_euk_df[\"Replicons\"]))     \n",
    "dict_euk_statusOfAssembly    = dict(zip(g_euk_df[\"Assembly Accession\"], g_euk_df[\"Status\"]))         \n",
    "if 1:\n",
    "  print(\"\\tEukaryotes:\", len(dict_euk_statusOfAssembly))\n",
    "\n",
    "# Prokaryotes\n",
    "dict_groupOfAssembly     = dict(zip(g_prok_df[\"Assembly Accession\"], g_prok_df[\"Group\"]))         \n",
    "dict_subgroupOfAssembly  = dict(zip(g_prok_df[\"Assembly Accession\"], g_prok_df[\"SubGroup\"]))    \n",
    "dict_taxidOfAssembly     = dict(zip(g_prok_df[\"Assembly Accession\"], g_prok_df[\"TaxID\"]))            # print(dict_taxidOfAssembly)\n",
    "dict_gcOfAssembly        = dict(zip(g_prok_df[\"Assembly Accession\"], g_prok_df[\"GC%\"]))            \n",
    "dict_sizeOfAssembly      = dict(zip(g_prok_df[\"Assembly Accession\"], g_prok_df[\"Size (Mb)\"]))       \n",
    "dict_repliconsOfAssembly = dict(zip(g_prok_df[\"Assembly Accession\"], g_prok_df[\"Replicons\"]))     \n",
    "dict_statusOfAssembly    = dict(zip(g_prok_df[\"Assembly Accession\"], g_prok_df[\"Status\"]))        \n",
    "if 1:\n",
    "  print(\"\\tProkaryotes:\", len(dict_statusOfAssembly))\n",
    "    \n",
    "# Combine both dictionaries for Eukaryotes and Prokaryotes\n",
    "dict_groupOfAssembly.update(    dict_euk_groupOfAssembly)\n",
    "dict_subgroupOfAssembly.update( dict_euk_subgroupOfAssembly)\n",
    "dict_taxidOfAssembly.update(    dict_euk_taxidOfAssembly)\n",
    "dict_gcOfAssembly.update(       dict_euk_gcOfAssembly)\n",
    "dict_sizeOfAssembly.update(     dict_euk_sizeOfAssembly)\n",
    "dict_repliconsOfAssembly.update(dict_euk_repliconsOfAssembly)\n",
    "dict_statusOfAssembly.update(   dict_euk_statusOfAssembly)\n",
    "if 1:\n",
    "  print(\"\\tCombined, Eukaryotes & Prokaryotes:\", len(dict_statusOfAssembly))"
   ]
  },
  {
   "cell_type": "code",
   "execution_count": null,
   "id": "c64bf704-3bad-43fb-9ec4-badb1551834f",
   "metadata": {},
   "outputs": [],
   "source": []
  },
  {
   "cell_type": "markdown",
   "id": "1c84b60f-5c41-401a-96fa-821a0612b257",
   "metadata": {},
   "source": [
    "### From Ensembl Tax_id file \n",
    "dict: Assembly_accession of species (species is a perfect id in this case)"
   ]
  },
  {
   "cell_type": "code",
   "execution_count": 5,
   "id": "bd26fcfe-7e87-46ec-be82-7a372e403018",
   "metadata": {},
   "outputs": [
    {
     "name": "stdout",
     "output_type": "stream",
     "text": [
      "/media/emuro/Nubya/results/geneLength/outputInputFiles/some_tables/species_Ensembl_taxid/species_Ensembl_EMv2.0.tsv\n"
     ]
    },
    {
     "data": {
      "text/html": [
       "<div>\n",
       "<style scoped>\n",
       "    .dataframe tbody tr th:only-of-type {\n",
       "        vertical-align: middle;\n",
       "    }\n",
       "\n",
       "    .dataframe tbody tr th {\n",
       "        vertical-align: top;\n",
       "    }\n",
       "\n",
       "    .dataframe thead th {\n",
       "        text-align: right;\n",
       "    }\n",
       "</style>\n",
       "<table border=\"1\" class=\"dataframe\">\n",
       "  <thead>\n",
       "    <tr style=\"text-align: right;\">\n",
       "      <th></th>\n",
       "      <th>division_7</th>\n",
       "      <th>division_8</th>\n",
       "      <th>species</th>\n",
       "      <th>...</th>\n",
       "      <th>taxonomy_id</th>\n",
       "      <th>Lineage</th>\n",
       "      <th>ensembl_assembly_accession</th>\n",
       "    </tr>\n",
       "  </thead>\n",
       "  <tbody>\n",
       "    <tr>\n",
       "      <th>0</th>\n",
       "      <td>bacteria</td>\n",
       "      <td>archaea</td>\n",
       "      <td>methanobacterium_bryantii_gca_002287175</td>\n",
       "      <td>...</td>\n",
       "      <td>2161</td>\n",
       "      <td>Archaea; Euryarchaeota; Methanomada group; Met...</td>\n",
       "      <td>GCA_002287175.1</td>\n",
       "    </tr>\n",
       "    <tr>\n",
       "      <th>1</th>\n",
       "      <td>bacteria</td>\n",
       "      <td>archaea</td>\n",
       "      <td>methanobacterium_formicicum_gca_000762265</td>\n",
       "      <td>...</td>\n",
       "      <td>2162</td>\n",
       "      <td>Archaea; Euryarchaeota; Methanomada group; Met...</td>\n",
       "      <td>GCA_000762265.1</td>\n",
       "    </tr>\n",
       "  </tbody>\n",
       "</table>\n",
       "<p>2 rows × 7 columns</p>\n",
       "</div>"
      ],
      "text/plain": [
       "  division_7 division_8                                    species  ...  \\\n",
       "0   bacteria    archaea    methanobacterium_bryantii_gca_002287175  ...   \n",
       "1   bacteria    archaea  methanobacterium_formicicum_gca_000762265  ...   \n",
       "\n",
       "  taxonomy_id                                            Lineage  \\\n",
       "0        2161  Archaea; Euryarchaeota; Methanomada group; Met...   \n",
       "1        2162  Archaea; Euryarchaeota; Methanomada group; Met...   \n",
       "\n",
       "  ensembl_assembly_accession  \n",
       "0            GCA_002287175.1  \n",
       "1            GCA_000762265.1  \n",
       "\n",
       "[2 rows x 7 columns]"
      ]
     },
     "metadata": {},
     "output_type": "display_data"
    },
    {
     "name": "stdout",
     "output_type": "stream",
     "text": [
      "(33627, 7)\n"
     ]
    }
   ],
   "source": [
    "# ENSEMBL assembly accession\n",
    "# system\n",
    "import os\n",
    "system = list(os.uname())[0]\n",
    "if system == 'Linux':\n",
    "    base_dir = \"/media/emuro/Nubya/\"\n",
    "elif system == 'Darwin':\n",
    "    base_dir = \"/Volumes/Nubya/\"\n",
    "ensembl_Id_file = base_dir + \"results/geneLength/outputInputFiles/\" + \"some_tables/species_Ensembl_taxid/\" + \"species_Ensembl_EMv2.0.tsv\" # with covid\n",
    "print(ensembl_Id_file)\n",
    "\n",
    "# retrieve data\n",
    "id_df = pd.read_csv(ensembl_Id_file, sep=\"\\t\")\n",
    "id_df = id_df[[\"species\", \"assembly_accession\"]]\n",
    "\n",
    "dict_assemblyOfSpecies = dict(zip(id_df[\"species\"], id_df[\"assembly_accession\"])) # print(len(dict_assemblyOfSpecies))\n",
    "# visualize data\n",
    "if 0: #dict\n",
    "    print(dict_assemblyOfSpecies)\n",
    "if 0: #df\n",
    "    pd.set_option('display.max_columns', stat_df.shape[1])\n",
    "    display(id_df.head(2))\n",
    "    print(id_df.shape)\n",
    "\n",
    "# Finally:\n",
    "# Add the assembly of the species to the main df\n",
    "################################################\n",
    "stat_df[\"ensembl_assembly_accession\"] = stat_df[\"species\"].map(dict_assemblyOfSpecies)\n",
    "if 1:\n",
    "    display(stat_df.head(2))\n",
    "    print(stat_df.shape)       "
   ]
  },
  {
   "cell_type": "markdown",
   "id": "c4b41fe0-608f-4e4f-b8e5-ad56c6048ed5",
   "metadata": {},
   "source": [
    "#### Taxid and assembly accesssion with high quality genome"
   ]
  },
  {
   "cell_type": "code",
   "execution_count": 6,
   "id": "fd98b0f6-0553-4104-86f9-c8b46e648d4e",
   "metadata": {},
   "outputs": [
    {
     "name": "stdout",
     "output_type": "stream",
     "text": [
      "Also by assembly accession, (32022, 7)\n"
     ]
    }
   ],
   "source": [
    "# taxid with high quality genome assemblies\n",
    "taxid_highqu_genome_l    = list(dict_taxidOfAssembly.values()) # taxids\n",
    "assembly_highqu_genome_l = list(dict_taxidOfAssembly.keys())   # assemblies\n",
    "\n",
    "reduced_stat_df = stat_df.copy()\n",
    "if 0: # to reduce by taxonomy_id is not necessary now\n",
    "    reduced_stat_df = stat_df[stat_df[\"taxonomy_id\"].isin(taxid_highqu_genome_l)].copy() # reduce to hquality taxonomies...\n",
    "    print(\"By taxonomy,\", reduced_stat_df.shape) # much more redundancy, the assembly commands\n",
    "#\n",
    "reduced_stat_df = reduced_stat_df[reduced_stat_df[\"ensembl_assembly_accession\"].isin( assembly_highqu_genome_l )].copy()\n",
    "print(\"Also by assembly accession,\", reduced_stat_df.shape)"
   ]
  },
  {
   "cell_type": "code",
   "execution_count": null,
   "id": "e5374d50-ed27-4c2d-8d8a-9fdb512c0f13",
   "metadata": {},
   "outputs": [],
   "source": []
  },
  {
   "cell_type": "markdown",
   "id": "4ec9193c-a5e5-41d2-b5a0-66cc535993e0",
   "metadata": {},
   "source": [
    "#### For each filtered species add: genome size, gc content, chromosomes,... "
   ]
  },
  {
   "cell_type": "code",
   "execution_count": 7,
   "id": "0ec4d243-5ccb-4c02-9c7f-7fb833f21251",
   "metadata": {},
   "outputs": [
    {
     "data": {
      "text/html": [
       "<div>\n",
       "<style scoped>\n",
       "    .dataframe tbody tr th:only-of-type {\n",
       "        vertical-align: middle;\n",
       "    }\n",
       "\n",
       "    .dataframe tbody tr th {\n",
       "        vertical-align: top;\n",
       "    }\n",
       "\n",
       "    .dataframe thead th {\n",
       "        text-align: right;\n",
       "    }\n",
       "</style>\n",
       "<table border=\"1\" class=\"dataframe\">\n",
       "  <thead>\n",
       "    <tr style=\"text-align: right;\">\n",
       "      <th></th>\n",
       "      <th>division_7</th>\n",
       "      <th>division_8</th>\n",
       "      <th>species</th>\n",
       "      <th>...</th>\n",
       "      <th>size_Mbp</th>\n",
       "      <th>assembly_status</th>\n",
       "      <th>chromosomes</th>\n",
       "    </tr>\n",
       "  </thead>\n",
       "  <tbody>\n",
       "    <tr>\n",
       "      <th>0</th>\n",
       "      <td>bacteria</td>\n",
       "      <td>archaea</td>\n",
       "      <td>methanobacterium_bryantii_gca_002287175</td>\n",
       "      <td>...</td>\n",
       "      <td>3.46637</td>\n",
       "      <td>Contig</td>\n",
       "      <td>-</td>\n",
       "    </tr>\n",
       "    <tr>\n",
       "      <th>1</th>\n",
       "      <td>bacteria</td>\n",
       "      <td>archaea</td>\n",
       "      <td>methanobacterium_formicicum_gca_000762265</td>\n",
       "      <td>...</td>\n",
       "      <td>2.44999</td>\n",
       "      <td>Complete Genome</td>\n",
       "      <td>chromosome:NZ_CP006933.1/CP006933.1</td>\n",
       "    </tr>\n",
       "  </tbody>\n",
       "</table>\n",
       "<p>2 rows × 13 columns</p>\n",
       "</div>"
      ],
      "text/plain": [
       "  division_7 division_8                                    species  ...  \\\n",
       "0   bacteria    archaea    methanobacterium_bryantii_gca_002287175  ...   \n",
       "1   bacteria    archaea  methanobacterium_formicicum_gca_000762265  ...   \n",
       "\n",
       "  size_Mbp  assembly_status                          chromosomes  \n",
       "0  3.46637           Contig                                    -  \n",
       "1  2.44999  Complete Genome  chromosome:NZ_CP006933.1/CP006933.1  \n",
       "\n",
       "[2 rows x 13 columns]"
      ]
     },
     "metadata": {},
     "output_type": "display_data"
    },
    {
     "name": "stdout",
     "output_type": "stream",
     "text": [
      "(33627, 13)\n",
      "ensembl_assembly_accession\n",
      "NaN                22\n",
      "GCA_901326685.1     2\n",
      "GCA_003481565.1     2\n",
      "GCA_004771295.1     2\n",
      "GCA_003480145.1     2\n",
      "                   ..\n",
      "GCA_005518865.1     1\n",
      "GCA_004798205.1     1\n",
      "GCA_001955065.1     1\n",
      "GCA_003206495.1     1\n",
      "GCA_005862185.1     1\n",
      "Name: count, Length: 32924, dtype: int64\n"
     ]
    }
   ],
   "source": [
    "# Add the assembly of the species\n",
    "\n",
    "\n",
    "# New columns initialization\n",
    "stat_df[\"ensembl_assembly_accession\"] = np.nan\n",
    "stat_df[\"group\"]           = np.nan\n",
    "stat_df[\"subgroup\"]        = np.nan\n",
    "stat_df[\"gc_percent\"]      = np.nan\n",
    "stat_df[\"size_Mbp\"]        = np.nan\n",
    "stat_df[\"assembly_status\"] = np.nan\n",
    "stat_df[\"chromosomes\"]     = np.nan\n",
    "\n",
    "stat_df[\"ensembl_assembly_accession\"] = stat_df[\"species\"].map(dict_assemblyOfSpecies) # column to link dbs\n",
    "# Add more genomic info\n",
    "stat_df[\"group\"]      = stat_df[\"ensembl_assembly_accession\"].map(dict_groupOfAssembly)\n",
    "stat_df[\"subgroup\"]        = stat_df[\"ensembl_assembly_accession\"].map(dict_subgroupOfAssembly)\n",
    "stat_df[\"gc_percent\"]      = stat_df[\"ensembl_assembly_accession\"].map(dict_gcOfAssembly)\n",
    "stat_df[\"size_Mbp\"]        = stat_df[\"ensembl_assembly_accession\"].map(dict_sizeOfAssembly)\n",
    "stat_df[\"assembly_status\"] = stat_df[\"ensembl_assembly_accession\"].map(dict_statusOfAssembly)\n",
    "stat_df[\"chromosomes\"]     = stat_df[\"ensembl_assembly_accession\"].map(dict_repliconsOfAssembly)\n",
    "\n",
    "#stat_df = stat_df[stat_df.division_8 != \"bacteria\"]\n",
    "#stat_df = stat_df[stat_df.division_8 != \"archaea\"]\n",
    "#stat_df = stat_df[stat_df.division_8 != \"fungi\"]\n",
    "#stat_df = stat_df[stat_df.division_8 != \"plants\"]\n",
    "#stat_df = stat_df[stat_df.division_8 != \"protists\"]\n",
    "#stat_df = stat_df[stat_df.division_8 != \"archaea\"]\n",
    "##stat_df = stat_df[stat_df.subgroup == \"Birds\"]\n",
    "#stat_df = stat_df[stat_df.subgroup == \"Fishes\"]\n",
    "\n",
    "display(stat_df.head(2))\n",
    "print(stat_df.shape)\n",
    "print(stat_df['ensembl_assembly_accession'].value_counts(dropna=False))"
   ]
  },
  {
   "cell_type": "code",
   "execution_count": 8,
   "id": "aa8f75b4-cdea-4d26-83e4-e8c017ce4dd1",
   "metadata": {},
   "outputs": [],
   "source": [
    "# Save the file if desired\n",
    "if 1:\n",
    "    stat_df.to_csv(\"/home/emuro/stat_protCodGenes_with_ncbiGenomeData.tsv\", sep=\"\\t\", index=False, header=True)"
   ]
  },
  {
   "cell_type": "code",
   "execution_count": null,
   "id": "dcd14357-9cfa-41ca-bb6e-097985d55c6c",
   "metadata": {},
   "outputs": [],
   "source": []
  }
 ],
 "metadata": {
  "kernelspec": {
   "display_name": "Python 3 (ipykernel)",
   "language": "python",
   "name": "python3"
  },
  "language_info": {
   "codemirror_mode": {
    "name": "ipython",
    "version": 3
   },
   "file_extension": ".py",
   "mimetype": "text/x-python",
   "name": "python",
   "nbconvert_exporter": "python",
   "pygments_lexer": "ipython3",
   "version": "3.10.12"
  }
 },
 "nbformat": 4,
 "nbformat_minor": 5
}
