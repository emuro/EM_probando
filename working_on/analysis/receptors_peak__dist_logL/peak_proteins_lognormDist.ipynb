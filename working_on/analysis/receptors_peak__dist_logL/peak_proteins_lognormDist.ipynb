{
 "cells": [
  {
   "cell_type": "markdown",
   "id": "4e158002-7422-422c-89ca-fbaacb381b27",
   "metadata": {},
   "source": [
    "# Distribution of the lengths of the proteins\n",
    "**for the different species (reference proteomes)**"
   ]
  },
  {
   "cell_type": "markdown",
   "id": "8046a185-31f3-48b1-83f7-947911a96d15",
   "metadata": {},
   "source": [
    "## Import python modules"
   ]
  },
  {
   "cell_type": "code",
   "execution_count": 5,
   "id": "51b0a90c",
   "metadata": {},
   "outputs": [],
   "source": [
    "import numpy as np\n",
    "import matplotlib.pyplot as plt\n",
    "from scipy import stats\n",
    "import os \n",
    "import pandas as pd\n",
    "import math\n",
    "\n",
    "# BASE_PATH\n",
    "system = list(os.uname())[0]\n",
    "if system == 'Linux':\n",
    "    BASE_PATH = \"/media/emuro/Nubya/\"\n",
    "elif system == 'Darwin':\n",
    "    BASE_PATH = \"/Volumes/Nubya/\"  # or Wes; BIRD\n",
    "LENofGENES_BASE_PATH = BASE_PATH + \"results/geneLength/\"\n",
    "\n",
    "STAT_FILE_SPECIES_PATH = \"../../../main_tables/\"\n",
    "ENSEMBL_TAXID_PATH = STAT_FILE_SPECIES_PATH + \"extra_tables/\"\n",
    "GO_PATH = \"/home/emuro/Desktop/peak_receptors/ensembl_annotation__cavia_porcellus/AmiGO_and_biomart/\""
   ]
  },
  {
   "cell_type": "markdown",
   "id": "c7b6d3b5",
   "metadata": {},
   "source": [
    "## The protein length distributions for the different species"
   ]
  },
  {
   "cell_type": "markdown",
   "id": "d509543a-9bbf-4428-bb98-a287201ef79d",
   "metadata": {
    "tags": []
   },
   "source": [
    "### Retrieving the statistical descriptions of the length's distributions"
   ]
  },
  {
   "cell_type": "code",
   "execution_count": 6,
   "id": "86b76b58-6c34-4b8a-82b3-f117e835fad0",
   "metadata": {},
   "outputs": [
    {
     "name": "stdout",
     "output_type": "stream",
     "text": [
      "The statistical descriptions of the protein distributions for the different species is in:\n",
      " ../../../main_tables/stat_proteins.tsv \n",
      "\n"
     ]
    },
    {
     "data": {
      "text/html": [
       "<div>\n",
       "<style scoped>\n",
       "    .dataframe tbody tr th:only-of-type {\n",
       "        vertical-align: middle;\n",
       "    }\n",
       "\n",
       "    .dataframe tbody tr th {\n",
       "        vertical-align: top;\n",
       "    }\n",
       "\n",
       "    .dataframe thead th {\n",
       "        text-align: right;\n",
       "    }\n",
       "</style>\n",
       "<table border=\"1\" class=\"dataframe\">\n",
       "  <thead>\n",
       "    <tr style=\"text-align: right;\">\n",
       "      <th></th>\n",
       "      <th>superregnum</th>\n",
       "      <th>species</th>\n",
       "      <th>proteome_id</th>\n",
       "      <th>tax_id</th>\n",
       "      <th>uniprot_fasta_file</th>\n",
       "      <th>count</th>\n",
       "      <th>mean</th>\n",
       "      <th>var</th>\n",
       "      <th>log10_mean</th>\n",
       "      <th>log10_var</th>\n",
       "    </tr>\n",
       "  </thead>\n",
       "  <tbody>\n",
       "    <tr>\n",
       "      <th>0</th>\n",
       "      <td>bacteria</td>\n",
       "      <td>Kurthia sp. 3B1D</td>\n",
       "      <td>UP000288623</td>\n",
       "      <td>1562256</td>\n",
       "      <td>/ftp.uniprot.org/pub/databases/uniprot/current...</td>\n",
       "      <td>3621.0</td>\n",
       "      <td>285.936205</td>\n",
       "      <td>36171.895653</td>\n",
       "      <td>2.372531</td>\n",
       "      <td>0.075378</td>\n",
       "    </tr>\n",
       "    <tr>\n",
       "      <th>1</th>\n",
       "      <td>bacteria</td>\n",
       "      <td>Methyloprofundus sedimenti</td>\n",
       "      <td>UP000191980</td>\n",
       "      <td>1420851</td>\n",
       "      <td>/ftp.uniprot.org/pub/databases/uniprot/current...</td>\n",
       "      <td>3608.0</td>\n",
       "      <td>310.654933</td>\n",
       "      <td>52309.438700</td>\n",
       "      <td>2.393412</td>\n",
       "      <td>0.087226</td>\n",
       "    </tr>\n",
       "  </tbody>\n",
       "</table>\n",
       "</div>"
      ],
      "text/plain": [
       "  superregnum                     species  proteome_id   tax_id  \\\n",
       "0    bacteria            Kurthia sp. 3B1D  UP000288623  1562256   \n",
       "1    bacteria  Methyloprofundus sedimenti  UP000191980  1420851   \n",
       "\n",
       "                                  uniprot_fasta_file   count        mean  \\\n",
       "0  /ftp.uniprot.org/pub/databases/uniprot/current...  3621.0  285.936205   \n",
       "1  /ftp.uniprot.org/pub/databases/uniprot/current...  3608.0  310.654933   \n",
       "\n",
       "            var  log10_mean  log10_var  \n",
       "0  36171.895653    2.372531   0.075378  \n",
       "1  52309.438700    2.393412   0.087226  "
      ]
     },
     "metadata": {},
     "output_type": "display_data"
    },
    {
     "name": "stdout",
     "output_type": "stream",
     "text": [
      "(9913, 10)\n",
      "superregnum\n",
      "bacteria     7997\n",
      "eukaryota    1586\n",
      "archaea       330\n",
      "Name: count, dtype: int64\n"
     ]
    }
   ],
   "source": [
    "# statistics on length distribution for different species     \n",
    "stat_file = STAT_FILE_SPECIES_PATH + \"stat_proteins.tsv\"\n",
    "print(\"The statistical descriptions of the protein distributions for the different species is in:\\n\", stat_file, \"\\n\")\n",
    "\n",
    "# retrieve data and diminish the number of columns\n",
    "stat_df = pd.read_csv(stat_file, low_memory=False, sep=\"\\t\")\n",
    "stat_df = stat_df[[\"superregnum\", \"species\", \"proteome_id\", \"tax_id\", \"uniprot_fasta_file\", \"count\", \"mean\", \"var\"] + [\"log10_mean\", \"log10_var\"]]\n",
    "\n",
    "# visualize data\n",
    "pd.set_option('display.max_columns', None)\n",
    "if 1:\n",
    "    display(stat_df.head(2))\n",
    "    print(stat_df.shape)\n",
    "    print(stat_df[\"superregnum\"].value_counts())"
   ]
  },
  {
   "cell_type": "markdown",
   "id": "b7864e7f-66e1-4115-9a45-c2d020171688",
   "metadata": {
    "tags": []
   },
   "source": [
    "## Python functions"
   ]
  },
  {
   "cell_type": "code",
   "execution_count": 7,
   "id": "af6c0ad2-9985-4285-887a-c413505d46e6",
   "metadata": {},
   "outputs": [],
   "source": [
    "# species' stats for length distribution\n",
    "def get_df_for_taxid(df, taxid):\n",
    "     return df.loc[df[\"tax_id\"]==taxid].copy()"
   ]
  },
  {
   "cell_type": "code",
   "execution_count": 8,
   "id": "1371569f-3901-448e-871a-828de23bd9d9",
   "metadata": {},
   "outputs": [],
   "source": [
    "#### Function to plot the log-normal distribution\n",
    "# blue: Observation\n",
    "# red: Theoretical/Simulation\n",
    "##########################################\n",
    "def plot_log_norm (log10_len, mu, sigma, N, title, subtitle, xlabel, ylabel): # N is number of \n",
    "    print(\"µ:\", mu, \"\\tσ:\", sigma)\n",
    "    my_normal_dist = np.random.normal(mu, sigma, N)\n",
    "    count, bins, *rest = plt.hist(log10_len, 60, density=True, alpha=0.8, edgecolor='black') # plot 60 bins\n",
    "\n",
    "    # plt.hist(my_normal_dist, 30, density=True, alpha=0.25, color=\"r\")\n",
    "    # print(count); print(bins); print(*rest)\n",
    "    \n",
    "    plt.plot(bins, 1/(sigma * np.sqrt(2 * np.pi)) *\n",
    "             np.exp( - (bins - mu)**2 / (2 * sigma**2) ),\n",
    "             linewidth=2, color='r', alpha=0.5)\n",
    "     \n",
    "    # mean\n",
    "    plt.vlines(x = mu, ymin = 0, ymax = 0.2, colors = 'white', label = 'mean')\n",
    "    plt.xlim([1,7]); plt.ylim([0,2.0])\n",
    "    plt.suptitle(title, style='italic'); plt.title(subtitle + \" (\" + str(int(N)) +\")\")\n",
    "    plt.xlabel(xlabel); plt.ylabel(ylabel)\n",
    "    plt.show()"
   ]
  },
  {
   "cell_type": "code",
   "execution_count": 9,
   "id": "ee7bf25c-d0a0-4028-9af0-2e8f7979a15f",
   "metadata": {},
   "outputs": [],
   "source": [
    "def does_it_fits_normal(data_observed): \n",
    "    # Kurtosis and Skewness\n",
    "    # =====================\n",
    "    print('Kurtosis:', stats.kurtosis(data_observed))\n",
    "    print('Skewness:', stats.skew(data_observed))\n",
    "    # D'Agostino's K-squared test\n",
    "    # ===========================\n",
    "    k2, p_value = stats.normaltest(data_observed)\n",
    "    print(f\"D'Agostino's K-squared test(statistics={k2}, p-value={p_value})\")\n",
    "    #\n",
    "    # Mathematicaly it ends up beeing a theoretical log-normal when.\n",
    "    #    - Kurtosis o Skewness: $\\leq -1$ o $\\geq 1$ \n",
    "    #    - D'Agostino's K-squared test: p-value $ \\leq 0.05 $, becuase it rejects the null hypothesis "
   ]
  },
  {
   "cell_type": "code",
   "execution_count": 10,
   "id": "1bcc7a1e-2408-46a8-af94-026a08044e94",
   "metadata": {},
   "outputs": [],
   "source": [
    "# The next function performs the whole analysis for a tax_id\n",
    "def species_distribution__retrieve_plot_and_fit(stat_df, tax_id):\n",
    "    species_df = get_df_for_taxid(stat_df, tax_id)\n",
    "    species_df.drop_duplicates(subset=['tax_id'], inplace=True, keep='last')\n",
    "    display(species_df)\n",
    "\n",
    "    # system dependencies\n",
    "    system = list(os.uname())[0]\n",
    "    if system == 'Linux':\n",
    "        our_mnt_dir = \"/media/emuro/Nubya/\" # my disks: Nubya, Wes\n",
    "    elif system == 'Darwin':\n",
    "        our_mnt_dir = \"/Volumes/Wes/\" # my disks: Wes, Nubya   \n",
    "    lengths_f = our_mnt_dir + \"results/geneLength/\" + species_df[\"uniprot_fasta_file\"].item() \n",
    "    lengths_f = lengths_f.replace(\".fasta.gz\", \".length.tsv\") # I get the \n",
    "    print(lengths_f)\n",
    "    \n",
    "    # retrieve data\n",
    "    lens_df = pd.read_csv(lengths_f, sep=\"\\t\")\n",
    "    lens_df = lens_df[[\"length\"]]\n",
    "    # visualize data\n",
    "    pd.set_option('display.max_columns', None)\n",
    "    if 0:\n",
    "        display(lens_df.head(2))\n",
    "        print(lens_df.shape)\n",
    "    \n",
    "    # plot the distributions: observed and theoretical\n",
    "    lens_df[\"log10_length\"] = lens_df[\"length\"].apply(np.log10)\n",
    "    title = species_df[\"species\"].item().capitalize(); subtitle = \"Proteins\";  xlabel = \"$log_{10}(length)$\"; ylabel = \"Probability density function\"\n",
    "    plot_log_norm (lens_df[\"log10_length\"], species_df[\"log10_mean\"].item(), math.sqrt(species_df[\"log10_var\"].item()), int(species_df[\"count\"].item()), \n",
    "                   title, subtitle, xlabel, ylabel)  \n",
    "    # fit to normal\n",
    "    does_it_fits_normal(lens_df[\"log10_length\"])"
   ]
  },
  {
   "cell_type": "markdown",
   "id": "2111fd8f-02db-4b6b-b70d-50d386b34b0c",
   "metadata": {},
   "source": [
    "## Distributions for different species:"
   ]
  },
  {
   "cell_type": "markdown",
   "id": "ad4e7dad-7c01-48e7-8fea-87433d28b6f7",
   "metadata": {},
   "source": [
    "## Fig S2"
   ]
  },
  {
   "cell_type": "markdown",
   "id": "f599574b-98e8-4a98-ae45-4395c1aa7359",
   "metadata": {},
   "source": [
    "### _Cavia porcellus_ (tax\\_id = 10141)"
   ]
  },
  {
   "cell_type": "code",
   "execution_count": 13,
   "id": "efcee75a-3124-4468-b560-97e3e89193ac",
   "metadata": {},
   "outputs": [
    {
     "data": {
      "text/html": [
       "<div>\n",
       "<style scoped>\n",
       "    .dataframe tbody tr th:only-of-type {\n",
       "        vertical-align: middle;\n",
       "    }\n",
       "\n",
       "    .dataframe tbody tr th {\n",
       "        vertical-align: top;\n",
       "    }\n",
       "\n",
       "    .dataframe thead th {\n",
       "        text-align: right;\n",
       "    }\n",
       "</style>\n",
       "<table border=\"1\" class=\"dataframe\">\n",
       "  <thead>\n",
       "    <tr style=\"text-align: right;\">\n",
       "      <th></th>\n",
       "      <th>superregnum</th>\n",
       "      <th>species</th>\n",
       "      <th>proteome_id</th>\n",
       "      <th>tax_id</th>\n",
       "      <th>uniprot_fasta_file</th>\n",
       "      <th>count</th>\n",
       "      <th>mean</th>\n",
       "      <th>var</th>\n",
       "      <th>log10_mean</th>\n",
       "      <th>log10_var</th>\n",
       "    </tr>\n",
       "  </thead>\n",
       "  <tbody>\n",
       "    <tr>\n",
       "      <th>3646</th>\n",
       "      <td>eukaryota</td>\n",
       "      <td>Cavia porcellus (Guinea pig)</td>\n",
       "      <td>UP000005447</td>\n",
       "      <td>10141</td>\n",
       "      <td>/ftp.uniprot.org/pub/databases/uniprot/current...</td>\n",
       "      <td>18247.0</td>\n",
       "      <td>540.943169</td>\n",
       "      <td>246132.162669</td>\n",
       "      <td>2.6082</td>\n",
       "      <td>0.107282</td>\n",
       "    </tr>\n",
       "  </tbody>\n",
       "</table>\n",
       "</div>"
      ],
      "text/plain": [
       "     superregnum                       species  proteome_id  tax_id  \\\n",
       "3646   eukaryota  Cavia porcellus (Guinea pig)  UP000005447   10141   \n",
       "\n",
       "                                     uniprot_fasta_file    count        mean  \\\n",
       "3646  /ftp.uniprot.org/pub/databases/uniprot/current...  18247.0  540.943169   \n",
       "\n",
       "                var  log10_mean  log10_var  \n",
       "3646  246132.162669      2.6082   0.107282  "
      ]
     },
     "metadata": {},
     "output_type": "display_data"
    },
    {
     "name": "stdout",
     "output_type": "stream",
     "text": [
      "/media/emuro/Nubya/results/geneLength//ftp.uniprot.org/pub/databases/uniprot/current_release/knowledgebase/reference_proteomes/Eukaryota/UP000005447/UP000005447_10141.length.tsv\n",
      "µ: 2.6081999542155296 \tσ: 0.3275391435998644\n"
     ]
    },
    {
     "data": {
      "image/png": "[encoded data removed]",
      "text/plain": [
       "<Figure size 640x480 with 1 Axes>"
      ]
     },
     "metadata": {},
     "output_type": "display_data"
    },
    {
     "name": "stdout",
     "output_type": "stream",
     "text": [
      "Kurtosis: 0.453719686546751\n",
      "Skewness: -0.02500681788721736\n",
      "D'Agostino's K-squared test(statistics=107.87728120235484, p-value=3.7561767965780544e-24)\n"
     ]
    }
   ],
   "source": [
    "tax_id = 10141\n",
    "species_distribution__retrieve_plot_and_fit(stat_df, tax_id)"
   ]
  },
  {
   "cell_type": "code",
   "execution_count": null,
   "id": "488a1473-ed50-4899-88e2-c0e60eb4217e",
   "metadata": {},
   "outputs": [],
   "source": []
  },
  {
   "cell_type": "code",
   "execution_count": 16,
   "id": "ebde524b-b5ce-4648-92fc-390d160d180d",
   "metadata": {},
   "outputs": [],
   "source": [
    "### Get genes of species to be filtered"
   ]
  },
  {
   "cell_type": "code",
   "execution_count": 22,
   "id": "11e71e9a-6d2b-4b7f-a181-e80c05faf6e5",
   "metadata": {},
   "outputs": [
    {
     "ename": "KeyError",
     "evalue": "'UniProtKB/TrEMBL ID'",
     "output_type": "error",
     "traceback": [
      "\u001b[0;31m---------------------------------------------------------------------------\u001b[0m",
      "\u001b[0;31mKeyError\u001b[0m                                  Traceback (most recent call last)",
      "File \u001b[0;32m~/.local/lib/python3.10/site-packages/pandas/core/indexes/base.py:3790\u001b[0m, in \u001b[0;36mIndex.get_loc\u001b[0;34m(self, key)\u001b[0m\n\u001b[1;32m   3789\u001b[0m \u001b[38;5;28;01mtry\u001b[39;00m:\n\u001b[0;32m-> 3790\u001b[0m     \u001b[38;5;28;01mreturn\u001b[39;00m \u001b[38;5;28;43mself\u001b[39;49m\u001b[38;5;241;43m.\u001b[39;49m\u001b[43m_engine\u001b[49m\u001b[38;5;241;43m.\u001b[39;49m\u001b[43mget_loc\u001b[49m\u001b[43m(\u001b[49m\u001b[43mcasted_key\u001b[49m\u001b[43m)\u001b[49m\n\u001b[1;32m   3791\u001b[0m \u001b[38;5;28;01mexcept\u001b[39;00m \u001b[38;5;167;01mKeyError\u001b[39;00m \u001b[38;5;28;01mas\u001b[39;00m err:\n",
      "File \u001b[0;32mindex.pyx:152\u001b[0m, in \u001b[0;36mpandas._libs.index.IndexEngine.get_loc\u001b[0;34m()\u001b[0m\n",
      "File \u001b[0;32mindex.pyx:181\u001b[0m, in \u001b[0;36mpandas._libs.index.IndexEngine.get_loc\u001b[0;34m()\u001b[0m\n",
      "File \u001b[0;32mpandas/_libs/hashtable_class_helper.pxi:7080\u001b[0m, in \u001b[0;36mpandas._libs.hashtable.PyObjectHashTable.get_item\u001b[0;34m()\u001b[0m\n",
      "File \u001b[0;32mpandas/_libs/hashtable_class_helper.pxi:7088\u001b[0m, in \u001b[0;36mpandas._libs.hashtable.PyObjectHashTable.get_item\u001b[0;34m()\u001b[0m\n",
      "\u001b[0;31mKeyError\u001b[0m: 'UniProtKB/TrEMBL ID'",
      "\nThe above exception was the direct cause of the following exception:\n",
      "\u001b[0;31mKeyError\u001b[0m                                  Traceback (most recent call last)",
      "Cell \u001b[0;32mIn[22], line 5\u001b[0m\n\u001b[1;32m      2\u001b[0m sr_genes_df \u001b[38;5;241m=\u001b[39m pd\u001b[38;5;241m.\u001b[39mread_csv(sr_genes_f, names\u001b[38;5;241m=\u001b[39m[\u001b[38;5;124m\"\u001b[39m\u001b[38;5;124mgene_id\u001b[39m\u001b[38;5;124m\"\u001b[39m], sep\u001b[38;5;241m=\u001b[39m\u001b[38;5;124m\"\u001b[39m\u001b[38;5;130;01m\\t\u001b[39;00m\u001b[38;5;124m\"\u001b[39m)\n\u001b[1;32m      3\u001b[0m sr_genes_l \u001b[38;5;241m=\u001b[39m sr_genes_df[\u001b[38;5;124m\"\u001b[39m\u001b[38;5;124mgene_id\u001b[39m\u001b[38;5;124m\"\u001b[39m]\u001b[38;5;241m.\u001b[39munique()\u001b[38;5;241m.\u001b[39mtolist()\n\u001b[0;32m----> 5\u001b[0m \u001b[38;5;28mprint\u001b[39m(\u001b[43msr_genes_df\u001b[49m\u001b[43m[\u001b[49m\u001b[38;5;124;43m\"\u001b[39;49m\u001b[38;5;124;43mUniProtKB/TrEMBL ID\u001b[39;49m\u001b[38;5;124;43m\"\u001b[39;49m\u001b[43m]\u001b[49m)\n\u001b[1;32m      6\u001b[0m num_of_sr_genes \u001b[38;5;241m=\u001b[39m \u001b[38;5;28mlen\u001b[39m(sr_genes_l)\n\u001b[1;32m      7\u001b[0m \u001b[38;5;28mprint\u001b[39m(num_of_sr_genes)\n",
      "File \u001b[0;32m~/.local/lib/python3.10/site-packages/pandas/core/frame.py:3896\u001b[0m, in \u001b[0;36mDataFrame.__getitem__\u001b[0;34m(self, key)\u001b[0m\n\u001b[1;32m   3894\u001b[0m \u001b[38;5;28;01mif\u001b[39;00m \u001b[38;5;28mself\u001b[39m\u001b[38;5;241m.\u001b[39mcolumns\u001b[38;5;241m.\u001b[39mnlevels \u001b[38;5;241m>\u001b[39m \u001b[38;5;241m1\u001b[39m:\n\u001b[1;32m   3895\u001b[0m     \u001b[38;5;28;01mreturn\u001b[39;00m \u001b[38;5;28mself\u001b[39m\u001b[38;5;241m.\u001b[39m_getitem_multilevel(key)\n\u001b[0;32m-> 3896\u001b[0m indexer \u001b[38;5;241m=\u001b[39m \u001b[38;5;28;43mself\u001b[39;49m\u001b[38;5;241;43m.\u001b[39;49m\u001b[43mcolumns\u001b[49m\u001b[38;5;241;43m.\u001b[39;49m\u001b[43mget_loc\u001b[49m\u001b[43m(\u001b[49m\u001b[43mkey\u001b[49m\u001b[43m)\u001b[49m\n\u001b[1;32m   3897\u001b[0m \u001b[38;5;28;01mif\u001b[39;00m is_integer(indexer):\n\u001b[1;32m   3898\u001b[0m     indexer \u001b[38;5;241m=\u001b[39m [indexer]\n",
      "File \u001b[0;32m~/.local/lib/python3.10/site-packages/pandas/core/indexes/base.py:3797\u001b[0m, in \u001b[0;36mIndex.get_loc\u001b[0;34m(self, key)\u001b[0m\n\u001b[1;32m   3792\u001b[0m     \u001b[38;5;28;01mif\u001b[39;00m \u001b[38;5;28misinstance\u001b[39m(casted_key, \u001b[38;5;28mslice\u001b[39m) \u001b[38;5;129;01mor\u001b[39;00m (\n\u001b[1;32m   3793\u001b[0m         \u001b[38;5;28misinstance\u001b[39m(casted_key, abc\u001b[38;5;241m.\u001b[39mIterable)\n\u001b[1;32m   3794\u001b[0m         \u001b[38;5;129;01mand\u001b[39;00m \u001b[38;5;28many\u001b[39m(\u001b[38;5;28misinstance\u001b[39m(x, \u001b[38;5;28mslice\u001b[39m) \u001b[38;5;28;01mfor\u001b[39;00m x \u001b[38;5;129;01min\u001b[39;00m casted_key)\n\u001b[1;32m   3795\u001b[0m     ):\n\u001b[1;32m   3796\u001b[0m         \u001b[38;5;28;01mraise\u001b[39;00m InvalidIndexError(key)\n\u001b[0;32m-> 3797\u001b[0m     \u001b[38;5;28;01mraise\u001b[39;00m \u001b[38;5;167;01mKeyError\u001b[39;00m(key) \u001b[38;5;28;01mfrom\u001b[39;00m \u001b[38;5;21;01merr\u001b[39;00m\n\u001b[1;32m   3798\u001b[0m \u001b[38;5;28;01mexcept\u001b[39;00m \u001b[38;5;167;01mTypeError\u001b[39;00m:\n\u001b[1;32m   3799\u001b[0m     \u001b[38;5;66;03m# If we have a listlike key, _check_indexing_error will raise\u001b[39;00m\n\u001b[1;32m   3800\u001b[0m     \u001b[38;5;66;03m#  InvalidIndexError. Otherwise we fall through and re-raise\u001b[39;00m\n\u001b[1;32m   3801\u001b[0m     \u001b[38;5;66;03m#  the TypeError.\u001b[39;00m\n\u001b[1;32m   3802\u001b[0m     \u001b[38;5;28mself\u001b[39m\u001b[38;5;241m.\u001b[39m_check_indexing_error(key)\n",
      "\u001b[0;31mKeyError\u001b[0m: 'UniProtKB/TrEMBL ID'"
     ]
    }
   ],
   "source": [
    "sr_genes_f = GO_PATH + \"uniqGene__uniprotKB_SPid_Tremblid_sensoryPerception_and_receptor__biomart.txt\"\n",
    "sr_genes_df = pd.read_csv(sr_genes_f, names=[\"gene_id\"], sep=\"\\t\")\n",
    "sr_genes_l = sr_genes_df[\"gene_id\"].unique().tolist()\n",
    "\n",
    "print(sr_genes_df[\"UniProtKB/TrEMBL ID\"])\n",
    "num_of_sr_genes = len(sr_genes_l)\n",
    "print(num_of_sr_genes)\n",
    "\n",
    "\n",
    "if 0:\n",
    "    sr_genes_df = genes_df[genes_df[\"gene_id\"].isin(sr_genes_l)]\n",
    "    if 1:\n",
    "        print(\"Sensory receptors genes are in:\", sr_genes_f, \"\\ngenes_df:\\n\", sr_genes_df.head(2))\n",
    "        print(sr_genes_df.shape)\n",
    "        print(len(sr_genes_df['gene_id'].unique()))"
   ]
  },
  {
   "cell_type": "code",
   "execution_count": null,
   "id": "05253263-19d5-4c56-8473-8bfa0ff8c831",
   "metadata": {},
   "outputs": [],
   "source": []
  }
 ],
 "metadata": {
  "kernelspec": {
   "display_name": "Python 3 (ipykernel)",
   "language": "python",
   "name": "python3"
  },
  "language_info": {
   "codemirror_mode": {
    "name": "ipython",
    "version": 3
   },
   "file_extension": ".py",
   "mimetype": "text/x-python",
   "name": "python",
   "nbconvert_exporter": "python",
   "pygments_lexer": "ipython3",
   "version": "3.10.12"
  }
 },
 "nbformat": 4,
 "nbformat_minor": 5
}
