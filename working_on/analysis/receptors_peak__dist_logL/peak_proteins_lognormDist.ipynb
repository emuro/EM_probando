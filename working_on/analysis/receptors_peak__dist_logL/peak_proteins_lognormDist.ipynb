{
 "cells": [
  {
   "cell_type": "markdown",
   "id": "4e158002-7422-422c-89ca-fbaacb381b27",
   "metadata": {},
   "source": [
    "# Distribution of the lengths of the proteins\n",
    "**for the different species (reference proteomes)**"
   ]
  },
  {
   "cell_type": "markdown",
   "id": "8046a185-31f3-48b1-83f7-947911a96d15",
   "metadata": {},
   "source": [
    "## Import python modules"
   ]
  },
  {
   "cell_type": "code",
   "execution_count": 16,
   "id": "51b0a90c",
   "metadata": {},
   "outputs": [],
   "source": [
    "import numpy as np\n",
    "import matplotlib.pyplot as plt\n",
    "from scipy import stats\n",
    "import os \n",
    "import pandas as pd\n",
    "import math\n",
    "\n",
    "# BASE_PATH\n",
    "system = list(os.uname())[0]\n",
    "if system == 'Linux':\n",
    "    BASE_PATH = \"/media/emuro/Nubya/\"\n",
    "elif system == 'Darwin':\n",
    "    BASE_PATH = \"/Volumes/Nubya/\"  # or Wes; BIRD\n",
    "LENofGENES_BASE_PATH = BASE_PATH + \"results/geneLength/\"\n",
    "\n",
    "STAT_FILE_SPECIES_PATH = \"../../../main_tables/\"\n",
    "ENSEMBL_TAXID_PATH = STAT_FILE_SPECIES_PATH + \"extra_tables/\"\n",
    "GO_PATH = \"/home/emuro/Desktop/peak_receptors/ensembl_annotation__cavia_porcellus/AmiGO_and_biomart/\""
   ]
  },
  {
   "cell_type": "markdown",
   "id": "c7b6d3b5",
   "metadata": {},
   "source": [
    "## The protein length distributions for the different species"
   ]
  },
  {
   "cell_type": "markdown",
   "id": "d509543a-9bbf-4428-bb98-a287201ef79d",
   "metadata": {
    "tags": []
   },
   "source": [
    "### Retrieving the statistical descriptions of the length's distributions"
   ]
  },
  {
   "cell_type": "code",
   "execution_count": 17,
   "id": "86b76b58-6c34-4b8a-82b3-f117e835fad0",
   "metadata": {},
   "outputs": [
    {
     "name": "stdout",
     "output_type": "stream",
     "text": [
      "The statistical descriptions of the protein distributions for the different species is in:\n",
      " ../../../main_tables/stat_proteins.tsv \n",
      "\n"
     ]
    },
    {
     "data": {
      "text/html": [
       "<div>\n",
       "<style scoped>\n",
       "    .dataframe tbody tr th:only-of-type {\n",
       "        vertical-align: middle;\n",
       "    }\n",
       "\n",
       "    .dataframe tbody tr th {\n",
       "        vertical-align: top;\n",
       "    }\n",
       "\n",
       "    .dataframe thead th {\n",
       "        text-align: right;\n",
       "    }\n",
       "</style>\n",
       "<table border=\"1\" class=\"dataframe\">\n",
       "  <thead>\n",
       "    <tr style=\"text-align: right;\">\n",
       "      <th></th>\n",
       "      <th>superregnum</th>\n",
       "      <th>species</th>\n",
       "      <th>proteome_id</th>\n",
       "      <th>tax_id</th>\n",
       "      <th>uniprot_fasta_file</th>\n",
       "      <th>count</th>\n",
       "      <th>mean</th>\n",
       "      <th>var</th>\n",
       "      <th>log10_mean</th>\n",
       "      <th>log10_var</th>\n",
       "    </tr>\n",
       "  </thead>\n",
       "  <tbody>\n",
       "    <tr>\n",
       "      <th>0</th>\n",
       "      <td>bacteria</td>\n",
       "      <td>Kurthia sp. 3B1D</td>\n",
       "      <td>UP000288623</td>\n",
       "      <td>1562256</td>\n",
       "      <td>/ftp.uniprot.org/pub/databases/uniprot/current...</td>\n",
       "      <td>3621.0</td>\n",
       "      <td>285.936205</td>\n",
       "      <td>36171.895653</td>\n",
       "      <td>2.372531</td>\n",
       "      <td>0.075378</td>\n",
       "    </tr>\n",
       "    <tr>\n",
       "      <th>1</th>\n",
       "      <td>bacteria</td>\n",
       "      <td>Methyloprofundus sedimenti</td>\n",
       "      <td>UP000191980</td>\n",
       "      <td>1420851</td>\n",
       "      <td>/ftp.uniprot.org/pub/databases/uniprot/current...</td>\n",
       "      <td>3608.0</td>\n",
       "      <td>310.654933</td>\n",
       "      <td>52309.438700</td>\n",
       "      <td>2.393412</td>\n",
       "      <td>0.087226</td>\n",
       "    </tr>\n",
       "  </tbody>\n",
       "</table>\n",
       "</div>"
      ],
      "text/plain": [
       "  superregnum                     species  proteome_id   tax_id  \\\n",
       "0    bacteria            Kurthia sp. 3B1D  UP000288623  1562256   \n",
       "1    bacteria  Methyloprofundus sedimenti  UP000191980  1420851   \n",
       "\n",
       "                                  uniprot_fasta_file   count        mean  \\\n",
       "0  /ftp.uniprot.org/pub/databases/uniprot/current...  3621.0  285.936205   \n",
       "1  /ftp.uniprot.org/pub/databases/uniprot/current...  3608.0  310.654933   \n",
       "\n",
       "            var  log10_mean  log10_var  \n",
       "0  36171.895653    2.372531   0.075378  \n",
       "1  52309.438700    2.393412   0.087226  "
      ]
     },
     "metadata": {},
     "output_type": "display_data"
    },
    {
     "name": "stdout",
     "output_type": "stream",
     "text": [
      "(9913, 10)\n",
      "superregnum\n",
      "bacteria     7997\n",
      "eukaryota    1586\n",
      "archaea       330\n",
      "Name: count, dtype: int64\n"
     ]
    }
   ],
   "source": [
    "# statistics on length distribution for different species     \n",
    "stat_file = STAT_FILE_SPECIES_PATH + \"stat_proteins.tsv\"\n",
    "print(\"The statistical descriptions of the protein distributions for the different species is in:\\n\", stat_file, \"\\n\")\n",
    "\n",
    "# retrieve data and diminish the number of columns\n",
    "stat_df = pd.read_csv(stat_file, low_memory=False, sep=\"\\t\")\n",
    "stat_df = stat_df[[\"superregnum\", \"species\", \"proteome_id\", \"tax_id\", \"uniprot_fasta_file\", \"count\", \"mean\", \"var\"] + [\"log10_mean\", \"log10_var\"]]\n",
    "\n",
    "# visualize data\n",
    "pd.set_option('display.max_columns', None)\n",
    "if 1:\n",
    "    display(stat_df.head(2))\n",
    "    print(stat_df.shape)\n",
    "    print(stat_df[\"superregnum\"].value_counts())"
   ]
  },
  {
   "cell_type": "markdown",
   "id": "b7864e7f-66e1-4115-9a45-c2d020171688",
   "metadata": {
    "tags": []
   },
   "source": [
    "## Python functions"
   ]
  },
  {
   "cell_type": "code",
   "execution_count": 18,
   "id": "af6c0ad2-9985-4285-887a-c413505d46e6",
   "metadata": {},
   "outputs": [],
   "source": [
    "# species' stats for length distribution\n",
    "def get_df_for_taxid(df, taxid):\n",
    "     return df.loc[df[\"tax_id\"]==taxid].copy()"
   ]
  },
  {
   "cell_type": "code",
   "execution_count": 19,
   "id": "1371569f-3901-448e-871a-828de23bd9d9",
   "metadata": {},
   "outputs": [],
   "source": [
    "#### Function to plot the log-normal distribution\n",
    "# blue: Observation\n",
    "# red: Theoretical/Simulation\n",
    "##########################################\n",
    "def plot_log_norm (log10_len, mu, sigma, N, title, subtitle, xlabel, ylabel): # N is number of \n",
    "    print(\"µ:\", mu, \"\\tσ:\", sigma)\n",
    "    my_normal_dist = np.random.normal(mu, sigma, N)\n",
    "    count, bins, *rest = plt.hist(log10_len, 60, density=True, alpha=0.8, edgecolor='black') # plot 60 bins\n",
    "\n",
    "    # plt.hist(my_normal_dist, 30, density=True, alpha=0.25, color=\"r\")\n",
    "    # print(count); print(bins); print(*rest)\n",
    "    \n",
    "    plt.plot(bins, 1/(sigma * np.sqrt(2 * np.pi)) *\n",
    "             np.exp( - (bins - mu)**2 / (2 * sigma**2) ),\n",
    "             linewidth=2, color='r', alpha=0.5)\n",
    "     \n",
    "    # mean\n",
    "    plt.vlines(x = mu, ymin = 0, ymax = 0.2, colors = 'white', label = 'mean')\n",
    "    plt.xlim([1,7]); plt.ylim([0,2.0])\n",
    "    plt.suptitle(title, style='italic'); plt.title(subtitle + \" (\" + str(int(N)) +\")\")\n",
    "    plt.xlabel(xlabel); plt.ylabel(ylabel)\n",
    "    plt.show()"
   ]
  },
  {
   "cell_type": "code",
   "execution_count": 20,
   "id": "ee7bf25c-d0a0-4028-9af0-2e8f7979a15f",
   "metadata": {},
   "outputs": [],
   "source": [
    "def does_it_fits_normal(data_observed): \n",
    "    # Kurtosis and Skewness\n",
    "    # =====================\n",
    "    print('Kurtosis:', stats.kurtosis(data_observed))\n",
    "    print('Skewness:', stats.skew(data_observed))\n",
    "    # D'Agostino's K-squared test\n",
    "    # ===========================\n",
    "    k2, p_value = stats.normaltest(data_observed)\n",
    "    print(f\"D'Agostino's K-squared test(statistics={k2}, p-value={p_value})\")\n",
    "    #\n",
    "    # Mathematicaly it ends up beeing a theoretical log-normal when.\n",
    "    #    - Kurtosis o Skewness: $\\leq -1$ o $\\geq 1$ \n",
    "    #    - D'Agostino's K-squared test: p-value $ \\leq 0.05 $, becuase it rejects the null hypothesis "
   ]
  },
  {
   "cell_type": "code",
   "execution_count": 51,
   "id": "1bcc7a1e-2408-46a8-af94-026a08044e94",
   "metadata": {},
   "outputs": [],
   "source": [
    "# The next function performs the whole analysis for a tax_id\n",
    "def species_distribution__retrieve_plot_and_fit(stat_df, tax_id):\n",
    "    species_df = get_df_for_taxid(stat_df, tax_id)\n",
    "    species_df.drop_duplicates(subset=['tax_id'], inplace=True, keep='last')\n",
    "    display(species_df)\n",
    "\n",
    "    lengths_f = BASE_PATH + \"results/geneLength/\" + species_df[\"uniprot_fasta_file\"].item() \n",
    "    lengths_f = lengths_f.replace(\".fasta.gz\", \".length.tsv\") # I get the \n",
    "    print(lengths_f)\n",
    "    \n",
    "    # retrieve data\n",
    "    lens_df = pd.read_csv(lengths_f, sep=\"\\t\")\n",
    "    lens_df = lens_df[[\"length\"]]\n",
    "    # visualize data\n",
    "    pd.set_option('display.max_columns', None)\n",
    "    if 0:\n",
    "        display(lens_df.head(2))\n",
    "        print(lens_df.shape)\n",
    "    \n",
    "    # plot the distributions: observed and theoretical\n",
    "    lens_df[\"log10_length\"] = lens_df[\"length\"].apply(np.log10)\n",
    "    title = species_df[\"species\"].item().capitalize(); subtitle = \"Proteins\";  xlabel = \"$log_{10}(length)$\"; ylabel = \"Probability density function\"\n",
    "    plot_log_norm (lens_df[\"log10_length\"], species_df[\"log10_mean\"].item(), math.sqrt(species_df[\"log10_var\"].item()), int(species_df[\"count\"].item()), \n",
    "                   title, subtitle, xlabel, ylabel)  \n",
    "    # fit to normal\n",
    "    does_it_fits_normal(lens_df[\"log10_length\"])\n",
    "\n",
    "\n",
    "\n",
    "# The next function performs the whole analysis for a tax_id\n",
    "def species_distribution__retrieve_filter_plot_and_fit(stat_df, tax_id, filt_prots_l):\n",
    "    species_df = get_df_for_taxid(stat_df, tax_id)\n",
    "    species_df.drop_duplicates(subset=['tax_id'], inplace=True, keep='last')\n",
    "    display(species_df)\n",
    "\n",
    "    lengths_f = BASE_PATH + \"results/geneLength/\" + species_df[\"uniprot_fasta_file\"].item() \n",
    "    lengths_f = lengths_f.replace(\".fasta.gz\", \".length.tsv\") # I get the \n",
    "    print(lengths_f)\n",
    "    \n",
    "    # retrieve data\n",
    "    lens_df = pd.read_csv(lengths_f, sep=\"\\t\")\n",
    "\n",
    "\n",
    "    cond = ~lens_df[\"UniprotID\"].isin(filt_prots_l)\n",
    "    lens_df = lens_df[cond]\n",
    "\n",
    "    \n",
    "    lens_df = lens_df[[\"length\"]]\n",
    "    # visualize data\n",
    "    pd.set_option('display.max_columns', None)\n",
    "    if 0:\n",
    "        display(lens_df.head(2))\n",
    "        print(lens_df.shape)\n",
    "    \n",
    "    # plot the distributions: observed and theoretical\n",
    "    lens_df[\"log10_length\"] = lens_df[\"length\"].apply(np.log10)\n",
    "    title = species_df[\"species\"].item().capitalize(); subtitle = \"Proteins\";  xlabel = \"$log_{10}(length)$\"; ylabel = \"Probability density function\"\n",
    "    plot_log_norm (lens_df[\"log10_length\"], species_df[\"log10_mean\"].item(), math.sqrt(species_df[\"log10_var\"].item()), int(species_df[\"count\"].item()), \n",
    "                   title, subtitle, xlabel, ylabel)  \n",
    "    # fit to normal\n",
    "    does_it_fits_normal(lens_df[\"log10_length\"])"
   ]
  },
  {
   "cell_type": "markdown",
   "id": "2111fd8f-02db-4b6b-b70d-50d386b34b0c",
   "metadata": {},
   "source": [
    "## Distributions for different species:"
   ]
  },
  {
   "cell_type": "markdown",
   "id": "ad4e7dad-7c01-48e7-8fea-87433d28b6f7",
   "metadata": {},
   "source": [
    "## Fig S2"
   ]
  },
  {
   "cell_type": "markdown",
   "id": "f599574b-98e8-4a98-ae45-4395c1aa7359",
   "metadata": {},
   "source": [
    "### _Cavia porcellus_ (tax\\_id = 10141)"
   ]
  },
  {
   "cell_type": "code",
   "execution_count": 52,
   "id": "efcee75a-3124-4468-b560-97e3e89193ac",
   "metadata": {},
   "outputs": [
    {
     "data": {
      "text/html": [
       "<div>\n",
       "<style scoped>\n",
       "    .dataframe tbody tr th:only-of-type {\n",
       "        vertical-align: middle;\n",
       "    }\n",
       "\n",
       "    .dataframe tbody tr th {\n",
       "        vertical-align: top;\n",
       "    }\n",
       "\n",
       "    .dataframe thead th {\n",
       "        text-align: right;\n",
       "    }\n",
       "</style>\n",
       "<table border=\"1\" class=\"dataframe\">\n",
       "  <thead>\n",
       "    <tr style=\"text-align: right;\">\n",
       "      <th></th>\n",
       "      <th>superregnum</th>\n",
       "      <th>species</th>\n",
       "      <th>proteome_id</th>\n",
       "      <th>tax_id</th>\n",
       "      <th>uniprot_fasta_file</th>\n",
       "      <th>count</th>\n",
       "      <th>mean</th>\n",
       "      <th>var</th>\n",
       "      <th>log10_mean</th>\n",
       "      <th>log10_var</th>\n",
       "    </tr>\n",
       "  </thead>\n",
       "  <tbody>\n",
       "    <tr>\n",
       "      <th>3646</th>\n",
       "      <td>eukaryota</td>\n",
       "      <td>Cavia porcellus (Guinea pig)</td>\n",
       "      <td>UP000005447</td>\n",
       "      <td>10141</td>\n",
       "      <td>/ftp.uniprot.org/pub/databases/uniprot/current...</td>\n",
       "      <td>18247.0</td>\n",
       "      <td>540.943169</td>\n",
       "      <td>246132.162669</td>\n",
       "      <td>2.6082</td>\n",
       "      <td>0.107282</td>\n",
       "    </tr>\n",
       "  </tbody>\n",
       "</table>\n",
       "</div>"
      ],
      "text/plain": [
       "     superregnum                       species  proteome_id  tax_id  \\\n",
       "3646   eukaryota  Cavia porcellus (Guinea pig)  UP000005447   10141   \n",
       "\n",
       "                                     uniprot_fasta_file    count        mean  \\\n",
       "3646  /ftp.uniprot.org/pub/databases/uniprot/current...  18247.0  540.943169   \n",
       "\n",
       "                var  log10_mean  log10_var  \n",
       "3646  246132.162669      2.6082   0.107282  "
      ]
     },
     "metadata": {},
     "output_type": "display_data"
    },
    {
     "name": "stdout",
     "output_type": "stream",
     "text": [
      "/media/emuro/Nubya/results/geneLength//ftp.uniprot.org/pub/databases/uniprot/current_release/knowledgebase/reference_proteomes/Eukaryota/UP000005447/UP000005447_10141.length.tsv\n",
      "µ: 2.6081999542155296 \tσ: 0.3275391435998644\n"
     ]
    },
    {
     "data": {
      "image/png": "[encoded data removed]",
      "text/plain": [
       "<Figure size 640x480 with 1 Axes>"
      ]
     },
     "metadata": {},
     "output_type": "display_data"
    },
    {
     "name": "stdout",
     "output_type": "stream",
     "text": [
      "Kurtosis: 0.453719686546751\n",
      "Skewness: -0.02500681788721736\n",
      "D'Agostino's K-squared test(statistics=107.87728120235484, p-value=3.7561767965780544e-24)\n"
     ]
    }
   ],
   "source": [
    "species_name = \"cavia_porcellus\"\n",
    "tax_id = 10141\n",
    "species_distribution__retrieve_plot_and_fit(stat_df, tax_id)"
   ]
  },
  {
   "cell_type": "code",
   "execution_count": null,
   "id": "488a1473-ed50-4899-88e2-c0e60eb4217e",
   "metadata": {},
   "outputs": [],
   "source": []
  },
  {
   "cell_type": "markdown",
   "id": "f46811a6-916a-4a61-a5c0-507546a6e754",
   "metadata": {},
   "source": [
    "### Get uniprot ids of species to be filtered"
   ]
  },
  {
   "cell_type": "code",
   "execution_count": 53,
   "id": "11e71e9a-6d2b-4b7f-a181-e80c05faf6e5",
   "metadata": {},
   "outputs": [
    {
     "name": "stdout",
     "output_type": "stream",
     "text": [
      "      uniprot_id\n",
      "0     A0A286X716\n",
      "1     A0A286X791\n",
      "2     A0A286X799\n",
      "3     A0A286X7A5\n",
      "4     A0A286X7C9\n",
      "...          ...\n",
      "1118      P47745\n",
      "1119      P60987\n",
      "1120      Q08782\n",
      "1121      Q6R5A3\n",
      "1122      Q9EQQ8\n",
      "\n",
      "[1123 rows x 1 columns]\n",
      "There are 1123 prots\n"
     ]
    }
   ],
   "source": [
    "sr_prots_f = GO_PATH + \"uniqUniprotKB_sensoryPerception_and_receptor__biomart.txt\"\n",
    "sr_prots_df = pd.read_csv(sr_prots_f, sep=\"\\s+\")\n",
    "sr_prots_df = sr_prots_df.rename(columns = {'UniProtKB_ID':'uniprot_id'})\n",
    "print(sr_prots_df)\n",
    "sr_prots_l = sr_prots_df[\"uniprot_id\"].unique().tolist()\n",
    "num_of_sr_prots = len(sr_prots_l)\n",
    "print(\"There are\", len(sr_prots_l), \"prots\")\n",
    "if 0:\n",
    "    print(sr_prots_l, \"prots\")\n",
    "\n",
    "if 0:\n",
    "    sr_prots_df = genes_df[genes_df[\"gene_id\"].isin(sr_genes_l)]\n",
    "    if 1:\n",
    "        print(\"Sensory receptors genes are in:\", sr_genes_f, \"\\ngenes_df:\\n\", sr_prots_df.head(2))\n",
    "        print(sr_prots_df.shape)\n",
    "        print(len(sr_prots_df['gene_id'].unique()))"
   ]
  },
  {
   "cell_type": "code",
   "execution_count": null,
   "id": "05253263-19d5-4c56-8473-8bfa0ff8c831",
   "metadata": {},
   "outputs": [],
   "source": []
  },
  {
   "cell_type": "code",
   "execution_count": 54,
   "id": "268e0854-553b-45d7-a95c-559336d500a0",
   "metadata": {},
   "outputs": [
    {
     "name": "stdout",
     "output_type": "stream",
     "text": [
      "/media/emuro/Nubya/results/geneLength//ftp.uniprot.org/pub/databases/uniprot/current_release/knowledgebase/reference_proteomes/Eukaryota/UP000005447/UP000005447_10141.length.tsv\n",
      "   db   UniprotID         EntryName              ProteinName               OS  \\\n",
      "0  sp      P34966         NMU_CAVPO           Neuromedin-U-9  Cavia porcellus   \n",
      "1  tr  A0A286XFJ6  A0A286XFJ6_CAVPO  Uncharacterized protein  Cavia porcellus   \n",
      "\n",
      "      OX   GN  PE  SV  length  diffLength  \n",
      "0  10141  NMU   1   1       9           1  \n",
      "1  10141  NaN   4   1      10           1  \n",
      "Sensory receptors genes are in: /home/emuro/Desktop/peak_receptors/ensembl_annotation__cavia_porcellus/AmiGO_and_biomart/uniqUniprotKB_sensoryPerception_and_receptor__biomart.txt \n",
      "prots_df:\n",
      "      db UniprotID     EntryName                 ProteinName               OS  \\\n",
      "156  tr    H0VG61  H0VG61_CAVPO  G protein subunit gamma 13  Cavia porcellus   \n",
      "191  tr    H0VDL2  H0VDL2_CAVPO   60S ribosomal protein L38  Cavia porcellus   \n",
      "\n",
      "        OX     GN  PE  SV  length  diffLength  \n",
      "156  10141  GNG13   4   1      67           0  \n",
      "191  10141  RPL38   3   2      70           0  \n",
      "(998, 11)\n",
      "998\n"
     ]
    }
   ],
   "source": [
    "species_df = get_df_for_taxid(stat_df, tax_id)\n",
    "lengths_f = BASE_PATH + \"results/geneLength/\" + species_df[\"uniprot_fasta_file\"].item() \n",
    "lengths_f = lengths_f.replace(\".fasta.gz\", \".length.tsv\") # I get the \n",
    "print(lengths_f)    \n",
    "\n",
    "# retrieve data\n",
    "prots_df = pd.read_csv(lengths_f, sep=\"\\t\")\n",
    "print(prots_df.head(2))\n",
    "#prots_df = prots_df[[\"length\"]]\n",
    "\n",
    "\n",
    "sr_prots_df = prots_df[prots_df[\"UniprotID\"].isin(sr_prots_l)]\n",
    "if 1:\n",
    "    print(\"Sensory receptors genes are in:\", sr_prots_f, \"\\nprots_df:\\n\", sr_prots_df.head(2))\n",
    "    print(sr_prots_df.shape)\n",
    "    print(len(sr_prots_df['UniprotID'].unique()))\n"
   ]
  },
  {
   "cell_type": "code",
   "execution_count": null,
   "id": "8aaaa39e-f564-4a94-b517-bba1f54b2119",
   "metadata": {},
   "outputs": [],
   "source": []
  },
  {
   "cell_type": "code",
   "execution_count": 55,
   "id": "d7784dc9-f724-4c4a-ad77-3915e9c3a1c6",
   "metadata": {},
   "outputs": [
    {
     "data": {
      "image/png": "[encoded data removed]",
      "text/plain": [
       "<Figure size 640x480 with 1 Axes>"
      ]
     },
     "metadata": {},
     "output_type": "display_data"
    }
   ],
   "source": [
    "count, bins, *rest = plt.hist(np.log10(sr_prots_df.length.to_list()), 60, density=False, alpha=0.8, edgecolor='black') # plot 60 bins\n",
    "if 0:\n",
    "    print(count, bins)\n",
    "    \n",
    "title = species_name.capitalize(); subtitle = \"Sensory perception and receptor prots\";  xlabel = \"$log_{10}(length)$\"; ylabel = \"Number of prots\"\n",
    "plt.xlim([1,7]); \n",
    "plt.xlabel(xlabel)\n",
    "plt.ylabel(ylabel)\n",
    "plt.suptitle(title, style='italic'); plt.title(subtitle + \" (\" + str(sr_prots_df.shape[0]) +\")\")\n",
    "#    plt.xlabel(xlabel); plt.ylabel(ylabel)\n",
    "plt.show()"
   ]
  },
  {
   "cell_type": "code",
   "execution_count": null,
   "id": "ed1ddc36-60a3-4c72-9b72-aa2d0d98bb1c",
   "metadata": {},
   "outputs": [],
   "source": []
  },
  {
   "cell_type": "code",
   "execution_count": null,
   "id": "1225c741-c38a-43d9-b1a0-97b1f56f6c1d",
   "metadata": {},
   "outputs": [],
   "source": []
  },
  {
   "cell_type": "code",
   "execution_count": 56,
   "id": "205fc77d-7b9d-4f7e-82c9-d06a67e5af03",
   "metadata": {},
   "outputs": [
    {
     "data": {
      "text/html": [
       "<div>\n",
       "<style scoped>\n",
       "    .dataframe tbody tr th:only-of-type {\n",
       "        vertical-align: middle;\n",
       "    }\n",
       "\n",
       "    .dataframe tbody tr th {\n",
       "        vertical-align: top;\n",
       "    }\n",
       "\n",
       "    .dataframe thead th {\n",
       "        text-align: right;\n",
       "    }\n",
       "</style>\n",
       "<table border=\"1\" class=\"dataframe\">\n",
       "  <thead>\n",
       "    <tr style=\"text-align: right;\">\n",
       "      <th></th>\n",
       "      <th>superregnum</th>\n",
       "      <th>species</th>\n",
       "      <th>proteome_id</th>\n",
       "      <th>tax_id</th>\n",
       "      <th>uniprot_fasta_file</th>\n",
       "      <th>count</th>\n",
       "      <th>mean</th>\n",
       "      <th>var</th>\n",
       "      <th>log10_mean</th>\n",
       "      <th>log10_var</th>\n",
       "    </tr>\n",
       "  </thead>\n",
       "  <tbody>\n",
       "    <tr>\n",
       "      <th>3646</th>\n",
       "      <td>eukaryota</td>\n",
       "      <td>Cavia porcellus (Guinea pig)</td>\n",
       "      <td>UP000005447</td>\n",
       "      <td>10141</td>\n",
       "      <td>/ftp.uniprot.org/pub/databases/uniprot/current...</td>\n",
       "      <td>18247.0</td>\n",
       "      <td>540.943169</td>\n",
       "      <td>246132.162669</td>\n",
       "      <td>2.6082</td>\n",
       "      <td>0.107282</td>\n",
       "    </tr>\n",
       "  </tbody>\n",
       "</table>\n",
       "</div>"
      ],
      "text/plain": [
       "     superregnum                       species  proteome_id  tax_id  \\\n",
       "3646   eukaryota  Cavia porcellus (Guinea pig)  UP000005447   10141   \n",
       "\n",
       "                                     uniprot_fasta_file    count        mean  \\\n",
       "3646  /ftp.uniprot.org/pub/databases/uniprot/current...  18247.0  540.943169   \n",
       "\n",
       "                var  log10_mean  log10_var  \n",
       "3646  246132.162669      2.6082   0.107282  "
      ]
     },
     "metadata": {},
     "output_type": "display_data"
    },
    {
     "name": "stdout",
     "output_type": "stream",
     "text": [
      "/media/emuro/Nubya/results/geneLength//ftp.uniprot.org/pub/databases/uniprot/current_release/knowledgebase/reference_proteomes/Eukaryota/UP000005447/UP000005447_10141.length.tsv\n",
      "µ: 2.6081999542155296 \tσ: 0.3275391435998644\n"
     ]
    },
    {
     "data": {
      "image/png": "[encoded data removed]",
      "text/plain": [
       "<Figure size 640x480 with 1 Axes>"
      ]
     },
     "metadata": {},
     "output_type": "display_data"
    },
    {
     "name": "stdout",
     "output_type": "stream",
     "text": [
      "Kurtosis: 0.36077001570389466\n",
      "Skewness: -0.0732207911633885\n",
      "D'Agostino's K-squared test(statistics=83.64326865712091, p-value=6.872187289596877e-19)\n"
     ]
    }
   ],
   "source": [
    "tax_id = 10141\n",
    "ylim = [0., 0.65]; bool_ylim = True\n",
    "\n",
    "# plot the dist\n",
    "species_distribution__retrieve_filter_plot_and_fit(stat_df, tax_id, sr_prots_l)"
   ]
  },
  {
   "cell_type": "code",
   "execution_count": null,
   "id": "d85b6241-57b9-4fb9-bcf4-d4d990036bba",
   "metadata": {},
   "outputs": [],
   "source": []
  }
 ],
 "metadata": {
  "kernelspec": {
   "display_name": "Python 3 (ipykernel)",
   "language": "python",
   "name": "python3"
  },
  "language_info": {
   "codemirror_mode": {
    "name": "ipython",
    "version": 3
   },
   "file_extension": ".py",
   "mimetype": "text/x-python",
   "name": "python",
   "nbconvert_exporter": "python",
   "pygments_lexer": "ipython3",
   "version": "3.10.12"
  }
 },
 "nbformat": 4,
 "nbformat_minor": 5
}
