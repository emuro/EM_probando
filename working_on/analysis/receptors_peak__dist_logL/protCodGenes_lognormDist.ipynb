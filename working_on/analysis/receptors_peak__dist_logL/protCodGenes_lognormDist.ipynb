{
 "cells": [
  {
   "cell_type": "markdown",
   "id": "819bd65b-f5b5-4644-a058-0a8c843d4fe8",
   "metadata": {},
   "source": [
    "# Distribution of the lengths of the protein coding genes \n",
    "**for the different species**"
   ]
  },
  {
   "cell_type": "markdown",
   "id": "c200a4f3",
   "metadata": {},
   "source": [
    "## [Log-normal distribution](https://en.wikipedia.org/wiki/Log-normal_distribution)\n",
    "It is a continuous probability distribution of a random variable whose logarithm is normally distributed. For human-readability the decimal logarithm (log10) is used.\n",
    "  \n",
    "**The PDF (Probability Density Function) of a normal distribution is**  \n",
    "$ f(x) = \\frac{1}{ \\sigma \\sqrt{2 \\pi}} e^- \\frac{1}{2} {(\\frac{(x-\\mu)}{\\sigma})}^{2} $"
   ]
  },
  {
   "cell_type": "markdown",
   "id": "8046a185-31f3-48b1-83f7-947911a96d15",
   "metadata": {},
   "source": [
    "## Import python modules"
   ]
  },
  {
   "cell_type": "code",
   "execution_count": 1,
   "id": "51b0a90c",
   "metadata": {},
   "outputs": [],
   "source": [
    "import numpy as np\n",
    "import matplotlib.pyplot as plt\n",
    "from scipy import stats\n",
    "import os \n",
    "import pandas as pd\n",
    "import math"
   ]
  },
  {
   "cell_type": "markdown",
   "id": "c7b6d3b5",
   "metadata": {},
   "source": [
    "## The protein coding gene length distributions for the different species"
   ]
  },
  {
   "cell_type": "markdown",
   "id": "d509543a-9bbf-4428-bb98-a287201ef79d",
   "metadata": {},
   "source": [
    "### Retrieving the statistical descriptions of the gene length's distributions and the taxonomy ids"
   ]
  },
  {
   "cell_type": "markdown",
   "id": "3a99f2a8-5073-440f-88be-bf0def58ea9d",
   "metadata": {
    "tags": []
   },
   "source": [
    "#### Statistical description "
   ]
  },
  {
   "cell_type": "code",
   "execution_count": 2,
   "id": "e96ab72e-e702-4020-814a-625c86dd44ee",
   "metadata": {},
   "outputs": [
    {
     "name": "stdout",
     "output_type": "stream",
     "text": [
      "The statistical descriptions of the protein coding gene distributions for the different species is in:\n",
      " ../../../main_tables/stat_protCodGenes.tsv \n",
      "\n"
     ]
    },
    {
     "data": {
      "text/html": [
       "<div>\n",
       "<style scoped>\n",
       "    .dataframe tbody tr th:only-of-type {\n",
       "        vertical-align: middle;\n",
       "    }\n",
       "\n",
       "    .dataframe tbody tr th {\n",
       "        vertical-align: top;\n",
       "    }\n",
       "\n",
       "    .dataframe thead th {\n",
       "        text-align: right;\n",
       "    }\n",
       "</style>\n",
       "<table border=\"1\" class=\"dataframe\">\n",
       "  <thead>\n",
       "    <tr style=\"text-align: right;\">\n",
       "      <th></th>\n",
       "      <th>division_8</th>\n",
       "      <th>species</th>\n",
       "      <th>trunk_genes_path</th>\n",
       "      <th>genes_file</th>\n",
       "      <th>count</th>\n",
       "      <th>mean</th>\n",
       "      <th>var</th>\n",
       "      <th>log10_mean</th>\n",
       "      <th>log10_var</th>\n",
       "    </tr>\n",
       "  </thead>\n",
       "  <tbody>\n",
       "    <tr>\n",
       "      <th>0</th>\n",
       "      <td>archaea</td>\n",
       "      <td>methanobacterium_bryantii_gca_002287175</td>\n",
       "      <td>ftp.ensemblgenomes.org/pub/bacteria/release-49...</td>\n",
       "      <td>protein_coding.genes.methanobacterium_bryantii...</td>\n",
       "      <td>3168</td>\n",
       "      <td>840.404040</td>\n",
       "      <td>422343.848699</td>\n",
       "      <td>2.827684</td>\n",
       "      <td>0.082694</td>\n",
       "    </tr>\n",
       "    <tr>\n",
       "      <th>1</th>\n",
       "      <td>archaea</td>\n",
       "      <td>methanobacterium_formicicum_gca_000762265</td>\n",
       "      <td>ftp.ensemblgenomes.org/pub/bacteria/release-49...</td>\n",
       "      <td>protein_coding.genes.methanobacterium_formicic...</td>\n",
       "      <td>2352</td>\n",
       "      <td>862.427296</td>\n",
       "      <td>347239.612747</td>\n",
       "      <td>2.849723</td>\n",
       "      <td>0.076317</td>\n",
       "    </tr>\n",
       "  </tbody>\n",
       "</table>\n",
       "</div>"
      ],
      "text/plain": [
       "  division_8                                    species  \\\n",
       "0    archaea    methanobacterium_bryantii_gca_002287175   \n",
       "1    archaea  methanobacterium_formicicum_gca_000762265   \n",
       "\n",
       "                                    trunk_genes_path  \\\n",
       "0  ftp.ensemblgenomes.org/pub/bacteria/release-49...   \n",
       "1  ftp.ensemblgenomes.org/pub/bacteria/release-49...   \n",
       "\n",
       "                                          genes_file  count        mean  \\\n",
       "0  protein_coding.genes.methanobacterium_bryantii...   3168  840.404040   \n",
       "1  protein_coding.genes.methanobacterium_formicic...   2352  862.427296   \n",
       "\n",
       "             var  log10_mean  log10_var  \n",
       "0  422343.848699    2.827684   0.082694  \n",
       "1  347239.612747    2.849723   0.076317  "
      ]
     },
     "metadata": {},
     "output_type": "display_data"
    },
    {
     "name": "stdout",
     "output_type": "stream",
     "text": [
      "(33627, 9)\n"
     ]
    }
   ],
   "source": [
    "# statistics on length distribution for different species     \n",
    "stat_file = \"../../../main_tables/stat_protCodGenes.tsv\"\n",
    "print(\"The statistical descriptions of the protein coding gene distributions for the different species is in:\\n\", stat_file, \"\\n\")\n",
    "\n",
    "# retrieve data and diminish the number of columns\n",
    "stat_df = pd.read_csv(stat_file, low_memory=False, sep=\"\\t\")\n",
    "stat_df = stat_df[[\"division_8\", \"species\", \"trunk_genes_path\", \"genes_file\", \"count\", \"mean\", \"var\"] + [\"log10_mean\", \"log10_var\"]]\n",
    "\n",
    "# visualize data\n",
    "pd.set_option('display.max_columns', None)\n",
    "if 1:\n",
    "    display(stat_df.head(2))\n",
    "    print(stat_df.shape)"
   ]
  },
  {
   "cell_type": "markdown",
   "id": "67606c91-2073-46be-8c74-644a8e1512be",
   "metadata": {},
   "source": [
    "#### Taxonomy id for each species from Ensembl"
   ]
  },
  {
   "cell_type": "code",
   "execution_count": 3,
   "id": "171e31a8-0661-4dc9-bfac-6b4c42c01a87",
   "metadata": {},
   "outputs": [
    {
     "data": {
      "text/html": [
       "<div>\n",
       "<style scoped>\n",
       "    .dataframe tbody tr th:only-of-type {\n",
       "        vertical-align: middle;\n",
       "    }\n",
       "\n",
       "    .dataframe tbody tr th {\n",
       "        vertical-align: top;\n",
       "    }\n",
       "\n",
       "    .dataframe thead th {\n",
       "        text-align: right;\n",
       "    }\n",
       "</style>\n",
       "<table border=\"1\" class=\"dataframe\">\n",
       "  <thead>\n",
       "    <tr style=\"text-align: right;\">\n",
       "      <th></th>\n",
       "      <th>name</th>\n",
       "      <th>species</th>\n",
       "      <th>tax_id</th>\n",
       "    </tr>\n",
       "  </thead>\n",
       "  <tbody>\n",
       "    <tr>\n",
       "      <th>0</th>\n",
       "      <td>Spiny chromis</td>\n",
       "      <td>acanthochromis_polyacanthus</td>\n",
       "      <td>80966</td>\n",
       "    </tr>\n",
       "    <tr>\n",
       "      <th>1</th>\n",
       "      <td>Panda</td>\n",
       "      <td>ailuropoda_melanoleuca</td>\n",
       "      <td>9646</td>\n",
       "    </tr>\n",
       "  </tbody>\n",
       "</table>\n",
       "</div>"
      ],
      "text/plain": [
       "            name                      species  tax_id\n",
       "0  Spiny chromis  acanthochromis_polyacanthus   80966\n",
       "1          Panda       ailuropoda_melanoleuca    9646"
      ]
     },
     "metadata": {},
     "output_type": "display_data"
    },
    {
     "name": "stdout",
     "output_type": "stream",
     "text": [
      "(33021, 3)\n"
     ]
    }
   ],
   "source": [
    "# ENSEMBL tax_id     \n",
    "ensembl_taxId_file = \"../../../main_tables/extra_tables/species_Ensembl.tsv\" \n",
    "\n",
    "# retrieve data\n",
    "taxid_df = pd.read_csv(ensembl_taxId_file, sep=\"\\t\")\n",
    "taxid_df = taxid_df[[\"#name\", \"species\", \"taxonomy_id\"]]\n",
    "taxid_df.rename(columns = {\"#name\" : 'name', \"taxonomy_id\" : 'tax_id'}, inplace = True)\n",
    "\n",
    "# visualize data\n",
    "pd.set_option('display.max_columns', None)\n",
    "if 1:\n",
    "    display(taxid_df.head(2))\n",
    "    print(taxid_df.shape)"
   ]
  },
  {
   "cell_type": "code",
   "execution_count": 4,
   "id": "c8b00dd3-85b7-4e13-8245-55406669aafb",
   "metadata": {},
   "outputs": [],
   "source": [
    "# Use pandas.merge() on multiple columns\n",
    "stat_taxid_df = pd.merge(stat_df, taxid_df, on=['species'])\n",
    "stat_taxid_df = stat_taxid_df[stat_taxid_df['tax_id'].notna()]\n",
    "if 0:\n",
    "    display(stat_taxid_df.head(2))\n",
    "    print(stat_taxid_df.shape)"
   ]
  },
  {
   "cell_type": "markdown",
   "id": "b7864e7f-66e1-4115-9a45-c2d020171688",
   "metadata": {
    "tags": []
   },
   "source": [
    "## Python functions"
   ]
  },
  {
   "cell_type": "code",
   "execution_count": 5,
   "id": "af6c0ad2-9985-4285-887a-c413505d46e6",
   "metadata": {},
   "outputs": [],
   "source": [
    "# species' stats for length distribution\n",
    "def get_df_for_taxid(df, taxid):\n",
    "     return df.loc[df[\"tax_id\"]==taxid].copy()"
   ]
  },
  {
   "cell_type": "code",
   "execution_count": 6,
   "id": "1371569f-3901-448e-871a-828de23bd9d9",
   "metadata": {},
   "outputs": [],
   "source": [
    "#### Function to plot the log-normal distribution\n",
    "# blue: Observation\n",
    "# red: Theoretical/Simulation\n",
    "##########################################\n",
    "def plot_log_norm (log10_len, mu, sigma, N, title, subtitle, xlabel, ylabel, my_ylimit=[0, 2.0]): # N is number of \n",
    "    print(\"µ:\", mu, \"\\tσ:\", sigma)\n",
    "    my_normal_dist = np.random.normal(mu, sigma, N)\n",
    "    count, bins, *rest = plt.hist(log10_len, 60, density=True, alpha=0.8, edgecolor='black') # plot 60 bins\n",
    "\n",
    "    print(count, bins)\n",
    "    \n",
    "    # plt.hist(my_normal_dist, 30, density=True, alpha=0.25, color=\"r\")\n",
    "    # print(count); print(bins); print(*rest)\n",
    "    \n",
    "    plt.plot(bins, 1/(sigma * np.sqrt(2 * np.pi)) *\n",
    "             np.exp( - (bins - mu)**2 / (2 * sigma**2) ),\n",
    "             linewidth=2, color='r', alpha=0.5)\n",
    "     \n",
    "    # mean\n",
    "    plt.vlines(x = mu, ymin = 0, ymax = 0.2, colors = 'white', label = 'mean')\n",
    "    plt.xlim([1,7]); plt.ylim(my_ylimit)\n",
    "    plt.suptitle(title, style='italic'); plt.title(subtitle + \" (\" + str(int(N)) +\")\")\n",
    "    plt.xlabel(xlabel); plt.ylabel(ylabel)\n",
    "    plt.show()"
   ]
  },
  {
   "cell_type": "code",
   "execution_count": 7,
   "id": "ee7bf25c-d0a0-4028-9af0-2e8f7979a15f",
   "metadata": {},
   "outputs": [],
   "source": [
    "def does_it_fits_normal(data_observed): \n",
    "    # Kurtosis and Skewness\n",
    "    # =====================\n",
    "    print('Kurtosis:', stats.kurtosis(data_observed))\n",
    "    print('Skewness:', stats.skew(data_observed))\n",
    "    # D'Agostino's K-squared test\n",
    "    # ===========================\n",
    "    k2, p_value = stats.normaltest(data_observed)\n",
    "    print(f\"D'Agostino's K-squared test(statistics={k2}, p-value={p_value})\")\n",
    "    #\n",
    "    # Mathematicaly it ends up beeing a theoretical log-normal when.\n",
    "    #    - Kurtosis o Skewness: $\\leq -1$ o $\\geq 1$ \n",
    "    #    - D'Agostino's K-squared test: p-value $ \\leq 0.05 $, becuase it rejects the null hypothesis "
   ]
  },
  {
   "cell_type": "code",
   "execution_count": 8,
   "id": "1bcc7a1e-2408-46a8-af94-026a08044e94",
   "metadata": {},
   "outputs": [],
   "source": [
    "# The next function performs the whole analysis for a tax_id\n",
    "def species_distribution__retrieve_plot_and_fit(stat_taxid_df, tax_id, ylim, bool_ylim):\n",
    "    species_df = get_df_for_taxid(stat_taxid_df, tax_id)\n",
    "    species_df.drop_duplicates(subset=['tax_id'], inplace=True, keep='last')\n",
    "    display(species_df)\n",
    "    \n",
    "    # system dependencies\n",
    "    system = list(os.uname())[0]\n",
    "    if system == 'Linux':\n",
    "        our_mnt_dir = \"/media/emuro/Nubya/\" # my disks: Nubya, Wes\n",
    "    elif system == 'Darwin':\n",
    "        our_mnt_dir = \"/Volumes/Wes/\" # my disks: Wes, Nubya \n",
    "    genes_f = our_mnt_dir + \"results/geneLength/\" + species_df[\"trunk_genes_path\"].item() + species_df[\"genes_file\"].item()    \n",
    "    # retrieve data\n",
    "    genes_df = pd.read_csv(genes_f, sep=\"\\t\")\n",
    "\n",
    "    # visualize data\n",
    "    pd.set_option('display.max_columns', None)\n",
    "    if 0:\n",
    "        display(genes_df.head(2))\n",
    "        print(genes_df.shape)\n",
    "    \n",
    "    # plot the distributions: observed and theoretical\n",
    "    genes_df[\"log10_length\"] = genes_df[\"length\"].apply(np.log10)\n",
    "    title = species_df[\"species\"].item().capitalize(); subtitle = \"Protein coding genes\";  xlabel = \"$log_{10}(length)$\"; ylabel = \"Probability density function\"\n",
    "    if bool_ylim:\n",
    "        plot_log_norm (genes_df[\"log10_length\"], species_df[\"log10_mean\"].item(), math.sqrt(species_df[\"log10_var\"].item()), species_df[\"count\"].item(), \n",
    "                       title, subtitle, xlabel, ylabel, ylim)  \n",
    "    else:\n",
    "        plot_log_norm (genes_df[\"log10_length\"], species_df[\"log10_mean\"].item(), math.sqrt(species_df[\"log10_var\"].item()), species_df[\"count\"].item(), \n",
    "                       title, subtitle, xlabel, ylabel, [0, 2.0])  \n",
    "    \n",
    "    # fit to normal\n",
    "    does_it_fits_normal(genes_df[\"log10_length\"])"
   ]
  },
  {
   "cell_type": "markdown",
   "id": "2111fd8f-02db-4b6b-b70d-50d386b34b0c",
   "metadata": {},
   "source": [
    "## Distributions for different species:"
   ]
  },
  {
   "cell_type": "markdown",
   "id": "02d86cba-90c3-420a-a342-effebd787c95",
   "metadata": {},
   "source": [
    "### _Homo sapiens_ (tax_id = 9606)"
   ]
  },
  {
   "cell_type": "markdown",
   "id": "0866ec4e-b56f-45c2-9858-b517c8481d26",
   "metadata": {},
   "source": [
    "#### Retrieve its statistical description"
   ]
  },
  {
   "cell_type": "code",
   "execution_count": 9,
   "id": "4cd3536d-1829-4625-9dbf-234606f1c6e2",
   "metadata": {},
   "outputs": [
    {
     "data": {
      "text/html": [
       "<div>\n",
       "<style scoped>\n",
       "    .dataframe tbody tr th:only-of-type {\n",
       "        vertical-align: middle;\n",
       "    }\n",
       "\n",
       "    .dataframe tbody tr th {\n",
       "        vertical-align: top;\n",
       "    }\n",
       "\n",
       "    .dataframe thead th {\n",
       "        text-align: right;\n",
       "    }\n",
       "</style>\n",
       "<table border=\"1\" class=\"dataframe\">\n",
       "  <thead>\n",
       "    <tr style=\"text-align: right;\">\n",
       "      <th></th>\n",
       "      <th>division_8</th>\n",
       "      <th>species</th>\n",
       "      <th>trunk_genes_path</th>\n",
       "      <th>genes_file</th>\n",
       "      <th>count</th>\n",
       "      <th>mean</th>\n",
       "      <th>var</th>\n",
       "      <th>log10_mean</th>\n",
       "      <th>log10_var</th>\n",
       "      <th>name</th>\n",
       "      <th>tax_id</th>\n",
       "    </tr>\n",
       "  </thead>\n",
       "  <tbody>\n",
       "    <tr>\n",
       "      <th>33297</th>\n",
       "      <td>vertebrates</td>\n",
       "      <td>homo_sapiens</td>\n",
       "      <td>ftp.ensembl.org/pub/release-98/genes/homo_sapi...</td>\n",
       "      <td>protein_coding.genes.homo_sapiens.nan.ensembl....</td>\n",
       "      <td>19976</td>\n",
       "      <td>68287.089808</td>\n",
       "      <td>1.753600e+10</td>\n",
       "      <td>4.40396</td>\n",
       "      <td>0.415191</td>\n",
       "      <td>Human</td>\n",
       "      <td>9606</td>\n",
       "    </tr>\n",
       "  </tbody>\n",
       "</table>\n",
       "</div>"
      ],
      "text/plain": [
       "        division_8       species  \\\n",
       "33297  vertebrates  homo_sapiens   \n",
       "\n",
       "                                        trunk_genes_path  \\\n",
       "33297  ftp.ensembl.org/pub/release-98/genes/homo_sapi...   \n",
       "\n",
       "                                              genes_file  count          mean  \\\n",
       "33297  protein_coding.genes.homo_sapiens.nan.ensembl....  19976  68287.089808   \n",
       "\n",
       "                var  log10_mean  log10_var   name  tax_id  \n",
       "33297  1.753600e+10     4.40396   0.415191  Human    9606  "
      ]
     },
     "metadata": {},
     "output_type": "display_data"
    },
    {
     "name": "stdout",
     "output_type": "stream",
     "text": [
      "µ: 4.40396048586088 \tσ: 0.644352861905651\n",
      "[0.00138771 0.         0.00277542 0.00555085 0.00208157 0.01387711\n",
      " 0.00763241 0.02150952 0.01595868 0.02775423 0.0312235  0.03399893\n",
      " 0.12489401 0.11448618 0.0860381  0.11379232 0.1235063  0.14779125\n",
      " 0.17415776 0.21509525 0.21925838 0.27268527 0.31084733 0.33721384\n",
      " 0.37260048 0.4190888  0.46627099 0.49957606 0.56410463 0.53773812\n",
      " 0.5724309  0.57312476 0.61336838 0.61614381 0.63765333 0.61336838\n",
      " 0.63279634 0.53218727 0.53218727 0.47598497 0.44059833 0.42255808\n",
      " 0.35802951 0.31154118 0.26574671 0.2157891  0.17554548 0.13738342\n",
      " 0.12420016 0.09367051 0.07285484 0.04926375 0.03885592 0.02914194\n",
      " 0.02012181 0.0187341  0.0124894  0.00416313 0.00416313 0.00346928] [2.06445799 2.13660567 2.20875334 2.28090102 2.3530487  2.42519637\n",
      " 2.49734405 2.56949173 2.6416394  2.71378708 2.78593476 2.85808243\n",
      " 2.93023011 3.00237779 3.07452546 3.14667314 3.21882082 3.29096849\n",
      " 3.36311617 3.43526385 3.50741152 3.5795592  3.65170687 3.72385455\n",
      " 3.79600223 3.8681499  3.94029758 4.01244526 4.08459293 4.15674061\n",
      " 4.22888829 4.30103596 4.37318364 4.44533132 4.51747899 4.58962667\n",
      " 4.66177435 4.73392202 4.8060697  4.87821738 4.95036505 5.02251273\n",
      " 5.09466041 5.16680808 5.23895576 5.31110344 5.38325111 5.45539879\n",
      " 5.52754647 5.59969414 5.67184182 5.7439895  5.81613717 5.88828485\n",
      " 5.96043253 6.0325802  6.10472788 6.17687556 6.24902323 6.32117091\n",
      " 6.39331859]\n"
     ]
    },
    {
     "data": {
      "image/png": "[encoded data removed]",
      "text/plain": [
       "<Figure size 640x480 with 1 Axes>"
      ]
     },
     "metadata": {},
     "output_type": "display_data"
    },
    {
     "name": "stdout",
     "output_type": "stream",
     "text": [
      "Kurtosis: -0.1116735171105625\n",
      "Skewness: -0.19274087219104544\n",
      "D'Agostino's K-squared test(statistics=133.03487000453904, p-value=1.293734108353449e-29)\n"
     ]
    }
   ],
   "source": [
    "tax_id = 9606\n",
    "ylim = [0., 0.65]; bool_ylim = True\n",
    "species_distribution__retrieve_plot_and_fit(stat_taxid_df, tax_id, ylim, bool_ylim) #set ylim"
   ]
  },
  {
   "cell_type": "markdown",
   "id": "e1977cf2-5b33-46cb-8fd9-72e5bb88e8bd",
   "metadata": {},
   "source": [
    "### _Equus asinus asinus_ (tax_id = 83772)"
   ]
  },
  {
   "cell_type": "code",
   "execution_count": 10,
   "id": "69389a33-a9a9-4ea6-9632-fc16e61f50bc",
   "metadata": {},
   "outputs": [
    {
     "data": {
      "text/html": [
       "<div>\n",
       "<style scoped>\n",
       "    .dataframe tbody tr th:only-of-type {\n",
       "        vertical-align: middle;\n",
       "    }\n",
       "\n",
       "    .dataframe tbody tr th {\n",
       "        vertical-align: top;\n",
       "    }\n",
       "\n",
       "    .dataframe thead th {\n",
       "        text-align: right;\n",
       "    }\n",
       "</style>\n",
       "<table border=\"1\" class=\"dataframe\">\n",
       "  <thead>\n",
       "    <tr style=\"text-align: right;\">\n",
       "      <th></th>\n",
       "      <th>division_8</th>\n",
       "      <th>species</th>\n",
       "      <th>trunk_genes_path</th>\n",
       "      <th>genes_file</th>\n",
       "      <th>count</th>\n",
       "      <th>mean</th>\n",
       "      <th>var</th>\n",
       "      <th>log10_mean</th>\n",
       "      <th>log10_var</th>\n",
       "      <th>name</th>\n",
       "      <th>tax_id</th>\n",
       "    </tr>\n",
       "  </thead>\n",
       "  <tbody>\n",
       "    <tr>\n",
       "      <th>33419</th>\n",
       "      <td>vertebrates</td>\n",
       "      <td>equus_asinus_asinus</td>\n",
       "      <td>ftp.ensembl.org/pub/release-98/genes/equus_asi...</td>\n",
       "      <td>protein_coding.genes.equus_asinus_asinus.nan.e...</td>\n",
       "      <td>19922</td>\n",
       "      <td>38350.468879</td>\n",
       "      <td>5.261993e+09</td>\n",
       "      <td>4.080104</td>\n",
       "      <td>0.506864</td>\n",
       "      <td>Donkey</td>\n",
       "      <td>83772</td>\n",
       "    </tr>\n",
       "  </tbody>\n",
       "</table>\n",
       "</div>"
      ],
      "text/plain": [
       "        division_8              species  \\\n",
       "33419  vertebrates  equus_asinus_asinus   \n",
       "\n",
       "                                        trunk_genes_path  \\\n",
       "33419  ftp.ensembl.org/pub/release-98/genes/equus_asi...   \n",
       "\n",
       "                                              genes_file  count          mean  \\\n",
       "33419  protein_coding.genes.equus_asinus_asinus.nan.e...  19922  38350.468879   \n",
       "\n",
       "                var  log10_mean  log10_var    name  tax_id  \n",
       "33419  5.261993e+09    4.080104   0.506864  Donkey   83772  "
      ]
     },
     "metadata": {},
     "output_type": "display_data"
    },
    {
     "name": "stdout",
     "output_type": "stream",
     "text": [
      "µ: 4.08010374287238 \tσ: 0.7119438680979533\n",
      "[0.00842247 0.03751829 0.03522125 0.03445557 0.04287805 0.05589459\n",
      " 0.08269337 0.07197386 0.07120818 0.12557142 0.12021166 0.100304\n",
      " 0.47472122 0.28023865 0.18682577 0.21745294 0.24272036 0.28559841\n",
      " 0.27258186 0.34302436 0.35527523 0.38130833 0.42801477 0.4640017\n",
      " 0.49156616 0.45251651 0.47089282 0.51070815 0.45787627 0.55358619\n",
      " 0.53061581 0.48926912 0.5160679  0.55435187 0.52525605 0.53444421\n",
      " 0.47242418 0.4494538  0.3973876  0.40504439 0.36676042 0.36829178\n",
      " 0.31163151 0.2932552  0.2748789  0.18988849 0.1929512  0.17687194\n",
      " 0.12786846 0.10566375 0.08958449 0.07120818 0.05895731 0.03598693\n",
      " 0.01990766 0.01301655 0.01684495 0.00689111 0.00229704 0.00153136] [2.14612804 2.21168519 2.27724235 2.34279951 2.40835666 2.47391382\n",
      " 2.53947098 2.60502814 2.67058529 2.73614245 2.80169961 2.86725677\n",
      " 2.93281392 2.99837108 3.06392824 3.12948539 3.19504255 3.26059971\n",
      " 3.32615687 3.39171402 3.45727118 3.52282834 3.5883855  3.65394265\n",
      " 3.71949981 3.78505697 3.85061412 3.91617128 3.98172844 4.0472856\n",
      " 4.11284275 4.17839991 4.24395707 4.30951423 4.37507138 4.44062854\n",
      " 4.5061857  4.57174285 4.63730001 4.70285717 4.76841433 4.83397148\n",
      " 4.89952864 4.9650858  5.03064296 5.09620011 5.16175727 5.22731443\n",
      " 5.29287158 5.35842874 5.4239859  5.48954306 5.55510021 5.62065737\n",
      " 5.68621453 5.75177169 5.81732884 5.882886   5.94844316 6.01400031\n",
      " 6.07955747]\n"
     ]
    },
    {
     "data": {
      "image/png": "[encoded data removed]",
      "text/plain": [
       "<Figure size 640x480 with 1 Axes>"
      ]
     },
     "metadata": {},
     "output_type": "display_data"
    },
    {
     "name": "stdout",
     "output_type": "stream",
     "text": [
      "Kurtosis: -0.4968881798624136\n",
      "Skewness: -0.1308309001466365\n",
      "D'Agostino's K-squared test(statistics=430.974640559165, p-value=2.6004342800239943e-94)\n"
     ]
    }
   ],
   "source": [
    "tax_id = 83772\n",
    "ylim = [0., 0.6]; bool_ylim = True\n",
    "species_distribution__retrieve_plot_and_fit(stat_taxid_df, tax_id, ylim, bool_ylim)"
   ]
  },
  {
   "cell_type": "markdown",
   "id": "ad4e7dad-7c01-48e7-8fea-87433d28b6f7",
   "metadata": {},
   "source": [
    "## Fig S2"
   ]
  },
  {
   "cell_type": "markdown",
   "id": "f599574b-98e8-4a98-ae45-4395c1aa7359",
   "metadata": {},
   "source": [
    "### _Cavia porcellus_ (tax\\_id = 10141)"
   ]
  },
  {
   "cell_type": "code",
   "execution_count": 11,
   "id": "efcee75a-3124-4468-b560-97e3e89193ac",
   "metadata": {},
   "outputs": [
    {
     "data": {
      "text/html": [
       "<div>\n",
       "<style scoped>\n",
       "    .dataframe tbody tr th:only-of-type {\n",
       "        vertical-align: middle;\n",
       "    }\n",
       "\n",
       "    .dataframe tbody tr th {\n",
       "        vertical-align: top;\n",
       "    }\n",
       "\n",
       "    .dataframe thead th {\n",
       "        text-align: right;\n",
       "    }\n",
       "</style>\n",
       "<table border=\"1\" class=\"dataframe\">\n",
       "  <thead>\n",
       "    <tr style=\"text-align: right;\">\n",
       "      <th></th>\n",
       "      <th>division_8</th>\n",
       "      <th>species</th>\n",
       "      <th>trunk_genes_path</th>\n",
       "      <th>genes_file</th>\n",
       "      <th>count</th>\n",
       "      <th>mean</th>\n",
       "      <th>var</th>\n",
       "      <th>log10_mean</th>\n",
       "      <th>log10_var</th>\n",
       "      <th>name</th>\n",
       "      <th>tax_id</th>\n",
       "    </tr>\n",
       "  </thead>\n",
       "  <tbody>\n",
       "    <tr>\n",
       "      <th>33355</th>\n",
       "      <td>vertebrates</td>\n",
       "      <td>cavia_porcellus</td>\n",
       "      <td>ftp.ensembl.org/pub/release-98/genes/cavia_por...</td>\n",
       "      <td>protein_coding.genes.cavia_porcellus.nan.ensem...</td>\n",
       "      <td>18095</td>\n",
       "      <td>44419.205195</td>\n",
       "      <td>8.237268e+09</td>\n",
       "      <td>4.175953</td>\n",
       "      <td>0.469809</td>\n",
       "      <td>Guinea Pig</td>\n",
       "      <td>10141</td>\n",
       "    </tr>\n",
       "  </tbody>\n",
       "</table>\n",
       "</div>"
      ],
      "text/plain": [
       "        division_8          species  \\\n",
       "33355  vertebrates  cavia_porcellus   \n",
       "\n",
       "                                        trunk_genes_path  \\\n",
       "33355  ftp.ensembl.org/pub/release-98/genes/cavia_por...   \n",
       "\n",
       "                                              genes_file  count          mean  \\\n",
       "33355  protein_coding.genes.cavia_porcellus.nan.ensem...  18095  44419.205195   \n",
       "\n",
       "                var  log10_mean  log10_var        name  tax_id  \n",
       "33355  8.237268e+09    4.175953   0.469809  Guinea Pig   10141  "
      ]
     },
     "metadata": {},
     "output_type": "display_data"
    },
    {
     "name": "stdout",
     "output_type": "stream",
     "text": [
      "µ: 4.17595294995147 \tσ: 0.6854262938675558\n",
      "[0.000685   0.         0.         0.         0.         0.00137\n",
      " 0.000685   0.000685   0.00273999 0.01095996 0.01095996 0.01301496\n",
      " 0.03630488 0.04109986 0.0595948  0.07466475 0.07603474 0.07740474\n",
      " 0.49730833 0.18152439 0.15343948 0.15549448 0.1787844  0.19659434\n",
      " 0.23015923 0.29180902 0.32263392 0.37743373 0.42127359 0.47881339\n",
      " 0.52059825 0.5356682  0.55964312 0.57402807 0.57402807 0.6247179\n",
      " 0.6247179  0.54731316 0.54594317 0.51511827 0.45620847 0.44250851\n",
      " 0.34455384 0.34523884 0.27742407 0.23289922 0.19659434 0.13905453\n",
      " 0.10959963 0.10000966 0.07808974 0.05411482 0.03904487 0.02328992\n",
      " 0.01301496 0.01301496 0.00890497 0.00342499 0.00273999 0.00205499] [1.462398   1.54307547 1.62375295 1.70443042 1.7851079  1.86578537\n",
      " 1.94646285 2.02714032 2.1078178  2.18849528 2.26917275 2.34985023\n",
      " 2.4305277  2.51120518 2.59188265 2.67256013 2.7532376  2.83391508\n",
      " 2.91459255 2.99527003 3.0759475  3.15662498 3.23730245 3.31797993\n",
      " 3.3986574  3.47933488 3.56001235 3.64068983 3.72136731 3.80204478\n",
      " 3.88272226 3.96339973 4.04407721 4.12475468 4.20543216 4.28610963\n",
      " 4.36678711 4.44746458 4.52814206 4.60881953 4.68949701 4.77017448\n",
      " 4.85085196 4.93152943 5.01220691 5.09288438 5.17356186 5.25423934\n",
      " 5.33491681 5.41559429 5.49627176 5.57694924 5.65762671 5.73830419\n",
      " 5.81898166 5.89965914 5.98033661 6.06101409 6.14169156 6.22236904\n",
      " 6.30304651]\n"
     ]
    },
    {
     "data": {
      "image/png": "[encoded data removed]",
      "text/plain": [
       "<Figure size 640x480 with 1 Axes>"
      ]
     },
     "metadata": {},
     "output_type": "display_data"
    },
    {
     "name": "stdout",
     "output_type": "stream",
     "text": [
      "Kurtosis: -0.27267797775275016\n",
      "Skewness: -0.21905949768800043\n",
      "D'Agostino's K-squared test(statistics=216.8373902747619, p-value=8.210298872993568e-48)\n"
     ]
    }
   ],
   "source": [
    "tax_id = 10141\n",
    "ylim = [0., 0.65]; bool_ylim = True\n",
    "species_distribution__retrieve_plot_and_fit(stat_taxid_df, tax_id, ylim, bool_ylim)"
   ]
  },
  {
   "cell_type": "code",
   "execution_count": 12,
   "id": "1fc4c5ee-5388-4236-b5a3-f9bcc71a301e",
   "metadata": {},
   "outputs": [
    {
     "name": "stdout",
     "output_type": "stream",
     "text": [
      "ftp.ensembl.org/pub/release-98/genes/cavia_porcellus/\n",
      "protein_coding.genes.cavia_porcellus.nan.ensembl.98.tsv\n"
     ]
    }
   ],
   "source": [
    "print(stat_taxid_df.trunk_genes_path[33355])\n",
    "print(stat_taxid_df.genes_file[33355])"
   ]
  },
  {
   "cell_type": "code",
   "execution_count": null,
   "id": "9a54d280-3b0b-47a4-938b-25eda5332f59",
   "metadata": {},
   "outputs": [],
   "source": []
  }
 ],
 "metadata": {
  "kernelspec": {
   "display_name": "Python 3 (ipykernel)",
   "language": "python",
   "name": "python3"
  },
  "language_info": {
   "codemirror_mode": {
    "name": "ipython",
    "version": 3
   },
   "file_extension": ".py",
   "mimetype": "text/x-python",
   "name": "python",
   "nbconvert_exporter": "python",
   "pygments_lexer": "ipython3",
   "version": "3.10.12"
  }
 },
 "nbformat": 4,
 "nbformat_minor": 5
}
