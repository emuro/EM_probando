{
 "cells": [
  {
   "cell_type": "markdown",
   "id": "819bd65b-f5b5-4644-a058-0a8c843d4fe8",
   "metadata": {},
   "source": [
    "# Distribution of the lengths of the protein coding genes \n",
    "**for the different species gene annotations from Ensembl**"
   ]
  },
  {
   "cell_type": "markdown",
   "id": "8046a185-31f3-48b1-83f7-947911a96d15",
   "metadata": {},
   "source": [
    "## Import python modules"
   ]
  },
  {
   "cell_type": "code",
   "execution_count": 1,
   "id": "51b0a90c",
   "metadata": {},
   "outputs": [],
   "source": [
    "import numpy as np\n",
    "import matplotlib.pyplot as plt\n",
    "from scipy import stats\n",
    "import os \n",
    "import pandas as pd\n",
    "import math\n",
    "\n",
    "# BASE_PATH\n",
    "system = list(os.uname())[0]\n",
    "if system == 'Linux':\n",
    "    BASE_PATH = \"/media/emuro/Nubya/\"\n",
    "elif system == 'Darwin':\n",
    "    BASE_PATH = \"/Volumes/Nubya/\"  # or Wes; BIRD\n",
    "RESULTS_GENE_LEN_BASE_PATH = BASE_PATH + \"results/geneLength/\"\n",
    "ANALYSIS_GENE_LEN_BASE_PATH = RESULTS_GENE_LEN_BASE_PATH + \"outputInputFiles/analysis/\" \n",
    "\n",
    "STAT_FILE_SPECIES_PATH = \"../../../main_tables/\"\n",
    "ENSEMBL_TAXID_PATH = STAT_FILE_SPECIES_PATH + \"extra_tables/\"\n",
    "GO_PATH = ANALYSIS_GENE_LEN_BASE_PATH + \"peak_receptors/ensembl_annotation__cavia_porcellus/AmiGO_and_biomart/\""
   ]
  },
  {
   "cell_type": "markdown",
   "id": "c7b6d3b5",
   "metadata": {},
   "source": [
    "## The protein coding gene length distributions for the different species"
   ]
  },
  {
   "cell_type": "markdown",
   "id": "d509543a-9bbf-4428-bb98-a287201ef79d",
   "metadata": {},
   "source": [
    "### Retrieving the statistical descriptions of the gene length's distributions and the taxonomy ids"
   ]
  },
  {
   "cell_type": "markdown",
   "id": "3a99f2a8-5073-440f-88be-bf0def58ea9d",
   "metadata": {
    "tags": []
   },
   "source": [
    "#### Statistical description "
   ]
  },
  {
   "cell_type": "code",
   "execution_count": 2,
   "id": "e96ab72e-e702-4020-814a-625c86dd44ee",
   "metadata": {},
   "outputs": [
    {
     "name": "stdout",
     "output_type": "stream",
     "text": [
      "The statistical descriptions of the protein coding gene distributions for the different species is in:\n",
      " ../../../main_tables/stat_protCodGenes.tsv \n",
      "\n"
     ]
    },
    {
     "data": {
      "text/html": [
       "<div>\n",
       "<style scoped>\n",
       "    .dataframe tbody tr th:only-of-type {\n",
       "        vertical-align: middle;\n",
       "    }\n",
       "\n",
       "    .dataframe tbody tr th {\n",
       "        vertical-align: top;\n",
       "    }\n",
       "\n",
       "    .dataframe thead th {\n",
       "        text-align: right;\n",
       "    }\n",
       "</style>\n",
       "<table border=\"1\" class=\"dataframe\">\n",
       "  <thead>\n",
       "    <tr style=\"text-align: right;\">\n",
       "      <th></th>\n",
       "      <th>division_8</th>\n",
       "      <th>species</th>\n",
       "      <th>trunk_genes_path</th>\n",
       "      <th>genes_file</th>\n",
       "      <th>count</th>\n",
       "      <th>mean</th>\n",
       "      <th>var</th>\n",
       "      <th>log10_mean</th>\n",
       "      <th>log10_var</th>\n",
       "    </tr>\n",
       "  </thead>\n",
       "  <tbody>\n",
       "    <tr>\n",
       "      <th>0</th>\n",
       "      <td>archaea</td>\n",
       "      <td>methanobacterium_bryantii_gca_002287175</td>\n",
       "      <td>ftp.ensemblgenomes.org/pub/bacteria/release-49...</td>\n",
       "      <td>protein_coding.genes.methanobacterium_bryantii...</td>\n",
       "      <td>3168</td>\n",
       "      <td>840.404040</td>\n",
       "      <td>422343.848699</td>\n",
       "      <td>2.827684</td>\n",
       "      <td>0.082694</td>\n",
       "    </tr>\n",
       "    <tr>\n",
       "      <th>1</th>\n",
       "      <td>archaea</td>\n",
       "      <td>methanobacterium_formicicum_gca_000762265</td>\n",
       "      <td>ftp.ensemblgenomes.org/pub/bacteria/release-49...</td>\n",
       "      <td>protein_coding.genes.methanobacterium_formicic...</td>\n",
       "      <td>2352</td>\n",
       "      <td>862.427296</td>\n",
       "      <td>347239.612747</td>\n",
       "      <td>2.849723</td>\n",
       "      <td>0.076317</td>\n",
       "    </tr>\n",
       "  </tbody>\n",
       "</table>\n",
       "</div>"
      ],
      "text/plain": [
       "  division_8                                    species  \\\n",
       "0    archaea    methanobacterium_bryantii_gca_002287175   \n",
       "1    archaea  methanobacterium_formicicum_gca_000762265   \n",
       "\n",
       "                                    trunk_genes_path  \\\n",
       "0  ftp.ensemblgenomes.org/pub/bacteria/release-49...   \n",
       "1  ftp.ensemblgenomes.org/pub/bacteria/release-49...   \n",
       "\n",
       "                                          genes_file  count        mean  \\\n",
       "0  protein_coding.genes.methanobacterium_bryantii...   3168  840.404040   \n",
       "1  protein_coding.genes.methanobacterium_formicic...   2352  862.427296   \n",
       "\n",
       "             var  log10_mean  log10_var  \n",
       "0  422343.848699    2.827684   0.082694  \n",
       "1  347239.612747    2.849723   0.076317  "
      ]
     },
     "metadata": {},
     "output_type": "display_data"
    },
    {
     "name": "stdout",
     "output_type": "stream",
     "text": [
      "(33627, 9)\n"
     ]
    }
   ],
   "source": [
    "# statistics on length distribution for different species     \n",
    "stat_file = STAT_FILE_SPECIES_PATH + \"stat_protCodGenes.tsv\"\n",
    "print(\"The statistical descriptions of the protein coding gene distributions for the different species is in:\\n\", stat_file, \"\\n\")\n",
    "\n",
    "# retrieve data and diminish the number of columns\n",
    "stat_df = pd.read_csv(stat_file, low_memory=False, sep=\"\\t\")\n",
    "stat_df = stat_df[[\"division_8\", \"species\", \"trunk_genes_path\", \"genes_file\", \"count\", \"mean\", \"var\"] + [\"log10_mean\", \"log10_var\"]]\n",
    "\n",
    "# visualize data\n",
    "pd.set_option('display.max_columns', None)\n",
    "if 1:\n",
    "    display(stat_df.head(2))\n",
    "    print(stat_df.shape)"
   ]
  },
  {
   "cell_type": "markdown",
   "id": "67606c91-2073-46be-8c74-644a8e1512be",
   "metadata": {},
   "source": [
    "#### Taxonomy id for each species from Ensembl"
   ]
  },
  {
   "cell_type": "code",
   "execution_count": 3,
   "id": "171e31a8-0661-4dc9-bfac-6b4c42c01a87",
   "metadata": {},
   "outputs": [
    {
     "data": {
      "text/html": [
       "<div>\n",
       "<style scoped>\n",
       "    .dataframe tbody tr th:only-of-type {\n",
       "        vertical-align: middle;\n",
       "    }\n",
       "\n",
       "    .dataframe tbody tr th {\n",
       "        vertical-align: top;\n",
       "    }\n",
       "\n",
       "    .dataframe thead th {\n",
       "        text-align: right;\n",
       "    }\n",
       "</style>\n",
       "<table border=\"1\" class=\"dataframe\">\n",
       "  <thead>\n",
       "    <tr style=\"text-align: right;\">\n",
       "      <th></th>\n",
       "      <th>name</th>\n",
       "      <th>species</th>\n",
       "      <th>tax_id</th>\n",
       "    </tr>\n",
       "  </thead>\n",
       "  <tbody>\n",
       "    <tr>\n",
       "      <th>0</th>\n",
       "      <td>Spiny chromis</td>\n",
       "      <td>acanthochromis_polyacanthus</td>\n",
       "      <td>80966</td>\n",
       "    </tr>\n",
       "    <tr>\n",
       "      <th>1</th>\n",
       "      <td>Panda</td>\n",
       "      <td>ailuropoda_melanoleuca</td>\n",
       "      <td>9646</td>\n",
       "    </tr>\n",
       "  </tbody>\n",
       "</table>\n",
       "</div>"
      ],
      "text/plain": [
       "            name                      species  tax_id\n",
       "0  Spiny chromis  acanthochromis_polyacanthus   80966\n",
       "1          Panda       ailuropoda_melanoleuca    9646"
      ]
     },
     "metadata": {},
     "output_type": "display_data"
    },
    {
     "name": "stdout",
     "output_type": "stream",
     "text": [
      "(33021, 3)\n"
     ]
    }
   ],
   "source": [
    "# ENSEMBL tax_id     \n",
    "ensembl_taxId_file = ENSEMBL_TAXID_PATH + \"species_Ensembl.tsv\" \n",
    "\n",
    "# retrieve data\n",
    "taxid_df = pd.read_csv(ensembl_taxId_file, sep=\"\\t\")\n",
    "taxid_df = taxid_df[[\"#name\", \"species\", \"taxonomy_id\"]]\n",
    "taxid_df.rename(columns = {\"#name\" : 'name', \"taxonomy_id\" : 'tax_id'}, inplace = True)\n",
    "\n",
    "# visualize data\n",
    "pd.set_option('display.max_columns', None)\n",
    "if 1:\n",
    "    display(taxid_df.head(2))\n",
    "    print(taxid_df.shape)"
   ]
  },
  {
   "cell_type": "code",
   "execution_count": 4,
   "id": "c8b00dd3-85b7-4e13-8245-55406669aafb",
   "metadata": {},
   "outputs": [
    {
     "data": {
      "text/html": [
       "<div>\n",
       "<style scoped>\n",
       "    .dataframe tbody tr th:only-of-type {\n",
       "        vertical-align: middle;\n",
       "    }\n",
       "\n",
       "    .dataframe tbody tr th {\n",
       "        vertical-align: top;\n",
       "    }\n",
       "\n",
       "    .dataframe thead th {\n",
       "        text-align: right;\n",
       "    }\n",
       "</style>\n",
       "<table border=\"1\" class=\"dataframe\">\n",
       "  <thead>\n",
       "    <tr style=\"text-align: right;\">\n",
       "      <th></th>\n",
       "      <th>division_8</th>\n",
       "      <th>species</th>\n",
       "      <th>trunk_genes_path</th>\n",
       "      <th>genes_file</th>\n",
       "      <th>count</th>\n",
       "      <th>mean</th>\n",
       "      <th>var</th>\n",
       "      <th>log10_mean</th>\n",
       "      <th>log10_var</th>\n",
       "      <th>name</th>\n",
       "      <th>tax_id</th>\n",
       "    </tr>\n",
       "  </thead>\n",
       "  <tbody>\n",
       "    <tr>\n",
       "      <th>0</th>\n",
       "      <td>archaea</td>\n",
       "      <td>methanobacterium_bryantii_gca_002287175</td>\n",
       "      <td>ftp.ensemblgenomes.org/pub/bacteria/release-49...</td>\n",
       "      <td>protein_coding.genes.methanobacterium_bryantii...</td>\n",
       "      <td>3168</td>\n",
       "      <td>840.404040</td>\n",
       "      <td>422343.848699</td>\n",
       "      <td>2.827684</td>\n",
       "      <td>0.082694</td>\n",
       "      <td>Methanobacterium bryantii str. M.o.H. (GCA_002...</td>\n",
       "      <td>2161</td>\n",
       "    </tr>\n",
       "    <tr>\n",
       "      <th>1</th>\n",
       "      <td>archaea</td>\n",
       "      <td>methanobacterium_formicicum_gca_000762265</td>\n",
       "      <td>ftp.ensemblgenomes.org/pub/bacteria/release-49...</td>\n",
       "      <td>protein_coding.genes.methanobacterium_formicic...</td>\n",
       "      <td>2352</td>\n",
       "      <td>862.427296</td>\n",
       "      <td>347239.612747</td>\n",
       "      <td>2.849723</td>\n",
       "      <td>0.076317</td>\n",
       "      <td>Methanobacterium formicicum str. BRM9 (GCA_000...</td>\n",
       "      <td>2162</td>\n",
       "    </tr>\n",
       "  </tbody>\n",
       "</table>\n",
       "</div>"
      ],
      "text/plain": [
       "  division_8                                    species  \\\n",
       "0    archaea    methanobacterium_bryantii_gca_002287175   \n",
       "1    archaea  methanobacterium_formicicum_gca_000762265   \n",
       "\n",
       "                                    trunk_genes_path  \\\n",
       "0  ftp.ensemblgenomes.org/pub/bacteria/release-49...   \n",
       "1  ftp.ensemblgenomes.org/pub/bacteria/release-49...   \n",
       "\n",
       "                                          genes_file  count        mean  \\\n",
       "0  protein_coding.genes.methanobacterium_bryantii...   3168  840.404040   \n",
       "1  protein_coding.genes.methanobacterium_formicic...   2352  862.427296   \n",
       "\n",
       "             var  log10_mean  log10_var  \\\n",
       "0  422343.848699    2.827684   0.082694   \n",
       "1  347239.612747    2.849723   0.076317   \n",
       "\n",
       "                                                name  tax_id  \n",
       "0  Methanobacterium bryantii str. M.o.H. (GCA_002...    2161  \n",
       "1  Methanobacterium formicicum str. BRM9 (GCA_000...    2162  "
      ]
     },
     "metadata": {},
     "output_type": "display_data"
    },
    {
     "name": "stdout",
     "output_type": "stream",
     "text": [
      "(33630, 11)\n",
      "count     33630.00000\n",
      "mean     907971.98052\n",
      "std      846961.42748\n",
      "min          23.00000\n",
      "25%       33888.25000\n",
      "50%      696032.00000\n",
      "75%     1750203.25000\n",
      "max     2676064.00000\n",
      "Name: tax_id, dtype: float64\n",
      "(33630, 11)\n"
     ]
    }
   ],
   "source": [
    "# Use pandas.merge() on multiple columns\n",
    "stat_taxid_df = pd.merge(stat_df, taxid_df, on=['species'])\n",
    "#stat_taxid_df = stat_taxid_df[stat_taxid_df['tax_id'].notna()]\n",
    "if 1:\n",
    "    display(stat_taxid_df.head(2))\n",
    "    print(stat_taxid_df.shape)\n",
    "    pd.set_option('display.float_format', lambda x: '%.5f' % x)\n",
    "    print(stat_taxid_df['tax_id'].describe())\n",
    "    if 1: # no need\n",
    "        stat_taxid_df = stat_taxid_df[stat_taxid_df['tax_id'].notna()]\n",
    "        print(stat_taxid_df.shape)"
   ]
  },
  {
   "cell_type": "markdown",
   "id": "b7864e7f-66e1-4115-9a45-c2d020171688",
   "metadata": {
    "tags": []
   },
   "source": [
    "## Python functions"
   ]
  },
  {
   "cell_type": "code",
   "execution_count": 5,
   "id": "af6c0ad2-9985-4285-887a-c413505d46e6",
   "metadata": {},
   "outputs": [],
   "source": [
    "# species' stats for length distribution\n",
    "def get_df_for_taxid(df, taxid):\n",
    "     return df.loc[df[\"tax_id\"]==taxid].copy()"
   ]
  },
  {
   "cell_type": "markdown",
   "id": "c200a4f3",
   "metadata": {},
   "source": [
    "#### [Log-normal distribution](https://en.wikipedia.org/wiki/Log-normal_distribution)\n",
    "It is a continuous probability distribution of a random variable whose logarithm is normally distributed. For human-readability the decimal logarithm (log10) is used.\n",
    "  \n",
    "**The PDF (Probability Density Function) of a normal distribution is**  \n",
    "$ f(x) = \\frac{1}{ \\sigma \\sqrt{2 \\pi}} e^- \\frac{1}{2} {(\\frac{(x-\\mu)}{\\sigma})}^{2} $"
   ]
  },
  {
   "cell_type": "code",
   "execution_count": 6,
   "id": "1371569f-3901-448e-871a-828de23bd9d9",
   "metadata": {},
   "outputs": [],
   "source": [
    "#### Function to plot the log-normal distribution\n",
    "# blue: Observation\n",
    "# red: Theoretical/Simulation\n",
    "##########################################\n",
    "def plot_log_norm (log10_len, mu, sigma, N, title, subtitle, xlabel, ylabel, my_ylimit=[0, 2.0]): # N is number of \n",
    "    print(\"µ:\", mu, \"\\tσ:\", sigma)\n",
    "    my_normal_dist = np.random.normal(mu, sigma, N)\n",
    "    count, bins, *rest = plt.hist(log10_len, 60, density=True, alpha=0.8, edgecolor='black') # plot 60 bins\n",
    "    if 0:\n",
    "        print(count, bins)\n",
    "    \n",
    "    # plt.hist(my_normal_dist, 30, density=True, alpha=0.25, color=\"r\")\n",
    "    # print(count); print(bins); print(*rest)\n",
    "    \n",
    "    plt.plot(bins, 1/(sigma * np.sqrt(2 * np.pi)) *\n",
    "             np.exp( - (bins - mu)**2 / (2 * sigma**2) ),\n",
    "             linewidth=2, color='r', alpha=0.5)\n",
    "     \n",
    "    # mean\n",
    "    plt.vlines(x = mu, ymin = 0, ymax = 0.2, colors = 'white', label = 'mean')\n",
    "    plt.xlim([1,7]); plt.ylim(my_ylimit)\n",
    "    plt.suptitle(title, style='italic'); plt.title(subtitle + \" (\" + str(int(N)) +\")\")\n",
    "    plt.xlabel(xlabel); plt.ylabel(ylabel)\n",
    "    plt.show()"
   ]
  },
  {
   "cell_type": "code",
   "execution_count": 7,
   "id": "ee7bf25c-d0a0-4028-9af0-2e8f7979a15f",
   "metadata": {},
   "outputs": [],
   "source": [
    "def does_it_fits_normal(data_observed): \n",
    "    # Kurtosis and Skewness\n",
    "    # =====================\n",
    "    print('Kurtosis:', stats.kurtosis(data_observed))\n",
    "    print('Skewness:', stats.skew(data_observed))\n",
    "    # D'Agostino's K-squared test\n",
    "    # ===========================\n",
    "    k2, p_value = stats.normaltest(data_observed)\n",
    "    print(f\"D'Agostino's K-squared test(statistics={k2}, p-value={p_value})\")\n",
    "    #\n",
    "    # Mathematicaly it ends up beeing a theoretical log-normal when.\n",
    "    #    - Kurtosis o Skewness: $\\leq -1$ o $\\geq 1$ \n",
    "    #    - D'Agostino's K-squared test: p-value $ \\leq 0.05 $, becuase it rejects the null hypothesis "
   ]
  },
  {
   "cell_type": "code",
   "execution_count": 8,
   "id": "1bcc7a1e-2408-46a8-af94-026a08044e94",
   "metadata": {},
   "outputs": [],
   "source": [
    "# The next function performs the whole analysis for a tax_id\n",
    "def species_distribution__retrieve_plot_and_fit(stat_taxid_df, tax_id, ylim, bool_ylim):\n",
    "    species_df = get_df_for_taxid(stat_taxid_df, tax_id)\n",
    "    species_df.drop_duplicates(subset=['tax_id'], inplace=True, keep='last')\n",
    "    display(species_df)\n",
    "    \n",
    "    # system dependencies\n",
    "    system = list(os.uname())[0]\n",
    "    if system == 'Linux':\n",
    "        our_mnt_dir = \"/media/emuro/Nubya/\" # my disks: Nubya, Wes\n",
    "    elif system == 'Darwin':\n",
    "        our_mnt_dir = \"/Volumes/Wes/\" # my disks: Wes, Nubya \n",
    "    genes_f = our_mnt_dir + \"results/geneLength/\" + species_df[\"trunk_genes_path\"].item() + species_df[\"genes_file\"].item()    \n",
    "    # retrieve data\n",
    "    genes_df = pd.read_csv(genes_f, sep=\"\\t\")\n",
    "\n",
    "    # visualize data\n",
    "    pd.set_option('display.max_columns', None)\n",
    "    if 0:\n",
    "        display(genes_df.head(2))\n",
    "        print(genes_df.shape)\n",
    "    \n",
    "    # plot the distributions: observed and theoretical\n",
    "    genes_df[\"log10_length\"] = genes_df[\"length\"].apply(np.log10)\n",
    "    title = species_df[\"species\"].item().capitalize(); subtitle = \"Protein coding genes\";  xlabel = \"$log_{10}(length)$\"; ylabel = \"Probability density function\"\n",
    "    if bool_ylim:\n",
    "        plot_log_norm (genes_df[\"log10_length\"], species_df[\"log10_mean\"].item(), math.sqrt(species_df[\"log10_var\"].item()), species_df[\"count\"].item(), \n",
    "                       title, subtitle, xlabel, ylabel, ylim)  \n",
    "    else:\n",
    "        plot_log_norm (genes_df[\"log10_length\"], species_df[\"log10_mean\"].item(), math.sqrt(species_df[\"log10_var\"].item()), species_df[\"count\"].item(), \n",
    "                       title, subtitle, xlabel, ylabel, [0, 2.0])  \n",
    "    \n",
    "    # fit to normal\n",
    "    does_it_fits_normal(genes_df[\"log10_length\"])\n",
    "\n",
    "\n",
    "\n",
    "def species_distribution__retrieve_filter_plot_and_fit(stat_taxid_df, tax_id, ylim, bool_ylim, genes_l):\n",
    "    species_df = get_df_for_taxid(stat_taxid_df, tax_id)\n",
    "    species_df.drop_duplicates(subset=['tax_id'], inplace=True, keep='last')\n",
    "    display(species_df)\n",
    "    \n",
    "    # system dependencies\n",
    "    system = list(os.uname())[0]\n",
    "    if system == 'Linux':\n",
    "        our_mnt_dir = \"/media/emuro/Nubya/\" # my disks: Nubya, Wes\n",
    "    elif system == 'Darwin':\n",
    "        our_mnt_dir = \"/Volumes/Wes/\" # my disks: Wes, Nubya \n",
    "    genes_f = our_mnt_dir + \"results/geneLength/\" + species_df[\"trunk_genes_path\"].item() + species_df[\"genes_file\"].item()    \n",
    "    # retrieve data\n",
    "    genes_df = pd.read_csv(genes_f, sep=\"\\t\")\n",
    "\n",
    "    cond = ~genes_df[\"gene_id\"].isin(genes_l)\n",
    "    genes_df = genes_df[cond]\n",
    "    \n",
    "    # visualize data\n",
    "    pd.set_option('display.max_columns', None)\n",
    "    if 1:\n",
    "        display(genes_df.head(2))\n",
    "        print(genes_df.shape)\n",
    "    \n",
    "    # plot the distributions: observed and theoretical\n",
    "    genes_df[\"log10_length\"] = genes_df[\"length\"].apply(np.log10)\n",
    "    print(genes_df.head(2))\n",
    "    \n",
    "    title = species_df[\"species\"].item().capitalize(); subtitle = \"Other protein coding genes\";  xlabel = \"$log_{10}(length)$\"; ylabel = \"Probability density function\"\n",
    "    if bool_ylim:\n",
    "        plot_log_norm (genes_df[\"log10_length\"], species_df[\"log10_mean\"].item(), math.sqrt(species_df[\"log10_var\"].item()), species_df[\"count\"].item()-len(genes_l), \n",
    "                       title, subtitle, xlabel, ylabel, ylim)  \n",
    "    else:\n",
    "        plot_log_norm (genes_df[\"log10_length\"], species_df[\"log10_mean\"].item(), math.sqrt(species_df[\"log10_var\"].item()), species_df[\"count\"].item()-len(genes_l), \n",
    "                       title, subtitle, xlabel, ylabel, [0, 2.0])  \n",
    "    \n",
    "    # fit to normal\n",
    "    does_it_fits_normal(genes_df[\"log10_length\"])\n",
    "    #\n",
    "    return genes_df\n"
   ]
  },
  {
   "cell_type": "markdown",
   "id": "2111fd8f-02db-4b6b-b70d-50d386b34b0c",
   "metadata": {},
   "source": [
    "## Distributions for different species:"
   ]
  },
  {
   "cell_type": "markdown",
   "id": "ad4e7dad-7c01-48e7-8fea-87433d28b6f7",
   "metadata": {},
   "source": [
    "## Fig S2"
   ]
  },
  {
   "cell_type": "markdown",
   "id": "f599574b-98e8-4a98-ae45-4395c1aa7359",
   "metadata": {},
   "source": [
    "### _Cavia porcellus_ (tax\\_id = 10141)"
   ]
  },
  {
   "cell_type": "code",
   "execution_count": 9,
   "id": "efcee75a-3124-4468-b560-97e3e89193ac",
   "metadata": {},
   "outputs": [
    {
     "data": {
      "text/html": [
       "<div>\n",
       "<style scoped>\n",
       "    .dataframe tbody tr th:only-of-type {\n",
       "        vertical-align: middle;\n",
       "    }\n",
       "\n",
       "    .dataframe tbody tr th {\n",
       "        vertical-align: top;\n",
       "    }\n",
       "\n",
       "    .dataframe thead th {\n",
       "        text-align: right;\n",
       "    }\n",
       "</style>\n",
       "<table border=\"1\" class=\"dataframe\">\n",
       "  <thead>\n",
       "    <tr style=\"text-align: right;\">\n",
       "      <th></th>\n",
       "      <th>division_8</th>\n",
       "      <th>species</th>\n",
       "      <th>trunk_genes_path</th>\n",
       "      <th>genes_file</th>\n",
       "      <th>count</th>\n",
       "      <th>mean</th>\n",
       "      <th>var</th>\n",
       "      <th>log10_mean</th>\n",
       "      <th>log10_var</th>\n",
       "      <th>name</th>\n",
       "      <th>tax_id</th>\n",
       "    </tr>\n",
       "  </thead>\n",
       "  <tbody>\n",
       "    <tr>\n",
       "      <th>33355</th>\n",
       "      <td>vertebrates</td>\n",
       "      <td>cavia_porcellus</td>\n",
       "      <td>ftp.ensembl.org/pub/release-98/genes/cavia_por...</td>\n",
       "      <td>protein_coding.genes.cavia_porcellus.nan.ensem...</td>\n",
       "      <td>18095</td>\n",
       "      <td>44419.20519</td>\n",
       "      <td>8237268311.70416</td>\n",
       "      <td>4.17595</td>\n",
       "      <td>0.46981</td>\n",
       "      <td>Guinea Pig</td>\n",
       "      <td>10141</td>\n",
       "    </tr>\n",
       "  </tbody>\n",
       "</table>\n",
       "</div>"
      ],
      "text/plain": [
       "        division_8          species  \\\n",
       "33355  vertebrates  cavia_porcellus   \n",
       "\n",
       "                                        trunk_genes_path  \\\n",
       "33355  ftp.ensembl.org/pub/release-98/genes/cavia_por...   \n",
       "\n",
       "                                              genes_file  count        mean  \\\n",
       "33355  protein_coding.genes.cavia_porcellus.nan.ensem...  18095 44419.20519   \n",
       "\n",
       "                   var  log10_mean  log10_var        name  tax_id  \n",
       "33355 8237268311.70416     4.17595    0.46981  Guinea Pig   10141  "
      ]
     },
     "metadata": {},
     "output_type": "display_data"
    },
    {
     "name": "stdout",
     "output_type": "stream",
     "text": [
      "µ: 4.17595294995147 \tσ: 0.6854262938675558\n"
     ]
    },
    {
     "data": {
      "image/png": "[encoded data removed]",
      "text/plain": [
       "<Figure size 640x480 with 1 Axes>"
      ]
     },
     "metadata": {},
     "output_type": "display_data"
    },
    {
     "name": "stdout",
     "output_type": "stream",
     "text": [
      "Kurtosis: -0.27267797775275016\n",
      "Skewness: -0.21905949768800043\n",
      "D'Agostino's K-squared test(statistics=216.8373902747619, p-value=8.210298872993568e-48)\n"
     ]
    }
   ],
   "source": [
    "tax_id = 10141\n",
    "ylim = [0., 0.65]; bool_ylim = True\n",
    "\n",
    "# plot the dist\n",
    "species_distribution__retrieve_plot_and_fit(stat_taxid_df, tax_id, ylim, bool_ylim)"
   ]
  },
  {
   "cell_type": "code",
   "execution_count": null,
   "id": "f58896c6-98bc-40da-9ecc-e23ec9ff7a5d",
   "metadata": {},
   "outputs": [],
   "source": []
  },
  {
   "cell_type": "markdown",
   "id": "6f087fdb-27c1-4d63-9cab-c3c642f24f1b",
   "metadata": {},
   "source": [
    "### Get genes of species"
   ]
  },
  {
   "cell_type": "code",
   "execution_count": 10,
   "id": "2c0827a3-2217-4f8c-8877-de28887e71bf",
   "metadata": {},
   "outputs": [
    {
     "name": "stdout",
     "output_type": "stream",
     "text": [
      "The genes are in: /media/emuro/Nubya/results/geneLength/ftp.ensembl.org/pub/release-98/genes/cavia_porcellus/protein_coding.genes.cavia_porcellus.nan.ensembl.98.tsv \n",
      "genes_df:\n",
      "    Unnamed: 0      contig strand     start       end         biotype  \\\n",
      "0           0  DS562941.1      -    700996    701025  protein_coding   \n",
      "1           1  DS562871.1      -  24970644  24970718  protein_coding   \n",
      "\n",
      "              gene_id gene_name  length  diffLength  \n",
      "0  ENSCPOG00000034073       NaN      29          45  \n",
      "1  ENSCPOG00000030150       NaN      74           3  \n",
      "(18095, 10)\n",
      "18095\n"
     ]
    }
   ],
   "source": [
    "# Get genes of species \n",
    "species_name =  \"cavia_porcellus\"\n",
    "cond = stat_taxid_df[\"species\"] == species_name\n",
    "sp_df = stat_taxid_df.loc[cond]\n",
    "genes_f = RESULTS_GENE_LEN_BASE_PATH + sp_df[\"trunk_genes_path\"].values[0] + sp_df[\"genes_file\"].values[0]\n",
    "genes_df = pd.read_csv(genes_f, low_memory=False, sep=\"\\t\")\n",
    "if 1:\n",
    "    print(\"The genes are in:\", genes_f, \"\\ngenes_df:\\n\", genes_df.head(2))\n",
    "    print(genes_df.shape)\n",
    "    print(len(genes_df['gene_id'].unique()))"
   ]
  },
  {
   "cell_type": "code",
   "execution_count": null,
   "id": "aa7d1d2b-4c4f-462a-874c-bca53a84e305",
   "metadata": {},
   "outputs": [],
   "source": []
  },
  {
   "cell_type": "markdown",
   "id": "fd7f3690-fd6d-437d-ab70-e1eff7d5d382",
   "metadata": {},
   "source": [
    "### Get SR-genes to be filtered"
   ]
  },
  {
   "cell_type": "code",
   "execution_count": 11,
   "id": "07e07f1b-b170-45b7-9ab3-bb98fb59c15c",
   "metadata": {},
   "outputs": [
    {
     "name": "stdout",
     "output_type": "stream",
     "text": [
      "998\n",
      "Sensory receptors genes are in: /media/emuro/Nubya/results/geneLength/outputInputFiles/analysis/peak_receptors/ensembl_annotation__cavia_porcellus/AmiGO_and_biomart/uniqGene__sensoryPerception_and_receptor__biomart.txt \n",
      "genes_df:\n",
      "      Unnamed: 0      contig strand    start      end         biotype  \\\n",
      "235         235  DS562883.1      -  4934667  4935107  protein_coding   \n",
      "262         262  DS562917.1      -  2394130  2394603  protein_coding   \n",
      "\n",
      "                gene_id gene_name  length  diffLength  \n",
      "235  ENSCPOG00000021389       NaN     440           2  \n",
      "262  ENSCPOG00000020794       NaN     473           0  \n",
      "(998, 10)\n",
      "998\n"
     ]
    }
   ],
   "source": [
    "sr_genes_f = GO_PATH + \"uniqGene__sensoryPerception_and_receptor__biomart.txt\"\n",
    "sr_genes_df = pd.read_csv(sr_genes_f, names=[\"gene_id\"])\n",
    "sr_genes_l = sr_genes_df[\"gene_id\"].unique().tolist()\n",
    "num_of_sr_genes = len(sr_genes_l)\n",
    "print(num_of_sr_genes)\n",
    "\n",
    "sr_genes_df = genes_df[genes_df[\"gene_id\"].isin(sr_genes_l)]\n",
    "if 1:\n",
    "    print(\"Sensory receptors genes are in:\", sr_genes_f, \"\\ngenes_df:\\n\", sr_genes_df.head(2))\n",
    "    print(sr_genes_df.shape)\n",
    "    print(len(sr_genes_df['gene_id'].unique()))"
   ]
  },
  {
   "cell_type": "markdown",
   "id": "de15136d-baf6-491b-9ba7-de0d64573397",
   "metadata": {},
   "source": [
    "## Plot SR-genes distribution"
   ]
  },
  {
   "cell_type": "code",
   "execution_count": 12,
   "id": "750474fc-f716-41c0-a391-9cccb3dad99a",
   "metadata": {},
   "outputs": [
    {
     "data": {
      "image/png": "[encoded data removed]",
      "text/plain": [
       "<Figure size 640x480 with 1 Axes>"
      ]
     },
     "metadata": {},
     "output_type": "display_data"
    }
   ],
   "source": [
    "count, bins, *rest = plt.hist(np.log10(sr_genes_df.length.to_list()), 60, density=False, alpha=0.8, edgecolor='black') # plot 60 bins\n",
    "if 0:\n",
    "    print(count, bins)\n",
    "    \n",
    "    # plt.hist(my_normal_dist, 30, density=True, alpha=0.25, color=\"r\")\n",
    "    # print(count); print(bins); print(*rest)\n",
    "    \n",
    "title = species_name.capitalize(); subtitle = \"Sensory perception and receptor genes\";  xlabel = \"$log_{10}(length)$\"; ylabel = \"Number of genes\"\n",
    "plt.xlim([1,7]); \n",
    "plt.xlabel(xlabel)\n",
    "plt.ylabel(ylabel)\n",
    "plt.suptitle(title, style='italic'); plt.title(subtitle + \" (\" + str(int(num_of_sr_genes)) +\")\")\n",
    "#    plt.xlabel(xlabel); plt.ylabel(ylabel)\n",
    "plt.show()"
   ]
  },
  {
   "cell_type": "markdown",
   "id": "7c20d226-af53-4d61-ab08-38445d983cf5",
   "metadata": {},
   "source": [
    "## Distribution of protein coding genes but SR-genes (sensory receptor)"
   ]
  },
  {
   "cell_type": "code",
   "execution_count": 13,
   "id": "3cd21dd6-e034-404c-88b4-8010099e779f",
   "metadata": {},
   "outputs": [
    {
     "data": {
      "text/html": [
       "<div>\n",
       "<style scoped>\n",
       "    .dataframe tbody tr th:only-of-type {\n",
       "        vertical-align: middle;\n",
       "    }\n",
       "\n",
       "    .dataframe tbody tr th {\n",
       "        vertical-align: top;\n",
       "    }\n",
       "\n",
       "    .dataframe thead th {\n",
       "        text-align: right;\n",
       "    }\n",
       "</style>\n",
       "<table border=\"1\" class=\"dataframe\">\n",
       "  <thead>\n",
       "    <tr style=\"text-align: right;\">\n",
       "      <th></th>\n",
       "      <th>division_8</th>\n",
       "      <th>species</th>\n",
       "      <th>trunk_genes_path</th>\n",
       "      <th>genes_file</th>\n",
       "      <th>count</th>\n",
       "      <th>mean</th>\n",
       "      <th>var</th>\n",
       "      <th>log10_mean</th>\n",
       "      <th>log10_var</th>\n",
       "      <th>name</th>\n",
       "      <th>tax_id</th>\n",
       "    </tr>\n",
       "  </thead>\n",
       "  <tbody>\n",
       "    <tr>\n",
       "      <th>33355</th>\n",
       "      <td>vertebrates</td>\n",
       "      <td>cavia_porcellus</td>\n",
       "      <td>ftp.ensembl.org/pub/release-98/genes/cavia_por...</td>\n",
       "      <td>protein_coding.genes.cavia_porcellus.nan.ensem...</td>\n",
       "      <td>18095</td>\n",
       "      <td>44419.20519</td>\n",
       "      <td>8237268311.70416</td>\n",
       "      <td>4.17595</td>\n",
       "      <td>0.46981</td>\n",
       "      <td>Guinea Pig</td>\n",
       "      <td>10141</td>\n",
       "    </tr>\n",
       "  </tbody>\n",
       "</table>\n",
       "</div>"
      ],
      "text/plain": [
       "        division_8          species  \\\n",
       "33355  vertebrates  cavia_porcellus   \n",
       "\n",
       "                                        trunk_genes_path  \\\n",
       "33355  ftp.ensembl.org/pub/release-98/genes/cavia_por...   \n",
       "\n",
       "                                              genes_file  count        mean  \\\n",
       "33355  protein_coding.genes.cavia_porcellus.nan.ensem...  18095 44419.20519   \n",
       "\n",
       "                   var  log10_mean  log10_var        name  tax_id  \n",
       "33355 8237268311.70416     4.17595    0.46981  Guinea Pig   10141  "
      ]
     },
     "metadata": {},
     "output_type": "display_data"
    },
    {
     "data": {
      "text/html": [
       "<div>\n",
       "<style scoped>\n",
       "    .dataframe tbody tr th:only-of-type {\n",
       "        vertical-align: middle;\n",
       "    }\n",
       "\n",
       "    .dataframe tbody tr th {\n",
       "        vertical-align: top;\n",
       "    }\n",
       "\n",
       "    .dataframe thead th {\n",
       "        text-align: right;\n",
       "    }\n",
       "</style>\n",
       "<table border=\"1\" class=\"dataframe\">\n",
       "  <thead>\n",
       "    <tr style=\"text-align: right;\">\n",
       "      <th></th>\n",
       "      <th>Unnamed: 0</th>\n",
       "      <th>contig</th>\n",
       "      <th>strand</th>\n",
       "      <th>start</th>\n",
       "      <th>end</th>\n",
       "      <th>biotype</th>\n",
       "      <th>gene_id</th>\n",
       "      <th>gene_name</th>\n",
       "      <th>length</th>\n",
       "      <th>diffLength</th>\n",
       "    </tr>\n",
       "  </thead>\n",
       "  <tbody>\n",
       "    <tr>\n",
       "      <th>0</th>\n",
       "      <td>0</td>\n",
       "      <td>DS562941.1</td>\n",
       "      <td>-</td>\n",
       "      <td>700996</td>\n",
       "      <td>701025</td>\n",
       "      <td>protein_coding</td>\n",
       "      <td>ENSCPOG00000034073</td>\n",
       "      <td>NaN</td>\n",
       "      <td>29</td>\n",
       "      <td>45</td>\n",
       "    </tr>\n",
       "    <tr>\n",
       "      <th>1</th>\n",
       "      <td>1</td>\n",
       "      <td>DS562871.1</td>\n",
       "      <td>-</td>\n",
       "      <td>24970644</td>\n",
       "      <td>24970718</td>\n",
       "      <td>protein_coding</td>\n",
       "      <td>ENSCPOG00000030150</td>\n",
       "      <td>NaN</td>\n",
       "      <td>74</td>\n",
       "      <td>3</td>\n",
       "    </tr>\n",
       "  </tbody>\n",
       "</table>\n",
       "</div>"
      ],
      "text/plain": [
       "   Unnamed: 0      contig strand     start       end         biotype  \\\n",
       "0           0  DS562941.1      -    700996    701025  protein_coding   \n",
       "1           1  DS562871.1      -  24970644  24970718  protein_coding   \n",
       "\n",
       "              gene_id gene_name  length  diffLength  \n",
       "0  ENSCPOG00000034073       NaN      29          45  \n",
       "1  ENSCPOG00000030150       NaN      74           3  "
      ]
     },
     "metadata": {},
     "output_type": "display_data"
    },
    {
     "name": "stdout",
     "output_type": "stream",
     "text": [
      "(17097, 10)\n",
      "   Unnamed: 0      contig strand     start       end         biotype  \\\n",
      "0           0  DS562941.1      -    700996    701025  protein_coding   \n",
      "1           1  DS562871.1      -  24970644  24970718  protein_coding   \n",
      "\n",
      "              gene_id gene_name  length  diffLength  log10_length  \n",
      "0  ENSCPOG00000034073       NaN      29          45       1.46240  \n",
      "1  ENSCPOG00000030150       NaN      74           3       1.86923  \n",
      "µ: 4.17595294995147 \tσ: 0.6854262938675558\n"
     ]
    },
    {
     "data": {
      "image/png": "[encoded data removed]",
      "text/plain": [
       "<Figure size 640x480 with 1 Axes>"
      ]
     },
     "metadata": {},
     "output_type": "display_data"
    },
    {
     "name": "stdout",
     "output_type": "stream",
     "text": [
      "Kurtosis: -0.003199617451520087\n",
      "Skewness: -0.24246503303202913\n",
      "D'Agostino's K-squared test(statistics=162.9670813595522, p-value=4.094000740074271e-36)\n"
     ]
    }
   ],
   "source": [
    "tax_id = 10141\n",
    "ylim = [0., 0.65]; bool_ylim = True\n",
    "\n",
    "# plot the dist\n",
    "all_genes_but_sr_df = species_distribution__retrieve_filter_plot_and_fit(stat_taxid_df, tax_id, ylim, bool_ylim, sr_genes_l)"
   ]
  },
  {
   "cell_type": "code",
   "execution_count": null,
   "id": "e8f50c82-13ed-4474-b6ac-e46957f82847",
   "metadata": {},
   "outputs": [],
   "source": []
  }
 ],
 "metadata": {
  "kernelspec": {
   "display_name": "Python 3 (ipykernel)",
   "language": "python",
   "name": "python3"
  },
  "language_info": {
   "codemirror_mode": {
    "name": "ipython",
    "version": 3
   },
   "file_extension": ".py",
   "mimetype": "text/x-python",
   "name": "python",
   "nbconvert_exporter": "python",
   "pygments_lexer": "ipython3",
   "version": "3.10.12"
  }
 },
 "nbformat": 4,
 "nbformat_minor": 5
}
