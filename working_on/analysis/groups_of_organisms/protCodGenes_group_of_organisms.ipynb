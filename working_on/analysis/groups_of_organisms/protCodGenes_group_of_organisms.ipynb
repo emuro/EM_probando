{
 "cells": [
  {
   "cell_type": "markdown",
   "id": "819bd65b-f5b5-4644-a058-0a8c843d4fe8",
   "metadata": {},
   "source": [
    "# Protein coding gene length distributions"
   ]
  },
  {
   "cell_type": "markdown",
   "id": "8046a185-31f3-48b1-83f7-947911a96d15",
   "metadata": {},
   "source": [
    "## Import python modules"
   ]
  },
  {
   "cell_type": "code",
   "execution_count": 1,
   "id": "51b0a90c",
   "metadata": {},
   "outputs": [],
   "source": [
    "import pandas as pd\n",
    "import numpy as np\n",
    "##from scipy import stats\n",
    "##from plotnine import *\n",
    "\n",
    "import sys\n",
    "sys.path.append('../../../lib/')\n",
    "import constants as c"
   ]
  },
  {
   "cell_type": "markdown",
   "id": "c7b6d3b5",
   "metadata": {},
   "source": [
    "## The protein coding gene length distributions for the different species"
   ]
  },
  {
   "cell_type": "markdown",
   "id": "d509543a-9bbf-4428-bb98-a287201ef79d",
   "metadata": {},
   "source": [
    "### Retrieving the statistical descriptions of the gene length's distributions"
   ]
  },
  {
   "cell_type": "markdown",
   "id": "3a99f2a8-5073-440f-88be-bf0def58ea9d",
   "metadata": {
    "tags": []
   },
   "source": [
    "#### Statistical description "
   ]
  },
  {
   "cell_type": "code",
   "execution_count": 2,
   "id": "e96ab72e-e702-4020-814a-625c86dd44ee",
   "metadata": {},
   "outputs": [
    {
     "name": "stdout",
     "output_type": "stream",
     "text": [
      "The statistical descriptions of the protein coding gene distributions for the different species is in:\n",
      " /home/emuro/git/github/EM_geneLength_nature/working_on/analysis/groups_of_organisms/../../../lib/../main_tables/stat_protCodGenes.tsv \n",
      "\n"
     ]
    },
    {
     "data": {
      "text/html": [
       "<div>\n",
       "<style scoped>\n",
       "    .dataframe tbody tr th:only-of-type {\n",
       "        vertical-align: middle;\n",
       "    }\n",
       "\n",
       "    .dataframe tbody tr th {\n",
       "        vertical-align: top;\n",
       "    }\n",
       "\n",
       "    .dataframe thead th {\n",
       "        text-align: right;\n",
       "    }\n",
       "</style>\n",
       "<table border=\"1\" class=\"dataframe\">\n",
       "  <thead>\n",
       "    <tr style=\"text-align: right;\">\n",
       "      <th></th>\n",
       "      <th>division_both_dbs</th>\n",
       "      <th>species</th>\n",
       "      <th>count</th>\n",
       "      <th>mean</th>\n",
       "      <th>var</th>\n",
       "      <th>Lineage</th>\n",
       "      <th>trunk_genes_path</th>\n",
       "    </tr>\n",
       "  </thead>\n",
       "  <tbody>\n",
       "    <tr>\n",
       "      <th>0</th>\n",
       "      <td>archaea</td>\n",
       "      <td>methanobacterium_bryantii_gca_002287175</td>\n",
       "      <td>3168</td>\n",
       "      <td>840.404040</td>\n",
       "      <td>422343.848699</td>\n",
       "      <td>Archaea; Euryarchaeota; Methanomada group; Met...</td>\n",
       "      <td>ftp.ensemblgenomes.org/pub/bacteria/release-49...</td>\n",
       "    </tr>\n",
       "    <tr>\n",
       "      <th>1</th>\n",
       "      <td>archaea</td>\n",
       "      <td>methanobacterium_formicicum_gca_000762265</td>\n",
       "      <td>2352</td>\n",
       "      <td>862.427296</td>\n",
       "      <td>347239.612747</td>\n",
       "      <td>Archaea; Euryarchaeota; Methanomada group; Met...</td>\n",
       "      <td>ftp.ensemblgenomes.org/pub/bacteria/release-49...</td>\n",
       "    </tr>\n",
       "  </tbody>\n",
       "</table>\n",
       "</div>"
      ],
      "text/plain": [
       "  division_both_dbs                                    species  count  \\\n",
       "0           archaea    methanobacterium_bryantii_gca_002287175   3168   \n",
       "1           archaea  methanobacterium_formicicum_gca_000762265   2352   \n",
       "\n",
       "         mean            var  \\\n",
       "0  840.404040  422343.848699   \n",
       "1  862.427296  347239.612747   \n",
       "\n",
       "                                             Lineage  \\\n",
       "0  Archaea; Euryarchaeota; Methanomada group; Met...   \n",
       "1  Archaea; Euryarchaeota; Methanomada group; Met...   \n",
       "\n",
       "                                    trunk_genes_path  \n",
       "0  ftp.ensemblgenomes.org/pub/bacteria/release-49...  \n",
       "1  ftp.ensemblgenomes.org/pub/bacteria/release-49...  "
      ]
     },
     "metadata": {},
     "output_type": "display_data"
    },
    {
     "name": "stdout",
     "output_type": "stream",
     "text": [
      "(33627, 7)\n",
      "bacteria         30714\n",
      "archaea           1229\n",
      "fungi             1014\n",
      "protists           237\n",
      "vertebrates        222\n",
      "invertebrates      115\n",
      "plants              96\n",
      "Name: division_both_dbs, dtype: int64\n",
      "RangeIndex(start=0, stop=33627, step=1)\n"
     ]
    }
   ],
   "source": [
    "# statistics on length distributions \n",
    "stat_file = c.STAT_G_FILE\n",
    "print(\"The statistical descriptions of the protein coding gene distributions for the different species is in:\\n\", stat_file, \"\\n\")\n",
    "\n",
    "# retrieve data and diminish the number of columns\n",
    "stat_df = pd.read_csv(stat_file, low_memory=False, sep=\"\\t\")\n",
    "stat_df = stat_df[[\"division_both_dbs\", \"species\", \"count\", \"mean\", \"var\", \"Lineage\", \"trunk_genes_path\"]] # trunk_genes_path as unique id\n",
    "# visualize data\n",
    "if 1:\n",
    "    pd.set_option('display.max_columns', None)\n",
    "    display(stat_df.head(2))\n",
    "    print(stat_df.shape)\n",
    "    print(stat_df[\"division_both_dbs\"].value_counts())\n",
    "    print(stat_df.index)"
   ]
  },
  {
   "cell_type": "code",
   "execution_count": 3,
   "id": "fd67d7d4-f1a4-4c15-a17a-de4f89bc26e0",
   "metadata": {},
   "outputs": [
    {
     "name": "stdout",
     "output_type": "stream",
     "text": [
      "The statistical descriptions of the protein coding gene distributions for the different species is in:\n",
      " /home/emuro/git/github/EM_geneLength_nature/working_on_tables/stat_protCodGenes_with_ncbiGenomeData.tsv \n",
      "\n"
     ]
    },
    {
     "data": {
      "text/html": [
       "<div>\n",
       "<style scoped>\n",
       "    .dataframe tbody tr th:only-of-type {\n",
       "        vertical-align: middle;\n",
       "    }\n",
       "\n",
       "    .dataframe tbody tr th {\n",
       "        vertical-align: top;\n",
       "    }\n",
       "\n",
       "    .dataframe thead th {\n",
       "        text-align: right;\n",
       "    }\n",
       "</style>\n",
       "<table border=\"1\" class=\"dataframe\">\n",
       "  <thead>\n",
       "    <tr style=\"text-align: right;\">\n",
       "      <th></th>\n",
       "      <th>trunk_genes_path</th>\n",
       "      <th>size_Mbp</th>\n",
       "      <th>gc_percent</th>\n",
       "      <th>group</th>\n",
       "      <th>subgroup</th>\n",
       "    </tr>\n",
       "  </thead>\n",
       "  <tbody>\n",
       "    <tr>\n",
       "      <th>0</th>\n",
       "      <td>ftp.ensemblgenomes.org/pub/bacteria/release-49...</td>\n",
       "      <td>3.46637</td>\n",
       "      <td>33.2</td>\n",
       "      <td>Euryarchaeota</td>\n",
       "      <td>Methanomada group</td>\n",
       "    </tr>\n",
       "    <tr>\n",
       "      <th>1</th>\n",
       "      <td>ftp.ensemblgenomes.org/pub/bacteria/release-49...</td>\n",
       "      <td>2.44999</td>\n",
       "      <td>41.3</td>\n",
       "      <td>Euryarchaeota</td>\n",
       "      <td>Methanomada group</td>\n",
       "    </tr>\n",
       "  </tbody>\n",
       "</table>\n",
       "</div>"
      ],
      "text/plain": [
       "                                    trunk_genes_path  size_Mbp gc_percent  \\\n",
       "0  ftp.ensemblgenomes.org/pub/bacteria/release-49...   3.46637       33.2   \n",
       "1  ftp.ensemblgenomes.org/pub/bacteria/release-49...   2.44999       41.3   \n",
       "\n",
       "           group           subgroup  \n",
       "0  Euryarchaeota  Methanomada group  \n",
       "1  Euryarchaeota  Methanomada group  "
      ]
     },
     "metadata": {},
     "output_type": "display_data"
    },
    {
     "name": "stdout",
     "output_type": "stream",
     "text": [
      "(33627, 5)\n"
     ]
    }
   ],
   "source": [
    "# statistics on length distributions \n",
    "stat_genome_file = \"/home/emuro/git/github/EM_geneLength_nature/working_on_tables/stat_protCodGenes_with_ncbiGenomeData.tsv\"\n",
    "print(\"The statistical descriptions of the protein coding gene distributions for the different species is in:\\n\", stat_genome_file, \"\\n\")\n",
    "\n",
    "# retrieve data and diminish the number of columns\n",
    "stat_genome_df = pd.read_csv(stat_genome_file, low_memory=False, sep=\"\\t\")\n",
    "stat_genome_df = stat_genome_df[[\"trunk_genes_path\", \"size_Mbp\", \"gc_percent\", \"group\", \"subgroup\"]] # trunk_genes_path as unique id\n",
    "#stat_genome_df.index = stat_genome_df.trunk_genes_path\n",
    "# visualize data\n",
    "if 1:\n",
    "    pd.set_option('display.max_columns', None)\n",
    "    display(stat_genome_df.head(2))\n",
    "    print(stat_genome_df.shape)\n",
    "    #print(stat_genome_df[\"trunk_genes_path\"].value_counts())"
   ]
  },
  {
   "cell_type": "code",
   "execution_count": 4,
   "id": "a8714561-57dc-4ed2-9874-13421333d93e",
   "metadata": {},
   "outputs": [
    {
     "name": "stdout",
     "output_type": "stream",
     "text": [
      "(33627, 11)\n"
     ]
    },
    {
     "data": {
      "text/html": [
       "<div>\n",
       "<style scoped>\n",
       "    .dataframe tbody tr th:only-of-type {\n",
       "        vertical-align: middle;\n",
       "    }\n",
       "\n",
       "    .dataframe tbody tr th {\n",
       "        vertical-align: top;\n",
       "    }\n",
       "\n",
       "    .dataframe thead th {\n",
       "        text-align: right;\n",
       "    }\n",
       "</style>\n",
       "<table border=\"1\" class=\"dataframe\">\n",
       "  <thead>\n",
       "    <tr style=\"text-align: right;\">\n",
       "      <th></th>\n",
       "      <th>division_both_dbs</th>\n",
       "      <th>species</th>\n",
       "      <th>count</th>\n",
       "      <th>mean</th>\n",
       "      <th>var</th>\n",
       "      <th>Lineage</th>\n",
       "      <th>trunk_genes_path</th>\n",
       "      <th>size_Mbp</th>\n",
       "      <th>gc_percent</th>\n",
       "      <th>group</th>\n",
       "      <th>subgroup</th>\n",
       "    </tr>\n",
       "  </thead>\n",
       "  <tbody>\n",
       "    <tr>\n",
       "      <th>0</th>\n",
       "      <td>archaea</td>\n",
       "      <td>methanobacterium_bryantii_gca_002287175</td>\n",
       "      <td>3168</td>\n",
       "      <td>840.404040</td>\n",
       "      <td>422343.848699</td>\n",
       "      <td>Archaea; Euryarchaeota; Methanomada group; Met...</td>\n",
       "      <td>ftp.ensemblgenomes.org/pub/bacteria/release-49...</td>\n",
       "      <td>3.46637</td>\n",
       "      <td>33.2</td>\n",
       "      <td>Euryarchaeota</td>\n",
       "      <td>Methanomada group</td>\n",
       "    </tr>\n",
       "    <tr>\n",
       "      <th>1</th>\n",
       "      <td>archaea</td>\n",
       "      <td>methanobacterium_formicicum_gca_000762265</td>\n",
       "      <td>2352</td>\n",
       "      <td>862.427296</td>\n",
       "      <td>347239.612747</td>\n",
       "      <td>Archaea; Euryarchaeota; Methanomada group; Met...</td>\n",
       "      <td>ftp.ensemblgenomes.org/pub/bacteria/release-49...</td>\n",
       "      <td>2.44999</td>\n",
       "      <td>41.3</td>\n",
       "      <td>Euryarchaeota</td>\n",
       "      <td>Methanomada group</td>\n",
       "    </tr>\n",
       "  </tbody>\n",
       "</table>\n",
       "</div>"
      ],
      "text/plain": [
       "  division_both_dbs                                    species  count  \\\n",
       "0           archaea    methanobacterium_bryantii_gca_002287175   3168   \n",
       "1           archaea  methanobacterium_formicicum_gca_000762265   2352   \n",
       "\n",
       "         mean            var  \\\n",
       "0  840.404040  422343.848699   \n",
       "1  862.427296  347239.612747   \n",
       "\n",
       "                                             Lineage  \\\n",
       "0  Archaea; Euryarchaeota; Methanomada group; Met...   \n",
       "1  Archaea; Euryarchaeota; Methanomada group; Met...   \n",
       "\n",
       "                                    trunk_genes_path  size_Mbp gc_percent  \\\n",
       "0  ftp.ensemblgenomes.org/pub/bacteria/release-49...   3.46637       33.2   \n",
       "1  ftp.ensemblgenomes.org/pub/bacteria/release-49...   2.44999       41.3   \n",
       "\n",
       "           group           subgroup  \n",
       "0  Euryarchaeota  Methanomada group  \n",
       "1  Euryarchaeota  Methanomada group  "
      ]
     },
     "metadata": {},
     "output_type": "display_data"
    },
    {
     "name": "stdout",
     "output_type": "stream",
     "text": [
      "bacteria         30714\n",
      "archaea           1229\n",
      "fungi             1014\n",
      "protists           237\n",
      "vertebrates        222\n",
      "invertebrates      115\n",
      "plants              96\n",
      "Name: division_both_dbs, dtype: int64\n"
     ]
    }
   ],
   "source": [
    "# add columns\n",
    "\n",
    "stat_df2 = pd.merge(stat_df, stat_genome_df, on=\"trunk_genes_path\", how='left')\n",
    "\n",
    "# visualize data\n",
    "if 1:\n",
    "    pd.set_option('display.max_columns', None)\n",
    "    print(stat_df2.shape)\n",
    "    display(stat_df2.head(2))\n",
    "    print(stat_df2[\"division_both_dbs\"].value_counts())"
   ]
  },
  {
   "cell_type": "code",
   "execution_count": 5,
   "id": "1c889c59-d82e-4b47-a74e-0796883bb5e7",
   "metadata": {},
   "outputs": [],
   "source": [
    "exit()"
   ]
  },
  {
   "cell_type": "markdown",
   "id": "b7864e7f-66e1-4115-9a45-c2d020171688",
   "metadata": {
    "tags": []
   },
   "source": [
    "## Python functions"
   ]
  },
  {
   "cell_type": "code",
   "execution_count": null,
   "id": "93017071-1d59-4fa2-84c6-d0528c9e90e5",
   "metadata": {},
   "outputs": [],
   "source": []
  }
 ],
 "metadata": {
  "kernelspec": {
   "display_name": "Python 3 (ipykernel)",
   "language": "python",
   "name": "python3"
  },
  "language_info": {
   "codemirror_mode": {
    "name": "ipython",
    "version": 3
   },
   "file_extension": ".py",
   "mimetype": "text/x-python",
   "name": "python",
   "nbconvert_exporter": "python",
   "pygments_lexer": "ipython3",
   "version": "3.10.12"
  }
 },
 "nbformat": 4,
 "nbformat_minor": 5
}
