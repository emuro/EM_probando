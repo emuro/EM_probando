{
 "cells": [
  {
   "cell_type": "markdown",
   "id": "819bd65b-f5b5-4644-a058-0a8c843d4fe8",
   "metadata": {},
   "source": [
    "# Protein coding gene length distributions"
   ]
  },
  {
   "cell_type": "markdown",
   "id": "8046a185-31f3-48b1-83f7-947911a96d15",
   "metadata": {},
   "source": [
    "## Import python modules"
   ]
  },
  {
   "cell_type": "code",
   "execution_count": 1,
   "id": "51b0a90c",
   "metadata": {},
   "outputs": [],
   "source": [
    "import pandas as pd\n",
    "import numpy as np\n",
    "import re\n",
    "\n",
    "import sys\n",
    "sys.path.append('../../../lib/')\n",
    "import constants as c"
   ]
  },
  {
   "cell_type": "markdown",
   "id": "c7b6d3b5",
   "metadata": {},
   "source": [
    "## The protein coding gene length distributions for the different species"
   ]
  },
  {
   "cell_type": "markdown",
   "id": "d509543a-9bbf-4428-bb98-a287201ef79d",
   "metadata": {},
   "source": [
    "### Retrieving the statistical descriptions of the gene length's distributions"
   ]
  },
  {
   "cell_type": "markdown",
   "id": "3a99f2a8-5073-440f-88be-bf0def58ea9d",
   "metadata": {
    "tags": []
   },
   "source": [
    "#### Statistical description "
   ]
  },
  {
   "cell_type": "code",
   "execution_count": 2,
   "id": "e96ab72e-e702-4020-814a-625c86dd44ee",
   "metadata": {},
   "outputs": [
    {
     "name": "stdout",
     "output_type": "stream",
     "text": [
      "The statistical descriptions of the protein coding gene distributions for the different species is in:\n",
      " /home/emuro/git/github/EM_geneLength_nature/working_on/analysis/groups_of_organisms/../../../lib/../main_tables/stat_protCodGenes.tsv \n",
      "\n"
     ]
    },
    {
     "data": {
      "text/html": [
       "<div>\n",
       "<style scoped>\n",
       "    .dataframe tbody tr th:only-of-type {\n",
       "        vertical-align: middle;\n",
       "    }\n",
       "\n",
       "    .dataframe tbody tr th {\n",
       "        vertical-align: top;\n",
       "    }\n",
       "\n",
       "    .dataframe thead th {\n",
       "        text-align: right;\n",
       "    }\n",
       "</style>\n",
       "<table border=\"1\" class=\"dataframe\">\n",
       "  <thead>\n",
       "    <tr style=\"text-align: right;\">\n",
       "      <th></th>\n",
       "      <th>division_both_dbs</th>\n",
       "      <th>species</th>\n",
       "      <th>count</th>\n",
       "      <th>mean</th>\n",
       "      <th>var</th>\n",
       "      <th>Lineage</th>\n",
       "      <th>trunk_genes_path</th>\n",
       "    </tr>\n",
       "  </thead>\n",
       "  <tbody>\n",
       "    <tr>\n",
       "      <th>0</th>\n",
       "      <td>archaea</td>\n",
       "      <td>methanobacterium_bryantii_gca_002287175</td>\n",
       "      <td>3168</td>\n",
       "      <td>840.404040</td>\n",
       "      <td>422343.848699</td>\n",
       "      <td>Archaea; Euryarchaeota; Methanomada group; Met...</td>\n",
       "      <td>ftp.ensemblgenomes.org/pub/bacteria/release-49...</td>\n",
       "    </tr>\n",
       "    <tr>\n",
       "      <th>1</th>\n",
       "      <td>archaea</td>\n",
       "      <td>methanobacterium_formicicum_gca_000762265</td>\n",
       "      <td>2352</td>\n",
       "      <td>862.427296</td>\n",
       "      <td>347239.612747</td>\n",
       "      <td>Archaea; Euryarchaeota; Methanomada group; Met...</td>\n",
       "      <td>ftp.ensemblgenomes.org/pub/bacteria/release-49...</td>\n",
       "    </tr>\n",
       "  </tbody>\n",
       "</table>\n",
       "</div>"
      ],
      "text/plain": [
       "  division_both_dbs                                    species  count  \\\n",
       "0           archaea    methanobacterium_bryantii_gca_002287175   3168   \n",
       "1           archaea  methanobacterium_formicicum_gca_000762265   2352   \n",
       "\n",
       "         mean            var  \\\n",
       "0  840.404040  422343.848699   \n",
       "1  862.427296  347239.612747   \n",
       "\n",
       "                                             Lineage  \\\n",
       "0  Archaea; Euryarchaeota; Methanomada group; Met...   \n",
       "1  Archaea; Euryarchaeota; Methanomada group; Met...   \n",
       "\n",
       "                                    trunk_genes_path  \n",
       "0  ftp.ensemblgenomes.org/pub/bacteria/release-49...  \n",
       "1  ftp.ensemblgenomes.org/pub/bacteria/release-49...  "
      ]
     },
     "metadata": {},
     "output_type": "display_data"
    },
    {
     "name": "stdout",
     "output_type": "stream",
     "text": [
      "(33627, 7)\n",
      "bacteria         30714\n",
      "archaea           1229\n",
      "fungi             1014\n",
      "protists           237\n",
      "vertebrates        222\n",
      "invertebrates      115\n",
      "plants              96\n",
      "Name: division_both_dbs, dtype: int64\n",
      "RangeIndex(start=0, stop=33627, step=1)\n",
      "<class 'pandas.core.frame.DataFrame'>\n",
      "RangeIndex: 33627 entries, 0 to 33626\n",
      "Data columns (total 7 columns):\n",
      " #   Column             Non-Null Count  Dtype  \n",
      "---  ------             --------------  -----  \n",
      " 0   division_both_dbs  33627 non-null  object \n",
      " 1   species            33627 non-null  object \n",
      " 2   count              33627 non-null  int64  \n",
      " 3   mean               33627 non-null  float64\n",
      " 4   var                33627 non-null  float64\n",
      " 5   Lineage            33459 non-null  object \n",
      " 6   trunk_genes_path   33627 non-null  object \n",
      "dtypes: float64(2), int64(1), object(4)\n",
      "memory usage: 1.8+ MB\n",
      "None\n"
     ]
    }
   ],
   "source": [
    "# statistics on length distributions \n",
    "stat_file = c.STAT_G_FILE\n",
    "print(\"The statistical descriptions of the protein coding gene distributions for the different species is in:\\n\", stat_file, \"\\n\")\n",
    "\n",
    "# retrieve data and diminish the number of columns\n",
    "stat_df = pd.read_csv(stat_file, low_memory=False, sep=\"\\t\")\n",
    "stat_df = stat_df[[\"division_both_dbs\", \"species\", \"count\", \"mean\", \"var\", \"Lineage\", \"trunk_genes_path\"]] # trunk_genes_path as unique id\n",
    "# visualize data\n",
    "if 1:\n",
    "    pd.set_option('display.max_columns', None)\n",
    "    display(stat_df.head(2))\n",
    "    print(stat_df.shape)\n",
    "    print(stat_df[\"division_both_dbs\"].value_counts())\n",
    "    print(stat_df.index)\n",
    "    print(stat_df.info())"
   ]
  },
  {
   "cell_type": "code",
   "execution_count": 3,
   "id": "c6934385-eeb1-47a0-9265-612f51dc2b87",
   "metadata": {},
   "outputs": [
    {
     "name": "stdout",
     "output_type": "stream",
     "text": [
      "The statistical descriptions of the protein coding gene distributions for the different species is in:\n",
      " /home/emuro/git/github/EM_geneLength_nature/working_on_tables/stat_protCodGenes_with_ncbiGenomeData.tsv \n",
      "\n",
      "<class 'pandas.core.frame.DataFrame'>\n",
      "RangeIndex: 33627 entries, 0 to 33626\n",
      "Data columns (total 5 columns):\n",
      " #   Column            Non-Null Count  Dtype  \n",
      "---  ------            --------------  -----  \n",
      " 0   trunk_genes_path  33627 non-null  object \n",
      " 1   size_Mbp          32022 non-null  float64\n",
      " 2   gc_percent        32016 non-null  float64\n",
      " 3   group             32022 non-null  object \n",
      " 4   subgroup          32022 non-null  object \n",
      "dtypes: float64(2), object(3)\n",
      "memory usage: 1.3+ MB\n",
      "None\n"
     ]
    },
    {
     "data": {
      "text/html": [
       "<div>\n",
       "<style scoped>\n",
       "    .dataframe tbody tr th:only-of-type {\n",
       "        vertical-align: middle;\n",
       "    }\n",
       "\n",
       "    .dataframe tbody tr th {\n",
       "        vertical-align: top;\n",
       "    }\n",
       "\n",
       "    .dataframe thead th {\n",
       "        text-align: right;\n",
       "    }\n",
       "</style>\n",
       "<table border=\"1\" class=\"dataframe\">\n",
       "  <thead>\n",
       "    <tr style=\"text-align: right;\">\n",
       "      <th></th>\n",
       "      <th>trunk_genes_path</th>\n",
       "      <th>size_Mbp</th>\n",
       "      <th>gc_percent</th>\n",
       "      <th>group</th>\n",
       "      <th>subgroup</th>\n",
       "    </tr>\n",
       "  </thead>\n",
       "  <tbody>\n",
       "    <tr>\n",
       "      <th>0</th>\n",
       "      <td>ftp.ensemblgenomes.org/pub/bacteria/release-49...</td>\n",
       "      <td>3.46637</td>\n",
       "      <td>33.2</td>\n",
       "      <td>Euryarchaeota</td>\n",
       "      <td>Methanomada group</td>\n",
       "    </tr>\n",
       "    <tr>\n",
       "      <th>1</th>\n",
       "      <td>ftp.ensemblgenomes.org/pub/bacteria/release-49...</td>\n",
       "      <td>2.44999</td>\n",
       "      <td>41.3</td>\n",
       "      <td>Euryarchaeota</td>\n",
       "      <td>Methanomada group</td>\n",
       "    </tr>\n",
       "  </tbody>\n",
       "</table>\n",
       "</div>"
      ],
      "text/plain": [
       "                                    trunk_genes_path  size_Mbp  gc_percent  \\\n",
       "0  ftp.ensemblgenomes.org/pub/bacteria/release-49...   3.46637        33.2   \n",
       "1  ftp.ensemblgenomes.org/pub/bacteria/release-49...   2.44999        41.3   \n",
       "\n",
       "           group           subgroup  \n",
       "0  Euryarchaeota  Methanomada group  \n",
       "1  Euryarchaeota  Methanomada group  "
      ]
     },
     "metadata": {},
     "output_type": "display_data"
    },
    {
     "name": "stdout",
     "output_type": "stream",
     "text": [
      "(33627, 5)\n"
     ]
    }
   ],
   "source": [
    "# statistics on length distributions with genome length\n",
    "if 1:\n",
    "    stat_genome_file = \"/home/emuro/git/github/EM_geneLength_nature/working_on_tables/stat_protCodGenes_with_ncbiGenomeData.tsv\"\n",
    "    print(\"The statistical descriptions of the protein coding gene distributions for the different species is in:\\n\", stat_genome_file, \"\\n\")\n",
    "\n",
    "    # retrieve data and diminish the number of columns\n",
    "    stat_genome_df = pd.read_csv(stat_genome_file, low_memory=False, sep=\"\\t\")\n",
    "    stat_genome_df = stat_genome_df[[\"trunk_genes_path\", \"size_Mbp\", \"gc_percent\", \"group\", \"subgroup\"]] # trunk_genes_path as unique id\n",
    "    stat_genome_df['gc_percent'] = pd.to_numeric(stat_genome_df['gc_percent'], errors='coerce')\n",
    "    print(stat_genome_df.info())\n",
    "    \n",
    "    # visualize data\n",
    "    if 1:\n",
    "        pd.set_option('display.max_columns', None)\n",
    "        display(stat_genome_df.head(2))\n",
    "        print(stat_genome_df.shape)\n",
    "        #print(stat_genome_df[\"trunk_genes_path\"].value_counts())"
   ]
  },
  {
   "cell_type": "code",
   "execution_count": 4,
   "id": "3d1a7082-c505-462e-90da-0cf33e50cdda",
   "metadata": {},
   "outputs": [
    {
     "name": "stdout",
     "output_type": "stream",
     "text": [
      "(33627, 11)\n"
     ]
    },
    {
     "data": {
      "text/html": [
       "<div>\n",
       "<style scoped>\n",
       "    .dataframe tbody tr th:only-of-type {\n",
       "        vertical-align: middle;\n",
       "    }\n",
       "\n",
       "    .dataframe tbody tr th {\n",
       "        vertical-align: top;\n",
       "    }\n",
       "\n",
       "    .dataframe thead th {\n",
       "        text-align: right;\n",
       "    }\n",
       "</style>\n",
       "<table border=\"1\" class=\"dataframe\">\n",
       "  <thead>\n",
       "    <tr style=\"text-align: right;\">\n",
       "      <th></th>\n",
       "      <th>division_both_dbs</th>\n",
       "      <th>species</th>\n",
       "      <th>count</th>\n",
       "      <th>mean</th>\n",
       "      <th>var</th>\n",
       "      <th>Lineage</th>\n",
       "      <th>trunk_genes_path</th>\n",
       "      <th>size_Mbp</th>\n",
       "      <th>gc_percent</th>\n",
       "      <th>group</th>\n",
       "      <th>subgroup</th>\n",
       "    </tr>\n",
       "  </thead>\n",
       "  <tbody>\n",
       "    <tr>\n",
       "      <th>0</th>\n",
       "      <td>archaea</td>\n",
       "      <td>methanobacterium_bryantii_gca_002287175</td>\n",
       "      <td>3168</td>\n",
       "      <td>840.404040</td>\n",
       "      <td>422343.848699</td>\n",
       "      <td>Archaea; Euryarchaeota; Methanomada group; Met...</td>\n",
       "      <td>ftp.ensemblgenomes.org/pub/bacteria/release-49...</td>\n",
       "      <td>3.46637</td>\n",
       "      <td>33.2</td>\n",
       "      <td>Euryarchaeota</td>\n",
       "      <td>Methanomada group</td>\n",
       "    </tr>\n",
       "    <tr>\n",
       "      <th>1</th>\n",
       "      <td>archaea</td>\n",
       "      <td>methanobacterium_formicicum_gca_000762265</td>\n",
       "      <td>2352</td>\n",
       "      <td>862.427296</td>\n",
       "      <td>347239.612747</td>\n",
       "      <td>Archaea; Euryarchaeota; Methanomada group; Met...</td>\n",
       "      <td>ftp.ensemblgenomes.org/pub/bacteria/release-49...</td>\n",
       "      <td>2.44999</td>\n",
       "      <td>41.3</td>\n",
       "      <td>Euryarchaeota</td>\n",
       "      <td>Methanomada group</td>\n",
       "    </tr>\n",
       "  </tbody>\n",
       "</table>\n",
       "</div>"
      ],
      "text/plain": [
       "  division_both_dbs                                    species  count  \\\n",
       "0           archaea    methanobacterium_bryantii_gca_002287175   3168   \n",
       "1           archaea  methanobacterium_formicicum_gca_000762265   2352   \n",
       "\n",
       "         mean            var  \\\n",
       "0  840.404040  422343.848699   \n",
       "1  862.427296  347239.612747   \n",
       "\n",
       "                                             Lineage  \\\n",
       "0  Archaea; Euryarchaeota; Methanomada group; Met...   \n",
       "1  Archaea; Euryarchaeota; Methanomada group; Met...   \n",
       "\n",
       "                                    trunk_genes_path  size_Mbp  gc_percent  \\\n",
       "0  ftp.ensemblgenomes.org/pub/bacteria/release-49...   3.46637        33.2   \n",
       "1  ftp.ensemblgenomes.org/pub/bacteria/release-49...   2.44999        41.3   \n",
       "\n",
       "           group           subgroup  \n",
       "0  Euryarchaeota  Methanomada group  \n",
       "1  Euryarchaeota  Methanomada group  "
      ]
     },
     "metadata": {},
     "output_type": "display_data"
    },
    {
     "name": "stdout",
     "output_type": "stream",
     "text": [
      "bacteria         30714\n",
      "archaea           1229\n",
      "fungi             1014\n",
      "protists           237\n",
      "vertebrates        222\n",
      "invertebrates      115\n",
      "plants              96\n",
      "Name: division_both_dbs, dtype: int64\n",
      "<class 'pandas.core.frame.DataFrame'>\n",
      "Int64Index: 33627 entries, 0 to 33626\n",
      "Data columns (total 11 columns):\n",
      " #   Column             Non-Null Count  Dtype  \n",
      "---  ------             --------------  -----  \n",
      " 0   division_both_dbs  33627 non-null  object \n",
      " 1   species            33627 non-null  object \n",
      " 2   count              33627 non-null  int64  \n",
      " 3   mean               33627 non-null  float64\n",
      " 4   var                33627 non-null  float64\n",
      " 5   Lineage            33459 non-null  object \n",
      " 6   trunk_genes_path   33627 non-null  object \n",
      " 7   size_Mbp           32022 non-null  float64\n",
      " 8   gc_percent         32016 non-null  float64\n",
      " 9   group              32022 non-null  object \n",
      " 10  subgroup           32022 non-null  object \n",
      "dtypes: float64(4), int64(1), object(6)\n",
      "memory usage: 3.1+ MB\n",
      "None\n"
     ]
    }
   ],
   "source": [
    "# merge to obtain genome length data\n",
    "if 1:\n",
    "    stat_df = pd.merge(stat_df, stat_genome_df, on=\"trunk_genes_path\", how='left').copy()\n",
    "\n",
    "    # visualize data\n",
    "    if 1:\n",
    "        pd.set_option('display.max_columns', None)\n",
    "        print(stat_df.shape)\n",
    "        display(stat_df.head(2))\n",
    "        print(stat_df[\"division_both_dbs\"].value_counts())\n",
    "        print(stat_df.info())\n",
    "        #print(stat_df[ stat_df['species']=='homo_sapiens'])"
   ]
  },
  {
   "cell_type": "code",
   "execution_count": null,
   "id": "1c889c59-d82e-4b47-a74e-0796883bb5e7",
   "metadata": {},
   "outputs": [],
   "source": []
  },
  {
   "cell_type": "markdown",
   "id": "b7864e7f-66e1-4115-9a45-c2d020171688",
   "metadata": {
    "tags": []
   },
   "source": [
    "## Get a column with the groups fo organisms"
   ]
  },
  {
   "cell_type": "code",
   "execution_count": 5,
   "id": "5eb266d2-b842-43c7-a8fe-404429391179",
   "metadata": {},
   "outputs": [],
   "source": [
    "# define the groups of organisms to study\n",
    "g_orgs_l = ['Archaea', 'Bacteria']\n",
    "g_orgs_l += ['Ascomycota', 'Basidiomycota', 'Microsporidia', 'Mucoromycota']\n",
    "g_orgs_l += ['Primates', 'Mammalia', 'Aves', 'Actinopterygii']\n",
    "g_orgs_l += ['Arthropoda']\n",
    "g_orgs_l += ['Viridiplantae']"
   ]
  },
  {
   "cell_type": "code",
   "execution_count": 6,
   "id": "c7ca653e-be44-40ce-a01d-a9d74837af09",
   "metadata": {},
   "outputs": [
    {
     "data": {
      "text/html": [
       "<div>\n",
       "<style scoped>\n",
       "    .dataframe tbody tr th:only-of-type {\n",
       "        vertical-align: middle;\n",
       "    }\n",
       "\n",
       "    .dataframe tbody tr th {\n",
       "        vertical-align: top;\n",
       "    }\n",
       "\n",
       "    .dataframe thead th {\n",
       "        text-align: right;\n",
       "    }\n",
       "</style>\n",
       "<table border=\"1\" class=\"dataframe\">\n",
       "  <thead>\n",
       "    <tr style=\"text-align: right;\">\n",
       "      <th></th>\n",
       "      <th>division_both_dbs</th>\n",
       "      <th>species</th>\n",
       "      <th>count</th>\n",
       "      <th>mean</th>\n",
       "      <th>var</th>\n",
       "      <th>Lineage</th>\n",
       "      <th>trunk_genes_path</th>\n",
       "      <th>size_Mbp</th>\n",
       "      <th>gc_percent</th>\n",
       "      <th>group</th>\n",
       "      <th>subgroup</th>\n",
       "      <th>g_orgs</th>\n",
       "    </tr>\n",
       "  </thead>\n",
       "  <tbody>\n",
       "    <tr>\n",
       "      <th>0</th>\n",
       "      <td>archaea</td>\n",
       "      <td>methanobacterium_bryantii_gca_002287175</td>\n",
       "      <td>3168</td>\n",
       "      <td>840.404040</td>\n",
       "      <td>422343.848699</td>\n",
       "      <td>Archaea; Euryarchaeota; Methanomada group; Met...</td>\n",
       "      <td>ftp.ensemblgenomes.org/pub/bacteria/release-49...</td>\n",
       "      <td>3.46637</td>\n",
       "      <td>33.2</td>\n",
       "      <td>Euryarchaeota</td>\n",
       "      <td>Methanomada group</td>\n",
       "      <td>Archaea</td>\n",
       "    </tr>\n",
       "    <tr>\n",
       "      <th>1</th>\n",
       "      <td>archaea</td>\n",
       "      <td>methanobacterium_formicicum_gca_000762265</td>\n",
       "      <td>2352</td>\n",
       "      <td>862.427296</td>\n",
       "      <td>347239.612747</td>\n",
       "      <td>Archaea; Euryarchaeota; Methanomada group; Met...</td>\n",
       "      <td>ftp.ensemblgenomes.org/pub/bacteria/release-49...</td>\n",
       "      <td>2.44999</td>\n",
       "      <td>41.3</td>\n",
       "      <td>Euryarchaeota</td>\n",
       "      <td>Methanomada group</td>\n",
       "      <td>Archaea</td>\n",
       "    </tr>\n",
       "  </tbody>\n",
       "</table>\n",
       "</div>"
      ],
      "text/plain": [
       "  division_both_dbs                                    species  count  \\\n",
       "0           archaea    methanobacterium_bryantii_gca_002287175   3168   \n",
       "1           archaea  methanobacterium_formicicum_gca_000762265   2352   \n",
       "\n",
       "         mean            var  \\\n",
       "0  840.404040  422343.848699   \n",
       "1  862.427296  347239.612747   \n",
       "\n",
       "                                             Lineage  \\\n",
       "0  Archaea; Euryarchaeota; Methanomada group; Met...   \n",
       "1  Archaea; Euryarchaeota; Methanomada group; Met...   \n",
       "\n",
       "                                    trunk_genes_path  size_Mbp  gc_percent  \\\n",
       "0  ftp.ensemblgenomes.org/pub/bacteria/release-49...   3.46637        33.2   \n",
       "1  ftp.ensemblgenomes.org/pub/bacteria/release-49...   2.44999        41.3   \n",
       "\n",
       "           group           subgroup   g_orgs  \n",
       "0  Euryarchaeota  Methanomada group  Archaea  \n",
       "1  Euryarchaeota  Methanomada group  Archaea  "
      ]
     },
     "metadata": {},
     "output_type": "display_data"
    },
    {
     "name": "stdout",
     "output_type": "stream",
     "text": [
      "Index(['division_both_dbs', 'species', 'count', 'mean', 'var', 'Lineage',\n",
      "       'trunk_genes_path', 'size_Mbp', 'gc_percent', 'group', 'subgroup',\n",
      "       'g_orgs'],\n",
      "      dtype='object')\n",
      "(33627, 12)\n",
      "Bacteria          30555\n",
      "Archaea            1228\n",
      "Ascomycota          720\n",
      "protists            237\n",
      "None                231\n",
      "Basidiomycota       213\n",
      "Mammalia             96\n",
      "Viridiplantae        93\n",
      "Arthropoda           86\n",
      "Actinopterygii       60\n",
      "Microsporidia        30\n",
      "Mucoromycota         28\n",
      "Primates             26\n",
      "Aves                 24\n",
      "Name: g_orgs, dtype: int64\n"
     ]
    }
   ],
   "source": [
    "stat_df['g_orgs'] = None\n",
    "g = \"protists\"\n",
    "mask = stat_df['division_both_dbs'].str.contains(g, case=True, na=False)\n",
    "stat_df.loc[stat_df['g_orgs'].isna() & mask, 'g_orgs'] = g \n",
    "for g in g_orgs_l:\n",
    "    mask = stat_df['Lineage'].str.contains(g, case=True, na=False)\n",
    "    stat_df.loc[stat_df['g_orgs'].isna() & mask, 'g_orgs'] = g \n",
    "if 1:\n",
    "    pd.set_option('display.max_columns', None)\n",
    "    display(stat_df.head(2))\n",
    "    print(stat_df.columns)\n",
    "    print(stat_df.shape)\n",
    "    print(stat_df[\"g_orgs\"].value_counts(dropna=False))\n",
    "    #print(stat_df.index)\n",
    "    #print(stat_df.info())"
   ]
  },
  {
   "cell_type": "markdown",
   "id": "f5511608-ac81-46db-9e10-629ddc8fc698",
   "metadata": {},
   "source": [
    "## Obtain the average value for each group"
   ]
  },
  {
   "cell_type": "code",
   "execution_count": 7,
   "id": "a10b5728-f87c-491e-be31-d92bdd290923",
   "metadata": {},
   "outputs": [
    {
     "name": "stdout",
     "output_type": "stream",
     "text": [
      "                        mean    count\n",
      "g_orgs                               \n",
      "Archaea           834.934335   1228.0\n",
      "Bacteria          943.020605  30555.0\n",
      "Microsporidia     974.837340     30.0\n",
      "Mucoromycota     1556.128325     28.0\n",
      "Ascomycota       1640.509244    720.0\n",
      "Basidiomycota    1884.245002    213.0\n",
      "protists         2059.139453    237.0\n",
      "Viridiplantae    3681.998556     93.0\n",
      "Arthropoda       7314.754165     86.0\n",
      "Actinopterygii  16991.892429     60.0\n",
      "Aves            27877.229133     24.0\n",
      "Mammalia        44982.428558     96.0\n",
      "Primates        48594.583334     26.0\n"
     ]
    }
   ],
   "source": [
    "#mean\n",
    "print(stat_df['mean'].groupby(stat_df['g_orgs']).describe()[['mean', 'count']].sort_values('mean', ascending=True))"
   ]
  },
  {
   "cell_type": "code",
   "execution_count": null,
   "id": "bf52176c-4e2a-4ff6-bdc6-09db7ed1899d",
   "metadata": {},
   "outputs": [],
   "source": []
  },
  {
   "cell_type": "code",
   "execution_count": 8,
   "id": "68ef7531-2def-4bb4-aa28-8270e7a7eba9",
   "metadata": {},
   "outputs": [
    {
     "name": "stdout",
     "output_type": "stream",
     "text": [
      "                        mean    count\n",
      "g_orgs                               \n",
      "Archaea          2327.409609   1228.0\n",
      "Microsporidia    2862.700000     30.0\n",
      "Bacteria         4009.489085  30555.0\n",
      "Ascomycota       9237.661111    720.0\n",
      "Basidiomycota   10202.807512    213.0\n",
      "protists        10709.616034    237.0\n",
      "Arthropoda      15485.058140     86.0\n",
      "Aves            15678.666667     24.0\n",
      "Mucoromycota    16979.607143     28.0\n",
      "Mammalia        19577.020833     96.0\n",
      "Primates        20730.730769     26.0\n",
      "Actinopterygii  23582.466667     60.0\n",
      "Viridiplantae   41638.064516     93.0\n"
     ]
    }
   ],
   "source": [
    "#count\n",
    "print(stat_df['count'].groupby(stat_df['g_orgs']).describe()[['mean', 'count']].sort_values('mean', ascending=True))"
   ]
  },
  {
   "cell_type": "code",
   "execution_count": null,
   "id": "f3726005-cf92-48e4-8bb4-238919b382dd",
   "metadata": {},
   "outputs": [],
   "source": []
  },
  {
   "cell_type": "code",
   "execution_count": 9,
   "id": "435f1236-60b3-4c09-962b-3631dcdfe99c",
   "metadata": {},
   "outputs": [
    {
     "name": "stdout",
     "output_type": "stream",
     "text": [
      "                       mean    count\n",
      "g_orgs                              \n",
      "Archaea            2.376664   1206.0\n",
      "Bacteria           4.370578  29119.0\n",
      "Microsporidia      7.174138     29.0\n",
      "Ascomycota        28.776631    698.0\n",
      "Basidiomycota     33.596340    203.0\n",
      "protists          48.341418    219.0\n",
      "Mucoromycota      60.994219     27.0\n",
      "Arthropoda       367.595529     75.0\n",
      "Actinopterygii   901.278362     47.0\n",
      "Aves            1123.132722     18.0\n",
      "Viridiplantae   2086.469470     70.0\n",
      "Mammalia        2634.399481     77.0\n",
      "Primates        2904.005217     23.0\n"
     ]
    }
   ],
   "source": [
    "#count\n",
    "print(stat_df['size_Mbp'].groupby(stat_df['g_orgs']).describe()[['mean', 'count']].sort_values('mean', ascending=True))"
   ]
  },
  {
   "cell_type": "code",
   "execution_count": null,
   "id": "6eb9d478-558a-4874-af1e-8e27b335f5f4",
   "metadata": {},
   "outputs": [],
   "source": []
  }
 ],
 "metadata": {
  "kernelspec": {
   "display_name": "Python 3 (ipykernel)",
   "language": "python",
   "name": "python3"
  },
  "language_info": {
   "codemirror_mode": {
    "name": "ipython",
    "version": 3
   },
   "file_extension": ".py",
   "mimetype": "text/x-python",
   "name": "python",
   "nbconvert_exporter": "python",
   "pygments_lexer": "ipython3",
   "version": "3.10.12"
  }
 },
 "nbformat": 4,
 "nbformat_minor": 5
}
