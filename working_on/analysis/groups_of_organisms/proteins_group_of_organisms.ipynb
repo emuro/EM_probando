{
 "cells": [
  {
   "cell_type": "markdown",
   "id": "819bd65b-f5b5-4644-a058-0a8c843d4fe8",
   "metadata": {},
   "source": [
    "# Protein coding gene length distributions"
   ]
  },
  {
   "cell_type": "markdown",
   "id": "8046a185-31f3-48b1-83f7-947911a96d15",
   "metadata": {},
   "source": [
    "## Import python modules"
   ]
  },
  {
   "cell_type": "code",
   "execution_count": 1,
   "id": "51b0a90c",
   "metadata": {},
   "outputs": [],
   "source": [
    "import pandas as pd\n",
    "import numpy as np\n",
    "import re\n",
    "\n",
    "import sys\n",
    "sys.path.append('../../../lib/')\n",
    "import constants as c"
   ]
  },
  {
   "cell_type": "markdown",
   "id": "c7b6d3b5",
   "metadata": {},
   "source": [
    "## The protein coding gene length distributions for the different species"
   ]
  },
  {
   "cell_type": "markdown",
   "id": "d509543a-9bbf-4428-bb98-a287201ef79d",
   "metadata": {},
   "source": [
    "### Retrieving the statistical descriptions of the gene length's distributions"
   ]
  },
  {
   "cell_type": "markdown",
   "id": "3a99f2a8-5073-440f-88be-bf0def58ea9d",
   "metadata": {
    "tags": []
   },
   "source": [
    "#### Statistical description "
   ]
  },
  {
   "cell_type": "code",
   "execution_count": 2,
   "id": "e96ab72e-e702-4020-814a-625c86dd44ee",
   "metadata": {},
   "outputs": [
    {
     "name": "stdout",
     "output_type": "stream",
     "text": [
      "The statistical descriptions of the protein coding gene distributions for the different species is in:\n",
      " /home/emuro/git/github/EM_geneLength_nature/working_on/analysis/groups_of_organisms/../../../lib/../main_tables/stat_proteins.tsv \n",
      "\n"
     ]
    },
    {
     "data": {
      "text/html": [
       "<div>\n",
       "<style scoped>\n",
       "    .dataframe tbody tr th:only-of-type {\n",
       "        vertical-align: middle;\n",
       "    }\n",
       "\n",
       "    .dataframe tbody tr th {\n",
       "        vertical-align: top;\n",
       "    }\n",
       "\n",
       "    .dataframe thead th {\n",
       "        text-align: right;\n",
       "    }\n",
       "</style>\n",
       "<table border=\"1\" class=\"dataframe\">\n",
       "  <thead>\n",
       "    <tr style=\"text-align: right;\">\n",
       "      <th></th>\n",
       "      <th>division_both_dbs</th>\n",
       "      <th>species</th>\n",
       "      <th>count</th>\n",
       "      <th>mean</th>\n",
       "      <th>var</th>\n",
       "      <th>Lineage</th>\n",
       "      <th>proteome_id</th>\n",
       "    </tr>\n",
       "  </thead>\n",
       "  <tbody>\n",
       "    <tr>\n",
       "      <th>0</th>\n",
       "      <td>archaea</td>\n",
       "      <td>Halorubrum saccharovorum</td>\n",
       "      <td>2334.0</td>\n",
       "      <td>250.641817</td>\n",
       "      <td>28808.608041</td>\n",
       "      <td>Archaea; Euryarchaeota; Stenosarchaea group; H...</td>\n",
       "      <td>UP000053331</td>\n",
       "    </tr>\n",
       "    <tr>\n",
       "      <th>1</th>\n",
       "      <td>archaea</td>\n",
       "      <td>Pyrodictium occultum</td>\n",
       "      <td>1602.0</td>\n",
       "      <td>285.092385</td>\n",
       "      <td>34816.348736</td>\n",
       "      <td>Archaea; Crenarchaeota; Thermoprotei; Desulfur...</td>\n",
       "      <td>UP000053352</td>\n",
       "    </tr>\n",
       "  </tbody>\n",
       "</table>\n",
       "</div>"
      ],
      "text/plain": [
       "  division_both_dbs                   species   count        mean  \\\n",
       "0           archaea  Halorubrum saccharovorum  2334.0  250.641817   \n",
       "1           archaea      Pyrodictium occultum  1602.0  285.092385   \n",
       "\n",
       "            var                                            Lineage  \\\n",
       "0  28808.608041  Archaea; Euryarchaeota; Stenosarchaea group; H...   \n",
       "1  34816.348736  Archaea; Crenarchaeota; Thermoprotei; Desulfur...   \n",
       "\n",
       "   proteome_id  \n",
       "0  UP000053331  \n",
       "1  UP000053352  "
      ]
     },
     "metadata": {},
     "output_type": "display_data"
    },
    {
     "name": "stdout",
     "output_type": "stream",
     "text": [
      "(9913, 7)\n",
      "bacteria         7997\n",
      "fungi             772\n",
      "archaea           330\n",
      "vertebrates       248\n",
      "invertebrates     226\n",
      "plants            184\n",
      "protists          156\n",
      "Name: division_both_dbs, dtype: int64\n",
      "RangeIndex(start=0, stop=9913, step=1)\n",
      "<class 'pandas.core.frame.DataFrame'>\n",
      "RangeIndex: 9913 entries, 0 to 9912\n",
      "Data columns (total 7 columns):\n",
      " #   Column             Non-Null Count  Dtype  \n",
      "---  ------             --------------  -----  \n",
      " 0   division_both_dbs  9913 non-null   object \n",
      " 1   species            9913 non-null   object \n",
      " 2   count              9913 non-null   float64\n",
      " 3   mean               9913 non-null   float64\n",
      " 4   var                9913 non-null   float64\n",
      " 5   Lineage            9900 non-null   object \n",
      " 6   proteome_id        9913 non-null   object \n",
      "dtypes: float64(3), object(4)\n",
      "memory usage: 542.2+ KB\n",
      "None\n"
     ]
    }
   ],
   "source": [
    "# statistics on length distributions \n",
    "stat_file = c.STAT_P_FILE\n",
    "print(\"The statistical descriptions of the protein coding gene distributions for the different species is in:\\n\", stat_file, \"\\n\")\n",
    "\n",
    "# retrieve data and diminish the number of columns\n",
    "stat_df = pd.read_csv(stat_file, low_memory=False, sep=\"\\t\")\n",
    "stat_df = stat_df[[\"division_both_dbs\", \"species\", \"count\", \"mean\", \"var\", \"Lineage\", \"proteome_id\"]] # proteome_id as unique id\n",
    "# visualize data\n",
    "if 1:\n",
    "    pd.set_option('display.max_columns', None)\n",
    "    display(stat_df.head(2))\n",
    "    print(stat_df.shape)\n",
    "    print(stat_df[\"division_both_dbs\"].value_counts())\n",
    "    print(stat_df.index)\n",
    "    print(stat_df.info())"
   ]
  },
  {
   "cell_type": "code",
   "execution_count": null,
   "id": "1c889c59-d82e-4b47-a74e-0796883bb5e7",
   "metadata": {},
   "outputs": [],
   "source": []
  },
  {
   "cell_type": "markdown",
   "id": "b7864e7f-66e1-4115-9a45-c2d020171688",
   "metadata": {
    "tags": []
   },
   "source": [
    "## Get a column with the groups fo organisms"
   ]
  },
  {
   "cell_type": "code",
   "execution_count": 3,
   "id": "5eb266d2-b842-43c7-a8fe-404429391179",
   "metadata": {},
   "outputs": [],
   "source": [
    "# define the groups of organisms to study\n",
    "g_orgs_l = ['Archaea', 'Bacteria']\n",
    "g_orgs_l += ['Ascomycota', 'Basidiomycota', 'Microsporidia', 'Mucoromycota']\n",
    "g_orgs_l += ['Primates', 'Mammalia', 'Aves', 'Actinopterygii']\n",
    "g_orgs_l += ['Arthropoda', 'Nematoda', 'Lophotrochozoa']\n",
    "g_orgs_l += ['Viridiplantae']"
   ]
  },
  {
   "cell_type": "code",
   "execution_count": 4,
   "id": "c7ca653e-be44-40ce-a01d-a9d74837af09",
   "metadata": {},
   "outputs": [
    {
     "data": {
      "text/html": [
       "<div>\n",
       "<style scoped>\n",
       "    .dataframe tbody tr th:only-of-type {\n",
       "        vertical-align: middle;\n",
       "    }\n",
       "\n",
       "    .dataframe tbody tr th {\n",
       "        vertical-align: top;\n",
       "    }\n",
       "\n",
       "    .dataframe thead th {\n",
       "        text-align: right;\n",
       "    }\n",
       "</style>\n",
       "<table border=\"1\" class=\"dataframe\">\n",
       "  <thead>\n",
       "    <tr style=\"text-align: right;\">\n",
       "      <th></th>\n",
       "      <th>division_both_dbs</th>\n",
       "      <th>species</th>\n",
       "      <th>count</th>\n",
       "      <th>mean</th>\n",
       "      <th>var</th>\n",
       "      <th>Lineage</th>\n",
       "      <th>proteome_id</th>\n",
       "      <th>g_orgs</th>\n",
       "    </tr>\n",
       "  </thead>\n",
       "  <tbody>\n",
       "    <tr>\n",
       "      <th>0</th>\n",
       "      <td>archaea</td>\n",
       "      <td>Halorubrum saccharovorum</td>\n",
       "      <td>2334.0</td>\n",
       "      <td>250.641817</td>\n",
       "      <td>28808.608041</td>\n",
       "      <td>Archaea; Euryarchaeota; Stenosarchaea group; H...</td>\n",
       "      <td>UP000053331</td>\n",
       "      <td>Archaea</td>\n",
       "    </tr>\n",
       "    <tr>\n",
       "      <th>1</th>\n",
       "      <td>archaea</td>\n",
       "      <td>Pyrodictium occultum</td>\n",
       "      <td>1602.0</td>\n",
       "      <td>285.092385</td>\n",
       "      <td>34816.348736</td>\n",
       "      <td>Archaea; Crenarchaeota; Thermoprotei; Desulfur...</td>\n",
       "      <td>UP000053352</td>\n",
       "      <td>Archaea</td>\n",
       "    </tr>\n",
       "  </tbody>\n",
       "</table>\n",
       "</div>"
      ],
      "text/plain": [
       "  division_both_dbs                   species   count        mean  \\\n",
       "0           archaea  Halorubrum saccharovorum  2334.0  250.641817   \n",
       "1           archaea      Pyrodictium occultum  1602.0  285.092385   \n",
       "\n",
       "            var                                            Lineage  \\\n",
       "0  28808.608041  Archaea; Euryarchaeota; Stenosarchaea group; H...   \n",
       "1  34816.348736  Archaea; Crenarchaeota; Thermoprotei; Desulfur...   \n",
       "\n",
       "   proteome_id   g_orgs  \n",
       "0  UP000053331  Archaea  \n",
       "1  UP000053352  Archaea  "
      ]
     },
     "metadata": {},
     "output_type": "display_data"
    },
    {
     "name": "stdout",
     "output_type": "stream",
     "text": [
      "Index(['division_both_dbs', 'species', 'count', 'mean', 'var', 'Lineage',\n",
      "       'proteome_id', 'g_orgs'],\n",
      "      dtype='object')\n",
      "(9913, 8)\n",
      "Bacteria          7986\n",
      "Ascomycota         502\n",
      "Archaea            330\n",
      "Viridiplantae      178\n",
      "Basidiomycota      178\n",
      "protists           156\n",
      "Arthropoda         115\n",
      "None                93\n",
      "Mammalia            75\n",
      "Actinopterygii      65\n",
      "Aves                60\n",
      "Nematoda            57\n",
      "Lophotrochozoa      38\n",
      "Mucoromycota        30\n",
      "Microsporidia       26\n",
      "Primates            24\n",
      "Name: g_orgs, dtype: int64\n"
     ]
    }
   ],
   "source": [
    "stat_df['g_orgs'] = None\n",
    "g = \"protists\"\n",
    "mask = stat_df['division_both_dbs'].str.contains(g, case=True, na=False)\n",
    "stat_df.loc[stat_df['g_orgs'].isna() & mask, 'g_orgs'] = g \n",
    "for g in g_orgs_l:\n",
    "    mask = stat_df['Lineage'].str.contains(g, case=True, na=False)\n",
    "    stat_df.loc[stat_df['g_orgs'].isna() & mask, 'g_orgs'] = g \n",
    "if 1:\n",
    "    pd.set_option('display.max_columns', None)\n",
    "    display(stat_df.head(2))\n",
    "    print(stat_df.columns)\n",
    "    print(stat_df.shape)\n",
    "    print(stat_df[\"g_orgs\"].value_counts(dropna=False))\n",
    "    #print(stat_df.index)\n",
    "    #print(stat_df.info())"
   ]
  },
  {
   "cell_type": "markdown",
   "id": "f5511608-ac81-46db-9e10-629ddc8fc698",
   "metadata": {},
   "source": [
    "## Obtain the average value for each group"
   ]
  },
  {
   "cell_type": "code",
   "execution_count": 5,
   "id": "a10b5728-f87c-491e-be31-d92bdd290923",
   "metadata": {},
   "outputs": [
    {
     "name": "stdout",
     "output_type": "stream",
     "text": [
      "                      mean   count\n",
      "g_orgs                            \n",
      "Archaea         273.916034   330.0\n",
      "Microsporidia   310.827261    26.0\n",
      "Bacteria        319.333116  7986.0\n",
      "Nematoda        346.616261    57.0\n",
      "Viridiplantae   390.588279   178.0\n",
      "Mucoromycota    397.025739    30.0\n",
      "Lophotrochozoa  427.159576    38.0\n",
      "Basidiomycota   444.358624   178.0\n",
      "Arthropoda      449.669682   115.0\n",
      "Aves            450.480340    60.0\n",
      "Ascomycota      474.125173   502.0\n",
      "protists        518.474686   156.0\n",
      "Primates        525.864757    24.0\n",
      "Actinopterygii  527.731067    65.0\n",
      "Mammalia        542.905725    75.0\n"
     ]
    }
   ],
   "source": [
    "#mean\n",
    "print(stat_df['mean'].groupby(stat_df['g_orgs']).describe()[['mean', 'count']].sort_values('mean', ascending=True))"
   ]
  },
  {
   "cell_type": "code",
   "execution_count": 6,
   "id": "a773cb2f-e0f2-4b6f-b6da-860332f25175",
   "metadata": {},
   "outputs": [],
   "source": [
    "#count\n",
    "#print(stat_df['count'].groupby(stat_df['g_orgs']).describe()[['mean', 'count']].sort_values('mean', ascending=True))"
   ]
  },
  {
   "cell_type": "code",
   "execution_count": null,
   "id": "6eb9d478-558a-4874-af1e-8e27b335f5f4",
   "metadata": {},
   "outputs": [],
   "source": []
  }
 ],
 "metadata": {
  "kernelspec": {
   "display_name": "Python 3 (ipykernel)",
   "language": "python",
   "name": "python3"
  },
  "language_info": {
   "codemirror_mode": {
    "name": "ipython",
    "version": 3
   },
   "file_extension": ".py",
   "mimetype": "text/x-python",
   "name": "python",
   "nbconvert_exporter": "python",
   "pygments_lexer": "ipython3",
   "version": "3.10.12"
  }
 },
 "nbformat": 4,
 "nbformat_minor": 5
}
