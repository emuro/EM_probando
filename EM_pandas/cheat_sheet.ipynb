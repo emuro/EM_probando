{
 "cells": [
  {
   "cell_type": "markdown",
   "metadata": {},
   "source": [
    "# pandas cheat sheet"
   ]
  },
  {
   "cell_type": "markdown",
   "metadata": {},
   "source": [
    "#### Importing modules"
   ]
  },
  {
   "cell_type": "code",
   "execution_count": 38,
   "metadata": {},
   "outputs": [],
   "source": [
    "import numpy as np\n",
    "import pandas as pd\n",
    "from pandas import DataFrame, Series\n",
    "import matplotlib.pyplot as plt"
   ]
  },
  {
   "cell_type": "markdown",
   "metadata": {},
   "source": [
    "####"
   ]
  },
  {
   "cell_type": "markdown",
   "metadata": {},
   "source": [
    "#### Series"
   ]
  },
  {
   "cell_type": "code",
   "execution_count": 39,
   "metadata": {},
   "outputs": [
    {
     "name": "stdout",
     "output_type": "stream",
     "text": [
      "0     2\n",
      "1     4\n",
      "2     6\n",
      "3     8\n",
      "4    10\n",
      "dtype: int64\n"
     ]
    }
   ],
   "source": [
    "s1 = Series(range(0, 5))\n",
    "odd_s2 = Series(range(1, 6))\n",
    "even_s2 = Series(range(2, 7))\n",
    "s3 = s1 + even_s2 \n",
    "print(s3)"
   ]
  },
  {
   "cell_type": "markdown",
   "metadata": {},
   "source": [
    "### DataFrame\n",
    "#### get csv from an URL"
   ]
  },
  {
   "cell_type": "code",
   "execution_count": 40,
   "metadata": {},
   "outputs": [
    {
     "data": {
      "text/html": [
       "<div>\n",
       "<style scoped>\n",
       "    .dataframe tbody tr th:only-of-type {\n",
       "        vertical-align: middle;\n",
       "    }\n",
       "\n",
       "    .dataframe tbody tr th {\n",
       "        vertical-align: top;\n",
       "    }\n",
       "\n",
       "    .dataframe thead th {\n",
       "        text-align: right;\n",
       "    }\n",
       "</style>\n",
       "<table border=\"1\" class=\"dataframe\">\n",
       "  <thead>\n",
       "    <tr style=\"text-align: right;\">\n",
       "      <th></th>\n",
       "      <th>Identifier</th>\n",
       "      <th>First name</th>\n",
       "      <th>Last name</th>\n",
       "    </tr>\n",
       "    <tr>\n",
       "      <th>Username</th>\n",
       "      <th></th>\n",
       "      <th></th>\n",
       "      <th></th>\n",
       "    </tr>\n",
       "  </thead>\n",
       "  <tbody>\n",
       "    <tr>\n",
       "      <th>booker12</th>\n",
       "      <td>9012</td>\n",
       "      <td>Rachel</td>\n",
       "      <td>Booker</td>\n",
       "    </tr>\n",
       "    <tr>\n",
       "      <th>grey07</th>\n",
       "      <td>2070</td>\n",
       "      <td>Laura</td>\n",
       "      <td>Grey</td>\n",
       "    </tr>\n",
       "    <tr>\n",
       "      <th>johnson81</th>\n",
       "      <td>4081</td>\n",
       "      <td>Craig</td>\n",
       "      <td>Johnson</td>\n",
       "    </tr>\n",
       "    <tr>\n",
       "      <th>jenkins46</th>\n",
       "      <td>9346</td>\n",
       "      <td>Mary</td>\n",
       "      <td>Jenkins</td>\n",
       "    </tr>\n",
       "    <tr>\n",
       "      <th>smith79</th>\n",
       "      <td>5079</td>\n",
       "      <td>Jamie</td>\n",
       "      <td>Smith</td>\n",
       "    </tr>\n",
       "  </tbody>\n",
       "</table>\n",
       "</div>"
      ],
      "text/plain": [
       "            Identifier First name Last name\n",
       "Username                                   \n",
       "booker12          9012     Rachel    Booker\n",
       "grey07            2070      Laura      Grey\n",
       "johnson81         4081      Craig   Johnson\n",
       "jenkins46         9346       Mary   Jenkins\n",
       "smith79           5079      Jamie     Smith"
      ]
     },
     "metadata": {},
     "output_type": "display_data"
    },
    {
     "name": "stdout",
     "output_type": "stream",
     "text": [
      "<class 'pandas.core.frame.DataFrame'>\n",
      "Index: 5 entries, booker12 to smith79\n",
      "Data columns (total 3 columns):\n",
      " #   Column       Non-Null Count  Dtype \n",
      "---  ------       --------------  ----- \n",
      " 0    Identifier  5 non-null      int64 \n",
      " 1   First name   5 non-null      object\n",
      " 2   Last name    5 non-null      object\n",
      "dtypes: int64(1), object(2)\n",
      "memory usage: 160.0+ bytes\n"
     ]
    }
   ],
   "source": [
    "df = DataFrame()\n",
    "df = pd.read_csv('https://support.staffbase.com/hc/en-us/article_attachments/360009197031/username.csv', \n",
    "sep=';', header=0, index_col=0, na_values=['na', '', '-', '.']) \n",
    "display(df)\n",
    "df.info()"
   ]
  },
  {
   "cell_type": "markdown",
   "metadata": {},
   "source": [
    "##"
   ]
  },
  {
   "cell_type": "markdown",
   "metadata": {},
   "source": [
    "#### Load a data frame from a module with data"
   ]
  },
  {
   "cell_type": "code",
   "execution_count": 41,
   "metadata": {},
   "outputs": [
    {
     "name": "stdout",
     "output_type": "stream",
     "text": [
      "<class 'pandas.core.frame.DataFrame'>\n",
      "RangeIndex: 392 entries, 0 to 391\n",
      "Data columns (total 9 columns):\n",
      " #   Column        Non-Null Count  Dtype  \n",
      "---  ------        --------------  -----  \n",
      " 0   mpg           392 non-null    float64\n",
      " 1   cylinders     392 non-null    int64  \n",
      " 2   displacement  392 non-null    float64\n",
      " 3   horsepower    392 non-null    int64  \n",
      " 4   weight        392 non-null    int64  \n",
      " 5   acceleration  392 non-null    float64\n",
      " 6   year          392 non-null    int64  \n",
      " 7   origin        392 non-null    int64  \n",
      " 8   name          392 non-null    object \n",
      "dtypes: float64(3), int64(5), object(1)\n",
      "memory usage: 27.7+ KB\n"
     ]
    },
    {
     "data": {
      "text/plain": [
       "(392, 9)"
      ]
     },
     "metadata": {},
     "output_type": "display_data"
    },
    {
     "data": {
      "text/html": [
       "<div>\n",
       "<style scoped>\n",
       "    .dataframe tbody tr th:only-of-type {\n",
       "        vertical-align: middle;\n",
       "    }\n",
       "\n",
       "    .dataframe tbody tr th {\n",
       "        vertical-align: top;\n",
       "    }\n",
       "\n",
       "    .dataframe thead th {\n",
       "        text-align: right;\n",
       "    }\n",
       "</style>\n",
       "<table border=\"1\" class=\"dataframe\">\n",
       "  <thead>\n",
       "    <tr style=\"text-align: right;\">\n",
       "      <th></th>\n",
       "      <th>mpg</th>\n",
       "      <th>cylinders</th>\n",
       "      <th>displacement</th>\n",
       "      <th>horsepower</th>\n",
       "      <th>weight</th>\n",
       "      <th>acceleration</th>\n",
       "      <th>year</th>\n",
       "      <th>origin</th>\n",
       "      <th>name</th>\n",
       "    </tr>\n",
       "  </thead>\n",
       "  <tbody>\n",
       "    <tr>\n",
       "      <th>0</th>\n",
       "      <td>18.0</td>\n",
       "      <td>8</td>\n",
       "      <td>307.0</td>\n",
       "      <td>130</td>\n",
       "      <td>3504</td>\n",
       "      <td>12.0</td>\n",
       "      <td>70</td>\n",
       "      <td>1</td>\n",
       "      <td>chevrolet chevelle malibu</td>\n",
       "    </tr>\n",
       "    <tr>\n",
       "      <th>1</th>\n",
       "      <td>15.0</td>\n",
       "      <td>8</td>\n",
       "      <td>350.0</td>\n",
       "      <td>165</td>\n",
       "      <td>3693</td>\n",
       "      <td>11.5</td>\n",
       "      <td>70</td>\n",
       "      <td>1</td>\n",
       "      <td>buick skylark 320</td>\n",
       "    </tr>\n",
       "  </tbody>\n",
       "</table>\n",
       "</div>"
      ],
      "text/plain": [
       "    mpg  cylinders  displacement  horsepower  weight  acceleration  year  \\\n",
       "0  18.0          8         307.0         130    3504          12.0    70   \n",
       "1  15.0          8         350.0         165    3693          11.5    70   \n",
       "\n",
       "   origin                       name  \n",
       "0       1  chevrolet chevelle malibu  \n",
       "1       1          buick skylark 320  "
      ]
     },
     "metadata": {},
     "output_type": "display_data"
    },
    {
     "data": {
      "text/plain": [
       "None"
      ]
     },
     "metadata": {},
     "output_type": "display_data"
    }
   ],
   "source": [
    "from ISLP import load_data\n",
    "Auto = load_data('Auto')\n",
    "if 1:\n",
    "    display(Auto.shape, Auto.head(2), Auto.info()) "
   ]
  },
  {
   "cell_type": "raw",
   "metadata": {},
   "source": [
    "from ISLP import load_data\n",
    "Wage = load_data('Wage')\n",
    "if 1:\n",
    "    display(Wage.shape, Wage.head(2), Wage.info()) "
   ]
  },
  {
   "cell_type": "code",
   "execution_count": 48,
   "metadata": {},
   "outputs": [
    {
     "data": {
      "text/plain": [
       "'Sheet1'"
      ]
     },
     "metadata": {},
     "output_type": "display_data"
    },
    {
     "data": {
      "text/html": [
       "<div>\n",
       "<style scoped>\n",
       "    .dataframe tbody tr th:only-of-type {\n",
       "        vertical-align: middle;\n",
       "    }\n",
       "\n",
       "    .dataframe tbody tr th {\n",
       "        vertical-align: top;\n",
       "    }\n",
       "\n",
       "    .dataframe thead th {\n",
       "        text-align: right;\n",
       "    }\n",
       "</style>\n",
       "<table border=\"1\" class=\"dataframe\">\n",
       "  <thead>\n",
       "    <tr style=\"text-align: right;\">\n",
       "      <th></th>\n",
       "      <th>Key</th>\n",
       "      <th>Matrikel nr</th>\n",
       "      <th>Nachname</th>\n",
       "      <th>Vorname</th>\n",
       "      <th>email</th>\n",
       "      <th>seminar</th>\n",
       "      <th>Q1 EM Python</th>\n",
       "      <th>Q2 EM/PM</th>\n",
       "      <th>Q3 MA</th>\n",
       "      <th>Q4 ST/UD</th>\n",
       "      <th>...</th>\n",
       "      <th>Q7 FM</th>\n",
       "      <th>Q8 MSp/SA</th>\n",
       "      <th>Q9 MSp/SA</th>\n",
       "      <th>Q10 MC</th>\n",
       "      <th>Q11 EV</th>\n",
       "      <th>Notes</th>\n",
       "      <th>exam received</th>\n",
       "      <th>File Name</th>\n",
       "      <th>Exam pts</th>\n",
       "      <th>Total pts</th>\n",
       "    </tr>\n",
       "  </thead>\n",
       "  <tbody>\n",
       "    <tr>\n",
       "      <th>0</th>\n",
       "      <td>35</td>\n",
       "      <td>2725728</td>\n",
       "      <td>Reiner</td>\n",
       "      <td>Julia Salomea</td>\n",
       "      <td>rjuliasa@students.uni-mainz.de</td>\n",
       "      <td>4.5</td>\n",
       "      <td>2</td>\n",
       "      <td>2</td>\n",
       "      <td>NaN</td>\n",
       "      <td>NaN</td>\n",
       "      <td>...</td>\n",
       "      <td>NaN</td>\n",
       "      <td>NaN</td>\n",
       "      <td>NaN</td>\n",
       "      <td>NaN</td>\n",
       "      <td>NaN</td>\n",
       "      <td>NaN</td>\n",
       "      <td>yes</td>\n",
       "      <td>2725728_Reiner.pdf</td>\n",
       "      <td>NaN</td>\n",
       "      <td>NaN</td>\n",
       "    </tr>\n",
       "    <tr>\n",
       "      <th>1</th>\n",
       "      <td>38</td>\n",
       "      <td>2733610</td>\n",
       "      <td>Thews</td>\n",
       "      <td>Leonhard Tankred</td>\n",
       "      <td>lthews@students.uni-mainz.de</td>\n",
       "      <td>5.0</td>\n",
       "      <td>6</td>\n",
       "      <td>6</td>\n",
       "      <td>NaN</td>\n",
       "      <td>NaN</td>\n",
       "      <td>...</td>\n",
       "      <td>NaN</td>\n",
       "      <td>NaN</td>\n",
       "      <td>NaN</td>\n",
       "      <td>NaN</td>\n",
       "      <td>NaN</td>\n",
       "      <td>NaN</td>\n",
       "      <td>yes (from gmail)</td>\n",
       "      <td>2733610_Thews.pdf</td>\n",
       "      <td>NaN</td>\n",
       "      <td>NaN</td>\n",
       "    </tr>\n",
       "  </tbody>\n",
       "</table>\n",
       "<p>2 rows × 22 columns</p>\n",
       "</div>"
      ],
      "text/plain": [
       "   Key  Matrikel nr Nachname           Vorname  \\\n",
       "0   35      2725728   Reiner     Julia Salomea   \n",
       "1   38      2733610    Thews  Leonhard Tankred   \n",
       "\n",
       "                            email  seminar Q1 EM Python Q2 EM/PM  Q3 MA  \\\n",
       "0  rjuliasa@students.uni-mainz.de      4.5            2        2    NaN   \n",
       "1    lthews@students.uni-mainz.de      5.0            6        6    NaN   \n",
       "\n",
       "   Q4 ST/UD  ...  Q7 FM Q8 MSp/SA  Q9 MSp/SA  Q10 MC  Q11 EV  Notes  \\\n",
       "0       NaN  ...    NaN       NaN        NaN     NaN     NaN    NaN   \n",
       "1       NaN  ...    NaN       NaN        NaN     NaN     NaN    NaN   \n",
       "\n",
       "      exam received           File Name Exam pts Total pts  \n",
       "0               yes  2725728_Reiner.pdf      NaN       NaN  \n",
       "1  yes (from gmail)   2733610_Thews.pdf      NaN       NaN  \n",
       "\n",
       "[2 rows x 22 columns]"
      ]
     },
     "metadata": {},
     "output_type": "display_data"
    }
   ],
   "source": [
    "import pandas as pd\n",
    "wb_df = pd.ExcelFile('~/.local/share/Trash/files/MasterBiomedicineJGU_mod1.a_WiSe23/exams/exam_22.12.2022/students_exams/Bioinformatics MSc module Dec 2022_7_formarking_EM.xlsx')\n",
    "d = {}\n",
    "for sheet in wb_df.sheet_names:\n",
    "    df = wb_df.parse(sheet)\n",
    "    display(sheet, df.head(2))"
   ]
  },
  {
   "cell_type": "raw",
   "metadata": {},
   "source": []
  }
 ],
 "metadata": {
  "kernelspec": {
   "display_name": "Python 3",
   "language": "python",
   "name": "python3"
  },
  "language_info": {
   "codemirror_mode": {
    "name": "ipython",
    "version": 3
   },
   "file_extension": ".py",
   "mimetype": "text/x-python",
   "name": "python",
   "nbconvert_exporter": "python",
   "pygments_lexer": "ipython3",
   "version": "3.10.12"
  }
 },
 "nbformat": 4,
 "nbformat_minor": 2
}
