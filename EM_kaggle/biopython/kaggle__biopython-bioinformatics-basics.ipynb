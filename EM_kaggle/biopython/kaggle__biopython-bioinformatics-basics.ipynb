{
 "cells": [
  {
   "cell_type": "code",
   "execution_count": 2,
   "metadata": {
    "execution": {
     "iopub.execute_input": "2022-09-25T21:51:04.186847Z",
     "iopub.status.busy": "2022-09-25T21:51:04.186153Z",
     "iopub.status.idle": "2022-09-25T21:51:05.322561Z",
     "shell.execute_reply": "2022-09-25T21:51:05.321453Z",
     "shell.execute_reply.started": "2022-09-25T21:51:04.186749Z"
    }
   },
   "outputs": [
    {
     "name": "stderr",
     "output_type": "stream",
     "text": [
      "/home/emuro/python-my_venv/python3.10/my_env/lib/python3.10/site-packages/Bio/SubsMat/__init__.py:126: BiopythonDeprecationWarning: Bio.SubsMat has been deprecated, and we intend to remove it in a future release of Biopython. As an alternative, please consider using Bio.Align.substitution_matrices as a replacement, and contact the Biopython developers if you still need the Bio.SubsMat module.\n",
      "  warnings.warn(\n"
     ]
    }
   ],
   "source": [
    "import os\n",
    "import numpy as np\n",
    "import pandas as pd\n",
    "from Bio.pairwise2 import format_alignment\n",
    "from Bio.SubsMat import MatrixInfo \n",
    "from Bio import pairwise2\n",
    "from Bio import SeqIO, SearchIO\n",
    "from Bio.Seq import Seq\n",
    "from Bio.SeqRecord import SeqRecord\n",
    "from Bio.Blast import NCBIWWW\n",
    "from Bio.Blast import NCBIXML\n",
    "\n",
    "from Bio.Phylo.TreeConstruction import DistanceTreeConstructor\n",
    "from Bio.Phylo.TreeConstruction import DistanceCalculator\n",
    "from Bio.Phylo.PhyloXML import Phylogeny\n",
    "from Bio import Phylo\n",
    "\n",
    "from pprint import pprint\n",
    "import matplotlib.pyplot as plt\n",
    "import seaborn as sns; sns.set(style='white')\n",
    "blast_id = True"
   ]
  },
  {
   "cell_type": "markdown",
   "metadata": {},
   "source": [
    "![](https://i.imgur.com/jJmBNXq.png)\n",
    "\n",
    "# <div style=\"padding: 30px;color:white;margin:10;font-size:80%;text-align:left;display:fill;border-radius:10px;background-color:#F1C40F;overflow:hidden;background-image: url(https://i.imgur.com/tNNAhbu.png)\"><b><span style='color:white'>1 |</span></b> Background</div>\n",
    "\n",
    "<div style=\"color:white;display:fill;border-radius:8px;\n",
    "            background-color:#03112A;font-size:150%;\n",
    "            letter-spacing:1.0px\">\n",
    "    <p style=\"padding: 8px;color:white;\"><b><b><span style='color:#F1A424'>1.1 |</span></b> Biopython</b></p>\n",
    "</div>\n",
    "\n",
    "### <b><span style='color:#F55AA2'>BIOPYTHON</span></b>\n",
    "\n",
    "- The Biopython Project is an international association of developers of freely available Python tools for computational molecular biology. \n",
    "- Basically, the goal of Biopython is to make it as easy as possible to use Python for bioinformatics by creating high-quality, reusable modules and classes. \n",
    "- Biopython features include parsers for various Bioinformatics file formats (**<span style='color:#F55AA2'>BLAST</span>**,**<span style='color:#F55AA2'>Clustalw</span>**, **<span style='color:#F55AA2'>FASTA</span>**, **<span style='color:#F55AA2'>Genbank</span>**, access to <b>online services</b> (**<span style='color:#F55AA2'>NCBI</span>**, Expasy,...)\n",
    "- Interfaces to common and not-so-common programs (Clustalw, DSSP, MSMS...), a standard sequence class, various clustering modules, a KD tree data structure etc. and even documentation.\n",
    "\n",
    "### <b><span style='color:#F55AA2'>NOTEBOOK AIM</span></b>\n",
    "\n",
    "- In this notebook, we'll be covering very simple, beginner entry operations one can encounter when starting out in the field of <b><span style='color:#F55AA2'>bioinformatics</span></b>.\n",
    "- <b><span style='color:#F55AA2'>BioPython</span></b> is a very convenient tool we can utlise when working with <b><span style='color:#F55AA2'>Sequences</span></b> & <b><span style='color:#F55AA2'>Alignments</span></b> of <b><span style='color:#F55AA2'>DNA/Protein</span></b> based sequences.\n",
    "- Whilst it can be interesting to work with your own classes you can modify to your needs, it's much easier and less of a hastle to work in BioPython. \n",
    "- It is [well documented](https://biopython.org) & is quite popular, so there are plenty of of [examples](http://diverge.hunter.cuny.edu/~weigang/BioPython.html) that you can come across & will potentially help you understand how you can utilise this tool"
   ]
  },
  {
   "cell_type": "markdown",
   "metadata": {},
   "source": [
    "<div style=\"color:white;display:fill;border-radius:8px;\n",
    "            background-color:#03112A;font-size:150%;\n",
    "            letter-spacing:1.0px\">\n",
    "    <p style=\"padding: 8px;color:white;\"><b><b><span style='color:#F1A424'>1.2 |</span></b> Biological Sequence Alphabets</b></p>\n",
    "</div>\n",
    "\n",
    "Two sets of alphabets are used in bioinformatics, **<mark style=\"background-color:#5D2ECC;color:white;border-radius:5px;opacity:0.7\">Nucleotides</mark>** & **<mark style=\"background-color:#5D2ECC;color:white;border-radius:5px;opacity:0.7\">Amino Acids</mark>**\n",
    "\n",
    "**<mark style=\"background-color:#323232;color:white;border-radius:5px;opacity:0.7\">ABC (I/II)</mark>** **<mark style=\"background-color:#F55AA2;color:white;border-radius:5px;opacity:0.7\">Nucleic Acids</mark>**\n",
    "\n",
    "> - Among <b><span style='color:#5D2ECC'>molecules with a biological role</span></b>, we can find <b><span style='color:#5D2ECC'>nucleic acids</span></b>. \n",
    "> - Nucleic acids encode and express the genetic code that is kept within the cell. \n",
    "- There are two major types of <b><span style='color:#5D2ECC'>nucleic acids</span></b>: \n",
    "> - <b>DeoxyriboNucleic Acid (DNA)</b>\n",
    "> - <b>RiboNucleic Acid (RNA)</b> (Obtainable via transcription)\n",
    "- DNA contains the information necessary to build a cell, and keep it functioning. \n",
    "- In <b><span style='color:#5D2ECC'>eukaryotic</span></b> cells, DNA will be found in the nucleus, whilst in the <b><span style='color:#5D2ECC'>prokaryotic</span></b> cells, it will be found in the cytoplasm. \n",
    "- <b><span style='color:#5D2ECC'>IUPAC</span></b> defines the full list of nucleotides as shown in the table below, with <b>A,T,G,C</b> being the main four:\n",
    "- Another type of nucleotide list often used is **[IUB Ambiguity Codes](http://biocorp.ca/IUB.php)**, which we use later in the notebook as well\n",
    "\n",
    "**<mark style=\"background-color:#323232;color:white;border-radius:5px;opacity:0.7\">ABC (II/II)</mark>** **<mark style=\"background-color:#F55AA2;color:white;border-radius:5px;opacity:0.7\">Amino Acids</mark>**\n",
    "- **<span style='color:#5D2ECC'>Amino acids</span>**: \n",
    "> The **<span style='color:#5D2ECC'>building blocks of proteins</span>**, which are <b>macromolecules</b> that perform most of the functions inside a cell\n",
    "- Proteins have a **<span style='color:#5D2ECC'>broad range of functions</span>**, spanning from **<span style='color:#5D2ECC'>catalytic</span>** to **<span style='color:#5D2ECC'>structural functions</span>**:\n",
    "\n",
    "> - **<span style='color:#5D2ECC'>Enzymes</span>** : Type of abundant proteins that promote chemical reactions and convert certain molecules into other types of molecules required for the functioning of the cell.\n",
    "> - **<span style='color:#5D2ECC'>Carbohydrates</span>** : Serve as energy storage, both for immediate and long term energy demands.\n",
    "> - **<span style='color:#5D2ECC'>Lipids</span>**: Part of the plasma membrane, doing signaling and energy storage.\n",
    "- The cell also contains other components of varying complexity. Of importance: \n",
    "> - <b>Mitochondria</b> & the <b>Chloroplasts</b> : Organelles involved in the production of energy. \n",
    "> - <b>Ribosomes</b> : Large and complex molecules composed of a mixture of genetic material, req. to assemble proteins and play a central role in the flow of genetic information."
   ]
  },
  {
   "cell_type": "markdown",
   "metadata": {},
   "source": [
    "<div style=\"color:white;display:fill;border-radius:8px;\n",
    "            background-color:#03112A;font-size:150%;\n",
    "            letter-spacing:1.0px\">\n",
    "    <p style=\"padding: 8px;color:white;\"><b><b><span style='color:#F1A424'>1.3 |</span></b> DNA Strands</b></p>\n",
    "</div>\n",
    "\n",
    "### <b><span style='color:#F55AA2'>COMPLEMENTARY STRANDS IN DNA</span></b>\n",
    "\n",
    "- DNA is a molecule composed of **<span style='color:#5D2ECC'>two complementary strands</span>** that form and stick together due to the connections established between the nucleotides in both strands. \n",
    "\n",
    "> - This is made possible by due to the chemical phenomenon where **<span style='color:#5D2ECC'>Adenine (A)</span>** bonds only with **<span style='color:#5D2ECC'>Thymine (T)</span>** nucleotides, as a result of two hydrogen connections. \n",
    "> - Similarly, **<span style='color:#5D2ECC'>Guanine (G)</span>** bonds only with **<span style='color:#5D2ECC'>Cytosine (C)</span>** nucleotides by three hydrogen connections.\n",
    "\n",
    "### <b><span style='color:#F55AA2'>REVERSE COMPLEMENT</span></b>\n",
    "\n",
    "- This results in **<span style='color:#5D2ECC'>two complementary</span>** and **<span style='color:#5D2ECC'>anti-parallel strands</span>** (connected in opposite directions), if we know the nucleotide sequence in one of the strands, we can get the sequence in the opposite strand by taking the complement of its nucleotides, which are also read backwards, thus we have the **<span style='color:#5D2ECC'>reverse complement</span>** of the other strand.\n",
    "- It has become a **<span style='color:#5D2ECC'>standard to describe the DNA though only one</span>** of the strands, due to this **<span style='color:#5D2ECC'>complementarity</span>** using <b>[A,T,G,C]</b>.\n",
    "- The existence of these two strands is essential in order to **<span style='color:#5D2ECC'>pass on genetic information</span>** to new cells and **<span style='color:#5D2ECC'>produce proteins</span>**."
   ]
  },
  {
   "cell_type": "markdown",
   "metadata": {},
   "source": [
    "# <div style=\"padding: 30px;color:white;margin:10;font-size:80%;text-align:left;display:fill;border-radius:10px;background-color:#F1C40F;overflow:hidden;background-image: url(https://i.imgur.com/tNNAhbu.png)\"><b><span style='color:white'>2 |</span></b> Sequence Definition</div>\n",
    "\n",
    "<div style=\"color:white;display:fill;border-radius:8px;\n",
    "            background-color:#03112A;font-size:150%;\n",
    "            letter-spacing:1.0px\">\n",
    "    <p style=\"padding: 8px;color:white;\"><b><b><span style='color:#F1A424'>2.1 |</span></b> Python Strings to Sequences</b></p>\n",
    "</div>\n",
    "\n",
    "### <b><span style='color:#F55AA2'>SMALLER SEQUENCES</span></b>\n",
    "\n",
    "- When a sequence are quite short (eg. when we are looking at part of the entire DNA sequence), we can probably just define them using the **<span style='color:#F55AA2'>string</span>** format.\n",
    "- To use some operations with this sequence in <b>biopython</b> (eg. sequence alignment), we need to <b><span style='color:#F55AA2'>create an instance</span></b> of the <b>Seq</b> class for each sequence.\n",
    "- In previous biopython versions, we had to specify the <b><span style='color:#F55AA2'>sequence type</span></b>, (eg. <code>IUPAC.protein</code>), however this is not necessary in recent versions."
   ]
  },
  {
   "cell_type": "code",
   "execution_count": 15,
   "metadata": {
    "execution": {
     "iopub.execute_input": "2022-09-25T21:56:29.767692Z",
     "iopub.status.busy": "2022-09-25T21:56:29.767272Z",
     "iopub.status.idle": "2022-09-25T21:56:29.774332Z",
     "shell.execute_reply": "2022-09-25T21:56:29.773354Z",
     "shell.execute_reply.started": "2022-09-25T21:56:29.767663Z"
    }
   },
   "outputs": [
    {
     "name": "stdout",
     "output_type": "stream",
     "text": [
      "ATGACGGATCAGCCGCAAGCGGAATTGGCGTTTACGTACGATGCGCCGTAA\n",
      "MMMELQHQRLMALAGQLQLESLISAAPALSQQAVDQEWSYMDFLEHLLHE\n"
     ]
    }
   ],
   "source": [
    "n = 'ATGACGGATCAGCCGCAAGCGGAATTGGCGTTTACGTACGATGCGCCGTAA'  # nucleotide sequence\n",
    "aa = 'MMMELQHQRLMALAGQLQLESLISAAPALSQQAVDQEWSYMDFLEHLLHE' # protein sequence\n",
    "\n",
    "seq_n = Seq(n)\n",
    "print(seq_n)\n",
    "seq_aa = Seq(aa)\n",
    "print(seq_aa)"
   ]
  },
  {
   "cell_type": "markdown",
   "metadata": {},
   "source": [
    "### <b><span style='color:#F55AA2'>SIMPLE SEQUENCE OPERATION</span></b>\n",
    "\n",
    "- Since we don't have <code>.alphabet</code> details, you'll have to know the <b>sequence type</b> you are using, so it makes sense to give them names accordingly.\n",
    "- An example operation you could apply on a <b>nucleotide sequence</b> would be the **<span style='color:#F55AA2'>reverse_complement</span>**, which is an operation applied to a <b><span style='color:#F55AA2'>DNA</span></b> based sequence."
   ]
  },
  {
   "cell_type": "code",
   "execution_count": 17,
   "metadata": {
    "execution": {
     "iopub.execute_input": "2022-09-25T21:59:17.453527Z",
     "iopub.status.busy": "2022-09-25T21:59:17.453155Z",
     "iopub.status.idle": "2022-09-25T21:59:17.458852Z",
     "shell.execute_reply": "2022-09-25T21:59:17.458139Z",
     "shell.execute_reply.started": "2022-09-25T21:59:17.453496Z"
    }
   },
   "outputs": [
    {
     "name": "stdout",
     "output_type": "stream",
     "text": [
      "TTACGGCGCATCGTACGTAAACGCCAATTCCGCTTGCGGCTGATCCGTCAT\n",
      "EDLLDELFHKRSWEQHBTQQSLTPTTSILSELQLQCTLTKLYQDQLEKKK\n",
      "\n",
      "\n",
      "Lo siguiente debería dar un ERROR!\n",
      "MMMELQHQRLMALAGQLQLESLISAAPALSQQAVDQEWSYMDFLEHLLHE\n",
      "||||||||||||||||||||||||||||||||||||||||||||||||||\n",
      "EDLLDELFHKRSWEQHBTQQSLTPTTSILSELQLQCTLTKLYQDQLEKKK\n"
     ]
    }
   ],
   "source": [
    "print(seq_n.reverse_complement()) # possible\n",
    "print(seq_aa.reverse_complement())\n",
    "print(\"\\n\\nLo siguiente debería dar un ERROR!\", \"\\n\", seq_aa, \"\\n\", \"|\"*len(seq_aa), \"\\n\", seq_aa.reverse_complement(), sep=\"\") "
   ]
  },
  {
   "cell_type": "markdown",
   "metadata": {},
   "source": [
    "<div style=\"color:white;display:fill;border-radius:8px;\n",
    "            background-color:#03112A;font-size:150%;\n",
    "            letter-spacing:1.0px\">\n",
    "    <p style=\"padding: 8px;color:white;\"><b><b><span style='color:#F1A424'>2.2 |</span></b> Sequence Annotation Objects</b></p>\n",
    "</div>\n",
    "\n",
    "### <b><span style='color:#F55AA2'>DEFINING MORE DETAIL ABOUT OUR SEQUENCE</span></b>\n",
    "- Sequence files obtained from databases provied the option to for more <b>detailed information</b> storage about the sequence, not just the <b>sequence</b> alone.\n",
    "- In BioPython, we can use <code>SeqRecord</code> objects with our defined <code>Seq</code> object instances & add define additional information about our sequence(s).\n",
    "- Two commonly added detailed information about a sequence:\n",
    "  > - <b><span style='color:#F55AA2'>Annotations</span></b> ( Extra metadata information about the sequence )\n",
    "  > - <b><span style='color:#F55AA2'>Features</span></b> ( Extra information about the sequence content, which is extractable ) \n",
    "\n",
    "### <b><span style='color:#F55AA2'>SEQRECORD</span> CLASS CONTENT</b>\n",
    "\n",
    "<b>SeqRecord</b> | [BioPython](https://biopython.org/wiki/SeqRecord)\n",
    "\n",
    "> SeqRecord objects are used in Biopython to hold a sequence (as a Seq object) with identifiers (ID and name), description and optionally annotation and sub-features.\n",
    "\n",
    "- <code>SeqRecord</code> is class we'd use when we want to work with <code>Seq</code> that have more information about the sequence, grouped all in one spot.\n",
    "- If we wanted to do <b>multiple sequence alignment</b>, we have to define each individual sequences in the <code>SeqRecord</code> object, which requires just the <b>id</b> to be defined.\n",
    "\n",
    "<code>SeqRecord</code> objects can store:\n",
    "> - <code>seq</code> - The sequence itself ( <code>Seq()</code> objects )\n",
    "> - <code>id</code> - Sequence identifier\n",
    "> - <code>name</code> - Sequence name \n",
    "> - <code>description</code> - Description of the sequence\n",
    "> - <code>annotations</code> - Global annotations for the whole sequence (<b>dic</b>)\n",
    "> - <code>features</code> - Structured features (<b>lst</b> of <code>SeqFeature</code> objects)\n",
    "> - <code>letter_annotations</code> - Annotations for each letter (position) in the sequence\n",
    "> - <code>dexrefs</code> - References to databases\n",
    "\n",
    "### <b><span style='color:#F55AA2'>SEQRECORD ANNOTATIONS</span> & </b> <b><span style='color:#F55AA2'>SAVING SEQUENCE FILE</span></b>\n",
    "- As we saw, <code>SeqRecord</code> can hold information about different <b><span style='color:#F55AA2'>annotations</span></b> for the sequence in question.\n",
    "- Let's define some basic annotations for <code>SeqRec</code> below, which we <b>can subsequently save</b> using <code>SeqIO</code> using the <b><span style='color:#F55AA2'>minimalistic</span></b> <b>FASTA</b> or <b><span style='color:#F55AA2'>detailed</span></b> <b>Genbank</b> formats.\n",
    "- We'll look at which <code>annotations</code> data are typically added in <b>Section 3</b>, where we'll load and look at <b>real sequence</b> files."
   ]
  },
  {
   "cell_type": "code",
   "execution_count": 19,
   "metadata": {
    "execution": {
     "iopub.execute_input": "2021-10-22T17:49:58.756768Z",
     "iopub.status.busy": "2021-10-22T17:49:58.756183Z",
     "iopub.status.idle": "2021-10-22T17:49:58.791115Z",
     "shell.execute_reply": "2021-10-22T17:49:58.789792Z",
     "shell.execute_reply.started": "2021-10-22T17:49:58.756717Z"
    }
   },
   "outputs": [
    {
     "data": {
      "text/plain": [
       "1"
      ]
     },
     "execution_count": 19,
     "metadata": {},
     "output_type": "execute_result"
    }
   ],
   "source": [
    "seq_record = SeqRecord(seq_n)\n",
    "\n",
    "seq_record.id = \"ABC12345\"\n",
    "seq_record.description = 'Neucleotide sequence'\n",
    "seq_record.annotations['molecule_type'] = 'DNA'\n",
    "SeqIO.write(seq_record,\"./kaggle/working/my_seq.fasta\",\"fasta\")\n",
    "SeqIO.write(seq_record,\"./kaggle/working/my_seq.gb\",\"genbank\")"
   ]
  },
  {
   "cell_type": "code",
   "execution_count": 27,
   "metadata": {
    "execution": {
     "iopub.execute_input": "2021-10-22T17:49:58.793499Z",
     "iopub.status.busy": "2021-10-22T17:49:58.792895Z",
     "iopub.status.idle": "2021-10-22T17:49:58.801558Z",
     "shell.execute_reply": "2021-10-22T17:49:58.800658Z",
     "shell.execute_reply.started": "2021-10-22T17:49:58.793444Z"
    }
   },
   "outputs": [
    {
     "name": "stdout",
     "output_type": "stream",
     "text": [
      "FASTA Annotations:\n",
      "{}\n",
      "GenBank Annotations\n",
      "{'molecule_type': 'DNA', 'data_file_division': 'UNK', 'date': '01-JAN-1980', 'accessions': ['ABC12345'], 'keywords': [''], 'source': '', 'organism': '.', 'taxonomy': []}\n"
     ]
    }
   ],
   "source": [
    "# As we can see FASTA doesn't seem to save the annotations data\n",
    "print('FASTA Annotations:')\n",
    "read_seq1 = SeqIO.read('./kaggle/working/my_seq.fasta','fasta')\n",
    "print(read_seq1.annotations)  # annotations\n",
    "\n",
    "# Whereas Genbank does\n",
    "print('GenBank Annotations')\n",
    "read_seq2 = SeqIO.read('./kaggle/working/my_seq.gb','genbank')\n",
    "print(read_seq2.annotations)  # annotations"
   ]
  },
  {
   "cell_type": "markdown",
   "metadata": {},
   "source": [
    "### <b><span style='color:#F55AA2'>SEQRECORD FEATURES</span></b>\n",
    "\n",
    "- <b>Real sequences</b> can be very long & contain useful <b>subset sequences</b> that one might be interested in.\n",
    "- <b><span style='color:#F55AA2'>Feature descriptions</span></b> can be quite useful; if we want to define subsets of the <b>sequence</b> to which a <b>feature</b> is applicable.\n",
    "- More detailed information about the <code>SeqFeature</code> class | [BioPython Documentation](https://biopython.org/docs/1.75/api/Bio.SeqFeature.html)\n",
    "\n",
    "<b>Some</b> <code>SeqFeature</code> object attributes:\n",
    "> - <code>location</code> - Indicator of which region the annotation applies ( <code>FeatureLocation</code> object )\n",
    "> - <code>type</code> - Feature type ( <code>string</code> )\n",
    "> - <code>qualifiers</code> - Additional Info ( <code>dict</code> )\n",
    "\n"
   ]
  },
  {
   "cell_type": "code",
   "execution_count": 28,
   "metadata": {
    "execution": {
     "iopub.execute_input": "2021-10-22T17:49:58.804131Z",
     "iopub.status.busy": "2021-10-22T17:49:58.803608Z",
     "iopub.status.idle": "2021-10-22T17:49:58.819792Z",
     "shell.execute_reply": "2021-10-22T17:49:58.818603Z",
     "shell.execute_reply.started": "2021-10-22T17:49:58.804084Z"
    }
   },
   "outputs": [
    {
     "name": "stdout",
     "output_type": "stream",
     "text": [
      "Feature Location Notation: [>10:(35^40)]\n"
     ]
    }
   ],
   "source": [
    "from Bio import SeqFeature\n",
    "\n",
    "# Define locations \n",
    "s0 = SeqFeature.AfterPosition(10) # exact location\n",
    "s1 = SeqFeature.BetweenPosition(40,left=35,right=40) # fuzzy location (range)\n",
    "location = SeqFeature.FeatureLocation(s0,s1) # define the feature location\n",
    "print(f'Feature Location Notation: {location}')"
   ]
  },
  {
   "cell_type": "code",
   "execution_count": 29,
   "metadata": {
    "execution": {
     "iopub.execute_input": "2021-10-22T17:49:58.82228Z",
     "iopub.status.busy": "2021-10-22T17:49:58.821926Z",
     "iopub.status.idle": "2021-10-22T17:49:58.836914Z",
     "shell.execute_reply": "2021-10-22T17:49:58.835537Z",
     "shell.execute_reply.started": "2021-10-22T17:49:58.822248Z"
    }
   },
   "outputs": [
    {
     "name": "stdout",
     "output_type": "stream",
     "text": [
      "GCTGT\n"
     ]
    }
   ],
   "source": [
    "# Example for a gene feature\n",
    "\n",
    "unitig = Seq('GTGCGACAGCAAAGTCCAAACCAGCGTCCCCGCC')\n",
    "feature = SeqFeature.SeqFeature(SeqFeature.FeatureLocation(5,10), # location (shorter)\n",
    "                                type='gene', # the specified type of the feature\n",
    "                                strand=-1  # -1 indicates the minus strand (reverse_complement)\n",
    "                               )\n",
    "\n",
    "# If we wanted to extract the feature\n",
    "feature_seq = feature.extract(unitig)\n",
    "print(feature_seq)"
   ]
  },
  {
   "cell_type": "markdown",
   "metadata": {},
   "source": [
    "We can of course add this feature to the <code>SeqRecord</code> class & save, subsequently recalling the feature again."
   ]
  },
  {
   "cell_type": "code",
   "execution_count": 32,
   "metadata": {
    "execution": {
     "iopub.execute_input": "2021-10-22T17:49:58.839928Z",
     "iopub.status.busy": "2021-10-22T17:49:58.839193Z",
     "iopub.status.idle": "2021-10-22T17:49:58.852735Z",
     "shell.execute_reply": "2021-10-22T17:49:58.851036Z",
     "shell.execute_reply.started": "2021-10-22T17:49:58.839859Z"
    }
   },
   "outputs": [],
   "source": [
    "seq_record = SeqRecord(unitig)\n",
    "\n",
    "seq_record.id = \"ABC12345\"\n",
    "seq_record.description = 'Neisseria gonorrhoeae unitig'\n",
    "seq_record.annotations['molecule_type'] = 'DNA'\n",
    "seq_record.features = [feature]"
   ]
  },
  {
   "cell_type": "code",
   "execution_count": 33,
   "metadata": {
    "execution": {
     "iopub.execute_input": "2021-10-22T17:49:58.855033Z",
     "iopub.status.busy": "2021-10-22T17:49:58.854412Z",
     "iopub.status.idle": "2021-10-22T17:49:58.875499Z",
     "shell.execute_reply": "2021-10-22T17:49:58.873999Z",
     "shell.execute_reply.started": "2021-10-22T17:49:58.854987Z"
    }
   },
   "outputs": [
    {
     "name": "stdout",
     "output_type": "stream",
     "text": [
      "[SeqFeature(FeatureLocation(ExactPosition(5), ExactPosition(10), strand=-1), type='gene')]\n",
      "\n",
      "Extracted Feature:\n",
      "ID: <unknown id>\n",
      "Name: <unknown name>\n",
      "Description: <unknown description>\n",
      "Number of features: 1\n",
      "Seq('GCTGT')\n"
     ]
    }
   ],
   "source": [
    "# We can of course write to gb file & see our stored data\n",
    "SeqIO.write(seq_record,\"./kaggle/working/my_seq.gb\",\"genbank\")\n",
    "read_seq2 = SeqIO.read('./kaggle/working/my_seq.gb','genbank')\n",
    "print(read_seq2.features)  # annotations\n",
    "\n",
    "# define one of the features from the list\n",
    "feature = read_seq2.features[0]\n",
    "\n",
    "# Extracted feature\n",
    "feature_seq = feature.extract(read_seq2)\n",
    "print('\\nExtracted Feature:')\n",
    "print(feature_seq)"
   ]
  },
  {
   "cell_type": "markdown",
   "metadata": {},
   "source": [
    "# <div style=\"padding: 30px;color:white;margin:10;font-size:80%;text-align:left;display:fill;border-radius:10px;background-color:#F1C40F;overflow:hidden;background-image: url(https://i.imgur.com/tNNAhbu.png)\"><b><span style='color:white'>3 |</span></b> Reading Sequence Files</div>\n",
    "\n",
    "<div style=\"color:white;display:fill;border-radius:8px;\n",
    "            background-color:#03112A;font-size:150%;\n",
    "            letter-spacing:1.0px\">\n",
    "    <p style=\"padding: 8px;color:white;\"><b><b><span style='color:#F1A424'>3.1 |</span></b> Common Formats</b></p>\n",
    "</div>\n",
    "\n",
    "### <b><span style='color:#F55AA2'>TWO MAIN FORMATS</span></b>\n",
    "\n",
    "- Two formats are commonly used for sequence storage, introduced in the previous section.\n",
    "- In <b>BioPython</b>, <b><span style='color:#F55AA2'>FASTA</span></b> & <b><span style='color:#F55AA2'>GenBank</span></b> file formats can be read using BioPython's <code>Bio.SeqIO</code> class.\n",
    "\n",
    "### <b><span style='color:#F55AA2'>SIMPLE OR COMPLEX FORMAT</span></b>\n",
    "\n",
    "- <b>FASTA</b> is quite a <b>generic format</b> & can be used to store <b>multiple sequences</b> & even <b>alignments</b> as well.\n",
    "- <b>FASTA</b> is definitely less detailed & very minimalistic when it comes to content, usually only containing a <b>description</b> & <b>sequence</b>.\n",
    "- <b>GenBank</b> files on the other hand tend to be very detailed when it comes to the <b>sequence description</b>.\n",
    "\n",
    "<div style=\"color:white;display:fill;border-radius:8px;\n",
    "            background-color:#03112A;font-size:150%;\n",
    "            letter-spacing:1.0px\">\n",
    "    <p style=\"padding: 8px;color:white;\"><b><b><span style='color:#F1A424'>3.2 |</span></b> FASTA Format</b></p>\n",
    "</div>\n",
    "\n",
    "Snipplet from **[FASTA format](https://en.wikipedia.org/wiki/FASTA_format)**:\n",
    ">In bioinformatics and biochemistry, the FASTA format is a text-based format for representing either <b>nucleotide sequences</b> or <b>amino acid (protein) sequences</b>, in which nucleotides or amino acids are represented using single-letter codes. The format also allows for <b>sequence names</b> and <b>comments</b> to precede the sequences. <br>\n",
    "> The format originates from the FASTA software package, but has now become a near universal standard in the field of bioinformatics.\n",
    "\n",
    "### <b><span style='color:#F55AA2'>READING SINGLE SEQUENCE FILES</span></b>\n",
    "- The FASTA format can actually contain <b>multiple sequences</b> in one file & we need to read them slightly differently.\n",
    "- <code>SeqIO.read()</code> is used for reading <b><span style='color:#F55AA2'>single sequence</span></b> files, else we get an error <code>More than one record found in handle</code>."
   ]
  },
  {
   "cell_type": "code",
   "execution_count": null,
   "metadata": {
    "execution": {
     "iopub.execute_input": "2021-10-22T17:49:58.877788Z",
     "iopub.status.busy": "2021-10-22T17:49:58.877019Z",
     "iopub.status.idle": "2021-10-22T17:49:58.898683Z",
     "shell.execute_reply": "2021-10-22T17:49:58.897165Z",
     "shell.execute_reply.started": "2021-10-22T17:49:58.87775Z"
    }
   },
   "outputs": [],
   "source": [
    "''' FASTA formats w/ one sequence '''\n",
    "\n",
    "single_fasta = '/kaggle/input/biopython-genbank/example.fasta' # nuceotide seq\n",
    "fasta_n = SeqIO.read(single_fasta,'fasta')\n",
    "print(f'FASTA Content:')\n",
    "print(fasta_n)      # Print fasta file information\n",
    "\n",
    "print(f'\\nNumber of Nucleotides: {len(fasta_n)}') # number of nucleotides\n",
    "seq_fasta = fasta_n.seq # Extract Sequence\n",
    "\n",
    "print('\\nFeatures & Annotations:')\n",
    "print(fasta_n.features)     # some files contain just the basic details\n",
    "print(fasta_n.annotations)  "
   ]
  },
  {
   "cell_type": "markdown",
   "metadata": {},
   "source": [
    "### <b><span style='color:#F55AA2'>READING MULTIPLE SEQUENCE FILES</span></b>\n",
    "<code>SeqIO.parse()</code> is used for reading <b><span style='color:#F55AA2'>multiple sequence</span></b> files, which returns <b>an iterator</b>, that can be used to cycle through and get the sequences."
   ]
  },
  {
   "cell_type": "code",
   "execution_count": null,
   "metadata": {
    "execution": {
     "iopub.execute_input": "2021-10-22T17:49:58.902121Z",
     "iopub.status.busy": "2021-10-22T17:49:58.901582Z",
     "iopub.status.idle": "2021-10-22T17:49:58.921569Z",
     "shell.execute_reply": "2021-10-22T17:49:58.920422Z",
     "shell.execute_reply.started": "2021-10-22T17:49:58.902081Z"
    }
   },
   "outputs": [],
   "source": [
    "''' FASTA formats w/ multile sequences '''\n",
    "\n",
    "multi_fasta = '/kaggle/input/biopython-genbank/NC_005816.faa' # protein seq\n",
    "iter_multi_fasta_aa = SeqIO.parse(multi_fasta,'fasta') # returns an interator\n",
    "\n",
    "lst_fasta_aa = []\n",
    "for seq_aa in iter_multi_fasta_aa:\n",
    "    lst_fasta_aa.append(seq_aa)\n",
    "    \n",
    "print(f'Number of Sequences read: {len(lst_fasta_aa)}')\n",
    "print(f'\\nFirst Sequence: \\n{lst_fasta_aa[0]}')"
   ]
  },
  {
   "cell_type": "markdown",
   "metadata": {},
   "source": [
    "<div style=\"color:white;display:fill;border-radius:8px;\n",
    "            background-color:#03112A;font-size:150%;\n",
    "            letter-spacing:1.0px\">\n",
    "    <p style=\"padding: 8px;color:white;\"><b><b><span style='color:#F1A424'>3.3 |</span></b> GenBank Format</b></p>\n",
    "</div>\n",
    "\n",
    "Snipplet from [Bacterial Genoes Bioinformatics](https://www.futurelearn.com/info/courses/bacterial-genomes-bioinformatics/0/steps/47012)\n",
    "\n",
    "> The Genbank format allows for the storage of information in addition to a DNA/protein sequence. It <b>holds much more information</b> than the FASTA format. Formats similar to Genbank have been developed by ENA (EMBL format) and by DDBJ (DDBJ format).\n",
    "\n",
    "**COMPATIBILITY WITH DATABASES**\n",
    "\n",
    "> Primary databases have developed highly structured data file formats that enable the storage of all of these additional data that accompany the otherwise “naked” DNA sequence encoded in a FASTA file. The strict layout is necessary for the file to be compatible with a range of computer programs. Each of the three primary databases have their own sequence file format layout. However, all of them contain almost the same fields and the same information, making them interchangeable.\n",
    "\n",
    "- Like <b><span style='color:#F55AA2'>FASTA</span></b>, <b><span style='color:#F55AA2'>GenBank</span></b> files can store more than one sequence & are read in exactly the same way as shown above using class <code>SeqIO</code>. (<code>.read</code> & <code>.parse</code>)\n",
    "- However as indicated above, they tend to contain much more in depth information about the sequence, content of the nature storable in the <code>SeqRecord</code> class object.\n",
    "- As we can see below, they can store both <b><span style='color:#F55AA2'>Annotations</span></b> & <b><span style='color:#F55AA2'>Features</span></b> ( both of which we looked at in <b>Section 2.2</b> ), which makes this format very useful."
   ]
  },
  {
   "cell_type": "code",
   "execution_count": null,
   "metadata": {
    "execution": {
     "iopub.execute_input": "2021-10-22T17:49:58.925595Z",
     "iopub.status.busy": "2021-10-22T17:49:58.925065Z",
     "iopub.status.idle": "2021-10-22T17:49:58.95558Z",
     "shell.execute_reply": "2021-10-22T17:49:58.954738Z",
     "shell.execute_reply.started": "2021-10-22T17:49:58.925544Z"
    }
   },
   "outputs": [],
   "source": [
    "file_gb = '/kaggle/input/biopython-genbank/example.gb'\n",
    "\n",
    "''' Read GenBank format '''\n",
    "# GenBank format are more comprehnsive than fasta.\n",
    "\n",
    "gb = SeqIO.read(file_gb,'genbank')\n",
    "seq_gb = gb.seq # store sequence \n",
    "\n",
    "print('Print Seq (preview)')\n",
    "print(gb.seq[:40])\n",
    "\n",
    "print('\\nLength of Sequence:')\n",
    "print(len(gb.seq))\n",
    "\n",
    "print('\\nRecord ID:')\n",
    "print(gb.id)\n",
    "\n",
    "print('\\nName:')\n",
    "print(gb.name)\n",
    "\n",
    "print('\\nDescription:')\n",
    "print(gb.description)\n",
    "\n",
    "# Annotations \n",
    "print('\\nNumber of Annotations:')\n",
    "print(len(gb.annotations))\n",
    "\n",
    "# Features \n",
    "print('\\nNumber of Features:')\n",
    "print(len(gb.features))"
   ]
  },
  {
   "cell_type": "markdown",
   "metadata": {},
   "source": [
    "### <b><span style='color:#F55AA2'>ANNOTATION CONTENT</span></b>\n",
    "- We can visualise the <b><span style='color:#F55AA2'>annotation</span></b> content (if it is present) using <code>.annotations</code>.\n",
    "- Being a <b>dictionary</b>, we can get see what sort annotations are present by calling <code>.annotations.keys()</code>."
   ]
  },
  {
   "cell_type": "code",
   "execution_count": null,
   "metadata": {
    "execution": {
     "iopub.execute_input": "2021-10-22T17:49:58.957641Z",
     "iopub.status.busy": "2021-10-22T17:49:58.957018Z",
     "iopub.status.idle": "2021-10-22T17:49:58.965655Z",
     "shell.execute_reply": "2021-10-22T17:49:58.964114Z",
     "shell.execute_reply.started": "2021-10-22T17:49:58.957594Z"
    }
   },
   "outputs": [],
   "source": [
    "# annotations field; dic that provides a number of properties for the seq\n",
    "print('Annotations dictionary:\\n')\n",
    "print(gb.annotations)\n",
    "\n",
    "print('\\nKeys:')\n",
    "print(gb.annotations.keys())"
   ]
  },
  {
   "cell_type": "code",
   "execution_count": null,
   "metadata": {
    "execution": {
     "iopub.execute_input": "2021-10-22T17:49:58.967857Z",
     "iopub.status.busy": "2021-10-22T17:49:58.967246Z",
     "iopub.status.idle": "2021-10-22T17:49:58.979504Z",
     "shell.execute_reply": "2021-10-22T17:49:58.978203Z",
     "shell.execute_reply.started": "2021-10-22T17:49:58.967811Z"
    }
   },
   "outputs": [],
   "source": [
    "# Getting specific key values\n",
    "print('\\nGet specific parts of the annotation:\\n')\n",
    "print('Taxonomy:\\n')\n",
    "print(gb.annotations['taxonomy'])\n",
    "\n",
    "print('Source:\\n')\n",
    "print(gb.annotations['source'])\n",
    "\n",
    "print('Date:\\n')\n",
    "print(gb.annotations['date'])\n",
    "\n",
    "print('gi number:\\n')\n",
    "print(gb.annotations['gi'])"
   ]
  },
  {
   "cell_type": "markdown",
   "metadata": {},
   "source": [
    "### <b><span style='color:#F55AA2'>SHOWING FEATURES CONTENT</span></b>\n",
    "- If there are any <b><span style='color:#F55AA2'>features</span></b> present in the file, we can get the <b>list</b> by calling <code>.features</code> ( What we defined in <b>Section 2.2</b> as well )\n",
    "- <b>Subsets</b> of the <b>sequence</b> can be extracted <code>.extract()</code> from the The <b>list</b> of <code>SeqFeature</code> objects."
   ]
  },
  {
   "cell_type": "code",
   "execution_count": null,
   "metadata": {
    "execution": {
     "iopub.execute_input": "2021-10-22T17:49:58.9839Z",
     "iopub.status.busy": "2021-10-22T17:49:58.983384Z",
     "iopub.status.idle": "2021-10-22T17:49:58.994162Z",
     "shell.execute_reply": "2021-10-22T17:49:58.992516Z",
     "shell.execute_reply.started": "2021-10-22T17:49:58.983833Z"
    }
   },
   "outputs": [],
   "source": [
    "gb.features[:5] # show only a few features (total=41)"
   ]
  },
  {
   "cell_type": "markdown",
   "metadata": {},
   "source": [
    "### <b><span style='color:#F55AA2'>EXPLORING THE \"GENE\" FEATURE TYPE</span></b>\n",
    "- One of the features <code>.type</code> that is used in <code>.features</code> is <b><span style='color:#F55AA2'>\"gene\"</span></b>.\n",
    "- We can for example, cycling through all features & get all the annotated <b>genes</b> in the whole sequence.\n",
    "- Exploring these genes, we can get their <b><span style='color:#F55AA2'>locus tag</span></b> (from <b>qualifiers</b>), <b><span style='color:#F55AA2'>database reference</span></b> (from <b>qualifiers</b>),  <b><span style='color:#F55AA2'>strand</span></b> & <b><span style='color:#F55AA2'>location</span></b>.\n",
    "- We can apply an operation called <b>translate</b> (<b>Section 4.3</b>) to try to <b>find the proteins</b> that the gene feature encode"
   ]
  },
  {
   "cell_type": "code",
   "execution_count": null,
   "metadata": {
    "execution": {
     "iopub.execute_input": "2021-10-22T17:49:58.996416Z",
     "iopub.status.busy": "2021-10-22T17:49:58.995727Z",
     "iopub.status.idle": "2021-10-22T17:49:59.009436Z",
     "shell.execute_reply": "2021-10-22T17:49:59.008069Z",
     "shell.execute_reply.started": "2021-10-22T17:49:58.996373Z"
    }
   },
   "outputs": [],
   "source": [
    "gene_features = []\n",
    "for i in range(len(gb.features)):\n",
    "    if(gb.features[i].type == 'gene'):\n",
    "        gene_features.append(gb.features[i])\n",
    "\n",
    "print(f'Number of gene features: {len(gene_features)}')\n",
    "gene_features"
   ]
  },
  {
   "cell_type": "code",
   "execution_count": null,
   "metadata": {
    "execution": {
     "iopub.execute_input": "2021-10-22T17:49:59.011712Z",
     "iopub.status.busy": "2021-10-22T17:49:59.011296Z",
     "iopub.status.idle": "2021-10-22T17:49:59.029506Z",
     "shell.execute_reply": "2021-10-22T17:49:59.028217Z",
     "shell.execute_reply.started": "2021-10-22T17:49:59.011667Z"
    }
   },
   "outputs": [],
   "source": [
    "# Gene Qualifiers\n",
    "gene_features[0].qualifiers"
   ]
  },
  {
   "cell_type": "code",
   "execution_count": null,
   "metadata": {
    "execution": {
     "iopub.execute_input": "2021-10-22T17:49:59.032138Z",
     "iopub.status.busy": "2021-10-22T17:49:59.031651Z",
     "iopub.status.idle": "2021-10-22T17:49:59.042736Z",
     "shell.execute_reply": "2021-10-22T17:49:59.041528Z",
     "shell.execute_reply.started": "2021-10-22T17:49:59.03209Z"
    }
   },
   "outputs": [],
   "source": [
    "for feat in gene_features:\n",
    "    print(f\"locus tag: {feat.qualifiers['locus_tag']}, database ref: {feat.qualifiers['db_xref']}, strand: {feat.strand}, location: {feat.location}\")"
   ]
  },
  {
   "cell_type": "code",
   "execution_count": null,
   "metadata": {
    "execution": {
     "iopub.execute_input": "2021-10-22T17:49:59.046476Z",
     "iopub.status.busy": "2021-10-22T17:49:59.045971Z",
     "iopub.status.idle": "2021-10-22T17:49:59.060044Z",
     "shell.execute_reply": "2021-10-22T17:49:59.059059Z",
     "shell.execute_reply.started": "2021-10-22T17:49:59.04644Z"
    }
   },
   "outputs": [],
   "source": [
    "protein_feat = []\n",
    "for feat in gene_features:\n",
    "    protein_feat.append(feat.extract(gb.seq).translate(table='Bacterial',cds=True))\n",
    "    \n",
    "protein_feat # list of protein sequences"
   ]
  },
  {
   "cell_type": "markdown",
   "metadata": {},
   "source": [
    "### <b><span style='color:#F55AA2'>EXPLORING \"CDS\" FEATURE TYPE</span></b>\n",
    "- Another <code>.type</code> that is used in <code>.features</code> is <b><span style='color:#F55AA2'>\"CDS\"</span></b> (<b>Coding Sequence</b>)\n",
    "- <b>CDS</b> <code>qualifiers</code> contain quite a bit more content, including the <b>translation</b> sequence, so we can compare our translation of the <b>gene</b> feature, since both types are reffering to the same parts of the sequence."
   ]
  },
  {
   "cell_type": "code",
   "execution_count": null,
   "metadata": {
    "execution": {
     "iopub.execute_input": "2021-10-22T17:49:59.062979Z",
     "iopub.status.busy": "2021-10-22T17:49:59.06254Z",
     "iopub.status.idle": "2021-10-22T17:49:59.076403Z",
     "shell.execute_reply": "2021-10-22T17:49:59.075272Z",
     "shell.execute_reply.started": "2021-10-22T17:49:59.062941Z"
    }
   },
   "outputs": [],
   "source": [
    "CDS_features = []\n",
    "for i in range(len(gb.features)):\n",
    "    if(gb.features[i].type == 'CDS'):\n",
    "        CDS_features.append(gb.features[i])\n",
    "        \n",
    "print(f\"Number of CDS features: {len(CDS_features)}\")\n",
    "CDS_features"
   ]
  },
  {
   "cell_type": "code",
   "execution_count": null,
   "metadata": {
    "execution": {
     "iopub.execute_input": "2021-10-22T17:49:59.078678Z",
     "iopub.status.busy": "2021-10-22T17:49:59.078072Z",
     "iopub.status.idle": "2021-10-22T17:49:59.08979Z",
     "shell.execute_reply": "2021-10-22T17:49:59.088549Z",
     "shell.execute_reply.started": "2021-10-22T17:49:59.078642Z"
    }
   },
   "outputs": [],
   "source": [
    "print(f'CDS Qualifier Keys: {CDS_features[0].qualifiers.keys()}\\n')\n",
    "\n",
    "print('Showing First CDS Feature')\n",
    "pprint(CDS_features[0].qualifiers) # ordered dictionary"
   ]
  },
  {
   "cell_type": "code",
   "execution_count": null,
   "metadata": {
    "execution": {
     "iopub.execute_input": "2021-10-22T17:49:59.093551Z",
     "iopub.status.busy": "2021-10-22T17:49:59.093123Z",
     "iopub.status.idle": "2021-10-22T17:49:59.103641Z",
     "shell.execute_reply": "2021-10-22T17:49:59.102646Z",
     "shell.execute_reply.started": "2021-10-22T17:49:59.093512Z"
    }
   },
   "outputs": [],
   "source": [
    "for key, value in CDS_features[0].qualifiers.items():\n",
    "    print(f'{key} : {value}')"
   ]
  },
  {
   "cell_type": "code",
   "execution_count": null,
   "metadata": {
    "execution": {
     "iopub.execute_input": "2021-10-22T17:49:59.105336Z",
     "iopub.status.busy": "2021-10-22T17:49:59.105037Z",
     "iopub.status.idle": "2021-10-22T17:49:59.117056Z",
     "shell.execute_reply": "2021-10-22T17:49:59.11618Z",
     "shell.execute_reply.started": "2021-10-22T17:49:59.105306Z"
    }
   },
   "outputs": [],
   "source": [
    "# Should be identical\n",
    "Seq(CDS_features[0].qualifiers['translation'][0]) == protein_feat[0]"
   ]
  },
  {
   "cell_type": "markdown",
   "metadata": {},
   "source": [
    "# <div style=\"padding: 30px;color:white;margin:10;font-size:80%;text-align:left;display:fill;border-radius:10px;background-color:#F1C40F;overflow:hidden;background-image: url(https://i.imgur.com/tNNAhbu.png)\"><b><span style='color:white'>4 |</span></b> Sequence Processing</div>\n",
    "\n",
    "<div style=\"color:white;display:fill;border-radius:8px;\n",
    "            background-color:#03112A;font-size:150%;\n",
    "            letter-spacing:1.0px\">\n",
    "    <p style=\"padding: 8px;color:white;\"><b><b><span style='color:#F1A424'>4.1 |</span></b> Basic Sequence Processing Operations</b></p>\n",
    "</div>\n",
    "\n",
    "Biopython uses Python <b><span style='color:#F55AA2'>strings</span></b>, so the standard string operations can be used."
   ]
  },
  {
   "cell_type": "code",
   "execution_count": null,
   "metadata": {
    "execution": {
     "iopub.execute_input": "2021-10-22T17:49:59.118604Z",
     "iopub.status.busy": "2021-10-22T17:49:59.118305Z",
     "iopub.status.idle": "2021-10-22T17:49:59.128822Z",
     "shell.execute_reply": "2021-10-22T17:49:59.127981Z",
     "shell.execute_reply.started": "2021-10-22T17:49:59.118576Z"
    }
   },
   "outputs": [],
   "source": [
    "''' Basic Operations '''\n",
    "\n",
    "print(seq_fasta.count('G'))   # Counter for Guanine Nucleotide Count\n",
    "print(seq_fasta[1:3])         # Show specific Subset of a Sequence\n",
    "print('ATA' in seq_fasta)     # Is string subset part of sequence\n",
    "print(seq_fasta.find('ATA'))  # Find Substring index \n",
    "\n",
    "# Instantiate a sequence w/ Seq()\n",
    "seq1 = Seq('MEVRNAKS')\n",
    "seq2 = Seq('GHERWKY')\n",
    "\n",
    "print(seq1 + seq2)"
   ]
  },
  {
   "cell_type": "markdown",
   "metadata": {},
   "source": [
    "<div style=\"color:white;display:fill;border-radius:8px;\n",
    "            background-color:#03112A;font-size:150%;\n",
    "            letter-spacing:1.0px\">\n",
    "    <p style=\"padding: 8px;color:white;\"><b><b><span style='color:#F1A424'>4.2 |</span></b> Transcription & Reverse Complement Strand</b></p>\n",
    "</div>\n",
    "\n",
    "### <b><span style='color:#F55AA2'>TRANSCRIPTION</span></b>\n",
    "\n",
    "The process of <b><span style='color:#F55AA2'>transcription from DNA</span></b> to <b><span style='color:#F55AA2'>RNA</span></b>, is a critical step in the process of protein synthesis:\n",
    "\n",
    "(I) Process that occurs within the nucleus of a cell; we obtain a __Mature messenger RNA, mRNA.__ <br>\n",
    "(II) mRNA is then transfered to the cytoplasm, where it will be used by a cellular machine, to guide the production of a protein.\n",
    "- Given a DNA sequence, transcription is the first step in <b>obtaining a Protein</b>.\n",
    "- Nucleotide sequence of a gene from one of the DNA strands is transcribed ( copied into a compelentary molecule of RNA )\n",
    "- Complementarity of code, allows us to recover information contained in the DNA sequence, process performed by an enzyme, RNA polymerase.\n",
    "- Stabilisation of elements at the end of a molecule are perfomed by different protein complexes.\n",
    "\n",
    "### <b><span style='color:#F55AA2'>REVERSE COMPLEMENT</span></b> \n",
    "- DNA has <b>two complementary strands</b>. \n",
    "- Due to the complementarity of the DNA strands, usually only one of the strands is provided in a sequence file obtained from databases.\n",
    "- The second strand to the input <b>DNA sequence</b> can be obtained by calling the <code>.reverse_complement()</code> function."
   ]
  },
  {
   "cell_type": "code",
   "execution_count": null,
   "metadata": {
    "execution": {
     "iopub.execute_input": "2021-10-22T17:49:59.13076Z",
     "iopub.status.busy": "2021-10-22T17:49:59.130354Z",
     "iopub.status.idle": "2021-10-22T17:49:59.141856Z",
     "shell.execute_reply": "2021-10-22T17:49:59.14049Z",
     "shell.execute_reply.started": "2021-10-22T17:49:59.13072Z"
    }
   },
   "outputs": [],
   "source": [
    "''' Transcription & Reverse Complement '''\n",
    "\n",
    "print(f'DNA Sequence: {seq_fasta[:100]}')\n",
    "print(f'Reverse Complement: {seq_fasta.reverse_complement()[:100]}')\n",
    "print(f'Transcription: {seq_gb.transcribe()[:100]}')"
   ]
  },
  {
   "cell_type": "markdown",
   "metadata": {},
   "source": [
    "<div style=\"color:white;display:fill;border-radius:8px;\n",
    "            background-color:#03112A;font-size:150%;\n",
    "            letter-spacing:1.0px\">\n",
    "    <p style=\"padding: 8px;color:white;\"><b><b><span style='color:#F1A424'>4.3 |</span></b> Translation</b></p>\n",
    "</div>\n",
    "\n",
    "### <b><span style='color:#F55AA2'>TRANSLATION & CODON TABLES</span></b> \n",
    "\n",
    "#### **TRANSLATION**\n",
    "\n",
    "Snipplet from [genome.gov](https://www.genome.gov/genetics-glossary/Translation)\n",
    "\n",
    "> Translation is the process of translating the sequence of a <b><span style='color:#F55AA2'>messenger RNA</span></b> (mRNA) molecule to a <b><span style='color:#F55AA2'>sequence of amino acids</span></b> during protein synthesis. The <b><span style='color:#F55AA2'>genetic code</span></b> describes the relationship between the sequence of base pairs in a gene and the corresponding amino acid sequence that it encodes. In the cell cytoplasm, the ribosome reads the sequence of the mRNA in groups of three bases to assemble the protein.\n",
    "\n",
    "- Translation accepts a DNA sequence and converts it into a <b><span style='color:#F55AA2'>proteins</span></b> in the reading frame you specify.\n",
    "\n",
    "#### **CODON TABLES**\n",
    "\n",
    "A <b><span style='color:#F55AA2'>codon</span></b> is a sequence of <b><span style='color:#F55AA2'>three DNA/RNA nucleotides</span></b> that corresponds with a <b><span style='color:#F55AA2'>specific amino acid</span></b> or <b><span style='color:#F55AA2'>stop signal/codon(*)</span></b> during protein synthesis\n",
    "\n",
    "Snipplet from [Khan Academy](https://www.khanacademy.org/science/ap-biology/gene-expression-and-regulation/translation/a/the-genetic-code-discovery-and-properties)\n",
    "\n",
    "> The full set of relationships between <b><span style='color:#F55AA2'>codons</span></b> and amino acids (or stop signals) is called the <b><span style='color:#F55AA2'>genetic code</span></b>. The genetic code is often summarized in a table. \n",
    "\n",
    "There are a number of <b><span style='color:#F55AA2'>codon tables</span></b>, a few mentioned below:\n",
    "> - Standard  (SGC)\n",
    "> - Vertebrate Mitochondrial\n",
    "> - Bacterial"
   ]
  },
  {
   "cell_type": "code",
   "execution_count": null,
   "metadata": {
    "execution": {
     "iopub.execute_input": "2021-10-22T17:49:59.143689Z",
     "iopub.status.busy": "2021-10-22T17:49:59.14325Z",
     "iopub.status.idle": "2021-10-22T17:49:59.156444Z",
     "shell.execute_reply": "2021-10-22T17:49:59.155137Z",
     "shell.execute_reply.started": "2021-10-22T17:49:59.143645Z"
    }
   },
   "outputs": [],
   "source": [
    "from Bio.Data import CodonTable \n",
    "\n",
    "# Let's take a look at one type of table (SGC)\n",
    "table = CodonTable.unambiguous_dna_by_name['Standard']\n",
    "print(table)"
   ]
  },
  {
   "cell_type": "code",
   "execution_count": null,
   "metadata": {
    "execution": {
     "iopub.execute_input": "2021-10-22T17:49:59.158281Z",
     "iopub.status.busy": "2021-10-22T17:49:59.157855Z",
     "iopub.status.idle": "2021-10-22T17:49:59.169297Z",
     "shell.execute_reply": "2021-10-22T17:49:59.168439Z",
     "shell.execute_reply.started": "2021-10-22T17:49:59.158248Z"
    }
   },
   "outputs": [],
   "source": [
    "# Getting a specific conversion\n",
    "table.forward_table[\"CTA\"]"
   ]
  },
  {
   "cell_type": "code",
   "execution_count": null,
   "metadata": {
    "execution": {
     "iopub.execute_input": "2021-10-22T17:49:59.171919Z",
     "iopub.status.busy": "2021-10-22T17:49:59.171327Z",
     "iopub.status.idle": "2021-10-22T17:49:59.189859Z",
     "shell.execute_reply": "2021-10-22T17:49:59.187767Z",
     "shell.execute_reply.started": "2021-10-22T17:49:59.171844Z"
    }
   },
   "outputs": [],
   "source": [
    "''' Translation for both DNA & RNA '''\n",
    "#  translate codon into an aminoacid\n",
    "\n",
    "rna_seq = Seq('AUGCGUUUAACU')\n",
    "print(f'translation RNA: {rna_seq.translate()}')\n",
    "\n",
    "# Translate DNA sequence using two different tables (SGC & Vertebrate Mitochondrial)\n",
    "print(f'translation DNA: {seq_gb.translate()[:100]}')\n",
    "print(f'translation DNA (alternative): {seq_gb.translate(table=\"Vertebrate Mitochondrial\")[:100]}') "
   ]
  },
  {
   "cell_type": "markdown",
   "metadata": {},
   "source": [
    "### <b><span style='color:#F55AA2'>REASLISTIC EXAMPLE - PROTEIN IDENTIFICATION</span></b> \n",
    "\n",
    "- We can of course load something more realistic, an entire <b>genome</b> sequence as well & apply translation as we try to understand what proteins are encoded in the genome.\n",
    "- Let's obtain the largest <b>amino acid</b> chain in the sequence data."
   ]
  },
  {
   "cell_type": "code",
   "execution_count": null,
   "metadata": {
    "execution": {
     "iopub.execute_input": "2021-10-22T17:49:59.191528Z",
     "iopub.status.busy": "2021-10-22T17:49:59.191197Z",
     "iopub.status.idle": "2021-10-22T17:49:59.269216Z",
     "shell.execute_reply": "2021-10-22T17:49:59.268258Z",
     "shell.execute_reply.started": "2021-10-22T17:49:59.191497Z"
    }
   },
   "outputs": [],
   "source": [
    "# Load our sequence & apply translate\n",
    "virus_fna = '/kaggle/input/coronavirus-genome-sequence/MN908947.fna'\n",
    "virus_SeqRec = SeqIO.read(virus_fna,'fasta')\n",
    "virus_Seq = virus_SeqRec.seq\n",
    "\n",
    "translation = virus_SeqRec.translate()\n",
    "print(f'Translation length: {len(translation)}')\n",
    "\n",
    "# functional proteins are chains above 20 amino acids.\n",
    "\n",
    "# Get Proteins only\n",
    "proteins = [] \n",
    "for i in translation.seq.split('*'):\n",
    "    if(len(i) > 19):\n",
    "        proteins.append(str(i))\n",
    "\n",
    "df = pd.DataFrame({'protein_chains':proteins})\n",
    "df['length'] = df['protein_chains'].apply(len)\n",
    "df = df.sort_values(by = ['length'],ascending=False) [:10]\n",
    "display(df.head())\n",
    "\n",
    "# select one protein\n",
    "one_large_protein=df.nlargest(1,'length')\n",
    "single_prot = one_large_protein.iloc[0,0]\n",
    "\n",
    "# write to file which we'll recall later\n",
    "with open(\"/kaggle/working/protein.fasta\",\"w\") as file:\n",
    "    file.write(\">large protein\\n\" + single_prot)"
   ]
  },
  {
   "cell_type": "markdown",
   "metadata": {},
   "source": [
    "# <div style=\"padding: 30px;color:white;margin:10;font-size:80%;text-align:left;display:fill;border-radius:10px;background-color:#F1C40F;overflow:hidden;background-image: url(https://i.imgur.com/tNNAhbu.png)\"><b><span style='color:white'>5 |</span></b> Pairwise Sequence Alignment</div>\n",
    "\n",
    "<div style=\"color:white;display:fill;border-radius:8px;\n",
    "            background-color:#03112A;font-size:150%;\n",
    "            letter-spacing:1.0px\">\n",
    "    <p style=\"padding: 8px;color:white;\"><b><b><span style='color:#F1A424'>5.1 |</span></b> Sequence Similarity</b></p>\n",
    "</div>\n",
    "\n",
    "### <b><span style='color:#F55AA2'>GENERATING A HYPOTHESIS</span></b> \n",
    "\n",
    "- We can generate a hypothesis about the biological function based on <b><span style='color:#F55AA2'>sequence similarity</span></b>.\n",
    "- If two sequences show high degree of <b><span style='color:#F55AA2'>similarity (score)</span></b>, then they have a high chance of being __homologous__, sharing similar functions. \n",
    "\n",
    "### <b><span style='color:#F55AA2'>ISSUES IN COMPARING SEQUENCES</span></b> \n",
    "\n",
    "If we try to compare sequences one by one, we might run into issues since:\n",
    "\n",
    "- Two similar sequences often have gone through  <b><span style='color:#F55AA2'>biological mutation</span></b>, which can change nucleotides, thus changing their structure.\n",
    "- Thus we cannot simply rely on a comparison of nucleotides that are __in the same order__. \n",
    "- This process is even more complicated by nucleotide  <b><span style='color:#F55AA2'>insertions</span></b> &  <b><span style='color:#F55AA2'>deletions</span></b>. \n",
    "\n",
    "As a result, we need to resort to a procedure known as <b><span style='color:#F55AA2'>Pairwise Sequence Alignment (PSA)</span></b>.\n",
    "\n",
    "### <b><span style='color:#F55AA2'>TYPES OF SEQUENCE ALIGNMENT</span></b> \n",
    "\n",
    "There are two main groups of Sequence Alignment:\n",
    "- <b><span style='color:#F55AA2'>Global sequence alignment</span></b> (we are interested in aligning the entire sequences)\n",
    "- <b><span style='color:#F55AA2'>Local sequence alignment</span></b> (we aim to find good alignments of adjacent nucleotides of both of the sequences, whilst ignoring the rest)"
   ]
  },
  {
   "cell_type": "markdown",
   "metadata": {},
   "source": [
    "<div style=\"color:white;display:fill;border-radius:8px;\n",
    "            background-color:#03112A;font-size:150%;\n",
    "            letter-spacing:1.0px\">\n",
    "    <p style=\"padding: 8px;color:white;\"><b><b><span style='color:#F1A424'>5.2 |</span></b> Biopython Specifics</b></p>\n",
    "</div>\n",
    "\n",
    "### <b><span style='color:#F55AA2'>CHOOSING THE TYPE OF ALIGNMENT</span></b> \n",
    "\n",
    "- <code>Bio.pairwise2</code> has implementations of <b><span style='color:#F55AA2'>Dynamic Programing (DP)</span></b> Algorithms for __Pairwise Sequence Alignment__.\n",
    "- Alignment Type option is written after <code>pairwise2.align.X</code>, where <code>.X</code> is replaced by the type; <code>.global</code> and <code>.local</code>.\n",
    "- After <code>.local</code> or <code>.global</code>, two letters are written to indicate which parameters it takes; eg. <code>.localXY</code>\n",
    "\n",
    "### <b><span style='color:#F55AA2'>OPTIONS IN FOR X & Y</span></b> \n",
    "\n",
    "- The <b><span style='color:#F55AA2'>first (X)</span></b> indicates __a substitution matrix__ or __the parameters for match/missmatches__\n",
    "- The <b><span style='color:#F55AA2'>second (Y)</span></b> indicates the parameters for the penalty of the gap.\n",
    "\n",
    "#### **THE SPECIFICS**\n",
    "\n",
    "Some more specifics<b><span style='color:#F55AA2'> (first letter)</span></b>:\n",
    "> - If __x__ is provided, a <b>score of 1</b> is considered for the alignment & a <b>mismatch score of 0</b>. <br>\n",
    "> - If __m__ is provided, the function will allow us to <b>define a match/mismatch score</b> using appropriate parameters. <br>\n",
    "> - If __d__ is provided, we can pass on a **dictionary** to the function, **defining a full substitution matrix**. <br>\n",
    "\n",
    "Some more specifics <b><span style='color:#F55AA2'>(second letter)</span></b>:\n",
    "> - If __x__ is provided, no gap penalties are imposed (g=0) <br>\n",
    "> - If __s__ is provided, we can define an affinite gap penalty model <br>\n",
    "\n",
    "### <b><span style='color:#F55AA2'>SEQUENCE INPUT SEQUENCES</span></b> \n",
    "- Inputs can be both <b>string</b> formats or defined <b>Seq</b> class instances.\n",
    "\n",
    "<div style=\"color:white;display:fill;border-radius:8px;\n",
    "            background-color:#03112A;font-size:150%;\n",
    "            letter-spacing:1.0px\">\n",
    "    <p style=\"padding: 8px;color:white;\"><b><b><span style='color:#F1A424'>5.3 |</span></b> Pairwise Sequence Alignment</b></p>\n",
    "</div>\n",
    "\n",
    "### <b><span style='color:#F55AA2'>GLOBAL NUCLEOTIDE</span> SEQUENCE ALIGNMENT</b> \n",
    "- Let's try an an example, aligning <code>seq1</code> & <code>seq2</code>, both are <b>nucleotide</b> sequences.\n",
    "- We are looking at <b>global alignment</b> (.global), with a match <b>score of 1</b> & <b>missmatch score of 0</b> (so first letter is x) & <b>no gap penalty emposed</b> (second letter is x)."
   ]
  },
  {
   "cell_type": "code",
   "execution_count": null,
   "metadata": {
    "execution": {
     "iopub.execute_input": "2021-10-22T17:49:59.271364Z",
     "iopub.status.busy": "2021-10-22T17:49:59.270705Z",
     "iopub.status.idle": "2021-10-22T17:49:59.28217Z",
     "shell.execute_reply": "2021-10-22T17:49:59.280816Z",
     "shell.execute_reply.started": "2021-10-22T17:49:59.271307Z"
    }
   },
   "outputs": [],
   "source": [
    "''' Global Alignment of two DNA sequences'''\n",
    "\n",
    "# String based sequences\n",
    "seq1 = 'ATGGCAGATAGA'\n",
    "seq2 = 'ATAGAGAATAG'\n",
    "\n",
    "# define an instance of Seq\n",
    "cseq1 = Seq(seq1)\n",
    "cseq2 = Seq(seq2)\n",
    "\n",
    "# - Global Alignment Problem\n",
    "# - (match score = 1, missmatch = 0), gap penalties = 0\n",
    "GDNA = pairwise2.align.globalxx(cseq1,cseq2)\n",
    "print (f'# alternative optimal alignments: {len(GDNA)}')\n",
    "\n",
    "# print all the alignments\n",
    "for i in GDNA: \n",
    "    print(format_alignment(*i))"
   ]
  },
  {
   "cell_type": "markdown",
   "metadata": {},
   "source": [
    "### <b><span style='color:#F55AA2'>GLOBAL PROTEIN</span> SEQUENCE ALIGNMENT</b> \n",
    "- Let's try another example, aligning <code>pseq1</code> & <code>pseq2</code>, both are <b>protein</b> sequences.\n",
    "- We are looking at <b>global alignment</b> (.global), using the <b>BLOSUM62</b> match/missmatch scores (first letter d) & a <b>gap penalty</b> emposed (second letter s)"
   ]
  },
  {
   "cell_type": "code",
   "execution_count": null,
   "metadata": {
    "execution": {
     "iopub.execute_input": "2021-10-22T17:49:59.284462Z",
     "iopub.status.busy": "2021-10-22T17:49:59.283965Z",
     "iopub.status.idle": "2021-10-22T17:49:59.292472Z",
     "shell.execute_reply": "2021-10-22T17:49:59.2912Z",
     "shell.execute_reply.started": "2021-10-22T17:49:59.284427Z"
    }
   },
   "outputs": [],
   "source": [
    "''' Global Alignment of two protein sequences ''' \n",
    "# - Global Alignment Problem of Protein Sequences\n",
    "# - Using a substitute matrix BLOSUM64, opening gap penalty -4, extension penalty -1\n",
    "    \n",
    "pseq1 = \"EVSAW\"\n",
    "pseq2 = \"KEVLA\"\n",
    "\n",
    "sm = MatrixInfo.blosum62 # load BLOSUM62 Substitution Matrix\n",
    "lPRT = pairwise2.align.globalds(pseq1,pseq2,sm,-4,-1)\n",
    "for i in lPRT:\n",
    "    print(format_alignment(*i))"
   ]
  },
  {
   "cell_type": "markdown",
   "metadata": {},
   "source": [
    "### <b><span style='color:#F55AA2'>LOCAL NUCLEOTIDE</span> SEQUENCE ALIGNMENT</b> \n",
    "- Let's try another example, aligning nucleotide sequences <code>seq1</code> & <code>seq2</code>, this time <b>locally</b>.\n",
    "- Local alignment (.local), <b>match/missmatch</b> score (first letter m), gap penalty emposed (second letter s)"
   ]
  },
  {
   "cell_type": "code",
   "execution_count": null,
   "metadata": {
    "execution": {
     "iopub.execute_input": "2021-10-22T17:49:59.295258Z",
     "iopub.status.busy": "2021-10-22T17:49:59.294837Z",
     "iopub.status.idle": "2021-10-22T17:49:59.31053Z",
     "shell.execute_reply": "2021-10-22T17:49:59.308983Z",
     "shell.execute_reply.started": "2021-10-22T17:49:59.295223Z"
    }
   },
   "outputs": [],
   "source": [
    "''' Local Alignment of two DNA sequences ''' \n",
    "# Local Alignment Problem of DNA Sequences\n",
    "# Match score = 3, mismatch score = -2, constant gap penalty g=-3 x2\n",
    "\n",
    "lDNA = pairwise2.align.localms(seq1,seq2, 3,-2,-3,-3)\n",
    "for i in lDNA: \n",
    "    print(format_alignment(*i))"
   ]
  },
  {
   "cell_type": "markdown",
   "metadata": {},
   "source": [
    "### <b><span style='color:#F55AA2'>LOCAL PROTEIN </span> SEQUENCE ALIGNMENT</b> \n",
    "- Again aligning <code>pseq1</code> & <code>pseq2</code>, both are <b>protein</b> sequences, <b>locally</b>.\n",
    "- We are looking at <b>local alignment</b> (.local), using the <b>BLOSUM62</b> match/missmatch scores (first letter d) & a <b>gap penalty</b> emposed (second letter s)."
   ]
  },
  {
   "cell_type": "code",
   "execution_count": null,
   "metadata": {
    "execution": {
     "iopub.execute_input": "2021-10-22T17:49:59.312823Z",
     "iopub.status.busy": "2021-10-22T17:49:59.312375Z",
     "iopub.status.idle": "2021-10-22T17:49:59.320911Z",
     "shell.execute_reply": "2021-10-22T17:49:59.319817Z",
     "shell.execute_reply.started": "2021-10-22T17:49:59.312778Z"
    }
   },
   "outputs": [],
   "source": [
    "''' Local Alignment of Protein Sequences '''\n",
    "# - Local Alignment Problem of Protein Sequences\n",
    "# - Using a substitute matrix BLOSUM64, opening gap penalty -4, extension penalty -1\n",
    "\n",
    "pPROT = pairwise2.align.localds(pseq1,pseq2,sm,-4,-1)\n",
    "for i in pPROT:\n",
    "    print(format_alignment(*i))"
   ]
  },
  {
   "cell_type": "markdown",
   "metadata": {},
   "source": [
    "<div style=\"color:white;display:fill;border-radius:8px;\n",
    "            background-color:#03112A;font-size:150%;\n",
    "            letter-spacing:1.0px\">\n",
    "    <p style=\"padding: 8px;color:white;\"><b><b><span style='color:#F1A424'>5.4 |</span></b> Unitig Sequence Alignment</b></p>\n",
    "</div>\n",
    "\n",
    "### <b><span style='color:#F55AA2'>FINDING THE BEST ALIGNMENT IN A LIST</span></b> \n",
    "\n",
    "- We can utilise <code>pairwise2.align</code> in a variety of situations, eg. cycle through a list & find the best alignment case.\n",
    "- Having two lists of filled with <b>unitigs</b> (nucleotide sequences); <code>lst1</code> & <code>lst2</code> ( you can also change the input to a sequence in <code>get_bestalign</code>)\n",
    "- Using the [gonorrhoea](https://www.kaggle.com/nwheeler443/gono-unitigs) dataset, we can compare <b>a sequence from one list</b> and try to find the the best alignment in the second list.\n",
    "- In this case, we can see that the alignment is not ideal at all, resulting in lots of gaps for the input sequence & the best alignment score is due to the longer matching sequence size."
   ]
  },
  {
   "cell_type": "code",
   "execution_count": null,
   "metadata": {
    "_kg_hide-input": true,
    "execution": {
     "iopub.execute_input": "2021-10-22T17:49:59.323033Z",
     "iopub.status.busy": "2021-10-22T17:49:59.322434Z",
     "iopub.status.idle": "2021-10-22T17:49:59.336095Z",
     "shell.execute_reply": "2021-10-22T17:49:59.334703Z",
     "shell.execute_reply.started": "2021-10-22T17:49:59.322988Z"
    }
   },
   "outputs": [],
   "source": [
    "# class to used define feature matrix & target variavle \n",
    "class data:\n",
    "    \n",
    "    def __init__(self):\n",
    "        self.df = pd.read_csv('../input/gono-unitigs/metadata.csv', index_col=0)\n",
    "        self.features = self.df.columns\n",
    "        self.targets = ['azm_sr','cip_sr','cro_sr','cfx_sr','tet_sr','pen_sr']\n",
    "    \n",
    "    def get_case(self,phenotype=None):\n",
    "    \n",
    "        _metadata = self.df\n",
    "        _metadata = _metadata.dropna(subset=[phenotype])\n",
    "        _metadata = _metadata[phenotype] # choose target variable \n",
    "        \n",
    "        prefix = '../input/gono-unitigs/'\n",
    "        suffix = '_gwas_filtered_unitigs.Rtab'\n",
    "        \n",
    "        # store all file pathways\n",
    "        self.lst_files = []\n",
    "        for dirname, _, filenames in os.walk('/kaggle/input'):\n",
    "            for filename in filenames:\n",
    "                self.lst_files.append(os.path.join(dirname, filename))\n",
    "        \n",
    "        # unitig feature matrix for phenotype\n",
    "        tdf = pd.read_csv(prefix + phenotype + suffix, sep=\" \", index_col=0, low_memory=False)\n",
    "        tdf = tdf.T # align column data w/ metadata df (pattern_id = sample_idd)\n",
    "        tdf = tdf[tdf.index.isin(_metadata.index)] # keep only common rows, ie. that have resistence measure\n",
    "        self.train = tdf\n",
    "        self.target = _metadata[_metadata.index.isin(tdf.index)]"
   ]
  },
  {
   "cell_type": "code",
   "execution_count": null,
   "metadata": {
    "execution": {
     "iopub.execute_input": "2021-10-22T17:49:59.34492Z",
     "iopub.status.busy": "2021-10-22T17:49:59.344392Z",
     "iopub.status.idle": "2021-10-22T17:50:00.463896Z",
     "shell.execute_reply": "2021-10-22T17:50:00.462687Z",
     "shell.execute_reply.started": "2021-10-22T17:49:59.344854Z"
    }
   },
   "outputs": [],
   "source": [
    "gono = data()\n",
    "\n",
    "# list of nucleotides\n",
    "gono.get_case('azm_sr')\n",
    "azm_unitigs = gono.train.columns.tolist() # list of unitigs\n",
    "\n",
    "print('AZM unitigs:')\n",
    "print(azm_unitigs[:3])\n",
    "\n",
    "# List of nucleotides\n",
    "gono.get_case('cfx_sr')\n",
    "cfx_unitigs = gono.train.columns.tolist() # list of unitigs\n",
    "\n",
    "print('\\nCFX unitigs:')\n",
    "print(cfx_unitigs[:3])"
   ]
  },
  {
   "cell_type": "code",
   "execution_count": null,
   "metadata": {
    "execution": {
     "iopub.execute_input": "2021-10-22T17:50:00.467709Z",
     "iopub.status.busy": "2021-10-22T17:50:00.467098Z",
     "iopub.status.idle": "2021-10-22T17:50:07.308601Z",
     "shell.execute_reply": "2021-10-22T17:50:07.307586Z",
     "shell.execute_reply.started": "2021-10-22T17:50:00.467655Z"
    }
   },
   "outputs": [],
   "source": [
    "# Select one unitig in lst1 and find the best alignment in lst2\n",
    "def get_bestalign(lst1,ids,lst2):\n",
    "    \n",
    "    # remove cases if columns exist in string\n",
    "    \n",
    "    lst2_upd = []\n",
    "    for unitig in lst2:\n",
    "        if(',' not in unitig):\n",
    "            lst2_upd.append(unitig)\n",
    "            \n",
    "    # main unitig used for comparison\n",
    "    n1 = lst1[ids]\n",
    "    print('Finding Best Alignment Score:')\n",
    "    print(f'For Sequence: {n1}\\n')\n",
    "    \n",
    "    # Cycle through all unitigs in updated list\n",
    "    \n",
    "    max_score = 0\n",
    "    best_ali = None\n",
    "    ii=-1\n",
    "    for unitig in lst2_upd:\n",
    "\n",
    "        ii+=1;\n",
    "        ALI = pairwise2.align.localxx(n1,unitig)\n",
    "        lscore = ALI[0].score\n",
    "        if(lscore > max_score):\n",
    "            print(ii,unitig,lscore)\n",
    "            max_score = lscore\n",
    "            best_ali = ALI\n",
    "            \n",
    "    return best_ali\n",
    "\n",
    "best_lalign = get_bestalign(azm_unitigs,10,cfx_unitigs)"
   ]
  },
  {
   "cell_type": "code",
   "execution_count": null,
   "metadata": {
    "execution": {
     "iopub.execute_input": "2021-10-22T17:50:07.312365Z",
     "iopub.status.busy": "2021-10-22T17:50:07.311911Z",
     "iopub.status.idle": "2021-10-22T17:50:07.317675Z",
     "shell.execute_reply": "2021-10-22T17:50:07.316781Z",
     "shell.execute_reply.started": "2021-10-22T17:50:07.312331Z"
    }
   },
   "outputs": [],
   "source": [
    "print(format_alignment(*best_lalign[0]))"
   ]
  },
  {
   "cell_type": "markdown",
   "metadata": {},
   "source": [
    "# <div style=\"padding: 30px;color:white;margin:10;font-size:80%;text-align:left;display:fill;border-radius:10px;background-color:#F1C40F;overflow:hidden;background-image: url(https://i.imgur.com/tNNAhbu.png)\"><b><span style='color:white'>6 |</span></b> Multiple Sequence Alignment</div>\n",
    "\n",
    "<div style=\"color:white;display:fill;border-radius:8px;\n",
    "            background-color:#03112A;font-size:150%;\n",
    "            letter-spacing:1.0px\">\n",
    "    <p style=\"padding: 8px;color:white;\"><b><b><span style='color:#F1A424'>6.1 |</span></b> SeqRecord</b></p>\n",
    "</div>\n",
    "\n",
    "### <b><span style='color:#F55AA2'>FOR ALIGNMENT SEQUENCES</span></b> \n",
    "- We looked at <code>SeqRecord</code> earlier, a sequence read from a file is already in this format so we can instantly pass them to the alignment class.\n",
    "- If we define sequences from <b>strings</b> we'll need to define a <code>Seq</code> instance & subsequently <code>SeqRecord</code> (only needing <code>id</code>)\n",
    "- To align <b><span style='color:#F55AA2'>Multiple Sequences</span></b> together ( <b>More than two</b> ), we can use the <code>.Align</code> class & call <code>MultipleSeqAlignment</code>\n",
    "- However unlike <code>Bio.pairwise2</code>, we can't use direct <b>strings</b> in the alignment class input & need to define a <code>Seq</code> object for a particular sequence, followed by a defined <b>SeqRecord</b> instance that has its defined <b>sequence ID</b>."
   ]
  },
  {
   "cell_type": "code",
   "execution_count": null,
   "metadata": {
    "execution": {
     "iopub.execute_input": "2021-10-22T17:50:07.319366Z",
     "iopub.status.busy": "2021-10-22T17:50:07.319021Z",
     "iopub.status.idle": "2021-10-22T17:50:07.330466Z",
     "shell.execute_reply": "2021-10-22T17:50:07.329479Z",
     "shell.execute_reply.started": "2021-10-22T17:50:07.319323Z"
    }
   },
   "outputs": [],
   "source": [
    "from Bio.SeqRecord import SeqRecord\n",
    "\n",
    "# String format of alignment\n",
    "aa1 = \"MHQAIFIYQIGYPLKSGYIQSIRSPEYDNW\"\n",
    "aa2 = \"MH--IFIYQIGYALKSGYIQSIRSPEY-NW\"\n",
    "aa3 = \"MHQAIFI-QIGYALKSGY-QSIRSPEYDNW\"\n",
    "\n",
    "# Sequence Class instances\n",
    "seq_aa1 = Seq(aa1)\n",
    "seq_aa2 = Seq(aa2)\n",
    "seq_aa3 = Seq(aa3)\n",
    " \n",
    "# Create a sequence record w/ a defined ID\n",
    "seqr1 = SeqRecord(seq_aa1,id=\"seq1\")\n",
    "seqr2 = SeqRecord(seq_aa2,id=\"seq2\")\n",
    "seqr3 = SeqRecord(seq_aa3,id=\"seq3\")"
   ]
  },
  {
   "cell_type": "markdown",
   "metadata": {},
   "source": [
    "<div style=\"color:white;display:fill;border-radius:8px;\n",
    "            background-color:#03112A;font-size:150%;\n",
    "            letter-spacing:1.0px\">\n",
    "    <p style=\"padding: 8px;color:white;\"><b><b><span style='color:#F1A424'>6.2 |</span></b> MultipleSeqAlignment</b></p>\n",
    "</div>\n",
    "\n",
    "### <b><span style='color:#F55AA2'>PUTTING IT TOGETHER</span></b> \n",
    "\n",
    "- Upon defining the sequence records of all the sequences we want to align, we can call <b><span style='color:#F55AA2'>MultipleSeqAlignment</span></b> with the records as inputs.\n",
    "- We can also do simple operations on these sequences as they are grouped together, as they are essentially <b>strings</b> in alignment."
   ]
  },
  {
   "cell_type": "code",
   "execution_count": null,
   "metadata": {
    "execution": {
     "iopub.execute_input": "2021-10-22T17:50:07.331762Z",
     "iopub.status.busy": "2021-10-22T17:50:07.331457Z",
     "iopub.status.idle": "2021-10-22T17:50:07.343016Z",
     "shell.execute_reply": "2021-10-22T17:50:07.341635Z",
     "shell.execute_reply.started": "2021-10-22T17:50:07.331722Z"
    }
   },
   "outputs": [],
   "source": [
    "from Bio.Align import MultipleSeqAlignment as MSA\n",
    "\n",
    "# Multiple Sequence Alignment\n",
    "alin = MSA([seqr1, seqr2, seqr3])\n",
    "sub_alin = alin[0:2,:]"
   ]
  },
  {
   "cell_type": "code",
   "execution_count": null,
   "metadata": {
    "execution": {
     "iopub.execute_input": "2021-10-22T17:50:07.345083Z",
     "iopub.status.busy": "2021-10-22T17:50:07.344725Z",
     "iopub.status.idle": "2021-10-22T17:50:07.357555Z",
     "shell.execute_reply": "2021-10-22T17:50:07.35664Z",
     "shell.execute_reply.started": "2021-10-22T17:50:07.345051Z"
    }
   },
   "outputs": [],
   "source": [
    "print(alin[1]) # Get the 2nd sequence in the alignment\n",
    "print(alin[:,2]) # Get the 3rd column in the alignment\n",
    "print(alin[:,3:7])  # Get multiple columns in alignment\n",
    "print(alin[0].seq[:3]) # first 3 columns of seq1\n",
    "print(alin[1:3,5:12]) # sequences 2 and 3; 4th to 10th column"
   ]
  },
  {
   "cell_type": "markdown",
   "metadata": {},
   "source": [
    "<div style=\"color:white;display:fill;border-radius:8px;\n",
    "            background-color:#03112A;font-size:150%;\n",
    "            letter-spacing:1.0px\">\n",
    "    <p style=\"padding: 8px;color:white;\"><b><b><span style='color:#F1A424'>6.3 |</span></b> Alignment Formats</b></p>\n",
    "</div>\n",
    "\n",
    "### <b><span style='color:#F55AA2'>DEFINING AN ALIGNMENT</span></b> \n",
    "- Usually alignments are generated by <b><span style='color:#F55AA2'>MultipleSeqAlignment</span></b>, however we can create a blank alignment by passing a blank list to <code>MSA</code>.\n",
    "- We can also add new sequences by using <code>.add_sequence</code>."
   ]
  },
  {
   "cell_type": "code",
   "execution_count": null,
   "metadata": {
    "execution": {
     "iopub.execute_input": "2021-10-22T17:50:07.359401Z",
     "iopub.status.busy": "2021-10-22T17:50:07.359023Z",
     "iopub.status.idle": "2021-10-22T17:50:07.369026Z",
     "shell.execute_reply": "2021-10-22T17:50:07.368118Z",
     "shell.execute_reply.started": "2021-10-22T17:50:07.359368Z"
    }
   },
   "outputs": [],
   "source": [
    "n1 = 'ACCGGTCAGGGCGACGGGTTTGCGCCCTTTGAT'\n",
    "n2 = 'ACCGGTCATTTCGACGGGTTTGCGGCCTTTGCT'\n",
    "n3 = 'CCAGGTCAGCTCGACGGGTTGGCGGCCTTTGCT'\n",
    "\n",
    "align_n = MSA([])\n",
    "align_n.add_sequence('n1',n1)\n",
    "align_n.add_sequence('n2',n2)\n",
    "align_n.add_sequence('n3',n3)\n",
    "print(align_n)"
   ]
  },
  {
   "cell_type": "markdown",
   "metadata": {},
   "source": [
    "### <b><span style='color:#F55AA2'>READING ALIGNMENT DATA</span></b> \n",
    "\n",
    "- As with the previously mentioned <b>FASTA</b> & <b>GENBANK</b> formats in <code>SeqIO</code>. There are formats used for <b><span style='color:#F55AA2'>saving</span></b> & <b><span style='color:#F55AA2'>loading alignments</span></b> as well.\n",
    "- As indicated in the <code>AlignIO</code> [section](https://biopython.org/wiki/AlignIO), <b><span style='color:#F55AA2'>clustal</span></b> is one of such formats & is often used. "
   ]
  },
  {
   "cell_type": "code",
   "execution_count": null,
   "metadata": {
    "execution": {
     "iopub.execute_input": "2021-10-22T17:50:07.37146Z",
     "iopub.status.busy": "2021-10-22T17:50:07.37102Z",
     "iopub.status.idle": "2021-10-22T17:50:07.388181Z",
     "shell.execute_reply": "2021-10-22T17:50:07.386423Z",
     "shell.execute_reply.started": "2021-10-22T17:50:07.371414Z"
    }
   },
   "outputs": [],
   "source": [
    "from Bio import AlignIO\n",
    "alin2 = AlignIO.read(\"/kaggle/input/biopython-genbank/PF05371_seed.aln\", \"clustal\")"
   ]
  },
  {
   "cell_type": "markdown",
   "metadata": {},
   "source": [
    "### <b><span style='color:#F55AA2'>DISPLAY SEQRECORD DATA</span></b> \n",
    "Once the <b>clustal</b> format is read, we are dealing with <b>SeqRecord</b> data as we defined earlier."
   ]
  },
  {
   "cell_type": "code",
   "execution_count": null,
   "metadata": {
    "execution": {
     "iopub.execute_input": "2021-10-22T17:50:07.391579Z",
     "iopub.status.busy": "2021-10-22T17:50:07.391098Z",
     "iopub.status.idle": "2021-10-22T17:50:07.402712Z",
     "shell.execute_reply": "2021-10-22T17:50:07.401341Z",
     "shell.execute_reply.started": "2021-10-22T17:50:07.391529Z"
    }
   },
   "outputs": [],
   "source": [
    "# Get the length of the alignment (column size)\n",
    "print(\"Size (length):\", alin2.get_alignment_length())\n",
    "\n",
    "# Print the SeqRecord data\n",
    "for record in alin2:\n",
    "    print(f'Sequence: {record.seq}, ID: {record.id}')"
   ]
  },
  {
   "cell_type": "code",
   "execution_count": null,
   "metadata": {
    "execution": {
     "iopub.execute_input": "2021-10-22T17:50:07.404744Z",
     "iopub.status.busy": "2021-10-22T17:50:07.40427Z",
     "iopub.status.idle": "2021-10-22T17:50:07.416723Z",
     "shell.execute_reply": "2021-10-22T17:50:07.415252Z",
     "shell.execute_reply.started": "2021-10-22T17:50:07.40457Z"
    }
   },
   "outputs": [],
   "source": [
    "# adjust alignment content & write if need be \n",
    "sub_alin2 = alin2[0:4,:]\n",
    "AlignIO.write(alin2, \"/kaggle/working/sub_alin2.fasta\", \"fasta\")"
   ]
  },
  {
   "cell_type": "markdown",
   "metadata": {},
   "source": [
    "### <b><span style='color:#F55AA2'>CONVERTING FORMATS</span></b> \n",
    "<b>FASTA</b> is quite a generic format, which aside from storing sequence data (which we saw above), can also store alignment data."
   ]
  },
  {
   "cell_type": "code",
   "execution_count": null,
   "metadata": {
    "execution": {
     "iopub.execute_input": "2021-10-22T17:50:07.418884Z",
     "iopub.status.busy": "2021-10-22T17:50:07.418363Z",
     "iopub.status.idle": "2021-10-22T17:50:07.42994Z",
     "shell.execute_reply": "2021-10-22T17:50:07.428856Z",
     "shell.execute_reply.started": "2021-10-22T17:50:07.418833Z"
    }
   },
   "outputs": [],
   "source": [
    "# Write the read clustal formal\n",
    "AlignIO.write(alin2, \"example_alin.fasta\", \"fasta\")\n",
    "\n",
    "# Or directly convert it\n",
    "AlignIO.convert(\"/kaggle/input/biopython-genbank/PF05371_seed.aln\", \"clustal\", \"example_alin.fasta\", \"fasta\")"
   ]
  },
  {
   "cell_type": "markdown",
   "metadata": {},
   "source": [
    "### <b><span style='color:#F55AA2'>VISUALISING ALIGNMENTS WITH BOKEH</span></b> \n",
    "- It can be useful to <b><span style='color:#F55AA2'>colour code</span></b> our alignment data, so we can observe any variation in our sequence more easily. \n",
    "- We can use the <b>Bokeh</b> library to plot the sequence data using <b>gridplots</b> ( thanks to [Understanding phylogenetic trees](https://www.kaggle.com/nwheeler443/understanding-phylogenetic-trees/notebook) )"
   ]
  },
  {
   "cell_type": "code",
   "execution_count": null,
   "metadata": {
    "_kg_hide-input": false,
    "execution": {
     "iopub.execute_input": "2021-10-22T17:50:07.432243Z",
     "iopub.status.busy": "2021-10-22T17:50:07.431502Z",
     "iopub.status.idle": "2021-10-22T17:50:08.681227Z",
     "shell.execute_reply": "2021-10-22T17:50:08.68022Z",
     "shell.execute_reply.started": "2021-10-22T17:50:07.432198Z"
    }
   },
   "outputs": [],
   "source": [
    "import panel as pn\n",
    "import panel.widgets as pnw\n",
    "pn.extension()\n",
    "from bokeh.plotting import figure\n",
    "from bokeh.models import ColumnDataSource, Plot, Grid, Range1d\n",
    "from bokeh.models.glyphs import Text, Rect\n",
    "from bokeh.layouts import gridplot\n",
    "\n",
    "def view_alignment(aln, fontsize=\"9pt\", plot_width=800):\n",
    "    \"\"\"Bokeh sequence alignment view\"\"\"\n",
    "\n",
    "    #make sequence and id lists from the aln object\n",
    "    seqs = [rec.seq for rec in (aln)]\n",
    "    ids = [rec.id for rec in aln]    \n",
    "    text = [i for s in list(seqs) for i in s]\n",
    "    colors = get_colors(seqs)    \n",
    "    N = len(seqs[0])\n",
    "    S = len(seqs)    \n",
    "    width = .4\n",
    "\n",
    "    x = np.arange(0.5,N+0.5)\n",
    "    y = np.arange(0,S,1)\n",
    "    #creates a 2D grid of coords from the 1D arrays\n",
    "    xx, yy = np.meshgrid(x, y)\n",
    "    #flattens the arrays\n",
    "    gx = xx.ravel()\n",
    "    gy = yy.flatten()\n",
    "    #use recty for rect coords with an offset\n",
    "    recty = gy+.5\n",
    "    h= 1/S\n",
    "    #now we can create the ColumnDataSource with all the arrays\n",
    "    source = ColumnDataSource(dict(x=gx, y=gy, recty=recty, text=text, colors=colors))\n",
    "    plot_height = len(seqs)*15+50\n",
    "    x_range = Range1d(0,N+1, bounds='auto')\n",
    "    if N>100:\n",
    "        viewlen=100\n",
    "    else:\n",
    "        viewlen=N\n",
    "    #view_range is for the close up view\n",
    "    view_range = (0,viewlen)\n",
    "    tools=\"xpan, xwheel_zoom, reset, save\" \n",
    "\n",
    "    #sequence text view with ability to scroll along x axis\n",
    "    p = figure(title=None, plot_width=plot_width, plot_height=plot_height,\n",
    "                x_range=view_range, y_range=ids, tools=\"xpan,reset\",\n",
    "                min_border=0, toolbar_location='below')#, lod_factor=1)          \n",
    "    glyph = Text(x=\"x\", y=\"y\", text=\"text\", text_align='center',text_color=\"black\",\n",
    "                text_font=\"monospace\",text_font_size=fontsize)\n",
    "    rects = Rect(x=\"x\", y=\"recty\",  width=1, height=1, fill_color=\"colors\",\n",
    "                line_color=None, fill_alpha=0.4)\n",
    "    p.add_glyph(source, glyph)\n",
    "    p.add_glyph(source, rects)\n",
    "\n",
    "    p.grid.visible = False\n",
    "    p.xaxis.major_label_text_font_style = \"bold\"\n",
    "    p.yaxis.minor_tick_line_width = 0\n",
    "    p.yaxis.major_tick_line_width = 0\n",
    "\n",
    "    p = gridplot([[p]], toolbar_location='below')\n",
    "    return p\n",
    "\n",
    "# Mapping Function for nucleotide sequences\n",
    "def get_colors(seqs):\n",
    "    \"\"\"make colors for bases in sequence\"\"\"\n",
    "    text = [i for s in list(seqs) for i in s]\n",
    "    clrs =  {'A':'red','T':'green','G':'orange','C':'blue','-':'white'}\n",
    "    colors = [clrs[i] for i in text]\n",
    "    return colors"
   ]
  },
  {
   "cell_type": "code",
   "execution_count": null,
   "metadata": {
    "execution": {
     "iopub.execute_input": "2021-10-22T17:50:08.683419Z",
     "iopub.status.busy": "2021-10-22T17:50:08.683069Z",
     "iopub.status.idle": "2021-10-22T17:50:08.74654Z",
     "shell.execute_reply": "2021-10-22T17:50:08.74512Z",
     "shell.execute_reply.started": "2021-10-22T17:50:08.683385Z"
    }
   },
   "outputs": [],
   "source": [
    "p = view_alignment(align_n, fontsize=\"9pt\", plot_width=800)\n",
    "pn.pane.Bokeh(p)"
   ]
  },
  {
   "cell_type": "markdown",
   "metadata": {},
   "source": [
    "# <div style=\"padding: 30px;color:white;margin:10;font-size:80%;text-align:left;display:fill;border-radius:10px;background-color:#F1C40F;overflow:hidden;background-image: url(https://i.imgur.com/tNNAhbu.png)\"><b><span style='color:white'>7 |</span></b> BLAST</div>\n",
    "\n",
    "<div style=\"color:white;display:fill;border-radius:8px;\n",
    "            background-color:#03112A;font-size:150%;\n",
    "            letter-spacing:1.0px\">\n",
    "    <p style=\"padding: 8px;color:white;\"><b><b><span style='color:#F1A424'>7.1 |</span></b> NCBI Database Online Queries</b></p>\n",
    "</div>\n",
    "\n",
    "### <b><span style='color:#F55AA2'>USING DATABASES TO UNDERSTAND OUR SEQUENCE</span></b> \n",
    "\n",
    "- There are are ways to do <b>Sequence Alignment</b> via websites like [ebi.ac.uk](https://www.ebi.ac.uk/Tools/sss/), which uses an approach called <b><span style='color:#F55AA2'>BLAST</span></b>.\n",
    "- <b><span style='color:#F55AA2'>Basic Local Alignment Search Tool (BLAST)</span></b> uses the same alignment methods as implemented in <b>Biopython</b>, except the comparison sequences are called from a database.\n",
    "- BioPython also includes a <b>BLAST</b> module that can be used to search for similar sequences, like we did in <b>Section 4</b> & <b>5</b>; <code>Bio.Blast</code>.\n",
    "- The alignment requests are <b>made remotely</b>, and it can involve waiting time as our request is processed, however using BLAST locally is also an option in Biopython.\n",
    "\n",
    "### <b><span style='color:#F55AA2'>BIOPYTHON BLAST CLASSES</span></b> \n",
    "\n",
    "- <code>NCBIWWW</code> : Code to invoke the NCBI BLAST server over the internet (uses [nih.gov](https://blast.ncbi.nlm.nih.gov/Blast.cgi))\n",
    "- <code>NCBIXML</code> : Code to work with the BLAST XML output. (we need to interpret the received results)\n",
    "\n",
    "### <b><span style='color:#F55AA2'>SENDING A QUERY</span></b> \n",
    "\n",
    "- <code>NCBIWWW.qblast</code> is used to send a request to NCBI BLAST.\n",
    "- The main parameters used with the <code>NCBIWWW.qblast function</code>: | ([All parameter inputs](https://biopython.org/docs/1.75/api/Bio.Blast.NCBIWWW.html))\n",
    "> - The function takes in the <code>program option</code> (<b><span style='color:#F55AA2'>\"blastn\"</span></b>,<b><span style='color:#F55AA2'>\"blastp\"</span></b>,<b><span style='color:#F55AA2'>\"blastx\"</span></b>,<b><span style='color:#F55AA2'>\"tblastn\"</span></b>,<b><span style='color:#F55AA2'>\"tblastx\"</span></b>)\n",
    "> - The <code>database</code> to search (eg. <b><span style='color:#F55AA2'>\"nr\"</span></b>,<b><span style='color:#F55AA2'>\"nt\"</span></b>, <b><span style='color:#F55AA2'>\"pdb\"</span></b>)\n",
    "> - The <code>sequence</code> to be used in the query ( can search by the <b>gi identifier</b> if you have it )"
   ]
  },
  {
   "cell_type": "markdown",
   "metadata": {},
   "source": [
    "<div style=\"color:white;display:fill;border-radius:8px;\n",
    "            background-color:#03112A;font-size:150%;\n",
    "            letter-spacing:1.0px\">\n",
    "    <p style=\"padding: 8px;color:white;\"><b><b><span style='color:#F1A424'>7.2 |</span></b> Python Strings to Sequences</b></p>\n",
    "</div>\n",
    "\n",
    "### <b><span style='color:#F55AA2'>LOADING THE SEQUENCE</span></b> \n",
    "- We'll use a <b>FASTA</b> file whos description contains the actual sequence identification, so we'll be able to see if we have a hit in the database of existing sequences.\n",
    "- The actual description is not used in the alignment process, it's only there for us to visually confirm we have a match in the database."
   ]
  },
  {
   "cell_type": "code",
   "execution_count": null,
   "metadata": {
    "execution": {
     "iopub.execute_input": "2021-10-22T17:50:08.748755Z",
     "iopub.status.busy": "2021-10-22T17:50:08.748426Z",
     "iopub.status.idle": "2021-10-22T17:50:08.762525Z",
     "shell.execute_reply": "2021-10-22T17:50:08.76172Z",
     "shell.execute_reply.started": "2021-10-22T17:50:08.748724Z"
    }
   },
   "outputs": [],
   "source": [
    "# File which we want to align\n",
    "# Description is included so we can compare results\n",
    "file_fasta = '/kaggle/input/biopython-genbank/NC_005816.fna'\n",
    "\n",
    "record = SeqIO.read(open(file_fasta),format='fasta')\n",
    "print(record)\n",
    "print(f'Length of Nucleotide Sequence: {len(record)}')"
   ]
  },
  {
   "cell_type": "markdown",
   "metadata": {},
   "source": [
    "### <b><span style='color:#F55AA2'>BLAST QUERY & SAVING CONTENT</span></b> \n",
    "- Our sequence (let's say we didn't know the NBCI <b>gi</b> identifier) is made up of <b>nucleotide</b> content, so we'll use <code>'blastn'</code> option when calling <code>.qblast()</code>\n",
    "- The query can be <b><span style='color:#F55AA2'>saved to a file</span></b> as we would with a normal python file. The content is saved using <code>.read()</code> and saved with the <b>xml</b> extension."
   ]
  },
  {
   "cell_type": "code",
   "execution_count": null,
   "metadata": {
    "execution": {
     "iopub.execute_input": "2021-10-22T17:50:08.764172Z",
     "iopub.status.busy": "2021-10-22T17:50:08.763627Z",
     "iopub.status.idle": "2021-10-22T17:50:08.768913Z",
     "shell.execute_reply": "2021-10-22T17:50:08.768006Z",
     "shell.execute_reply.started": "2021-10-22T17:50:08.764141Z"
    }
   },
   "outputs": [],
   "source": [
    "if(blast_id):\n",
    "    \n",
    "    # BLAST query instance\n",
    "    result_handle = NCBIWWW.qblast('blastn','nt',record.format('fasta'))\n",
    "\n",
    "    # Read the file (call only once)\n",
    "    with open(\"/kaggle/working/NC_005816_blast.xml\", \"w\") as save_to:\n",
    "        save_to.write(result_handle.read())\n",
    "        result_handle.close()"
   ]
  },
  {
   "cell_type": "markdown",
   "metadata": {},
   "source": [
    "### <b><span style='color:#F55AA2'>READING BLAST SEARCH RESULT CONTENT</span></b> \n",
    "- When we want to read the <b>BLAST</b> search results, we can open it as we would any other file with python's <code>open()</code>.\n",
    "- We need to <b>parse</b> the stored file (<code>NCBIXML.parse</code>), which returns the <code>Record</code> objects, which we can read through using <code>for</code> loops."
   ]
  },
  {
   "cell_type": "code",
   "execution_count": null,
   "metadata": {
    "execution": {
     "iopub.execute_input": "2021-10-22T17:50:08.770417Z",
     "iopub.status.busy": "2021-10-22T17:50:08.769993Z",
     "iopub.status.idle": "2021-10-22T17:50:08.783804Z",
     "shell.execute_reply": "2021-10-22T17:50:08.782386Z",
     "shell.execute_reply.started": "2021-10-22T17:50:08.770387Z"
    }
   },
   "outputs": [],
   "source": [
    "if(blast_id):\n",
    "    result_handle = open('/kaggle/input/biopython-genbank/NC_005816_blast.xml','r')\n",
    "    blast_records = NCBIXML.parse(result_handle)"
   ]
  },
  {
   "cell_type": "code",
   "execution_count": null,
   "metadata": {
    "execution": {
     "iopub.execute_input": "2021-10-22T17:50:08.785746Z",
     "iopub.status.busy": "2021-10-22T17:50:08.785314Z",
     "iopub.status.idle": "2021-10-22T17:50:08.797651Z",
     "shell.execute_reply": "2021-10-22T17:50:08.796791Z",
     "shell.execute_reply.started": "2021-10-22T17:50:08.785714Z"
    }
   },
   "outputs": [],
   "source": [
    "if(blast_id):\n",
    "     \n",
    "    e_thresh = 0.00; # display only perfect matches\n",
    "    len_id = 5 # show only 5 results\n",
    "    for blast_record in blast_records: # go through all blast records\n",
    "        \n",
    "        jj=-1\n",
    "        for alignment in blast_record.alignments:\n",
    "            jj+=1;\n",
    "            if(jj < len_id):\n",
    "                print(f'\\nAlignment #{jj}')\n",
    "                for hsp in alignment.hsps:\n",
    "                    if(hsp.expect <= e_thresh):\n",
    "                        print('***** Alignment *****')\n",
    "                        print(f'sequence: {alignment.title}')\n",
    "                        print(f'length: {alignment.length}')\n",
    "                        print(f'e value: {hsp.expect}')"
   ]
  },
  {
   "cell_type": "markdown",
   "metadata": {},
   "source": [
    "<div style=\"color:white;display:fill;border-radius:8px;\n",
    "            background-color:#03112A;font-size:150%;\n",
    "            letter-spacing:1.0px\">\n",
    "    <p style=\"padding: 8px;color:white;\"><b><b><span style='color:#F1A424'>7.3 |</span></b> BLAST Protein Sequence Query</b></p>\n",
    "</div>\n",
    "\n",
    "### <b><span style='color:#F55AA2'>READING BLAST SEARCH RESULT CONTENT</span></b> \n",
    "- In <b>Section 4.3</b>, we identified the longest <b>amino acid</b> chain in the genome in question, let's search for it using <b>BLAST</b>.\n",
    "- Instead of using <code>NCBIXML.parse</code>, we can also use <code>SearchIO</code> to read our <b>BLAST XML</b> query results.\n",
    "- For <b>Proteins</b>, we'll need to use <code>\"blastp\"</code> in our <code>NCBIWWW.qblast</code> query & search in the <code>pdb</code> database."
   ]
  },
  {
   "cell_type": "code",
   "execution_count": null,
   "metadata": {
    "execution": {
     "iopub.execute_input": "2021-10-31T12:02:28.811118Z",
     "iopub.status.busy": "2021-10-31T12:02:28.810682Z",
     "iopub.status.idle": "2021-10-31T12:02:28.819028Z",
     "shell.execute_reply": "2021-10-31T12:02:28.817752Z",
     "shell.execute_reply.started": "2021-10-31T12:02:28.811025Z"
    }
   },
   "outputs": [],
   "source": [
    "def read_blast(result_handle,hit_id=0,show_top=5):\n",
    "\n",
    "    blast_qresult = SearchIO.read(result_handle,\"blast-xml\")\n",
    "    print(blast_qresult[0:show_top])\n",
    "\n",
    "    #fetch the id, description, evalue, bitscore & alignment\n",
    "    print(f'Showing BLAST query result #{hit_id}')\n",
    "    seqid = blast_qresult[hit_id]\n",
    "    details = seqid[hit_id]\n",
    "          \n",
    "    print(f'\\nSequence ID: {seqid.id}')\n",
    "    print(f'Description: {seqid.description}')\n",
    "    print(f'e-value: {details.evalue}')\n",
    "    print(f'Bit Score: {details.bitscore}')\n",
    "          \n",
    "    print('\\nShowing Alignment:')\n",
    "    print(f\"\\nalignment:\\n{details.aln}\")"
   ]
  },
  {
   "cell_type": "code",
   "execution_count": null,
   "metadata": {
    "execution": {
     "iopub.execute_input": "2021-10-22T17:50:08.819421Z",
     "iopub.status.busy": "2021-10-22T17:50:08.81855Z",
     "iopub.status.idle": "2021-10-22T17:50:08.828679Z",
     "shell.execute_reply": "2021-10-22T17:50:08.827791Z",
     "shell.execute_reply.started": "2021-10-22T17:50:08.819365Z"
    }
   },
   "outputs": [],
   "source": [
    "# read file\n",
    "if(blast_id):\n",
    "    c19_protein = SeqIO.read(\"/kaggle/working/protein.fasta\", \"fasta\")\n",
    "    result_handle = NCBIWWW.qblast(\"blastp\",\"pdb\",c19_protein.seq)\n",
    "    read_blast(result_handle) # read qblast result & show first hit only"
   ]
  },
  {
   "cell_type": "markdown",
   "metadata": {},
   "source": [
    "# <div style=\"padding: 30px;color:white;margin:10;font-size:80%;text-align:left;display:fill;border-radius:10px;background-color:#F1C40F;overflow:hidden;background-image: url(https://i.imgur.com/tNNAhbu.png)\"><b><span style='color:white'>8 |</span></b> Phylogenetic Analysis</div>\n",
    "\n",
    "### <b><span style='color:#F55AA2'>SEQUENCE EVOLUTION</span></b> \n",
    "\n",
    "- One of the more practical modules applications in BioPython, <code>Bio.Phylo</code> allows us to understand the relation between difference <b>aligned sequences</b>\n",
    "- **<span style='color:#F55AA2'>Phylogenetic analysis analysis</span>** - concerned with determining how a given <b>set of sequences</b> (alignment) has evolved from a <b>common ancestor</b> through the process of natural evolution.\n",
    "- The process of evolution is depicted in the form of **<span style='color:#F55AA2'>an evolutionary tree</span>** & bifurcations represent <b>events of mutation</b> from a common ancestor, that gives rise to <b>branches</b>.\n",
    "- A **<span style='color:#F55AA2'>Phylogenetic tree</span>** will represent known sequences in its leaves & internal tree nodes will represent common ancestors of the sequence below it.\n",
    "\n",
    "### <b><span style='color:#F55AA2'>USEFUL MATERIAL</span></b> \n",
    "\n",
    "- [<b>www <span style='color:#F55AA2'> // </span> PHYLOGENETIC TREES LECTURE</b>](https://www.ncbi.nlm.nih.gov/CBBresearch/Przytycka/download/lectures/PCB_Lect11_Phylogen_Trees.pdf)\n",
    "- [<b>www <span style='color:#F55AA2'> // </span> INTERFACING WITH PAML</b>](https://biopython.org/wiki/PAML)\n",
    "- [<b>www <span style='color:#F55AA2'> // </span> WORKING WITH PHYLOGENETIC TREES</b>](https://biopython.org/wiki/PhyloL)\n",
    "- [<b>www <span style='color:#F55AA2'> // </span> PHYLOGENETIC COOKBOOK</b>](https://biopython.org/wiki/Phylo_cookbook)\n",
    "\n",
    "<div style=\"color:white;display:fill;border-radius:8px;\n",
    "            background-color:#03112A;font-size:150%;\n",
    "            letter-spacing:1.0px\">\n",
    "    <p style=\"padding: 8px;color:white;\"><b><b><span style='color:#F1A424'>8.1 |</span></b> Tree Construction</b></p>\n",
    "</div>\n",
    "\n",
    "### <b><span style='color:#F55AA2'>BIOPYTHONS IMPLEMENTATION</span></b> \n",
    "\n",
    "- <code>Bio.Phylo.TreeConstruction</code> - Biopython provides several tree construction algorithm implementations in pure python.\n",
    "- There are a couple of approaches used to construct a <b><span style='color:#F55AA2'>phylogenetic tree</span></b>:\n",
    "> - <b><span style='color:#F55AA2'>Distance Matrix based</span></b> (<b>implemented in biopython</b>)\n",
    "> - <b><span style='color:#F55AA2'>Parsimony</span></b> (<b>implemented in biopython</b>)\n",
    "> - Maximum Likelihood based ( Accessable via <b>external library wrapper</b> )\n",
    "\n",
    "### <b><span style='color:#F55AA2'>EXTERNAL LIBRARY WRAPPERS</span></b> \n",
    "\n",
    "> - <code>Bio.Phylo.PhymlCommandline</code>\n",
    "> - <code>Bio.Phylo.PAML</code>\n",
    "\n",
    "### <b>APPROACH 1 - <span style='color:#F55AA2'>DISTANCE MATRIX BASED APPROACH</span></b> "
   ]
  },
  {
   "cell_type": "code",
   "execution_count": null,
   "metadata": {
    "execution": {
     "iopub.execute_input": "2021-10-22T17:50:08.830319Z",
     "iopub.status.busy": "2021-10-22T17:50:08.829839Z",
     "iopub.status.idle": "2021-10-22T17:50:08.842646Z",
     "shell.execute_reply": "2021-10-22T17:50:08.841582Z",
     "shell.execute_reply.started": "2021-10-22T17:50:08.830288Z"
    }
   },
   "outputs": [],
   "source": [
    "# Recall Alignment\n",
    "print(alin2,'\\n')"
   ]
  },
  {
   "cell_type": "code",
   "execution_count": null,
   "metadata": {
    "execution": {
     "iopub.execute_input": "2021-10-22T17:50:08.844484Z",
     "iopub.status.busy": "2021-10-22T17:50:08.844154Z",
     "iopub.status.idle": "2021-10-22T17:50:08.859073Z",
     "shell.execute_reply": "2021-10-22T17:50:08.857935Z",
     "shell.execute_reply.started": "2021-10-22T17:50:08.844453Z"
    }
   },
   "outputs": [],
   "source": [
    "# Recall Alignment\n",
    "print(alin2,'\\n')\n",
    "\n",
    "''' Calculate Distance Matrix'''\n",
    "# From raw MSE alignment\n",
    "# The ‘identity’ model can be used both for DNA and protein sequences\n",
    "\n",
    "print('Distance Matrix')\n",
    "calculator = DistanceCalculator('identity') # create calculator\n",
    "dist_mat = calculator.get_distance(alin2) # get the distance matrix of a given alignment object\n",
    "print(dist_mat)"
   ]
  },
  {
   "cell_type": "code",
   "execution_count": null,
   "metadata": {
    "execution": {
     "iopub.execute_input": "2021-10-22T17:50:08.861176Z",
     "iopub.status.busy": "2021-10-22T17:50:08.860735Z",
     "iopub.status.idle": "2021-10-22T17:50:08.875987Z",
     "shell.execute_reply": "2021-10-22T17:50:08.875072Z",
     "shell.execute_reply.started": "2021-10-22T17:50:08.861143Z"
    }
   },
   "outputs": [],
   "source": [
    "''' Distance Tree Constructor '''\n",
    "# 'nj' / 'upgma' tree construction approaches \n",
    "\n",
    "constructor = DistanceTreeConstructor(calculator,'nj') # initialise\n",
    "tree = constructor.build_tree(alin2) # main algorithm\n",
    "print(tree)"
   ]
  },
  {
   "cell_type": "code",
   "execution_count": null,
   "metadata": {
    "execution": {
     "iopub.execute_input": "2021-10-22T17:50:08.87806Z",
     "iopub.status.busy": "2021-10-22T17:50:08.877551Z",
     "iopub.status.idle": "2021-10-22T17:50:09.228969Z",
     "shell.execute_reply": "2021-10-22T17:50:09.227219Z",
     "shell.execute_reply.started": "2021-10-22T17:50:08.878021Z"
    }
   },
   "outputs": [],
   "source": [
    "# Plot Tree \n",
    "fig,axes = plt.subplots(1,1,figsize=(12,6))\n",
    "treep = Phylogeny.from_tree(tree)\n",
    "Phylo.draw(treep,axes=axes)"
   ]
  },
  {
   "cell_type": "markdown",
   "metadata": {},
   "source": [
    "### <b>APPROACH 2 - <span style='color:#F55AA2'>PARSIMONY BASED APPROACH</span></b> "
   ]
  },
  {
   "cell_type": "code",
   "execution_count": null,
   "metadata": {
    "execution": {
     "iopub.execute_input": "2021-10-22T17:50:09.231153Z",
     "iopub.status.busy": "2021-10-22T17:50:09.230722Z",
     "iopub.status.idle": "2021-10-22T17:50:09.242309Z",
     "shell.execute_reply": "2021-10-22T17:50:09.241205Z",
     "shell.execute_reply.started": "2021-10-22T17:50:09.231118Z"
    }
   },
   "outputs": [],
   "source": [
    "''' Create a starting tree '''\n",
    "\n",
    "# sub_alin2 =  \"/kaggle/working/sub_alin2.fasta\"\n",
    "sub_alin2 = AlignIO.read(\"/kaggle/working/sub_alin2.fasta\", \"fasta\")\n",
    "\n",
    "calculator = DistanceCalculator('identity') # create calculator\n",
    "dist_mat = calculator.get_distance(sub_alin2) # get the distance matrix of a given alignment object\n",
    "constructor = DistanceTreeConstructor(calculator,'nj') # initialise\n",
    "tree_0 = constructor.build_tree(sub_alin2) # main algorithm"
   ]
  },
  {
   "cell_type": "code",
   "execution_count": null,
   "metadata": {
    "execution": {
     "iopub.execute_input": "2021-10-22T17:50:09.244159Z",
     "iopub.status.busy": "2021-10-22T17:50:09.243716Z",
     "iopub.status.idle": "2021-10-22T17:50:09.256968Z",
     "shell.execute_reply": "2021-10-22T17:50:09.255793Z",
     "shell.execute_reply.started": "2021-10-22T17:50:09.244126Z"
    }
   },
   "outputs": [],
   "source": [
    "# Recall Alignment\n",
    "print(alin2,'\\n')"
   ]
  },
  {
   "cell_type": "code",
   "execution_count": null,
   "metadata": {
    "execution": {
     "iopub.execute_input": "2021-10-22T17:50:09.258786Z",
     "iopub.status.busy": "2021-10-22T17:50:09.258469Z",
     "iopub.status.idle": "2021-10-22T17:50:09.29251Z",
     "shell.execute_reply": "2021-10-22T17:50:09.291645Z",
     "shell.execute_reply.started": "2021-10-22T17:50:09.258757Z"
    }
   },
   "outputs": [],
   "source": [
    "from Bio.Phylo.TreeConstruction import ParsimonyScorer, NNITreeSearcher,ParsimonyTreeConstructor\n",
    "\n",
    "scorer = ParsimonyScorer()\n",
    "searcher = NNITreeSearcher(scorer)\n",
    "constructor = ParsimonyTreeConstructor(searcher,tree_0)\n",
    "pars_tree = constructor.build_tree(alin2)\n",
    "print(pars_tree)"
   ]
  },
  {
   "cell_type": "code",
   "execution_count": null,
   "metadata": {
    "execution": {
     "iopub.execute_input": "2021-10-22T17:50:09.294336Z",
     "iopub.status.busy": "2021-10-22T17:50:09.294038Z",
     "iopub.status.idle": "2021-10-22T17:50:09.596634Z",
     "shell.execute_reply": "2021-10-22T17:50:09.595717Z",
     "shell.execute_reply.started": "2021-10-22T17:50:09.294306Z"
    }
   },
   "outputs": [],
   "source": [
    "# Plot Tree \n",
    "fig,axes = plt.subplots(1,1,figsize=(12,6))\n",
    "treep = Phylogeny.from_tree(pars_tree)\n",
    "Phylo.draw(treep,axes=axes)"
   ]
  },
  {
   "cell_type": "markdown",
   "metadata": {},
   "source": [
    "<div style=\"color:white;display:fill;border-radius:8px;\n",
    "            background-color:#03112A;font-size:150%;\n",
    "            letter-spacing:1.0px\">\n",
    "    <p style=\"padding: 8px;color:white;\"><b><b><span style='color:#F1A424'>8.2 |</span></b> Tree Visualisation</b></p>\n",
    "</div>"
   ]
  },
  {
   "cell_type": "code",
   "execution_count": null,
   "metadata": {
    "execution": {
     "iopub.execute_input": "2021-10-22T17:50:09.59865Z",
     "iopub.status.busy": "2021-10-22T17:50:09.598045Z",
     "iopub.status.idle": "2021-10-22T17:50:09.607403Z",
     "shell.execute_reply": "2021-10-22T17:50:09.606449Z",
     "shell.execute_reply.started": "2021-10-22T17:50:09.598606Z"
    }
   },
   "outputs": [],
   "source": [
    "simple = open(\"/kaggle/working/example.dnd\", \"w\")\n",
    "simple.write('(((A,B),(C,D),(E,F,G)));')\n",
    "simple.close()\n",
    "\n",
    "tree = Phylo.read('/kaggle/working/example.dnd','newick')\n",
    "print(tree)"
   ]
  },
  {
   "cell_type": "code",
   "execution_count": null,
   "metadata": {
    "execution": {
     "iopub.execute_input": "2021-10-22T17:50:09.609072Z",
     "iopub.status.busy": "2021-10-22T17:50:09.60857Z",
     "iopub.status.idle": "2021-10-22T17:50:09.619222Z",
     "shell.execute_reply": "2021-10-22T17:50:09.618337Z",
     "shell.execute_reply.started": "2021-10-22T17:50:09.60903Z"
    }
   },
   "outputs": [],
   "source": [
    "Phylo.draw_ascii(tree)"
   ]
  },
  {
   "cell_type": "code",
   "execution_count": null,
   "metadata": {
    "execution": {
     "iopub.execute_input": "2021-10-22T17:50:09.621059Z",
     "iopub.status.busy": "2021-10-22T17:50:09.620669Z",
     "iopub.status.idle": "2021-10-22T17:50:09.633276Z",
     "shell.execute_reply": "2021-10-22T17:50:09.631938Z",
     "shell.execute_reply.started": "2021-10-22T17:50:09.621017Z"
    }
   },
   "outputs": [],
   "source": [
    "Phylo.convert('/kaggle/working/example.dnd','newick',\n",
    "              '/kaggle/working/tree.xml','phyloxml')\n",
    "trees = Phylo.parse('/kaggle/working/tree.xml','phyloxml')\n",
    "for t in trees:\n",
    "    print(t)"
   ]
  },
  {
   "cell_type": "code",
   "execution_count": null,
   "metadata": {
    "execution": {
     "iopub.execute_input": "2021-10-22T17:50:09.636152Z",
     "iopub.status.busy": "2021-10-22T17:50:09.635638Z",
     "iopub.status.idle": "2021-10-22T17:50:09.89309Z",
     "shell.execute_reply": "2021-10-22T17:50:09.891787Z",
     "shell.execute_reply.started": "2021-10-22T17:50:09.636094Z"
    }
   },
   "outputs": [],
   "source": [
    "treep = Phylogeny.from_tree(tree)\n",
    "Phylo.draw(treep)"
   ]
  },
  {
   "cell_type": "code",
   "execution_count": null,
   "metadata": {
    "execution": {
     "iopub.execute_input": "2021-10-22T17:50:09.895304Z",
     "iopub.status.busy": "2021-10-22T17:50:09.894952Z",
     "iopub.status.idle": "2021-10-22T17:50:10.147364Z",
     "shell.execute_reply": "2021-10-22T17:50:10.146421Z",
     "shell.execute_reply.started": "2021-10-22T17:50:09.895272Z"
    }
   },
   "outputs": [],
   "source": [
    "treep.root.color = 'gray'\n",
    "mrca = treep.common_ancestor({'name':'E'},{'name':'F'})\n",
    "mrca.color = 'salmon'\n",
    "treep.clade[0,1].color = 'blue'\n",
    "Phylo.draw(treep)"
   ]
  }
 ],
 "metadata": {
  "kernelspec": {
   "display_name": "Python 3 (ipykernel)",
   "language": "python",
   "name": "python3"
  },
  "language_info": {
   "codemirror_mode": {
    "name": "ipython",
    "version": 3
   },
   "file_extension": ".py",
   "mimetype": "text/x-python",
   "name": "python",
   "nbconvert_exporter": "python",
   "pygments_lexer": "ipython3",
   "version": "3.10.4"
  }
 },
 "nbformat": 4,
 "nbformat_minor": 4
}
