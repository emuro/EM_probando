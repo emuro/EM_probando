{
 "cells": [
  {
   "cell_type": "code",
   "execution_count": 1,
   "metadata": {},
   "outputs": [],
   "source": [
    "import pandas as pd"
   ]
  },
  {
   "cell_type": "markdown",
   "metadata": {},
   "source": [
    "# relacion masa fuerza\n",
    "## campeonato del mundo de halterofilia"
   ]
  },
  {
   "cell_type": "markdown",
   "metadata": {},
   "source": [
    "### 2003   "
   ]
  },
  {
   "cell_type": "code",
   "execution_count": 4,
   "metadata": {},
   "outputs": [
    {
     "name": "stdout",
     "output_type": "stream",
     "text": [
      "Parsing all tables from 'https://es.wikipedia.org/wiki/Campeonato_Mundial_de_Halterofilia_de_2003' into '/tmp/halterofilia/2003/'\n",
      "Writing table 1 to /tmp/halterofilia/2003/table_1_medallistas_masculino.csv\n",
      "Writing table 2 to /tmp/halterofilia/2003/table_2_medallistas_femenino.csv\n",
      "Writing table 3 to /tmp/halterofilia/2003/table_3_medallero_femenino.csv\n"
     ]
    }
   ],
   "source": [
    "!wikitablescrape --url=\"https://es.wikipedia.org/wiki/Campeonato_Mundial_de_Halterofilia_de_2003\"  --output-folder=\"/tmp/halterofilia/2003/\""
   ]
  },
  {
   "cell_type": "code",
   "execution_count": 23,
   "metadata": {},
   "outputs": [
    {
     "name": "stdout",
     "output_type": "stream",
     "text": [
      "<class 'pandas.core.frame.DataFrame'>\n",
      "RangeIndex: 8 entries, 0 to 7\n",
      "Data columns (total 4 columns):\n",
      " #   Column      Non-Null Count  Dtype \n",
      "---  ------      --------------  ----- \n",
      " 0   mass_in_kg  8 non-null      object\n",
      " 1   gold        8 non-null      object\n",
      " 2   silver      8 non-null      object\n",
      " 3   bronce      8 non-null      object\n",
      "dtypes: object(4)\n",
      "memory usage: 384.0+ bytes\n"
     ]
    },
    {
     "data": {
      "text/html": [
       "<div>\n",
       "<style scoped>\n",
       "    .dataframe tbody tr th:only-of-type {\n",
       "        vertical-align: middle;\n",
       "    }\n",
       "\n",
       "    .dataframe tbody tr th {\n",
       "        vertical-align: top;\n",
       "    }\n",
       "\n",
       "    .dataframe thead th {\n",
       "        text-align: right;\n",
       "    }\n",
       "</style>\n",
       "<table border=\"1\" class=\"dataframe\">\n",
       "  <thead>\n",
       "    <tr style=\"text-align: right;\">\n",
       "      <th></th>\n",
       "      <th>mass_in_kg</th>\n",
       "      <th>gold</th>\n",
       "      <th>silver</th>\n",
       "      <th>bronce</th>\n",
       "    </tr>\n",
       "  </thead>\n",
       "  <tbody>\n",
       "    <tr>\n",
       "      <th>0</th>\n",
       "      <td>56 kg</td>\n",
       "      <td>Wu Meijin China China 127,5 + 160,0 = 287,5​</td>\n",
       "      <td>Adrian Jigău Rumania Rumania 125,0 + 155,0 = 2...</td>\n",
       "      <td>Sedat Artuç Turquía Turquía 125,0 + 152,5 = 27...</td>\n",
       "    </tr>\n",
       "    <tr>\n",
       "      <th>1</th>\n",
       "      <td>62 kg</td>\n",
       "      <td>Halil Mutlu Turquía Turquía 147,5 + 175,0 = 322,5</td>\n",
       "      <td>Shi Zhiyong China China 147,5 + 170,0 = 317,5</td>\n",
       "      <td>Le Maosheng China China 135,0 + 170,0 = 305,0</td>\n",
       "    </tr>\n",
       "    <tr>\n",
       "      <th>2</th>\n",
       "      <td>69 kg</td>\n",
       "      <td>Zhang Guozheng China China 152,5 + 192,5 = 345,0</td>\n",
       "      <td>Lee Bae-Young Corea del Sur Corea del Sur 150,...</td>\n",
       "      <td>Turan Mirzəyev Azerbaiyán Azerbaiyán 147,5 + 1...</td>\n",
       "    </tr>\n",
       "    <tr>\n",
       "      <th>3</th>\n",
       "      <td>77 kg</td>\n",
       "      <td>Falahati Mohamad Neyad Irán Irán 155,0 + 202,5...</td>\n",
       "      <td>Reyhan Arabacıoğlu Turquía Turquía 160,0 + 195...</td>\n",
       "      <td>Li Hongli China China 162,5 + 190,0 = 352,5</td>\n",
       "    </tr>\n",
       "    <tr>\n",
       "      <th>4</th>\n",
       "      <td>85 kg</td>\n",
       "      <td>Valeriu Calancea Rumania Rumania 167,5 + 215,0...</td>\n",
       "      <td>Yuan Aijun China China 170,0 + 212,5 = 382,5</td>\n",
       "      <td>Sergo Chakhoyan Australia 172,5 + 205,0 = 377,5</td>\n",
       "    </tr>\n",
       "    <tr>\n",
       "      <th>5</th>\n",
       "      <td>94 kg</td>\n",
       "      <td>Milen Dobrev Bulgaria Bulgaria 185,0 + 220,0 =...</td>\n",
       "      <td>Hakan Yılmaz Turquía Turquía 180,0 + 220,0 = 4...</td>\n",
       "      <td>Vadim Vacarciuc Moldavia Moldavia 177,5 + 222,...</td>\n",
       "    </tr>\n",
       "    <tr>\n",
       "      <th>6</th>\n",
       "      <td>105 kg</td>\n",
       "      <td>Said Saif Asaad Catar Catar 195,0 + 227,5 = 422,5</td>\n",
       "      <td>Vladimir Smorchkov Rusia Rusia 195,0 + 222,5 =...</td>\n",
       "      <td>Bünyami Sudaş Turquía Turquía 185,0 + 230,0 = ...</td>\n",
       "    </tr>\n",
       "    <tr>\n",
       "      <th>7</th>\n",
       "      <td>+105 kg</td>\n",
       "      <td>Hosein Rezazadeh Irán Irán 207,5 + 250,0 = 457,5</td>\n",
       "      <td>Velichko Cholakov Bulgaria Bulgaria 205,0 + 24...</td>\n",
       "      <td>Viktors Ščerbatihs Letonia Letonia 200,0 + 245...</td>\n",
       "    </tr>\n",
       "  </tbody>\n",
       "</table>\n",
       "</div>"
      ],
      "text/plain": [
       "  mass_in_kg                                               gold  \\\n",
       "0      56 kg       Wu Meijin China China 127,5 + 160,0 = 287,5​   \n",
       "1      62 kg  Halil Mutlu Turquía Turquía 147,5 + 175,0 = 322,5   \n",
       "2      69 kg   Zhang Guozheng China China 152,5 + 192,5 = 345,0   \n",
       "3      77 kg  Falahati Mohamad Neyad Irán Irán 155,0 + 202,5...   \n",
       "4      85 kg  Valeriu Calancea Rumania Rumania 167,5 + 215,0...   \n",
       "5      94 kg  Milen Dobrev Bulgaria Bulgaria 185,0 + 220,0 =...   \n",
       "6     105 kg  Said Saif Asaad Catar Catar 195,0 + 227,5 = 422,5   \n",
       "7    +105 kg   Hosein Rezazadeh Irán Irán 207,5 + 250,0 = 457,5   \n",
       "\n",
       "                                              silver  \\\n",
       "0  Adrian Jigău Rumania Rumania 125,0 + 155,0 = 2...   \n",
       "1      Shi Zhiyong China China 147,5 + 170,0 = 317,5   \n",
       "2  Lee Bae-Young Corea del Sur Corea del Sur 150,...   \n",
       "3  Reyhan Arabacıoğlu Turquía Turquía 160,0 + 195...   \n",
       "4       Yuan Aijun China China 170,0 + 212,5 = 382,5   \n",
       "5  Hakan Yılmaz Turquía Turquía 180,0 + 220,0 = 4...   \n",
       "6  Vladimir Smorchkov Rusia Rusia 195,0 + 222,5 =...   \n",
       "7  Velichko Cholakov Bulgaria Bulgaria 205,0 + 24...   \n",
       "\n",
       "                                              bronce  \n",
       "0  Sedat Artuç Turquía Turquía 125,0 + 152,5 = 27...  \n",
       "1      Le Maosheng China China 135,0 + 170,0 = 305,0  \n",
       "2  Turan Mirzəyev Azerbaiyán Azerbaiyán 147,5 + 1...  \n",
       "3        Li Hongli China China 162,5 + 190,0 = 352,5  \n",
       "4    Sergo Chakhoyan Australia 172,5 + 205,0 = 377,5  \n",
       "5  Vadim Vacarciuc Moldavia Moldavia 177,5 + 222,...  \n",
       "6  Bünyami Sudaş Turquía Turquía 185,0 + 230,0 = ...  \n",
       "7  Viktors Ščerbatihs Letonia Letonia 200,0 + 245...  "
      ]
     },
     "metadata": {},
     "output_type": "display_data"
    }
   ],
   "source": [
    "input_file =  \"/tmp/halterofilia/2003/table_1_medallistas_masculino.csv\"\n",
    "male_2003_df = pd.read_csv(input_file)\n",
    "cols = [\"mass_in_kg\", \"gold\", \"silver\", \"bronce\"]\n",
    "male_2003_df.columns = cols\n",
    "male_2003_df.info()\n",
    "display(male_2003_df)"
   ]
  },
  {
   "cell_type": "code",
   "execution_count": 24,
   "metadata": {},
   "outputs": [
    {
     "data": {
      "text/html": [
       "<div>\n",
       "<style scoped>\n",
       "    .dataframe tbody tr th:only-of-type {\n",
       "        vertical-align: middle;\n",
       "    }\n",
       "\n",
       "    .dataframe tbody tr th {\n",
       "        vertical-align: top;\n",
       "    }\n",
       "\n",
       "    .dataframe thead th {\n",
       "        text-align: right;\n",
       "    }\n",
       "</style>\n",
       "<table border=\"1\" class=\"dataframe\">\n",
       "  <thead>\n",
       "    <tr style=\"text-align: right;\">\n",
       "      <th></th>\n",
       "      <th>mass_in_kg</th>\n",
       "      <th>gold</th>\n",
       "      <th>silver</th>\n",
       "      <th>bronce</th>\n",
       "    </tr>\n",
       "  </thead>\n",
       "  <tbody>\n",
       "    <tr>\n",
       "      <th>0</th>\n",
       "      <td>56</td>\n",
       "      <td>Wu Meijin China China 127,5 + 160,0 = 287,5​</td>\n",
       "      <td>Adrian Jigău Rumania Rumania 125,0 + 155,0 = 2...</td>\n",
       "      <td>Sedat Artuç Turquía Turquía 125,0 + 152,5 = 27...</td>\n",
       "    </tr>\n",
       "    <tr>\n",
       "      <th>1</th>\n",
       "      <td>62</td>\n",
       "      <td>Halil Mutlu Turquía Turquía 147,5 + 175,0 = 322,5</td>\n",
       "      <td>Shi Zhiyong China China 147,5 + 170,0 = 317,5</td>\n",
       "      <td>Le Maosheng China China 135,0 + 170,0 = 305,0</td>\n",
       "    </tr>\n",
       "    <tr>\n",
       "      <th>2</th>\n",
       "      <td>69</td>\n",
       "      <td>Zhang Guozheng China China 152,5 + 192,5 = 345,0</td>\n",
       "      <td>Lee Bae-Young Corea del Sur Corea del Sur 150,...</td>\n",
       "      <td>Turan Mirzəyev Azerbaiyán Azerbaiyán 147,5 + 1...</td>\n",
       "    </tr>\n",
       "    <tr>\n",
       "      <th>3</th>\n",
       "      <td>77</td>\n",
       "      <td>Falahati Mohamad Neyad Irán Irán 155,0 + 202,5...</td>\n",
       "      <td>Reyhan Arabacıoğlu Turquía Turquía 160,0 + 195...</td>\n",
       "      <td>Li Hongli China China 162,5 + 190,0 = 352,5</td>\n",
       "    </tr>\n",
       "    <tr>\n",
       "      <th>4</th>\n",
       "      <td>85</td>\n",
       "      <td>Valeriu Calancea Rumania Rumania 167,5 + 215,0...</td>\n",
       "      <td>Yuan Aijun China China 170,0 + 212,5 = 382,5</td>\n",
       "      <td>Sergo Chakhoyan Australia 172,5 + 205,0 = 377,5</td>\n",
       "    </tr>\n",
       "    <tr>\n",
       "      <th>5</th>\n",
       "      <td>94</td>\n",
       "      <td>Milen Dobrev Bulgaria Bulgaria 185,0 + 220,0 =...</td>\n",
       "      <td>Hakan Yılmaz Turquía Turquía 180,0 + 220,0 = 4...</td>\n",
       "      <td>Vadim Vacarciuc Moldavia Moldavia 177,5 + 222,...</td>\n",
       "    </tr>\n",
       "    <tr>\n",
       "      <th>6</th>\n",
       "      <td>105</td>\n",
       "      <td>Said Saif Asaad Catar Catar 195,0 + 227,5 = 422,5</td>\n",
       "      <td>Vladimir Smorchkov Rusia Rusia 195,0 + 222,5 =...</td>\n",
       "      <td>Bünyami Sudaş Turquía Turquía 185,0 + 230,0 = ...</td>\n",
       "    </tr>\n",
       "    <tr>\n",
       "      <th>7</th>\n",
       "      <td>+105</td>\n",
       "      <td>Hosein Rezazadeh Irán Irán 207,5 + 250,0 = 457,5</td>\n",
       "      <td>Velichko Cholakov Bulgaria Bulgaria 205,0 + 24...</td>\n",
       "      <td>Viktors Ščerbatihs Letonia Letonia 200,0 + 245...</td>\n",
       "    </tr>\n",
       "  </tbody>\n",
       "</table>\n",
       "</div>"
      ],
      "text/plain": [
       "  mass_in_kg                                               gold  \\\n",
       "0        56        Wu Meijin China China 127,5 + 160,0 = 287,5​   \n",
       "1        62   Halil Mutlu Turquía Turquía 147,5 + 175,0 = 322,5   \n",
       "2        69    Zhang Guozheng China China 152,5 + 192,5 = 345,0   \n",
       "3        77   Falahati Mohamad Neyad Irán Irán 155,0 + 202,5...   \n",
       "4        85   Valeriu Calancea Rumania Rumania 167,5 + 215,0...   \n",
       "5        94   Milen Dobrev Bulgaria Bulgaria 185,0 + 220,0 =...   \n",
       "6       105   Said Saif Asaad Catar Catar 195,0 + 227,5 = 422,5   \n",
       "7      +105    Hosein Rezazadeh Irán Irán 207,5 + 250,0 = 457,5   \n",
       "\n",
       "                                              silver  \\\n",
       "0  Adrian Jigău Rumania Rumania 125,0 + 155,0 = 2...   \n",
       "1      Shi Zhiyong China China 147,5 + 170,0 = 317,5   \n",
       "2  Lee Bae-Young Corea del Sur Corea del Sur 150,...   \n",
       "3  Reyhan Arabacıoğlu Turquía Turquía 160,0 + 195...   \n",
       "4       Yuan Aijun China China 170,0 + 212,5 = 382,5   \n",
       "5  Hakan Yılmaz Turquía Turquía 180,0 + 220,0 = 4...   \n",
       "6  Vladimir Smorchkov Rusia Rusia 195,0 + 222,5 =...   \n",
       "7  Velichko Cholakov Bulgaria Bulgaria 205,0 + 24...   \n",
       "\n",
       "                                              bronce  \n",
       "0  Sedat Artuç Turquía Turquía 125,0 + 152,5 = 27...  \n",
       "1      Le Maosheng China China 135,0 + 170,0 = 305,0  \n",
       "2  Turan Mirzəyev Azerbaiyán Azerbaiyán 147,5 + 1...  \n",
       "3        Li Hongli China China 162,5 + 190,0 = 352,5  \n",
       "4    Sergo Chakhoyan Australia 172,5 + 205,0 = 377,5  \n",
       "5  Vadim Vacarciuc Moldavia Moldavia 177,5 + 222,...  \n",
       "6  Bünyami Sudaş Turquía Turquía 185,0 + 230,0 = ...  \n",
       "7  Viktors Ščerbatihs Letonia Letonia 200,0 + 245...  "
      ]
     },
     "execution_count": 24,
     "metadata": {},
     "output_type": "execute_result"
    }
   ],
   "source": [
    "#male_2003_df.o = male_2003_df.iloc[:,0].str.replace(\"\\w+\\d+\\,\\d+\\=\\d+\\,\\d+w+\", \"\\d+\\=\\d+\\,\\d+\", regex=True)\n",
    "male_2003_df.iloc[:,0] = male_2003_df.iloc[:,0].str.replace(\"kg\", \"\", regex=True)\n",
    "male_2003_df"
   ]
  },
  {
   "cell_type": "code",
   "execution_count": 30,
   "metadata": {},
   "outputs": [
    {
     "data": {
      "text/plain": [
       "0    127516002875\n",
       "1    147517503225\n",
       "2    152519253450\n",
       "3    155020253575\n",
       "4    167521503825\n",
       "5    185022004050\n",
       "6    195022754225\n",
       "7    207525004575\n",
       "Name: gold, dtype: object"
      ]
     },
     "execution_count": 30,
     "metadata": {},
     "output_type": "execute_result"
    }
   ],
   "source": [
    "male_2003_df.iloc[:,1] = male_2003_df.iloc[:,1].str.replace(\"([A-Z]+)\", \"\", regex=True)\n",
    "male_2003_df.iloc[:,1] "
   ]
  },
  {
   "cell_type": "code",
   "execution_count": null,
   "metadata": {},
   "outputs": [],
   "source": []
  }
 ],
 "metadata": {
  "kernelspec": {
   "display_name": "Python 3 (ipykernel)",
   "language": "python",
   "name": "python3"
  },
  "language_info": {
   "codemirror_mode": {
    "name": "ipython",
    "version": 3
   },
   "file_extension": ".py",
   "mimetype": "text/x-python",
   "name": "python",
   "nbconvert_exporter": "python",
   "pygments_lexer": "ipython3",
   "version": "3.10.2"
  }
 },
 "nbformat": 4,
 "nbformat_minor": 4
}
