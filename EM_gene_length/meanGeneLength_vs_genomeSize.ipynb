{
 "cells": [
  {
   "cell_type": "markdown",
   "id": "819bd65b-f5b5-4644-a058-0a8c843d4fe8",
   "metadata": {},
   "source": [
    "# Observed Taylor law: variance vs mean \n",
    "**in the protein coding gene length distributions for the different species**"
   ]
  },
  {
   "cell_type": "markdown",
   "id": "8046a185-31f3-48b1-83f7-947911a96d15",
   "metadata": {},
   "source": [
    "## Import python modules"
   ]
  },
  {
   "cell_type": "code",
   "execution_count": 1,
   "id": "51b0a90c",
   "metadata": {},
   "outputs": [],
   "source": [
    "import pandas as pd\n",
    "import numpy as np\n",
    "from scipy import stats\n",
    "from plotnine import *\n",
    "\n",
    "import sys\n",
    "sys.path.append('../../gene_length/gl_lib/')\n",
    "import gl_constants as c\n",
    "import gl_plot as gl_p"
   ]
  },
  {
   "cell_type": "markdown",
   "id": "c7b6d3b5",
   "metadata": {},
   "source": [
    "## The protein coding gene length distributions for the different species"
   ]
  },
  {
   "cell_type": "markdown",
   "id": "d509543a-9bbf-4428-bb98-a287201ef79d",
   "metadata": {},
   "source": [
    "### Retrieving the statistical descriptions of the gene length's distributions"
   ]
  },
  {
   "cell_type": "markdown",
   "id": "3a99f2a8-5073-440f-88be-bf0def58ea9d",
   "metadata": {
    "tags": []
   },
   "source": [
    "#### Statistical description "
   ]
  },
  {
   "cell_type": "code",
   "execution_count": 2,
   "id": "e96ab72e-e702-4020-814a-625c86dd44ee",
   "metadata": {},
   "outputs": [
    {
     "name": "stdout",
     "output_type": "stream",
     "text": [
      "The statistical descriptions of the protein coding gene distributions for the different species is in:\n",
      " /home/emuro/git/github/gene_length/main_tables/stat_protCodGenes.tsv \n",
      "\n"
     ]
    },
    {
     "data": {
      "text/html": [
       "<div>\n",
       "<style scoped>\n",
       "    .dataframe tbody tr th:only-of-type {\n",
       "        vertical-align: middle;\n",
       "    }\n",
       "\n",
       "    .dataframe tbody tr th {\n",
       "        vertical-align: top;\n",
       "    }\n",
       "\n",
       "    .dataframe thead th {\n",
       "        text-align: right;\n",
       "    }\n",
       "</style>\n",
       "<table border=\"1\" class=\"dataframe\">\n",
       "  <thead>\n",
       "    <tr style=\"text-align: right;\">\n",
       "      <th></th>\n",
       "      <th>division_both_dbs</th>\n",
       "      <th>species</th>\n",
       "      <th>taxonomy_id</th>\n",
       "      <th>count</th>\n",
       "      <th>mean</th>\n",
       "      <th>var</th>\n",
       "      <th>log10_mean</th>\n",
       "      <th>log10_var</th>\n",
       "    </tr>\n",
       "  </thead>\n",
       "  <tbody>\n",
       "    <tr>\n",
       "      <th>11800</th>\n",
       "      <td>bacteria</td>\n",
       "      <td>pedobacter_africanus_gca_900176535</td>\n",
       "      <td>151894</td>\n",
       "      <td>4708</td>\n",
       "      <td>1129.215803</td>\n",
       "      <td>717714.302686</td>\n",
       "      <td>2.949478</td>\n",
       "      <td>0.093759</td>\n",
       "    </tr>\n",
       "    <tr>\n",
       "      <th>29401</th>\n",
       "      <td>bacteria</td>\n",
       "      <td>rhizobium_sp_pp_cc_2g_626_gca_004341455</td>\n",
       "      <td>2135646</td>\n",
       "      <td>5518</td>\n",
       "      <td>936.955237</td>\n",
       "      <td>408292.710883</td>\n",
       "      <td>2.879473</td>\n",
       "      <td>0.088327</td>\n",
       "    </tr>\n",
       "  </tbody>\n",
       "</table>\n",
       "</div>"
      ],
      "text/plain": [
       "      division_both_dbs                                  species  taxonomy_id  \\\n",
       "11800          bacteria       pedobacter_africanus_gca_900176535       151894   \n",
       "29401          bacteria  rhizobium_sp_pp_cc_2g_626_gca_004341455      2135646   \n",
       "\n",
       "       count         mean            var  log10_mean  log10_var  \n",
       "11800   4708  1129.215803  717714.302686    2.949478   0.093759  \n",
       "29401   5518   936.955237  408292.710883    2.879473   0.088327  "
      ]
     },
     "metadata": {},
     "output_type": "display_data"
    },
    {
     "name": "stdout",
     "output_type": "stream",
     "text": [
      "(33627, 8)\n",
      "division_both_dbs\n",
      "bacteria         30714\n",
      "archaea           1229\n",
      "fungi             1014\n",
      "protists           237\n",
      "vertebrates        222\n",
      "invertebrates      115\n",
      "plants              96\n",
      "Name: count, dtype: int64\n"
     ]
    }
   ],
   "source": [
    "# statistics on length distributions \n",
    "stat_file = \"/home/emuro/git/github/gene_length/main_tables/stat_protCodGenes.tsv\"\n",
    "print(\"The statistical descriptions of the protein coding gene distributions \" + \\\n",
    "    \"for the different species is in:\\n\", stat_file, \"\\n\")\n",
    "\n",
    "# retrieve data and diminish the number of columns\n",
    "stat_df = pd.read_csv(stat_file, low_memory=False, sep=\"\\t\")\n",
    "stat_df = stat_df[[\"division_both_dbs\", \"species\", \"taxonomy_id\",\"count\", \"mean\", \"var\", \"log10_mean\", \"log10_var\"]]\n",
    "\n",
    "# visualize data\n",
    "if 1:\n",
    "    pd.set_option('display.max_columns', len(stat_df.columns))\n",
    "    display(stat_df.sample(2))\n",
    "    print(stat_df.shape)\n",
    "    print(stat_df[\"division_both_dbs\"].value_counts())"
   ]
  },
  {
   "cell_type": "markdown",
   "id": "186722ee",
   "metadata": {},
   "source": [
    "## Get the genome size  "
   ]
  },
  {
   "cell_type": "code",
   "execution_count": 3,
   "id": "af556cca",
   "metadata": {},
   "outputs": [
    {
     "name": "stdout",
     "output_type": "stream",
     "text": [
      "The genome sizes in bp, that I downloaded, for the different species is in:\n",
      " /home/emuro/git/github/bioinf-genome_length/ensembl__taxid_species_goldenPath_division.tsv.bz2 \n",
      "\n"
     ]
    },
    {
     "data": {
      "text/html": [
       "<div>\n",
       "<style scoped>\n",
       "    .dataframe tbody tr th:only-of-type {\n",
       "        vertical-align: middle;\n",
       "    }\n",
       "\n",
       "    .dataframe tbody tr th {\n",
       "        vertical-align: top;\n",
       "    }\n",
       "\n",
       "    .dataframe thead th {\n",
       "        text-align: right;\n",
       "    }\n",
       "</style>\n",
       "<table border=\"1\" class=\"dataframe\">\n",
       "  <thead>\n",
       "    <tr style=\"text-align: right;\">\n",
       "      <th></th>\n",
       "      <th>taxonomy_id</th>\n",
       "      <th>species</th>\n",
       "      <th>genome</th>\n",
       "      <th>division</th>\n",
       "    </tr>\n",
       "  </thead>\n",
       "  <tbody>\n",
       "    <tr>\n",
       "      <th>24047</th>\n",
       "      <td>2026779</td>\n",
       "      <td>planctomycetaceae_bacterium_gca_003503535</td>\n",
       "      <td>6562623</td>\n",
       "      <td>EnsemblBacteria</td>\n",
       "    </tr>\n",
       "    <tr>\n",
       "      <th>19291</th>\n",
       "      <td>345309</td>\n",
       "      <td>luteibacter_yeojuensis_gca_000964085</td>\n",
       "      <td>4548902</td>\n",
       "      <td>EnsemblBacteria</td>\n",
       "    </tr>\n",
       "  </tbody>\n",
       "</table>\n",
       "</div>"
      ],
      "text/plain": [
       "       taxonomy_id                                    species   genome  \\\n",
       "24047      2026779  planctomycetaceae_bacterium_gca_003503535  6562623   \n",
       "19291       345309       luteibacter_yeojuensis_gca_000964085  4548902   \n",
       "\n",
       "              division  \n",
       "24047  EnsemblBacteria  \n",
       "19291  EnsemblBacteria  "
      ]
     },
     "metadata": {},
     "output_type": "display_data"
    },
    {
     "name": "stdout",
     "output_type": "stream",
     "text": [
      "(33022, 4)\n",
      "division\n",
      "EnsemblBacteria       31332\n",
      "EnsemblFungi           1014\n",
      "EnsemblProtists         237\n",
      "EnsemblVertebrates      227\n",
      "EnsemblMetazoa          115\n",
      "EnsemblPlants            96\n",
      "EnsemblViruses            1\n",
      "Name: count, dtype: int64\n",
      "division_both_dbs\n",
      "bacteria         30714\n",
      "archaea           1229\n",
      "fungi             1014\n",
      "protists           237\n",
      "vertebrates        222\n",
      "invertebrates      115\n",
      "plants              96\n",
      "Name: count, dtype: int64\n"
     ]
    }
   ],
   "source": [
    "# statistics on length distributions \n",
    "stat2_file = \"/home/emuro/git/github/bioinf-genome_length/ensembl__taxid_species_goldenPath_division.tsv.bz2\"\n",
    "print(\"The genome sizes in bp, that I downloaded, \" + \\\n",
    "    \"for the different species is in:\\n\", stat2_file, \"\\n\")\n",
    "\n",
    "# retrieve data and diminish the number of columns\n",
    "stat2_df = pd.read_csv(stat2_file, compression=\"bz2\", low_memory=False, sep=\"\\t\")\n",
    "#stat2_df = stat_df[[\"division_both_dbs\", \"species\", \"taxonomy_id\",\"count\", \"mean\", \"var\", \"log10_mean\", \"log10_var\"]]\n",
    "stat2_df = stat2_df.rename(columns={\"taxid\": \"taxonomy_id\", \"golden_path\": \"genome\"})\n",
    "# visualize data\n",
    "if 1:\n",
    "    pd.set_option('display.max_columns', len(stat2_df.columns))\n",
    "    display(stat2_df.sample(2))\n",
    "    print(stat2_df.shape)\n",
    "    print(stat2_df[\"division\"].value_counts())\n",
    "print(stat_df[\"division_both_dbs\"].value_counts())"
   ]
  },
  {
   "cell_type": "markdown",
   "id": "56b8d070",
   "metadata": {},
   "source": [
    "## Merge genome size column"
   ]
  },
  {
   "cell_type": "code",
   "execution_count": 4,
   "id": "2dc7ecab",
   "metadata": {},
   "outputs": [
    {
     "name": "stdout",
     "output_type": "stream",
     "text": [
      "0\n",
      "stat_df\n"
     ]
    },
    {
     "data": {
      "text/html": [
       "<div>\n",
       "<style scoped>\n",
       "    .dataframe tbody tr th:only-of-type {\n",
       "        vertical-align: middle;\n",
       "    }\n",
       "\n",
       "    .dataframe tbody tr th {\n",
       "        vertical-align: top;\n",
       "    }\n",
       "\n",
       "    .dataframe thead th {\n",
       "        text-align: right;\n",
       "    }\n",
       "</style>\n",
       "<table border=\"1\" class=\"dataframe\">\n",
       "  <thead>\n",
       "    <tr style=\"text-align: right;\">\n",
       "      <th></th>\n",
       "      <th>division_both_dbs</th>\n",
       "      <th>species</th>\n",
       "      <th>taxonomy_id</th>\n",
       "      <th>count</th>\n",
       "      <th>mean</th>\n",
       "      <th>var</th>\n",
       "      <th>log10_mean</th>\n",
       "      <th>log10_var</th>\n",
       "      <th>genome</th>\n",
       "      <th>division</th>\n",
       "    </tr>\n",
       "  </thead>\n",
       "  <tbody>\n",
       "    <tr>\n",
       "      <th>10063</th>\n",
       "      <td>bacteria</td>\n",
       "      <td>meiothermus_silvanus_gca_004152925</td>\n",
       "      <td>52022</td>\n",
       "      <td>3206</td>\n",
       "      <td>928.545540</td>\n",
       "      <td>3.652970e+05</td>\n",
       "      <td>2.887623</td>\n",
       "      <td>0.072469</td>\n",
       "      <td>3342742</td>\n",
       "      <td>EnsemblBacteria</td>\n",
       "    </tr>\n",
       "    <tr>\n",
       "      <th>32749</th>\n",
       "      <td>fungi</td>\n",
       "      <td>cadophora_sp_dse1049_gca_003073865</td>\n",
       "      <td>1485229</td>\n",
       "      <td>22762</td>\n",
       "      <td>1581.999341</td>\n",
       "      <td>1.235757e+06</td>\n",
       "      <td>3.110778</td>\n",
       "      <td>0.081698</td>\n",
       "      <td>70459101</td>\n",
       "      <td>EnsemblFungi</td>\n",
       "    </tr>\n",
       "  </tbody>\n",
       "</table>\n",
       "</div>"
      ],
      "text/plain": [
       "      division_both_dbs                             species  taxonomy_id  \\\n",
       "10063          bacteria  meiothermus_silvanus_gca_004152925        52022   \n",
       "32749             fungi  cadophora_sp_dse1049_gca_003073865      1485229   \n",
       "\n",
       "       count         mean           var  log10_mean  log10_var    genome  \\\n",
       "10063   3206   928.545540  3.652970e+05    2.887623   0.072469   3342742   \n",
       "32749  22762  1581.999341  1.235757e+06    3.110778   0.081698  70459101   \n",
       "\n",
       "              division  \n",
       "10063  EnsemblBacteria  \n",
       "32749     EnsemblFungi  "
      ]
     },
     "metadata": {},
     "output_type": "display_data"
    },
    {
     "name": "stdout",
     "output_type": "stream",
     "text": [
      "(33630, 10)\n"
     ]
    }
   ],
   "source": [
    "# merge data frames\n",
    "stat_df = (\n",
    "    pd.merge(\n",
    "        stat_df, stat2_df, \n",
    "        how='left', \n",
    "        left_on=['taxonomy_id', 'species'], right_on=['taxonomy_id', 'species']\n",
    "        )\n",
    "        .fillna({'genome':'NaN'})\n",
    ")\n",
    "# Counting NaN values in the 'golden_path' column\n",
    "#print(stat2_df['genome'].isna().sum())\n",
    "\n",
    "\n",
    "# visualize data\n",
    "if 1:\n",
    "    print(\"stat_df\")\n",
    "    pd.set_option('display.max_columns', len(stat_df.columns))\n",
    "    display(stat_df.sample(2))\n",
    "    print(stat_df.shape)"
   ]
  },
  {
   "cell_type": "markdown",
   "id": "423073b9-ee4c-40ab-8e3d-4fcb0377f016",
   "metadata": {},
   "source": [
    "## mean vs. genome size (represented in $log_{10}$ scale)\n",
    "### Protein coding gene's length"
   ]
  },
  {
   "cell_type": "code",
   "execution_count": 5,
   "id": "65579e1f-b037-4b15-969a-784548fe216a",
   "metadata": {},
   "outputs": [
    {
     "ename": "IndentationError",
     "evalue": "unexpected indent (1658440247.py, line 39)",
     "output_type": "error",
     "traceback": [
      "\u001b[0;36m  Cell \u001b[0;32mIn[5], line 39\u001b[0;36m\u001b[0m\n\u001b[0;31m    p.show()\u001b[0m\n\u001b[0m    ^\u001b[0m\n\u001b[0;31mIndentationError\u001b[0m\u001b[0;31m:\u001b[0m unexpected indent\n"
     ]
    }
   ],
   "source": [
    "col_x = \"mean\"  \n",
    "col_y = \"genome\"  \n",
    "legends_by = \"division_both_dbs\"\n",
    "\n",
    "title = \"Protein coding genes\" # \"Uniprot, reference Proteomes (protein length)\"\n",
    "x_lab = \"Mean gene length\"   \n",
    "y_lab = \"Genome (bp)\"\n",
    "bool_show_regression = True\n",
    "\n",
    "df2plot = stat_df\n",
    "if 0:\n",
    "    print(df2plot.shape)\n",
    "\n",
    "# Sort division_both_dbs in order to plot the color of the clades in order\n",
    "if 0:\n",
    "    print(df2plot.division_both_dbs.unique())\n",
    "df2plot.division_both_dbs = pd.Categorical(df2plot.division_both_dbs, \n",
    "                                categories=c.ORG_GROUPS,           \n",
    "                                ordered=True)\n",
    "df2plot.sort_values('division_both_dbs', inplace=True)\n",
    "\n",
    "col_x = \"mean\"\n",
    "\n",
    "p = (   \n",
    "        ggplot(df2plot, aes(col_x, col_y, color=legends_by)) + \n",
    "        geom_point(size=0.15) + #, alpha=0.4 + # color, fill )\n",
    "        geom_smooth(method=\"lm\", color=\"green\", size=0.25, span=.8) +\n",
    "        labs(title=title, x=x_lab, y=y_lab) \n",
    "        + scale_color_manual(values=c.COLOR_ORG_GROUPS) \n",
    "        + labs(color='Group of organisms') # legend title\n",
    "        + scale_x_log10(breaks=[10 ** power for power in range(6)],\n",
    "          limits=[min(df2plot[col_x].to_list())/2, 2*max(df2plot[col_x].to_list())]) \n",
    "        + scale_y_log10(breaks = [10**power for power in range(13)], \n",
    "          limits = [min(df2plot[col_y].to_list())/2,2*max(df2plot[col_y].to_list())])#, labels=scientific_format(digits=2)\n",
    "    ) + theme(legend_position=(0.95,0.1), legend_key_size=2, \\\n",
    "        legend_background=element_rect(fill='grey', alpha=0.01)) + \\\n",
    "            annotate('text', x=0.01*max(df2plot[col_x].to_list()), \\\n",
    "                y=0.65*max(df2plot[col_y].to_list()), label=txt,size=9,color=\"black\")\n",
    "    p.show()\n",
    "\n",
    "\n",
    "#gl_p.plot_taylor_genes(df2plot, col_x, col_y, x_lab, y_lab, title, legends_by, bool_show_regression)\n",
    "if 1:\n",
    "    pd.set_option('display.max_columns', len(df2plot.columns))\n",
    "    display(df2plot.sample(2))\n",
    "    print(df2plot.shape)\n",
    "    #print(df2plot[\"division\"].value_counts())\n",
    "    print(df2plot[\"division_both_dbs\"].value_counts())"
   ]
  },
  {
   "cell_type": "markdown",
   "id": "996bb340-631e-44d3-a137-5b927e8e80f0",
   "metadata": {},
   "source": [
    "#### Note:  \n",
    "$\\sigma^{2} = a . \\mu^{\\beta}$   \n",
    "Because the regression line is:  \n",
    "$\\log(\\sigma^{2}) = \\log(a) + \\beta log(\\mu) $"
   ]
  }
 ],
 "metadata": {
  "kernelspec": {
   "display_name": "Python 3",
   "language": "python",
   "name": "python3"
  },
  "language_info": {
   "codemirror_mode": {
    "name": "ipython",
    "version": 3
   },
   "file_extension": ".py",
   "mimetype": "text/x-python",
   "name": "python",
   "nbconvert_exporter": "python",
   "pygments_lexer": "ipython3",
   "version": "3.10.12"
  }
 },
 "nbformat": 4,
 "nbformat_minor": 5
}
